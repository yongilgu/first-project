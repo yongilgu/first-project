{
 "cells": [
  {
   "cell_type": "markdown",
   "metadata": {},
   "source": [
    "## github 사용법\n",
    "\n",
    " - 기본적으로 git pull = git fetch + git merge\n",
    " - merge는 두개로 갈라진 브랜치를 하나의 마스터에서 합치는 과정이다.(체크아웃 마스터)\n",
    " - rebase 라는 것이 있지만 이건 나중에 배워보자.\n",
    "\n",
    " 1. 변경사항 발생\n",
    " 2. git checkout master\n",
    " 3. git merge origin/master\n",
    " 4. 새로운 터미널 형성\n",
    " 5. git add . \n",
    " 6. git commit -m \"지정설명\"\n",
    " 7. git push origin master\n",
    "\n",
    " 이런 방법으로 브랜치를 merge 하고 새로운 commit을 통하여 데이터를 push 한다.\n",
    "\n",
    " -git reflog (현재상태의 브랜치들을 알려준다)\n",
    "\n"
   ]
  },
  {
   "cell_type": "markdown",
   "metadata": {},
   "source": [
    "## git hub 프로젝트 보내기\n",
    "\n",
    "1. 깃허브는 내가 만든 코드를 저장하는 클라우드 공간이다.\n",
    "2. 터미널에 쳐야하는 필요한 명령어가 있다.\n",
    " - git add . (초기저장)\n",
    " - git commit -m \"메세지\" (가상공간 최종 저장())\n",
    " - git push origin master (원격저장소로 파일 업로드)\n",
    " - git remote (로컬과 원격저장소가 연결되어있는지 확인하는 명령어)\n",
    "  - git remote add origin https://github.com/yongilgu/first-project.git\n",
    "   (나의 로컬 저장소와 원격저장소를 연결하는 코드)\n",
    "  - git remote -v (연결소 주소를 확인하는 코드)\n",
    "3. 오류\n",
    " - fatal: unable to access 'https://github.com/yongilgu/first-project.git/': The requested URL returned error: 403\n",
    "   해결: git remote set-url https://github.com/yongilgu/first-project.git\n",
    "\n",
    "-  ! [rejected]        master -> master (fetch first)\n",
    "error: failed to push some refs to 'https://github.com/yongilgu/first-project.git'\n",
    "hint: Updates were rejected because the remote contains work that you do\n",
    "hint: not have locally. This is usually caused by another repository pushing\n",
    "hint: to the same ref. You may want to first integrate the remote changes\n",
    "hint: (e.g., 'git pull ...') before pushing again.\n",
    "hint: See the 'Note about fast-forwards' in 'git push --help' for details.\n",
    "  해결:그냥 푸쉬한다 git push origin +master\n"
   ]
  },
  {
   "cell_type": "markdown",
   "metadata": {},
   "source": [
    "## git hub 프로젝트 가져오기\n",
    " 1. 명령어는 3개이다.\n",
    "  - git pull (원격저장소에 있는 프로제트의 변경사항을 그대로 로컬로 옮겨서 병합)\n",
    "  - git fetch (원격저장소에 있는 프로젝트의 변경사항을 가져오기만 한후 병합은 따로, 다른사람의 수정한 부분을 알수 있다)\n",
    "  - git clone (전반적인 내용을 복사하여 새로 한벌을 만드는 것이다. 엉키지 않을 가능성이 높다.)\n",
    "    이 명령어는 해당 폴더의 경로로 접속하여 (cd _____/) git clone (git hub 주소) 이다.\n",
    "    테스트 결과 성공적으로 나타난다.\n",
    "  -git clone (https://github.com/yongilgu/first-project.git)\n"
   ]
  },
  {
   "cell_type": "markdown",
   "metadata": {},
   "source": [
    "## git 오류 관련\n",
    "\n",
    "git의 개념을 확인할 필요가 있다. 지금 깃을 변경중에 있다.\n",
    "- git branch (현재위치 확인가능)\n",
    "- 만약 branch가 master 와 origin/master 와 브렌치가 발생하면 \n",
    "  git merge origin/master 로 병합한다.\n",
    "- git checkout master (master로 간다)\n",
    "- git checkout origin/master (branch 로간다)\n",
    "\n",
    "그러면 브랜치가 나눠 졌을 경우에 origin/master를 merge 해주면 된다.\n",
    "\n",
    "대랴적으로 본다면 자꾸 충돌이 발생한다.\n",
    "\n",
    "다만 master 상태에서 pull, merge를 통해 종합하고 그리고 아래쪽으로 \n",
    "[참조]\n",
    "pyenv shell 3.9.1\n",
    "yong19@yong19ui-MacBookAir first-project-1 % pyenv shell 3.9.1\n",
    "pyenv: shell integration not enabled. Run `pyenv init' for instructions.\n",
    "yong19@yong19ui-MacBookAir first-project-1 % git push origin master\n",
    "To https://github.com/yongilgu/first-project.git\n",
    " ! [rejected]        master -> master (non-fast-forward)\n",
    "error: 레퍼런스를 'https://github.com/yongilgu/first-project.git'에 푸시하는데 실패했습니다\n",
    "힌트: 현재 브랜치의 끝이 리모트 브랜치보다 뒤에 있으므로 업데이트가\n",
    "힌트: 거부되었습니다. 푸시하기 전에 ('git pull ...' 등 명령으로) 리모트\n",
    "힌트: 변경 사항을 포함하십시오.\n",
    "힌트: 자세한 정보는 'git push --help'의 \"Note about fast-forwards' 부분을\n",
    "힌트: 참고하십시오.\n",
    "yong19@yong19ui-MacBookAir first-project-1 % git pull              \n",
    "error: 병합 작업을 다 마치지 않았습니다 (MERGE_HEAD 파일이 있습니다).\n",
    "힌트: 병합하기 전에 변경 사항을 커밋하십시오.\n",
    "fatal: 병합을 마치지 못했기 때문에 끝납니다.\n",
    "yong19@yong19ui-MacBookAir first-project-1 % git add . \n",
    "yong19@yong19ui-MacBookAir first-project-1 % git commit -m \"220314_5\"\n",
    "[master 628e918] 220314_5\n",
    "yong19@yong19ui-MacBookAir first-project-1 % git push origin master  \n",
    "오브젝트 나열하는 중: 13, 완료.\n",
    "오브젝트 개수 세는 중: 100% (12/12), 완료.\n",
    "Delta compression using up to 8 threads\n",
    "오브젝트 압축하는 중: 100% (6/6), 완료.\n",
    "오브젝트 쓰는 중: 100% (6/6), 828 bytes | 828.00 KiB/s, 완료.\n",
    "Total 6 (delta 3), reused 0 (delta 0), pack-reused 0\n",
    "remote: Resolving deltas: 100% (3/3), completed with 2 local objects.\n",
    "To https://github.com/yongilgu/first-project.git\n",
    "   4261ebd..628e918  master -> master\n",
    "yong19@yong19ui-MacBookAir first-project-1 % git checkout master     \n",
    "이미 'master'에 있습니다\n",
    "브랜치가 'origin/master'에 맞게 업데이트된 상태입니다.\n",
    "yong19@yong19ui-MacBookAir first-project-1 % "
   ]
  }
 ],
 "metadata": {
  "interpreter": {
   "hash": "31f2aee4e71d21fbe5cf8b01ff0e069b9275f58929596ceb00d14d90e3e16cd6"
  },
  "kernelspec": {
   "display_name": "Python 3.8.9 64-bit",
   "language": "python",
   "name": "python3"
  },
  "language_info": {
   "name": "python",
   "version": "3.8.9"
  },
  "orig_nbformat": 4
 },
 "nbformat": 4,
 "nbformat_minor": 2
}
