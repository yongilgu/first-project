{
 "cells": [
  {
   "cell_type": "markdown",
   "metadata": {},
   "source": [
    "# mySUNI 모듈 설치"
   ]
  },
  {
   "cell_type": "code",
   "execution_count": null,
   "metadata": {
    "id": "km4hSyZztuAR"
   },
   "outputs": [],
   "source": [
    "!pip install mySUNI"
   ]
  },
  {
   "cell_type": "markdown",
   "metadata": {},
   "source": [
    "# 데이터 다운로드"
   ]
  },
  {
   "cell_type": "code",
   "execution_count": 1,
   "metadata": {},
   "outputs": [
    {
     "data": {
      "text/html": [
       "<div>\n",
       "<style scoped>\n",
       "    .dataframe tbody tr th:only-of-type {\n",
       "        vertical-align: middle;\n",
       "    }\n",
       "\n",
       "    .dataframe tbody tr th {\n",
       "        vertical-align: top;\n",
       "    }\n",
       "\n",
       "    .dataframe thead th {\n",
       "        text-align: right;\n",
       "    }\n",
       "</style>\n",
       "<table border=\"1\" class=\"dataframe\">\n",
       "  <thead>\n",
       "    <tr style=\"text-align: right;\">\n",
       "      <th></th>\n",
       "      <th>name</th>\n",
       "      <th>info</th>\n",
       "      <th>filename</th>\n",
       "    </tr>\n",
       "  </thead>\n",
       "  <tbody>\n",
       "    <tr>\n",
       "      <th>0</th>\n",
       "      <td>서울시자전거</td>\n",
       "      <td>서울시 따릉이 자전거 대여량 정보</td>\n",
       "      <td>[seoul_bicycle.csv]</td>\n",
       "    </tr>\n",
       "    <tr>\n",
       "      <th>1</th>\n",
       "      <td>서울시대중교통</td>\n",
       "      <td>서울시 대중교통(지하철, 버스) 이용객 정보</td>\n",
       "      <td>[seoul_transportation.xlsx]</td>\n",
       "    </tr>\n",
       "    <tr>\n",
       "      <th>2</th>\n",
       "      <td>서울시주민등록인구</td>\n",
       "      <td>서울시 주민등록인구 정보</td>\n",
       "      <td>[seoul_population.csv]</td>\n",
       "    </tr>\n",
       "    <tr>\n",
       "      <th>3</th>\n",
       "      <td>유가정보</td>\n",
       "      <td>2019년 서울시 유가 정보</td>\n",
       "      <td>[gas_first_2019.csv, gas_second_2019.csv]</td>\n",
       "    </tr>\n",
       "    <tr>\n",
       "      <th>4</th>\n",
       "      <td>PandasFileIO</td>\n",
       "      <td>Pandas File I/O 연습 문제용 데이터셋</td>\n",
       "      <td>[mySUNI.xlsx, mySUNI_1.csv, mySUNI_2.csv, mySU...</td>\n",
       "    </tr>\n",
       "    <tr>\n",
       "      <th>5</th>\n",
       "      <td>CCTV데이터분석</td>\n",
       "      <td>mySUNI WorkShop - CCTV 데이터 분석</td>\n",
       "      <td>[01. CCTV_in_Seoul.csv, 01. population_in_Seou...</td>\n",
       "    </tr>\n",
       "    <tr>\n",
       "      <th>6</th>\n",
       "      <td>국민연금데이터분석</td>\n",
       "      <td>mySUNI WorkShop - 국민연금 데이터 분석</td>\n",
       "      <td>[national_pension.csv]</td>\n",
       "    </tr>\n",
       "    <tr>\n",
       "      <th>7</th>\n",
       "      <td>민간아파트가격동향분석</td>\n",
       "      <td>mySUNI WorkShop - 민간 아파트 가격 동향 분석</td>\n",
       "      <td>[seoul_house_price.csv]</td>\n",
       "    </tr>\n",
       "    <tr>\n",
       "      <th>8</th>\n",
       "      <td>실거래가분석</td>\n",
       "      <td>mySUNI WorkShop - 2020년 아파트 실거래가 분석</td>\n",
       "      <td>[2020-seoul-apt-price.csv, loc_code.xlsx]</td>\n",
       "    </tr>\n",
       "    <tr>\n",
       "      <th>9</th>\n",
       "      <td>유가가격분석</td>\n",
       "      <td>mySUNI WorkShop - 2020년 유가 가격 분석</td>\n",
       "      <td>[gas_first_2019.csv, gas_second_2019.csv]</td>\n",
       "    </tr>\n",
       "    <tr>\n",
       "      <th>10</th>\n",
       "      <td>중고차판매정보분석</td>\n",
       "      <td>mySUNI WorkShop - 중고차 판매 정보 분석</td>\n",
       "      <td>[gas_first_2019.csv, gas_second_2019.csv]</td>\n",
       "    </tr>\n",
       "  </tbody>\n",
       "</table>\n",
       "</div>"
      ],
      "text/plain": [
       "            name                                 info  \\\n",
       "0         서울시자전거                   서울시 따릉이 자전거 대여량 정보   \n",
       "1        서울시대중교통             서울시 대중교통(지하철, 버스) 이용객 정보   \n",
       "2      서울시주민등록인구                        서울시 주민등록인구 정보   \n",
       "3           유가정보                      2019년 서울시 유가 정보   \n",
       "4   PandasFileIO          Pandas File I/O 연습 문제용 데이터셋   \n",
       "5      CCTV데이터분석        mySUNI WorkShop - CCTV 데이터 분석   \n",
       "6      국민연금데이터분석        mySUNI WorkShop - 국민연금 데이터 분석   \n",
       "7    민간아파트가격동향분석    mySUNI WorkShop - 민간 아파트 가격 동향 분석   \n",
       "8         실거래가분석  mySUNI WorkShop - 2020년 아파트 실거래가 분석   \n",
       "9         유가가격분석     mySUNI WorkShop - 2020년 유가 가격 분석   \n",
       "10     중고차판매정보분석       mySUNI WorkShop - 중고차 판매 정보 분석   \n",
       "\n",
       "                                             filename  \n",
       "0                                 [seoul_bicycle.csv]  \n",
       "1                         [seoul_transportation.xlsx]  \n",
       "2                              [seoul_population.csv]  \n",
       "3           [gas_first_2019.csv, gas_second_2019.csv]  \n",
       "4   [mySUNI.xlsx, mySUNI_1.csv, mySUNI_2.csv, mySU...  \n",
       "5   [01. CCTV_in_Seoul.csv, 01. population_in_Seou...  \n",
       "6                              [national_pension.csv]  \n",
       "7                             [seoul_house_price.csv]  \n",
       "8           [2020-seoul-apt-price.csv, loc_code.xlsx]  \n",
       "9           [gas_first_2019.csv, gas_second_2019.csv]  \n",
       "10          [gas_first_2019.csv, gas_second_2019.csv]  "
      ]
     },
     "metadata": {},
     "output_type": "display_data"
    }
   ],
   "source": [
    "from mySUNI import cds\n",
    "cds.list_data() # 데이터 목록 조회"
   ]
  },
  {
   "cell_type": "code",
   "execution_count": 2,
   "metadata": {},
   "outputs": [
    {
     "name": "stdout",
     "output_type": "stream",
     "text": [
      "파일 다운로드 완료\n",
      "====================\n",
      "\n",
      "데이터셋: 국민연금데이터분석\n",
      "파일경로: data\\national_pension.csv\n",
      "\n",
      "====================\n"
     ]
    }
   ],
   "source": [
    "cds.download_data('국민연금데이터분석') # 데이터 다운로드"
   ]
  },
  {
   "cell_type": "markdown",
   "metadata": {
    "id": "PUnYQI8bKSVR"
   },
   "source": [
    "## 포스트 코로나 시대의 경제 상황을 국민연금 가입자 오픈데이터를 통해 알아보자?!!"
   ]
  },
  {
   "cell_type": "markdown",
   "metadata": {
    "id": "u80uhV7HKSVS"
   },
   "source": [
    "- 데이터셋: 공공 데이터 포털\n",
    "- 형태: 파일데이터 (csv)\n",
    "- 다운로드: https://www.data.go.kr/data/3046071/fileData.do"
   ]
  },
  {
   "cell_type": "code",
   "execution_count": null,
   "metadata": {
    "id": "pEHzGi-9KSVT"
   },
   "outputs": [],
   "source": [
    "import pandas as pd\n",
    "import numpy as np\n",
    "import matplotlib.pyplot as plt\n",
    "import seaborn as sns\n",
    "import warnings\n",
    "\n",
    "warnings.filterwarnings('ignore')\n",
    "\n",
    "pd.set_option('display.float_format', lambda x: '%.2f' % x)\n",
    "\n",
    "%matplotlib inline"
   ]
  },
  {
   "cell_type": "markdown",
   "metadata": {
    "id": "NclkdShPKq-P"
   },
   "source": [
    "## 데이터 (국민연금 데이터)\n",
    "\n",
    "- 2020년 9월 데이터"
   ]
  },
  {
   "cell_type": "code",
   "execution_count": null,
   "metadata": {
    "id": "9q5F8utUKSVY"
   },
   "outputs": [],
   "source": [
    "df = pd.read_csv('national_pension.csv')"
   ]
  },
  {
   "cell_type": "code",
   "execution_count": null,
   "metadata": {
    "id": "wB2A7wWPKSVa"
   },
   "outputs": [],
   "source": [
    "df.head()"
   ]
  },
  {
   "cell_type": "markdown",
   "metadata": {
    "id": "dc7PdGqZKSVc"
   },
   "source": [
    "## 핵심 데이터 column 추출"
   ]
  },
  {
   "cell_type": "markdown",
   "metadata": {
    "id": "wSqrG5w-LJOu"
   },
   "source": [
    "```\n",
    "['사업장명', '가입자수', '신규', '상실', '고지금액']\n",
    "만 추출하여 df_main의 변수에 담아 주세요\n",
    "```"
   ]
  },
  {
   "cell_type": "markdown",
   "metadata": {
    "id": "F_3cpZtlSa18"
   },
   "source": [
    "**[코드]**"
   ]
  },
  {
   "cell_type": "code",
   "execution_count": null,
   "metadata": {
    "colab": {
     "base_uri": "https://localhost:8080/",
     "height": 198
    },
    "id": "qdKf_smRKSVe",
    "outputId": "c724aa0f-19e1-41b7-aa1c-308d36148fc9"
   },
   "outputs": [
    {
     "data": {
      "text/html": [
       "<div>\n",
       "<style scoped>\n",
       "    .dataframe tbody tr th:only-of-type {\n",
       "        vertical-align: middle;\n",
       "    }\n",
       "\n",
       "    .dataframe tbody tr th {\n",
       "        vertical-align: top;\n",
       "    }\n",
       "\n",
       "    .dataframe thead th {\n",
       "        text-align: right;\n",
       "    }\n",
       "</style>\n",
       "<table border=\"1\" class=\"dataframe\">\n",
       "  <thead>\n",
       "    <tr style=\"text-align: right;\">\n",
       "      <th></th>\n",
       "      <th>사업장명</th>\n",
       "      <th>가입자수</th>\n",
       "      <th>신규</th>\n",
       "      <th>상실</th>\n",
       "      <th>고지금액</th>\n",
       "    </tr>\n",
       "  </thead>\n",
       "  <tbody>\n",
       "    <tr>\n",
       "      <th>0</th>\n",
       "      <td>삼성전자</td>\n",
       "      <td>102981</td>\n",
       "      <td>380</td>\n",
       "      <td>423</td>\n",
       "      <td>45766021520</td>\n",
       "    </tr>\n",
       "    <tr>\n",
       "      <th>1</th>\n",
       "      <td>현대자동차</td>\n",
       "      <td>68645</td>\n",
       "      <td>936</td>\n",
       "      <td>740</td>\n",
       "      <td>30189521740</td>\n",
       "    </tr>\n",
       "    <tr>\n",
       "      <th>2</th>\n",
       "      <td>엘지전자</td>\n",
       "      <td>40385</td>\n",
       "      <td>565</td>\n",
       "      <td>404</td>\n",
       "      <td>17482513180</td>\n",
       "    </tr>\n",
       "    <tr>\n",
       "      <th>3</th>\n",
       "      <td>에스케이하이닉스</td>\n",
       "      <td>28314</td>\n",
       "      <td>626</td>\n",
       "      <td>342</td>\n",
       "      <td>12453248240</td>\n",
       "    </tr>\n",
       "    <tr>\n",
       "      <th>4</th>\n",
       "      <td>이마트</td>\n",
       "      <td>27413</td>\n",
       "      <td>390</td>\n",
       "      <td>649</td>\n",
       "      <td>6770816160</td>\n",
       "    </tr>\n",
       "  </tbody>\n",
       "</table>\n",
       "</div>"
      ],
      "text/plain": [
       "       사업장명    가입자수   신규   상실         고지금액\n",
       "0      삼성전자  102981  380  423  45766021520\n",
       "1     현대자동차   68645  936  740  30189521740\n",
       "2      엘지전자   40385  565  404  17482513180\n",
       "3  에스케이하이닉스   28314  626  342  12453248240\n",
       "4       이마트   27413  390  649   6770816160"
      ]
     },
     "execution_count": 6,
     "metadata": {
      "tags": []
     },
     "output_type": "execute_result"
    }
   ],
   "source": [
    "# 코드 입력\n",
    "df_main = \n",
    "df_main.head()"
   ]
  },
  {
   "cell_type": "markdown",
   "metadata": {
    "id": "WFMd3h7FKSVg"
   },
   "source": [
    "## 데이터 통계"
   ]
  },
  {
   "cell_type": "markdown",
   "metadata": {
    "id": "kLL0gWyiLY9L"
   },
   "source": [
    "```\n",
    "신규, 상실, 가입자수, 고지금액의 평균을 구해 주세요\n",
    "```"
   ]
  },
  {
   "cell_type": "markdown",
   "metadata": {
    "id": "F1sZvoi8Slle"
   },
   "source": [
    "**[코드]**"
   ]
  },
  {
   "cell_type": "code",
   "execution_count": null,
   "metadata": {
    "colab": {
     "base_uri": "https://localhost:8080/"
    },
    "id": "XAJs_TgoKSVj",
    "outputId": "e9f06ac5-8ea6-40ed-bf86-c7187a29ed92"
   },
   "outputs": [
    {
     "data": {
      "text/plain": [
       "1.7862934732931341"
      ]
     },
     "execution_count": 7,
     "metadata": {
      "tags": []
     },
     "output_type": "execute_result"
    }
   ],
   "source": [
    "# 신규\n"
   ]
  },
  {
   "cell_type": "markdown",
   "metadata": {
    "id": "PiVrNl2MSmMh"
   },
   "source": [
    "**[코드]**"
   ]
  },
  {
   "cell_type": "code",
   "execution_count": null,
   "metadata": {
    "colab": {
     "base_uri": "https://localhost:8080/"
    },
    "id": "3g_BGnpjKSVl",
    "outputId": "38de009f-d616-4967-94d8-2184e56c19e7"
   },
   "outputs": [
    {
     "data": {
      "text/plain": [
       "1.8762255082634272"
      ]
     },
     "execution_count": 8,
     "metadata": {
      "tags": []
     },
     "output_type": "execute_result"
    }
   ],
   "source": [
    "# 상실\n"
   ]
  },
  {
   "cell_type": "markdown",
   "metadata": {
    "id": "Hwy4FdlQSmkK"
   },
   "source": [
    "**[코드]**"
   ]
  },
  {
   "cell_type": "code",
   "execution_count": null,
   "metadata": {
    "colab": {
     "base_uri": "https://localhost:8080/"
    },
    "id": "5M9YwFPSKSVm",
    "outputId": "bc92a68b-d645-4832-d102-da8f5e10be21"
   },
   "outputs": [
    {
     "data": {
      "text/plain": [
       "56.30243701071813"
      ]
     },
     "execution_count": 9,
     "metadata": {
      "tags": []
     },
     "output_type": "execute_result"
    }
   ],
   "source": [
    "# 가입자수\n"
   ]
  },
  {
   "cell_type": "markdown",
   "metadata": {
    "id": "knwKTSIfSmy7"
   },
   "source": [
    "**[코드]**"
   ]
  },
  {
   "cell_type": "code",
   "execution_count": null,
   "metadata": {
    "colab": {
     "base_uri": "https://localhost:8080/"
    },
    "id": "xxR4r6nnKSVo",
    "outputId": "76675e90-8f23-40da-8861-d7045e0e9fbb"
   },
   "outputs": [
    {
     "data": {
      "text/plain": [
       "17037918.953102656"
      ]
     },
     "execution_count": 10,
     "metadata": {
      "tags": []
     },
     "output_type": "execute_result"
    }
   ],
   "source": [
    "# 고지금액\n"
   ]
  },
  {
   "cell_type": "markdown",
   "metadata": {
    "id": "Rs2QahZmKSVq"
   },
   "source": [
    "## 월급, 연봉 추정"
   ]
  },
  {
   "cell_type": "markdown",
   "metadata": {
    "id": "DXysLKjhKSVq"
   },
   "source": [
    "**국민연금 정보로 어떻게 연봉정보를 계산하나요?**\n",
    "\n",
    "\n",
    "국민연금 보험률은 9%입니다. 쉽게 이야기 하면 급여(신고소득월액)의 9%를 국민연금으로 내는 것입니다. \n",
    "\n",
    "하지만 이를 절반으로 나누어 **4.5%는 회사가, 나머지 절반은 개인이 부담하는 구조**입니다. 회사는 급여 외에 추가로 금액을 부담합니다.\n",
    "\n",
    "국민연금 보험료는 **소득 상한선과 하한선이 설정되어 있어 소득 전체가 아닌 일부 소득에만 부과**됩니다.\n",
    "\n",
    "이를 역산하면 신고소득월액의 계산이 가능합니다. 하지만 **상한선과 하한선이 설정되어 있어 실제보다 과소계산**될 수 있습니다"
   ]
  },
  {
   "cell_type": "markdown",
   "metadata": {
    "id": "11NxoFkQKSVr"
   },
   "source": [
    "[수식]\n",
    "\n",
    "- 임직원 평균 월급 = 인당고지금액 / 9% * 100%\n",
    "- 임직원 평균 연봉 = 임직원 평균 월급 * 12개월"
   ]
  },
  {
   "cell_type": "markdown",
   "metadata": {
    "id": "371A1a0XLqsy"
   },
   "source": [
    "[참고 사이트]\n",
    "- [크레딧잡](https://kreditjob.com/)"
   ]
  },
  {
   "cell_type": "code",
   "execution_count": null,
   "metadata": {
    "colab": {
     "base_uri": "https://localhost:8080/"
    },
    "id": "5K7V-RGzKSVr",
    "outputId": "90cfb490-aa38-40a3-cea6-5014a1c13b9c"
   },
   "outputs": [
    {
     "data": {
      "text/plain": [
       "0   444412.28\n",
       "1   439792.00\n",
       "2   432896.20\n",
       "3   439826.53\n",
       "4   246992.89\n",
       "dtype: float64"
      ]
     },
     "execution_count": 11,
     "metadata": {
      "tags": []
     },
     "output_type": "execute_result"
    }
   ],
   "source": [
    "(df['고지금액'] / df['가입자수']).head()"
   ]
  },
  {
   "cell_type": "markdown",
   "metadata": {
    "id": "01SjrrWoM1sv"
   },
   "source": [
    "```\n",
    "고지금액 / 가입자수 계산된 값을 인당고지금액 컬럼을 만들어 넣어 주세요\n",
    "```"
   ]
  },
  {
   "cell_type": "markdown",
   "metadata": {
    "id": "drMEug3nSq3-"
   },
   "source": [
    "**[코드]**"
   ]
  },
  {
   "cell_type": "code",
   "execution_count": null,
   "metadata": {
    "id": "tzOngxjJKSVt"
   },
   "outputs": [],
   "source": [
    "df['인당고지금액'] = "
   ]
  },
  {
   "cell_type": "code",
   "execution_count": null,
   "metadata": {
    "colab": {
     "base_uri": "https://localhost:8080/"
    },
    "id": "61uKlTXjKSVv",
    "outputId": "88d28545-0612-4693-a619-14472e766dd3"
   },
   "outputs": [
    {
     "data": {
      "text/plain": [
       "0   444412.28\n",
       "1   439792.00\n",
       "2   432896.20\n",
       "3   439826.53\n",
       "4   246992.89\n",
       "Name: 인당고지금액, dtype: float64"
      ]
     },
     "execution_count": 13,
     "metadata": {
      "tags": []
     },
     "output_type": "execute_result"
    }
   ],
   "source": [
    "df['인당고지금액'].head()"
   ]
  },
  {
   "cell_type": "markdown",
   "metadata": {
    "id": "9DxrPWG4NDmw"
   },
   "source": [
    "```\n",
    "- 평균월급 컬럼을 만들어 주세요\n",
    "- 평균월급 = 인당고지금액 / 9 * 100\n",
    "```"
   ]
  },
  {
   "cell_type": "markdown",
   "metadata": {
    "id": "NJmgKON9StZF"
   },
   "source": [
    "**[코드]**"
   ]
  },
  {
   "cell_type": "code",
   "execution_count": null,
   "metadata": {
    "id": "Yn5YF-nmKSVx"
   },
   "outputs": [],
   "source": [
    "df['평균월급'] = "
   ]
  },
  {
   "cell_type": "markdown",
   "metadata": {
    "id": "j2Rd3TBgNgLA"
   },
   "source": [
    "```\n",
    "평균 월급의 평균을 구해주세요\n",
    "평균 월급이 0원은 제외합니다.\n",
    "```"
   ]
  },
  {
   "cell_type": "markdown",
   "metadata": {
    "id": "r6aYInpnSvnu"
   },
   "source": [
    "**[코드]**"
   ]
  },
  {
   "cell_type": "code",
   "execution_count": null,
   "metadata": {
    "colab": {
     "base_uri": "https://localhost:8080/"
    },
    "id": "_zXjvG7aNkW5",
    "outputId": "92f5dc3f-7cfb-48db-b43e-58117830a816"
   },
   "outputs": [
    {
     "data": {
      "text/plain": [
       "2874794.438830212"
      ]
     },
     "execution_count": 15,
     "metadata": {
      "tags": []
     },
     "output_type": "execute_result"
    }
   ],
   "source": []
  },
  {
   "cell_type": "markdown",
   "metadata": {
    "id": "QfB-6R0yNU0i"
   },
   "source": [
    "```\n",
    "- 평균연봉 컬럼을 만들어 주세요\n",
    "- 평균연봉 = 평균월급 * 12\n",
    "```"
   ]
  },
  {
   "cell_type": "markdown",
   "metadata": {
    "id": "Z5WjcW9VSwaR"
   },
   "source": [
    "**[코드]**"
   ]
  },
  {
   "cell_type": "code",
   "execution_count": null,
   "metadata": {
    "id": "ac3iEy3pKSVz"
   },
   "outputs": [],
   "source": [
    "df['평균연봉'] = "
   ]
  },
  {
   "cell_type": "markdown",
   "metadata": {
    "id": "T8wl6U4hN5e1"
   },
   "source": [
    "```\n",
    "평균 연봉의 평균을 구해주세요\n",
    "평균 연봉이 0원은 제외합니다.\n",
    "```"
   ]
  },
  {
   "cell_type": "markdown",
   "metadata": {
    "id": "XbwR7KhBSyge"
   },
   "source": [
    "**[코드]**"
   ]
  },
  {
   "cell_type": "code",
   "execution_count": null,
   "metadata": {
    "colab": {
     "base_uri": "https://localhost:8080/"
    },
    "id": "R26OIApuN1Jb",
    "outputId": "c79ddd69-3ac8-47d6-f55a-0a8d1768f833"
   },
   "outputs": [
    {
     "data": {
      "text/plain": [
       "34497533.26596099"
      ]
     },
     "execution_count": 17,
     "metadata": {
      "tags": []
     },
     "output_type": "execute_result"
    }
   ],
   "source": []
  },
  {
   "cell_type": "markdown",
   "metadata": {
    "id": "zHTpXCBeKSV4"
   },
   "source": [
    "## 정렬(Order)"
   ]
  },
  {
   "cell_type": "markdown",
   "metadata": {
    "id": "0z-zvXPvKSV5"
   },
   "source": [
    "### 연봉\n",
    "\n",
    "- 상위 10개, 하위 10개 기업을 출력하세요"
   ]
  },
  {
   "cell_type": "markdown",
   "metadata": {
    "id": "G6SeDZkHSzXZ"
   },
   "source": [
    "**[코드]**"
   ]
  },
  {
   "cell_type": "code",
   "execution_count": null,
   "metadata": {
    "colab": {
     "base_uri": "https://localhost:8080/",
     "height": 348
    },
    "id": "Sntw_YDXKSV5",
    "outputId": "e29308ce-c32f-45f4-faec-c91c39b8f8f0"
   },
   "outputs": [
    {
     "data": {
      "text/html": [
       "<div>\n",
       "<style scoped>\n",
       "    .dataframe tbody tr th:only-of-type {\n",
       "        vertical-align: middle;\n",
       "    }\n",
       "\n",
       "    .dataframe tbody tr th {\n",
       "        vertical-align: top;\n",
       "    }\n",
       "\n",
       "    .dataframe thead th {\n",
       "        text-align: right;\n",
       "    }\n",
       "</style>\n",
       "<table border=\"1\" class=\"dataframe\">\n",
       "  <thead>\n",
       "    <tr style=\"text-align: right;\">\n",
       "      <th></th>\n",
       "      <th>사업장명</th>\n",
       "      <th>가입자수</th>\n",
       "      <th>신규</th>\n",
       "      <th>상실</th>\n",
       "      <th>고지금액</th>\n",
       "      <th>업종코드</th>\n",
       "      <th>업종코드명</th>\n",
       "      <th>광역시코드</th>\n",
       "      <th>시군구코드</th>\n",
       "      <th>읍면동코드</th>\n",
       "      <th>도로명주소</th>\n",
       "      <th>인당고지금액</th>\n",
       "      <th>평균월급</th>\n",
       "      <th>평균연봉</th>\n",
       "    </tr>\n",
       "  </thead>\n",
       "  <tbody>\n",
       "    <tr>\n",
       "      <th>5242</th>\n",
       "      <td>국회사무처</td>\n",
       "      <td>179</td>\n",
       "      <td>1</td>\n",
       "      <td>3</td>\n",
       "      <td>81033300</td>\n",
       "      <td>701201</td>\n",
       "      <td>비주거용 건물 임대업(점포  자기땅)</td>\n",
       "      <td>11</td>\n",
       "      <td>560</td>\n",
       "      <td>110</td>\n",
       "      <td>서울특별시 영등포구 의사당대로</td>\n",
       "      <td>452700.00</td>\n",
       "      <td>5030000.00</td>\n",
       "      <td>60360000.00</td>\n",
       "    </tr>\n",
       "    <tr>\n",
       "      <th>72074</th>\n",
       "      <td>에스케이씨</td>\n",
       "      <td>19</td>\n",
       "      <td>0</td>\n",
       "      <td>7</td>\n",
       "      <td>8601300</td>\n",
       "      <td>241106</td>\n",
       "      <td>석탄화학계 화합물 및 기타 기초 유기화학 물질제조업</td>\n",
       "      <td>31</td>\n",
       "      <td>140</td>\n",
       "      <td>112</td>\n",
       "      <td>울산광역시 남구 용잠로</td>\n",
       "      <td>452700.00</td>\n",
       "      <td>5030000.00</td>\n",
       "      <td>60360000.00</td>\n",
       "    </tr>\n",
       "    <tr>\n",
       "      <th>105164</th>\n",
       "      <td>비티글로벌서비스코리아</td>\n",
       "      <td>13</td>\n",
       "      <td>0</td>\n",
       "      <td>0</td>\n",
       "      <td>5885100</td>\n",
       "      <td>642002</td>\n",
       "      <td>통신 재판매업</td>\n",
       "      <td>11</td>\n",
       "      <td>560</td>\n",
       "      <td>110</td>\n",
       "      <td>서울특별시 영등포구 여의대로</td>\n",
       "      <td>452700.00</td>\n",
       "      <td>5030000.00</td>\n",
       "      <td>60360000.00</td>\n",
       "    </tr>\n",
       "    <tr>\n",
       "      <th>121732</th>\n",
       "      <td>송로텍</td>\n",
       "      <td>12</td>\n",
       "      <td>1</td>\n",
       "      <td>0</td>\n",
       "      <td>5432400</td>\n",
       "      <td>749609</td>\n",
       "      <td>그 외 기타 분류 안된 사업 지원 서비스업</td>\n",
       "      <td>11</td>\n",
       "      <td>560</td>\n",
       "      <td>116</td>\n",
       "      <td>서울특별시 영등포구 양평로</td>\n",
       "      <td>452700.00</td>\n",
       "      <td>5030000.00</td>\n",
       "      <td>60360000.00</td>\n",
       "    </tr>\n",
       "    <tr>\n",
       "      <th>131959</th>\n",
       "      <td>젠스엠</td>\n",
       "      <td>11</td>\n",
       "      <td>0</td>\n",
       "      <td>0</td>\n",
       "      <td>4979700</td>\n",
       "      <td>321000</td>\n",
       "      <td>기타 반도체 소자 제조업</td>\n",
       "      <td>41</td>\n",
       "      <td>610</td>\n",
       "      <td>250</td>\n",
       "      <td>경기도 광주시 오포읍 오포로</td>\n",
       "      <td>452700.00</td>\n",
       "      <td>5030000.00</td>\n",
       "      <td>60360000.00</td>\n",
       "    </tr>\n",
       "    <tr>\n",
       "      <th>46801</th>\n",
       "      <td>쌍용자동차</td>\n",
       "      <td>26</td>\n",
       "      <td>0</td>\n",
       "      <td>0</td>\n",
       "      <td>11770200</td>\n",
       "      <td>999999</td>\n",
       "      <td>BIZ_NO미존재사업장</td>\n",
       "      <td>11</td>\n",
       "      <td>680</td>\n",
       "      <td>101</td>\n",
       "      <td>서울특별시 강남구 테헤란로</td>\n",
       "      <td>452700.00</td>\n",
       "      <td>5030000.00</td>\n",
       "      <td>60360000.00</td>\n",
       "    </tr>\n",
       "    <tr>\n",
       "      <th>54110</th>\n",
       "      <td>에이알엠코리아</td>\n",
       "      <td>24</td>\n",
       "      <td>2</td>\n",
       "      <td>0</td>\n",
       "      <td>10864800</td>\n",
       "      <td>722000</td>\n",
       "      <td>응용 소프트웨어 개발 및 공급업</td>\n",
       "      <td>41</td>\n",
       "      <td>135</td>\n",
       "      <td>102</td>\n",
       "      <td>경기도 성남시 분당구 수내로46번길</td>\n",
       "      <td>452700.00</td>\n",
       "      <td>5030000.00</td>\n",
       "      <td>60360000.00</td>\n",
       "    </tr>\n",
       "    <tr>\n",
       "      <th>50233</th>\n",
       "      <td>OCI공통</td>\n",
       "      <td>25</td>\n",
       "      <td>0</td>\n",
       "      <td>0</td>\n",
       "      <td>11317500</td>\n",
       "      <td>252901</td>\n",
       "      <td>포장용 플라스틱 성형용기 제조업</td>\n",
       "      <td>11</td>\n",
       "      <td>140</td>\n",
       "      <td>111</td>\n",
       "      <td>서울특별시 중구 소공로</td>\n",
       "      <td>452700.00</td>\n",
       "      <td>5030000.00</td>\n",
       "      <td>60360000.00</td>\n",
       "    </tr>\n",
       "    <tr>\n",
       "      <th>75485</th>\n",
       "      <td>파이어아이코리아유한회사</td>\n",
       "      <td>18</td>\n",
       "      <td>1</td>\n",
       "      <td>0</td>\n",
       "      <td>8148600</td>\n",
       "      <td>722000</td>\n",
       "      <td>응용 소프트웨어 개발 및 공급업</td>\n",
       "      <td>11</td>\n",
       "      <td>680</td>\n",
       "      <td>106</td>\n",
       "      <td>서울특별시 강남구 테헤란로</td>\n",
       "      <td>452700.00</td>\n",
       "      <td>5030000.00</td>\n",
       "      <td>60360000.00</td>\n",
       "    </tr>\n",
       "    <tr>\n",
       "      <th>107544</th>\n",
       "      <td>라살자산운용</td>\n",
       "      <td>13</td>\n",
       "      <td>0</td>\n",
       "      <td>1</td>\n",
       "      <td>5885100</td>\n",
       "      <td>999999</td>\n",
       "      <td>BIZ_NO미존재사업장</td>\n",
       "      <td>11</td>\n",
       "      <td>560</td>\n",
       "      <td>110</td>\n",
       "      <td>서울특별시 영등포구 국제금융로</td>\n",
       "      <td>452700.00</td>\n",
       "      <td>5030000.00</td>\n",
       "      <td>60360000.00</td>\n",
       "    </tr>\n",
       "  </tbody>\n",
       "</table>\n",
       "</div>"
      ],
      "text/plain": [
       "                사업장명  가입자수  신규  ...    인당고지금액       평균월급        평균연봉\n",
       "5242           국회사무처   179   1  ... 452700.00 5030000.00 60360000.00\n",
       "72074          에스케이씨    19   0  ... 452700.00 5030000.00 60360000.00\n",
       "105164   비티글로벌서비스코리아    13   0  ... 452700.00 5030000.00 60360000.00\n",
       "121732           송로텍    12   1  ... 452700.00 5030000.00 60360000.00\n",
       "131959           젠스엠    11   0  ... 452700.00 5030000.00 60360000.00\n",
       "46801          쌍용자동차    26   0  ... 452700.00 5030000.00 60360000.00\n",
       "54110        에이알엠코리아    24   2  ... 452700.00 5030000.00 60360000.00\n",
       "50233          OCI공통    25   0  ... 452700.00 5030000.00 60360000.00\n",
       "75485   파이어아이코리아유한회사    18   1  ... 452700.00 5030000.00 60360000.00\n",
       "107544        라살자산운용    13   0  ... 452700.00 5030000.00 60360000.00\n",
       "\n",
       "[10 rows x 14 columns]"
      ]
     },
     "execution_count": 18,
     "metadata": {
      "tags": []
     },
     "output_type": "execute_result"
    }
   ],
   "source": []
  },
  {
   "cell_type": "markdown",
   "metadata": {
    "id": "vQZAAJ4sS1EQ"
   },
   "source": [
    "**[코드]**"
   ]
  },
  {
   "cell_type": "code",
   "execution_count": null,
   "metadata": {
    "colab": {
     "base_uri": "https://localhost:8080/",
     "height": 348
    },
    "id": "WtrmWJhiOyS-",
    "outputId": "4be30419-c181-4bb2-8d8d-319faa4ec130"
   },
   "outputs": [
    {
     "data": {
      "text/html": [
       "<div>\n",
       "<style scoped>\n",
       "    .dataframe tbody tr th:only-of-type {\n",
       "        vertical-align: middle;\n",
       "    }\n",
       "\n",
       "    .dataframe tbody tr th {\n",
       "        vertical-align: top;\n",
       "    }\n",
       "\n",
       "    .dataframe thead th {\n",
       "        text-align: right;\n",
       "    }\n",
       "</style>\n",
       "<table border=\"1\" class=\"dataframe\">\n",
       "  <thead>\n",
       "    <tr style=\"text-align: right;\">\n",
       "      <th></th>\n",
       "      <th>사업장명</th>\n",
       "      <th>가입자수</th>\n",
       "      <th>신규</th>\n",
       "      <th>상실</th>\n",
       "      <th>고지금액</th>\n",
       "      <th>업종코드</th>\n",
       "      <th>업종코드명</th>\n",
       "      <th>광역시코드</th>\n",
       "      <th>시군구코드</th>\n",
       "      <th>읍면동코드</th>\n",
       "      <th>도로명주소</th>\n",
       "      <th>인당고지금액</th>\n",
       "      <th>평균월급</th>\n",
       "      <th>평균연봉</th>\n",
       "    </tr>\n",
       "  </thead>\n",
       "  <tbody>\n",
       "    <tr>\n",
       "      <th>93146</th>\n",
       "      <td>밀알희망작업장</td>\n",
       "      <td>15</td>\n",
       "      <td>0</td>\n",
       "      <td>0</td>\n",
       "      <td>432000</td>\n",
       "      <td>749604</td>\n",
       "      <td>그 외 기타 분류 안된 사업 지원 서비스업(기타임가공</td>\n",
       "      <td>48</td>\n",
       "      <td>123</td>\n",
       "      <td>125</td>\n",
       "      <td>경상남도 창원시 성산구 용지로</td>\n",
       "      <td>28800.00</td>\n",
       "      <td>320000.00</td>\n",
       "      <td>3840000.00</td>\n",
       "    </tr>\n",
       "    <tr>\n",
       "      <th>120729</th>\n",
       "      <td>구립송파구장애인보호작업장</td>\n",
       "      <td>12</td>\n",
       "      <td>0</td>\n",
       "      <td>0</td>\n",
       "      <td>345600</td>\n",
       "      <td>514122</td>\n",
       "      <td>그 외 기타 상품 전문 도매업</td>\n",
       "      <td>11</td>\n",
       "      <td>710</td>\n",
       "      <td>113</td>\n",
       "      <td>서울특별시 송파구 양산로</td>\n",
       "      <td>28800.00</td>\n",
       "      <td>320000.00</td>\n",
       "      <td>3840000.00</td>\n",
       "    </tr>\n",
       "    <tr>\n",
       "      <th>114995</th>\n",
       "      <td>상창택시</td>\n",
       "      <td>12</td>\n",
       "      <td>0</td>\n",
       "      <td>1</td>\n",
       "      <td>345600</td>\n",
       "      <td>602201</td>\n",
       "      <td>택시 운송업</td>\n",
       "      <td>47</td>\n",
       "      <td>250</td>\n",
       "      <td>122</td>\n",
       "      <td>경상북도 상주시 영남제일로</td>\n",
       "      <td>28800.00</td>\n",
       "      <td>320000.00</td>\n",
       "      <td>3840000.00</td>\n",
       "    </tr>\n",
       "    <tr>\n",
       "      <th>126965</th>\n",
       "      <td>금강운수</td>\n",
       "      <td>11</td>\n",
       "      <td>0</td>\n",
       "      <td>1</td>\n",
       "      <td>316800</td>\n",
       "      <td>602204</td>\n",
       "      <td>시내버스 운송업 / 시외버스 운송업</td>\n",
       "      <td>44</td>\n",
       "      <td>150</td>\n",
       "      <td>116</td>\n",
       "      <td>충청남도 공주시 소학동길</td>\n",
       "      <td>28800.00</td>\n",
       "      <td>320000.00</td>\n",
       "      <td>3840000.00</td>\n",
       "    </tr>\n",
       "    <tr>\n",
       "      <th>107932</th>\n",
       "      <td>마포구립장애인직업재활센터</td>\n",
       "      <td>13</td>\n",
       "      <td>0</td>\n",
       "      <td>0</td>\n",
       "      <td>374760</td>\n",
       "      <td>154102</td>\n",
       "      <td>과자류 및 코코아 제품 제조업</td>\n",
       "      <td>11</td>\n",
       "      <td>440</td>\n",
       "      <td>127</td>\n",
       "      <td>서울특별시 마포구 매봉산로</td>\n",
       "      <td>28827.69</td>\n",
       "      <td>320307.69</td>\n",
       "      <td>3843692.31</td>\n",
       "    </tr>\n",
       "    <tr>\n",
       "      <th>94041</th>\n",
       "      <td>사회복지법인빅토리아</td>\n",
       "      <td>15</td>\n",
       "      <td>1</td>\n",
       "      <td>0</td>\n",
       "      <td>439560</td>\n",
       "      <td>154101</td>\n",
       "      <td>떡류 제조업</td>\n",
       "      <td>48</td>\n",
       "      <td>121</td>\n",
       "      <td>101</td>\n",
       "      <td>경상남도 창원시 의창구 의안로49번길</td>\n",
       "      <td>29304.00</td>\n",
       "      <td>325600.00</td>\n",
       "      <td>3907200.00</td>\n",
       "    </tr>\n",
       "    <tr>\n",
       "      <th>47934</th>\n",
       "      <td>직지드림플러스</td>\n",
       "      <td>26</td>\n",
       "      <td>0</td>\n",
       "      <td>0</td>\n",
       "      <td>768840</td>\n",
       "      <td>242402</td>\n",
       "      <td>치약  비누 및 기타 세제 제조업</td>\n",
       "      <td>43</td>\n",
       "      <td>112</td>\n",
       "      <td>107</td>\n",
       "      <td>충청북도 청주시 서원구 구룡산로372번길</td>\n",
       "      <td>29570.77</td>\n",
       "      <td>328564.10</td>\n",
       "      <td>3942769.23</td>\n",
       "    </tr>\n",
       "    <tr>\n",
       "      <th>95299</th>\n",
       "      <td>진양교통</td>\n",
       "      <td>15</td>\n",
       "      <td>0</td>\n",
       "      <td>0</td>\n",
       "      <td>450360</td>\n",
       "      <td>602201</td>\n",
       "      <td>택시 운송업</td>\n",
       "      <td>48</td>\n",
       "      <td>170</td>\n",
       "      <td>440</td>\n",
       "      <td>경상남도 진주시 명석면 남성로</td>\n",
       "      <td>30024.00</td>\n",
       "      <td>333600.00</td>\n",
       "      <td>4003200.00</td>\n",
       "    </tr>\n",
       "    <tr>\n",
       "      <th>81840</th>\n",
       "      <td>이리농산물</td>\n",
       "      <td>17</td>\n",
       "      <td>0</td>\n",
       "      <td>0</td>\n",
       "      <td>534460</td>\n",
       "      <td>749609</td>\n",
       "      <td>그 외 기타 분류 안된 사업 지원 서비스업</td>\n",
       "      <td>45</td>\n",
       "      <td>140</td>\n",
       "      <td>117</td>\n",
       "      <td>전라북도 익산시 번영로1길</td>\n",
       "      <td>31438.82</td>\n",
       "      <td>349320.26</td>\n",
       "      <td>4191843.14</td>\n",
       "    </tr>\n",
       "    <tr>\n",
       "      <th>50268</th>\n",
       "      <td>삼경택시</td>\n",
       "      <td>25</td>\n",
       "      <td>0</td>\n",
       "      <td>1</td>\n",
       "      <td>791720</td>\n",
       "      <td>602201</td>\n",
       "      <td>택시 운송업</td>\n",
       "      <td>47</td>\n",
       "      <td>250</td>\n",
       "      <td>121</td>\n",
       "      <td>경상북도 상주시 삼백로</td>\n",
       "      <td>31668.80</td>\n",
       "      <td>351875.56</td>\n",
       "      <td>4222506.67</td>\n",
       "    </tr>\n",
       "  </tbody>\n",
       "</table>\n",
       "</div>"
      ],
      "text/plain": [
       "                 사업장명  가입자수  신규  ...   인당고지금액      평균월급       평균연봉\n",
       "93146         밀알희망작업장    15   0  ... 28800.00 320000.00 3840000.00\n",
       "120729  구립송파구장애인보호작업장    12   0  ... 28800.00 320000.00 3840000.00\n",
       "114995           상창택시    12   0  ... 28800.00 320000.00 3840000.00\n",
       "126965           금강운수    11   0  ... 28800.00 320000.00 3840000.00\n",
       "107932  마포구립장애인직업재활센터    13   0  ... 28827.69 320307.69 3843692.31\n",
       "94041      사회복지법인빅토리아    15   1  ... 29304.00 325600.00 3907200.00\n",
       "47934         직지드림플러스    26   0  ... 29570.77 328564.10 3942769.23\n",
       "95299            진양교통    15   0  ... 30024.00 333600.00 4003200.00\n",
       "81840           이리농산물    17   0  ... 31438.82 349320.26 4191843.14\n",
       "50268            삼경택시    25   0  ... 31668.80 351875.56 4222506.67\n",
       "\n",
       "[10 rows x 14 columns]"
      ]
     },
     "execution_count": 19,
     "metadata": {
      "tags": []
     },
     "output_type": "execute_result"
    }
   ],
   "source": []
  },
  {
   "cell_type": "markdown",
   "metadata": {
    "id": "LJ_5p4tyKSV7"
   },
   "source": [
    "### 신규 채용\n",
    "\n",
    "- 상위 10개, 하위 10개 기업을 출력하세요"
   ]
  },
  {
   "cell_type": "markdown",
   "metadata": {
    "id": "DzdGgpAuS2Z5"
   },
   "source": [
    "**[코드]**"
   ]
  },
  {
   "cell_type": "code",
   "execution_count": null,
   "metadata": {
    "colab": {
     "base_uri": "https://localhost:8080/",
     "height": 348
    },
    "id": "iun-p4OfKSV7",
    "outputId": "62f27a12-ba30-43f6-c57e-a08b1f4551cd"
   },
   "outputs": [
    {
     "data": {
      "text/html": [
       "<div>\n",
       "<style scoped>\n",
       "    .dataframe tbody tr th:only-of-type {\n",
       "        vertical-align: middle;\n",
       "    }\n",
       "\n",
       "    .dataframe tbody tr th {\n",
       "        vertical-align: top;\n",
       "    }\n",
       "\n",
       "    .dataframe thead th {\n",
       "        text-align: right;\n",
       "    }\n",
       "</style>\n",
       "<table border=\"1\" class=\"dataframe\">\n",
       "  <thead>\n",
       "    <tr style=\"text-align: right;\">\n",
       "      <th></th>\n",
       "      <th>사업장명</th>\n",
       "      <th>가입자수</th>\n",
       "      <th>신규</th>\n",
       "      <th>상실</th>\n",
       "      <th>고지금액</th>\n",
       "      <th>업종코드</th>\n",
       "      <th>업종코드명</th>\n",
       "      <th>광역시코드</th>\n",
       "      <th>시군구코드</th>\n",
       "      <th>읍면동코드</th>\n",
       "      <th>도로명주소</th>\n",
       "      <th>인당고지금액</th>\n",
       "      <th>평균월급</th>\n",
       "      <th>평균연봉</th>\n",
       "    </tr>\n",
       "  </thead>\n",
       "  <tbody>\n",
       "    <tr>\n",
       "      <th>34</th>\n",
       "      <td>쿠팡풀필먼트서비스유한회사</td>\n",
       "      <td>10442</td>\n",
       "      <td>4541</td>\n",
       "      <td>3709</td>\n",
       "      <td>516854740</td>\n",
       "      <td>630903</td>\n",
       "      <td>화물 포장  검수 및 계량 서비스업</td>\n",
       "      <td>11</td>\n",
       "      <td>710</td>\n",
       "      <td>102</td>\n",
       "      <td>서울특별시 송파구 송파대로</td>\n",
       "      <td>49497.68</td>\n",
       "      <td>549974.19</td>\n",
       "      <td>6599690.23</td>\n",
       "    </tr>\n",
       "    <tr>\n",
       "      <th>20</th>\n",
       "      <td>쿠팡</td>\n",
       "      <td>14956</td>\n",
       "      <td>2036</td>\n",
       "      <td>893</td>\n",
       "      <td>4176975500</td>\n",
       "      <td>525102</td>\n",
       "      <td>기타 통신 판매업</td>\n",
       "      <td>11</td>\n",
       "      <td>710</td>\n",
       "      <td>102</td>\n",
       "      <td>서울특별시 송파구 송파대로</td>\n",
       "      <td>279284.27</td>\n",
       "      <td>3103158.52</td>\n",
       "      <td>37237902.29</td>\n",
       "    </tr>\n",
       "    <tr>\n",
       "      <th>19</th>\n",
       "      <td>쿠팡풀필먼트서비스유한회사</td>\n",
       "      <td>15376</td>\n",
       "      <td>1851</td>\n",
       "      <td>1298</td>\n",
       "      <td>3088280480</td>\n",
       "      <td>630903</td>\n",
       "      <td>화물 포장  검수 및 계량 서비스업</td>\n",
       "      <td>11</td>\n",
       "      <td>710</td>\n",
       "      <td>102</td>\n",
       "      <td>서울특별시 송파구 송파대로</td>\n",
       "      <td>200850.71</td>\n",
       "      <td>2231674.53</td>\n",
       "      <td>26780094.35</td>\n",
       "    </tr>\n",
       "    <tr>\n",
       "      <th>53</th>\n",
       "      <td>케이텍맨파워</td>\n",
       "      <td>7437</td>\n",
       "      <td>1677</td>\n",
       "      <td>470</td>\n",
       "      <td>1614012020</td>\n",
       "      <td>749100</td>\n",
       "      <td>고용 알선업</td>\n",
       "      <td>11</td>\n",
       "      <td>650</td>\n",
       "      <td>108</td>\n",
       "      <td>서울특별시 서초구 남부순환로</td>\n",
       "      <td>217024.61</td>\n",
       "      <td>2411384.55</td>\n",
       "      <td>28936614.58</td>\n",
       "    </tr>\n",
       "    <tr>\n",
       "      <th>181</th>\n",
       "      <td>고양시청</td>\n",
       "      <td>2896</td>\n",
       "      <td>1556</td>\n",
       "      <td>200</td>\n",
       "      <td>347474120</td>\n",
       "      <td>701201</td>\n",
       "      <td>비주거용 건물 임대업(점포  자기땅)</td>\n",
       "      <td>41</td>\n",
       "      <td>281</td>\n",
       "      <td>101</td>\n",
       "      <td>경기도 고양시 덕양구 고양시청로</td>\n",
       "      <td>119984.16</td>\n",
       "      <td>1333157.31</td>\n",
       "      <td>15997887.66</td>\n",
       "    </tr>\n",
       "    <tr>\n",
       "      <th>17</th>\n",
       "      <td>국민건강보험공단</td>\n",
       "      <td>16497</td>\n",
       "      <td>1289</td>\n",
       "      <td>181</td>\n",
       "      <td>5998155800</td>\n",
       "      <td>672000</td>\n",
       "      <td>보험 대리 및 중개업</td>\n",
       "      <td>42</td>\n",
       "      <td>130</td>\n",
       "      <td>117</td>\n",
       "      <td>강원도 원주시 삼보로</td>\n",
       "      <td>363590.70</td>\n",
       "      <td>4039896.68</td>\n",
       "      <td>48478760.18</td>\n",
       "    </tr>\n",
       "    <tr>\n",
       "      <th>541</th>\n",
       "      <td>진주시청</td>\n",
       "      <td>1115</td>\n",
       "      <td>1115</td>\n",
       "      <td>156</td>\n",
       "      <td>121491000</td>\n",
       "      <td>701201</td>\n",
       "      <td>비주거용 건물 임대업(점포  자기땅)</td>\n",
       "      <td>48</td>\n",
       "      <td>170</td>\n",
       "      <td>119</td>\n",
       "      <td>경상남도 진주시 동진로</td>\n",
       "      <td>108960.54</td>\n",
       "      <td>1210672.65</td>\n",
       "      <td>14528071.75</td>\n",
       "    </tr>\n",
       "    <tr>\n",
       "      <th>1</th>\n",
       "      <td>현대자동차</td>\n",
       "      <td>68645</td>\n",
       "      <td>936</td>\n",
       "      <td>740</td>\n",
       "      <td>30189521740</td>\n",
       "      <td>341001</td>\n",
       "      <td>화물 자동차 및 특수 목적용 자동차 제조업</td>\n",
       "      <td>11</td>\n",
       "      <td>650</td>\n",
       "      <td>102</td>\n",
       "      <td>서울특별시 서초구 헌릉로</td>\n",
       "      <td>439792.00</td>\n",
       "      <td>4886577.76</td>\n",
       "      <td>58638933.14</td>\n",
       "    </tr>\n",
       "    <tr>\n",
       "      <th>40</th>\n",
       "      <td>엘지이노텍</td>\n",
       "      <td>9040</td>\n",
       "      <td>936</td>\n",
       "      <td>209</td>\n",
       "      <td>3487081680</td>\n",
       "      <td>321000</td>\n",
       "      <td>기타 반도체 소자 제조업</td>\n",
       "      <td>11</td>\n",
       "      <td>500</td>\n",
       "      <td>105</td>\n",
       "      <td>서울특별시 강서구 마곡중앙10로</td>\n",
       "      <td>385739.12</td>\n",
       "      <td>4285990.27</td>\n",
       "      <td>51431883.19</td>\n",
       "    </tr>\n",
       "    <tr>\n",
       "      <th>36</th>\n",
       "      <td>유베이스</td>\n",
       "      <td>10159</td>\n",
       "      <td>788</td>\n",
       "      <td>1040</td>\n",
       "      <td>1836888320</td>\n",
       "      <td>749939</td>\n",
       "      <td>그 외 기타 분류 안된 전문  과학 및 기술 서비스업</td>\n",
       "      <td>11</td>\n",
       "      <td>170</td>\n",
       "      <td>127</td>\n",
       "      <td>서울특별시 용산구 한강대로38길</td>\n",
       "      <td>180813.89</td>\n",
       "      <td>2009043.23</td>\n",
       "      <td>24108518.82</td>\n",
       "    </tr>\n",
       "  </tbody>\n",
       "</table>\n",
       "</div>"
      ],
      "text/plain": [
       "              사업장명   가입자수    신규  ...    인당고지금액       평균월급        평균연봉\n",
       "34   쿠팡풀필먼트서비스유한회사  10442  4541  ...  49497.68  549974.19  6599690.23\n",
       "20              쿠팡  14956  2036  ... 279284.27 3103158.52 37237902.29\n",
       "19   쿠팡풀필먼트서비스유한회사  15376  1851  ... 200850.71 2231674.53 26780094.35\n",
       "53          케이텍맨파워   7437  1677  ... 217024.61 2411384.55 28936614.58\n",
       "181           고양시청   2896  1556  ... 119984.16 1333157.31 15997887.66\n",
       "17        국민건강보험공단  16497  1289  ... 363590.70 4039896.68 48478760.18\n",
       "541           진주시청   1115  1115  ... 108960.54 1210672.65 14528071.75\n",
       "1            현대자동차  68645   936  ... 439792.00 4886577.76 58638933.14\n",
       "40           엘지이노텍   9040   936  ... 385739.12 4285990.27 51431883.19\n",
       "36            유베이스  10159   788  ... 180813.89 2009043.23 24108518.82\n",
       "\n",
       "[10 rows x 14 columns]"
      ]
     },
     "execution_count": 20,
     "metadata": {
      "tags": []
     },
     "output_type": "execute_result"
    }
   ],
   "source": []
  },
  {
   "cell_type": "markdown",
   "metadata": {
    "id": "hpW_-SjIS3gm"
   },
   "source": [
    "**[코드]**"
   ]
  },
  {
   "cell_type": "code",
   "execution_count": null,
   "metadata": {
    "colab": {
     "base_uri": "https://localhost:8080/",
     "height": 348
    },
    "id": "w1T7LL54O2Y8",
    "outputId": "0b5116a5-0bf3-4cc4-a2bf-27576a347de8"
   },
   "outputs": [
    {
     "data": {
      "text/html": [
       "<div>\n",
       "<style scoped>\n",
       "    .dataframe tbody tr th:only-of-type {\n",
       "        vertical-align: middle;\n",
       "    }\n",
       "\n",
       "    .dataframe tbody tr th {\n",
       "        vertical-align: top;\n",
       "    }\n",
       "\n",
       "    .dataframe thead th {\n",
       "        text-align: right;\n",
       "    }\n",
       "</style>\n",
       "<table border=\"1\" class=\"dataframe\">\n",
       "  <thead>\n",
       "    <tr style=\"text-align: right;\">\n",
       "      <th></th>\n",
       "      <th>사업장명</th>\n",
       "      <th>가입자수</th>\n",
       "      <th>신규</th>\n",
       "      <th>상실</th>\n",
       "      <th>고지금액</th>\n",
       "      <th>업종코드</th>\n",
       "      <th>업종코드명</th>\n",
       "      <th>광역시코드</th>\n",
       "      <th>시군구코드</th>\n",
       "      <th>읍면동코드</th>\n",
       "      <th>도로명주소</th>\n",
       "      <th>인당고지금액</th>\n",
       "      <th>평균월급</th>\n",
       "      <th>평균연봉</th>\n",
       "    </tr>\n",
       "  </thead>\n",
       "  <tbody>\n",
       "    <tr>\n",
       "      <th>67828</th>\n",
       "      <td>지로드코리아</td>\n",
       "      <td>20</td>\n",
       "      <td>0</td>\n",
       "      <td>0</td>\n",
       "      <td>5362120</td>\n",
       "      <td>724000</td>\n",
       "      <td>데이터베이스 및 온라인 정보 제공업</td>\n",
       "      <td>11</td>\n",
       "      <td>590</td>\n",
       "      <td>101</td>\n",
       "      <td>서울특별시 동작구 노량진로</td>\n",
       "      <td>268106.00</td>\n",
       "      <td>2978955.56</td>\n",
       "      <td>35747466.67</td>\n",
       "    </tr>\n",
       "    <tr>\n",
       "      <th>84251</th>\n",
       "      <td>도원우드</td>\n",
       "      <td>16</td>\n",
       "      <td>0</td>\n",
       "      <td>0</td>\n",
       "      <td>2410660</td>\n",
       "      <td>361002</td>\n",
       "      <td>기타 목재 가구 제조업</td>\n",
       "      <td>30</td>\n",
       "      <td>230</td>\n",
       "      <td>102</td>\n",
       "      <td>대전광역시 대덕구 대화로32번길</td>\n",
       "      <td>150666.25</td>\n",
       "      <td>1674069.44</td>\n",
       "      <td>20088833.33</td>\n",
       "    </tr>\n",
       "    <tr>\n",
       "      <th>84250</th>\n",
       "      <td>유타스</td>\n",
       "      <td>16</td>\n",
       "      <td>0</td>\n",
       "      <td>0</td>\n",
       "      <td>4875220</td>\n",
       "      <td>999999</td>\n",
       "      <td>BIZ_NO미존재사업장</td>\n",
       "      <td>27</td>\n",
       "      <td>140</td>\n",
       "      <td>121</td>\n",
       "      <td>대구광역시 동구 율암로</td>\n",
       "      <td>304701.25</td>\n",
       "      <td>3385569.44</td>\n",
       "      <td>40626833.33</td>\n",
       "    </tr>\n",
       "    <tr>\n",
       "      <th>84249</th>\n",
       "      <td>우진</td>\n",
       "      <td>16</td>\n",
       "      <td>0</td>\n",
       "      <td>0</td>\n",
       "      <td>2187000</td>\n",
       "      <td>343000</td>\n",
       "      <td>그 외 자동차용 신품 부품 제조업</td>\n",
       "      <td>41</td>\n",
       "      <td>271</td>\n",
       "      <td>106</td>\n",
       "      <td>경기도 안산시 상록구 오리물길</td>\n",
       "      <td>136687.50</td>\n",
       "      <td>1518750.00</td>\n",
       "      <td>18225000.00</td>\n",
       "    </tr>\n",
       "    <tr>\n",
       "      <th>84248</th>\n",
       "      <td>동성ENG</td>\n",
       "      <td>16</td>\n",
       "      <td>0</td>\n",
       "      <td>0</td>\n",
       "      <td>3876500</td>\n",
       "      <td>999999</td>\n",
       "      <td>BIZ_NO미존재사업장</td>\n",
       "      <td>31</td>\n",
       "      <td>710</td>\n",
       "      <td>250</td>\n",
       "      <td>울산광역시 울주군 온산읍 우봉강양로</td>\n",
       "      <td>242281.25</td>\n",
       "      <td>2692013.89</td>\n",
       "      <td>32304166.67</td>\n",
       "    </tr>\n",
       "    <tr>\n",
       "      <th>84247</th>\n",
       "      <td>루미레즈코리아</td>\n",
       "      <td>16</td>\n",
       "      <td>0</td>\n",
       "      <td>0</td>\n",
       "      <td>6690860</td>\n",
       "      <td>523352</td>\n",
       "      <td>전기용품 및 조명장치 소매업</td>\n",
       "      <td>41</td>\n",
       "      <td>135</td>\n",
       "      <td>109</td>\n",
       "      <td>경기도 성남시 분당구 판교역로</td>\n",
       "      <td>418178.75</td>\n",
       "      <td>4646430.56</td>\n",
       "      <td>55757166.67</td>\n",
       "    </tr>\n",
       "    <tr>\n",
       "      <th>84246</th>\n",
       "      <td>석재상사</td>\n",
       "      <td>16</td>\n",
       "      <td>0</td>\n",
       "      <td>0</td>\n",
       "      <td>4766760</td>\n",
       "      <td>512252</td>\n",
       "      <td>주류 도매업</td>\n",
       "      <td>11</td>\n",
       "      <td>320</td>\n",
       "      <td>105</td>\n",
       "      <td></td>\n",
       "      <td>297922.50</td>\n",
       "      <td>3310250.00</td>\n",
       "      <td>39723000.00</td>\n",
       "    </tr>\n",
       "    <tr>\n",
       "      <th>84244</th>\n",
       "      <td>태담</td>\n",
       "      <td>16</td>\n",
       "      <td>0</td>\n",
       "      <td>0</td>\n",
       "      <td>2999520</td>\n",
       "      <td>525200</td>\n",
       "      <td>방문 판매업</td>\n",
       "      <td>41</td>\n",
       "      <td>450</td>\n",
       "      <td>108</td>\n",
       "      <td>경기도 하남시 조정대로</td>\n",
       "      <td>187470.00</td>\n",
       "      <td>2083000.00</td>\n",
       "      <td>24996000.00</td>\n",
       "    </tr>\n",
       "    <tr>\n",
       "      <th>84243</th>\n",
       "      <td>모든해상특종손해사정</td>\n",
       "      <td>16</td>\n",
       "      <td>0</td>\n",
       "      <td>0</td>\n",
       "      <td>6686820</td>\n",
       "      <td>749904</td>\n",
       "      <td>손해 사정업</td>\n",
       "      <td>11</td>\n",
       "      <td>140</td>\n",
       "      <td>166</td>\n",
       "      <td>서울특별시 중구 서소문로</td>\n",
       "      <td>417926.25</td>\n",
       "      <td>4643625.00</td>\n",
       "      <td>55723500.00</td>\n",
       "    </tr>\n",
       "    <tr>\n",
       "      <th>84242</th>\n",
       "      <td>서울프로아트</td>\n",
       "      <td>16</td>\n",
       "      <td>0</td>\n",
       "      <td>2</td>\n",
       "      <td>5055160</td>\n",
       "      <td>999999</td>\n",
       "      <td>BIZ_NO미존재사업장</td>\n",
       "      <td>11</td>\n",
       "      <td>140</td>\n",
       "      <td>138</td>\n",
       "      <td>서울특별시 중구 필동로</td>\n",
       "      <td>315947.50</td>\n",
       "      <td>3510527.78</td>\n",
       "      <td>42126333.33</td>\n",
       "    </tr>\n",
       "  </tbody>\n",
       "</table>\n",
       "</div>"
      ],
      "text/plain": [
       "             사업장명  가입자수  신규  ...    인당고지금액       평균월급        평균연봉\n",
       "67828      지로드코리아    20   0  ... 268106.00 2978955.56 35747466.67\n",
       "84251        도원우드    16   0  ... 150666.25 1674069.44 20088833.33\n",
       "84250         유타스    16   0  ... 304701.25 3385569.44 40626833.33\n",
       "84249          우진    16   0  ... 136687.50 1518750.00 18225000.00\n",
       "84248       동성ENG    16   0  ... 242281.25 2692013.89 32304166.67\n",
       "84247     루미레즈코리아    16   0  ... 418178.75 4646430.56 55757166.67\n",
       "84246        석재상사    16   0  ... 297922.50 3310250.00 39723000.00\n",
       "84244          태담    16   0  ... 187470.00 2083000.00 24996000.00\n",
       "84243  모든해상특종손해사정    16   0  ... 417926.25 4643625.00 55723500.00\n",
       "84242      서울프로아트    16   0  ... 315947.50 3510527.78 42126333.33\n",
       "\n",
       "[10 rows x 14 columns]"
      ]
     },
     "execution_count": 21,
     "metadata": {
      "tags": []
     },
     "output_type": "execute_result"
    }
   ],
   "source": []
  },
  {
   "cell_type": "markdown",
   "metadata": {
    "id": "Xvt7XLueKSV9"
   },
   "source": [
    "### 상실 King!\n",
    "\n",
    "- 상위 10개, 하위 10개 기업을 출력하세요"
   ]
  },
  {
   "cell_type": "markdown",
   "metadata": {
    "id": "sQ7gbyG2S4oY"
   },
   "source": [
    "**[코드]**"
   ]
  },
  {
   "cell_type": "code",
   "execution_count": null,
   "metadata": {
    "colab": {
     "base_uri": "https://localhost:8080/",
     "height": 348
    },
    "id": "GXi7OVZ9KSV9",
    "outputId": "81c8eeb3-8f7e-40cd-9da0-b887d26062b6"
   },
   "outputs": [
    {
     "data": {
      "text/html": [
       "<div>\n",
       "<style scoped>\n",
       "    .dataframe tbody tr th:only-of-type {\n",
       "        vertical-align: middle;\n",
       "    }\n",
       "\n",
       "    .dataframe tbody tr th {\n",
       "        vertical-align: top;\n",
       "    }\n",
       "\n",
       "    .dataframe thead th {\n",
       "        text-align: right;\n",
       "    }\n",
       "</style>\n",
       "<table border=\"1\" class=\"dataframe\">\n",
       "  <thead>\n",
       "    <tr style=\"text-align: right;\">\n",
       "      <th></th>\n",
       "      <th>사업장명</th>\n",
       "      <th>가입자수</th>\n",
       "      <th>신규</th>\n",
       "      <th>상실</th>\n",
       "      <th>고지금액</th>\n",
       "      <th>업종코드</th>\n",
       "      <th>업종코드명</th>\n",
       "      <th>광역시코드</th>\n",
       "      <th>시군구코드</th>\n",
       "      <th>읍면동코드</th>\n",
       "      <th>도로명주소</th>\n",
       "      <th>인당고지금액</th>\n",
       "      <th>평균월급</th>\n",
       "      <th>평균연봉</th>\n",
       "    </tr>\n",
       "  </thead>\n",
       "  <tbody>\n",
       "    <tr>\n",
       "      <th>34</th>\n",
       "      <td>쿠팡풀필먼트서비스유한회사</td>\n",
       "      <td>10442</td>\n",
       "      <td>4541</td>\n",
       "      <td>3709</td>\n",
       "      <td>516854740</td>\n",
       "      <td>630903</td>\n",
       "      <td>화물 포장  검수 및 계량 서비스업</td>\n",
       "      <td>11</td>\n",
       "      <td>710</td>\n",
       "      <td>102</td>\n",
       "      <td>서울특별시 송파구 송파대로</td>\n",
       "      <td>49497.68</td>\n",
       "      <td>549974.19</td>\n",
       "      <td>6599690.23</td>\n",
       "    </tr>\n",
       "    <tr>\n",
       "      <th>244</th>\n",
       "      <td>매그나칩반도체유한회사</td>\n",
       "      <td>2328</td>\n",
       "      <td>8</td>\n",
       "      <td>1454</td>\n",
       "      <td>973043720</td>\n",
       "      <td>321000</td>\n",
       "      <td>기타 반도체 소자 제조업</td>\n",
       "      <td>43</td>\n",
       "      <td>113</td>\n",
       "      <td>137</td>\n",
       "      <td>충청북도 청주시 흥덕구 직지대로307번길</td>\n",
       "      <td>417974.11</td>\n",
       "      <td>4644156.74</td>\n",
       "      <td>55729880.87</td>\n",
       "    </tr>\n",
       "    <tr>\n",
       "      <th>19</th>\n",
       "      <td>쿠팡풀필먼트서비스유한회사</td>\n",
       "      <td>15376</td>\n",
       "      <td>1851</td>\n",
       "      <td>1298</td>\n",
       "      <td>3088280480</td>\n",
       "      <td>630903</td>\n",
       "      <td>화물 포장  검수 및 계량 서비스업</td>\n",
       "      <td>11</td>\n",
       "      <td>710</td>\n",
       "      <td>102</td>\n",
       "      <td>서울특별시 송파구 송파대로</td>\n",
       "      <td>200850.71</td>\n",
       "      <td>2231674.53</td>\n",
       "      <td>26780094.35</td>\n",
       "    </tr>\n",
       "    <tr>\n",
       "      <th>36</th>\n",
       "      <td>유베이스</td>\n",
       "      <td>10159</td>\n",
       "      <td>788</td>\n",
       "      <td>1040</td>\n",
       "      <td>1836888320</td>\n",
       "      <td>749939</td>\n",
       "      <td>그 외 기타 분류 안된 전문  과학 및 기술 서비스업</td>\n",
       "      <td>11</td>\n",
       "      <td>170</td>\n",
       "      <td>127</td>\n",
       "      <td>서울특별시 용산구 한강대로38길</td>\n",
       "      <td>180813.89</td>\n",
       "      <td>2009043.23</td>\n",
       "      <td>24108518.82</td>\n",
       "    </tr>\n",
       "    <tr>\n",
       "      <th>20</th>\n",
       "      <td>쿠팡</td>\n",
       "      <td>14956</td>\n",
       "      <td>2036</td>\n",
       "      <td>893</td>\n",
       "      <td>4176975500</td>\n",
       "      <td>525102</td>\n",
       "      <td>기타 통신 판매업</td>\n",
       "      <td>11</td>\n",
       "      <td>710</td>\n",
       "      <td>102</td>\n",
       "      <td>서울특별시 송파구 송파대로</td>\n",
       "      <td>279284.27</td>\n",
       "      <td>3103158.52</td>\n",
       "      <td>37237902.29</td>\n",
       "    </tr>\n",
       "    <tr>\n",
       "      <th>1</th>\n",
       "      <td>현대자동차</td>\n",
       "      <td>68645</td>\n",
       "      <td>936</td>\n",
       "      <td>740</td>\n",
       "      <td>30189521740</td>\n",
       "      <td>341001</td>\n",
       "      <td>화물 자동차 및 특수 목적용 자동차 제조업</td>\n",
       "      <td>11</td>\n",
       "      <td>650</td>\n",
       "      <td>102</td>\n",
       "      <td>서울특별시 서초구 헌릉로</td>\n",
       "      <td>439792.00</td>\n",
       "      <td>4886577.76</td>\n",
       "      <td>58638933.14</td>\n",
       "    </tr>\n",
       "    <tr>\n",
       "      <th>377</th>\n",
       "      <td>교원</td>\n",
       "      <td>1540</td>\n",
       "      <td>17</td>\n",
       "      <td>703</td>\n",
       "      <td>471365540</td>\n",
       "      <td>523511</td>\n",
       "      <td>서적  신문 및 잡지류 소매업</td>\n",
       "      <td>11</td>\n",
       "      <td>140</td>\n",
       "      <td>105</td>\n",
       "      <td>서울특별시 중구 을지로</td>\n",
       "      <td>306081.52</td>\n",
       "      <td>3400905.77</td>\n",
       "      <td>40810869.26</td>\n",
       "    </tr>\n",
       "    <tr>\n",
       "      <th>4</th>\n",
       "      <td>이마트</td>\n",
       "      <td>27413</td>\n",
       "      <td>390</td>\n",
       "      <td>649</td>\n",
       "      <td>6770816160</td>\n",
       "      <td>521911</td>\n",
       "      <td>기타 대형 종합 소매업</td>\n",
       "      <td>11</td>\n",
       "      <td>200</td>\n",
       "      <td>115</td>\n",
       "      <td>서울특별시 성동구 뚝섬로</td>\n",
       "      <td>246992.89</td>\n",
       "      <td>2744365.47</td>\n",
       "      <td>32932385.66</td>\n",
       "    </tr>\n",
       "    <tr>\n",
       "      <th>51</th>\n",
       "      <td>트랜스코스모스코리아</td>\n",
       "      <td>7713</td>\n",
       "      <td>564</td>\n",
       "      <td>648</td>\n",
       "      <td>1401223060</td>\n",
       "      <td>741300</td>\n",
       "      <td>시장 조사 및 여론 조사업</td>\n",
       "      <td>11</td>\n",
       "      <td>170</td>\n",
       "      <td>112</td>\n",
       "      <td>서울특별시 용산구 원효로90길</td>\n",
       "      <td>181670.30</td>\n",
       "      <td>2018558.94</td>\n",
       "      <td>24222707.29</td>\n",
       "    </tr>\n",
       "    <tr>\n",
       "      <th>125</th>\n",
       "      <td>비케이알</td>\n",
       "      <td>4026</td>\n",
       "      <td>709</td>\n",
       "      <td>646</td>\n",
       "      <td>399592600</td>\n",
       "      <td>552107</td>\n",
       "      <td>치킨 전문점</td>\n",
       "      <td>11</td>\n",
       "      <td>110</td>\n",
       "      <td>124</td>\n",
       "      <td>서울특별시 종로구 삼봉로</td>\n",
       "      <td>99253.01</td>\n",
       "      <td>1102811.17</td>\n",
       "      <td>13233734.06</td>\n",
       "    </tr>\n",
       "  </tbody>\n",
       "</table>\n",
       "</div>"
      ],
      "text/plain": [
       "              사업장명   가입자수    신규  ...    인당고지금액       평균월급        평균연봉\n",
       "34   쿠팡풀필먼트서비스유한회사  10442  4541  ...  49497.68  549974.19  6599690.23\n",
       "244    매그나칩반도체유한회사   2328     8  ... 417974.11 4644156.74 55729880.87\n",
       "19   쿠팡풀필먼트서비스유한회사  15376  1851  ... 200850.71 2231674.53 26780094.35\n",
       "36            유베이스  10159   788  ... 180813.89 2009043.23 24108518.82\n",
       "20              쿠팡  14956  2036  ... 279284.27 3103158.52 37237902.29\n",
       "1            현대자동차  68645   936  ... 439792.00 4886577.76 58638933.14\n",
       "377             교원   1540    17  ... 306081.52 3400905.77 40810869.26\n",
       "4              이마트  27413   390  ... 246992.89 2744365.47 32932385.66\n",
       "51      트랜스코스모스코리아   7713   564  ... 181670.30 2018558.94 24222707.29\n",
       "125           비케이알   4026   709  ...  99253.01 1102811.17 13233734.06\n",
       "\n",
       "[10 rows x 14 columns]"
      ]
     },
     "execution_count": 22,
     "metadata": {
      "tags": []
     },
     "output_type": "execute_result"
    }
   ],
   "source": []
  },
  {
   "cell_type": "markdown",
   "metadata": {
    "id": "X5MwCsBGS5hC"
   },
   "source": [
    "**[코드]**"
   ]
  },
  {
   "cell_type": "code",
   "execution_count": null,
   "metadata": {
    "colab": {
     "base_uri": "https://localhost:8080/",
     "height": 348
    },
    "id": "r3EuoNL_PATz",
    "outputId": "5e7f7125-0da4-4b21-ee82-ec6c7f2dfd56"
   },
   "outputs": [
    {
     "data": {
      "text/html": [
       "<div>\n",
       "<style scoped>\n",
       "    .dataframe tbody tr th:only-of-type {\n",
       "        vertical-align: middle;\n",
       "    }\n",
       "\n",
       "    .dataframe tbody tr th {\n",
       "        vertical-align: top;\n",
       "    }\n",
       "\n",
       "    .dataframe thead th {\n",
       "        text-align: right;\n",
       "    }\n",
       "</style>\n",
       "<table border=\"1\" class=\"dataframe\">\n",
       "  <thead>\n",
       "    <tr style=\"text-align: right;\">\n",
       "      <th></th>\n",
       "      <th>사업장명</th>\n",
       "      <th>가입자수</th>\n",
       "      <th>신규</th>\n",
       "      <th>상실</th>\n",
       "      <th>고지금액</th>\n",
       "      <th>업종코드</th>\n",
       "      <th>업종코드명</th>\n",
       "      <th>광역시코드</th>\n",
       "      <th>시군구코드</th>\n",
       "      <th>읍면동코드</th>\n",
       "      <th>도로명주소</th>\n",
       "      <th>인당고지금액</th>\n",
       "      <th>평균월급</th>\n",
       "      <th>평균연봉</th>\n",
       "    </tr>\n",
       "  </thead>\n",
       "  <tbody>\n",
       "    <tr>\n",
       "      <th>67828</th>\n",
       "      <td>지로드코리아</td>\n",
       "      <td>20</td>\n",
       "      <td>0</td>\n",
       "      <td>0</td>\n",
       "      <td>5362120</td>\n",
       "      <td>724000</td>\n",
       "      <td>데이터베이스 및 온라인 정보 제공업</td>\n",
       "      <td>11</td>\n",
       "      <td>590</td>\n",
       "      <td>101</td>\n",
       "      <td>서울특별시 동작구 노량진로</td>\n",
       "      <td>268106.00</td>\n",
       "      <td>2978955.56</td>\n",
       "      <td>35747466.67</td>\n",
       "    </tr>\n",
       "    <tr>\n",
       "      <th>83717</th>\n",
       "      <td>바른푸드</td>\n",
       "      <td>16</td>\n",
       "      <td>0</td>\n",
       "      <td>0</td>\n",
       "      <td>2420300</td>\n",
       "      <td>151301</td>\n",
       "      <td>김치류 제조업</td>\n",
       "      <td>26</td>\n",
       "      <td>200</td>\n",
       "      <td>120</td>\n",
       "      <td>부산광역시 영도구 벚꽃길5번길</td>\n",
       "      <td>151268.75</td>\n",
       "      <td>1680763.89</td>\n",
       "      <td>20169166.67</td>\n",
       "    </tr>\n",
       "    <tr>\n",
       "      <th>83715</th>\n",
       "      <td>협성부품상사</td>\n",
       "      <td>16</td>\n",
       "      <td>0</td>\n",
       "      <td>0</td>\n",
       "      <td>5366900</td>\n",
       "      <td>503003</td>\n",
       "      <td>자동차 중고 부품 및 내장품 판매업</td>\n",
       "      <td>11</td>\n",
       "      <td>230</td>\n",
       "      <td>105</td>\n",
       "      <td>서울특별시 동대문구 한천로</td>\n",
       "      <td>335431.25</td>\n",
       "      <td>3727013.89</td>\n",
       "      <td>44724166.67</td>\n",
       "    </tr>\n",
       "    <tr>\n",
       "      <th>83713</th>\n",
       "      <td>우리기술</td>\n",
       "      <td>16</td>\n",
       "      <td>1</td>\n",
       "      <td>0</td>\n",
       "      <td>4806420</td>\n",
       "      <td>514361</td>\n",
       "      <td>철물  금속 파스너 및 수공구 도매업</td>\n",
       "      <td>41</td>\n",
       "      <td>610</td>\n",
       "      <td>259</td>\n",
       "      <td>경기도 광주시 곤지암읍 경충대로</td>\n",
       "      <td>300401.25</td>\n",
       "      <td>3337791.67</td>\n",
       "      <td>40053500.00</td>\n",
       "    </tr>\n",
       "    <tr>\n",
       "      <th>83711</th>\n",
       "      <td>선광모터스</td>\n",
       "      <td>16</td>\n",
       "      <td>0</td>\n",
       "      <td>0</td>\n",
       "      <td>5548540</td>\n",
       "      <td>292400</td>\n",
       "      <td>건설 및 채광용 기계장비 제조업</td>\n",
       "      <td>43</td>\n",
       "      <td>112</td>\n",
       "      <td>320</td>\n",
       "      <td>충청북도 청주시 서원구 현도면 선동2길</td>\n",
       "      <td>346783.75</td>\n",
       "      <td>3853152.78</td>\n",
       "      <td>46237833.33</td>\n",
       "    </tr>\n",
       "    <tr>\n",
       "      <th>83710</th>\n",
       "      <td>서룡초등학교</td>\n",
       "      <td>16</td>\n",
       "      <td>0</td>\n",
       "      <td>0</td>\n",
       "      <td>3400240</td>\n",
       "      <td>999999</td>\n",
       "      <td>BIZ_NO미존재사업장</td>\n",
       "      <td>41</td>\n",
       "      <td>461</td>\n",
       "      <td>102</td>\n",
       "      <td>경기도 용인시 처인구 중부대로1281번길</td>\n",
       "      <td>212515.00</td>\n",
       "      <td>2361277.78</td>\n",
       "      <td>28335333.33</td>\n",
       "    </tr>\n",
       "    <tr>\n",
       "      <th>83707</th>\n",
       "      <td>지오뷰</td>\n",
       "      <td>16</td>\n",
       "      <td>0</td>\n",
       "      <td>0</td>\n",
       "      <td>4727180</td>\n",
       "      <td>742104</td>\n",
       "      <td>기타 엔지니어링 서비스업</td>\n",
       "      <td>26</td>\n",
       "      <td>380</td>\n",
       "      <td>103</td>\n",
       "      <td>부산광역시 사하구 하신번영로</td>\n",
       "      <td>295448.75</td>\n",
       "      <td>3282763.89</td>\n",
       "      <td>39393166.67</td>\n",
       "    </tr>\n",
       "    <tr>\n",
       "      <th>83706</th>\n",
       "      <td>티오로직스</td>\n",
       "      <td>16</td>\n",
       "      <td>0</td>\n",
       "      <td>0</td>\n",
       "      <td>3530860</td>\n",
       "      <td>611002</td>\n",
       "      <td>외항 화물 운송업</td>\n",
       "      <td>11</td>\n",
       "      <td>140</td>\n",
       "      <td>165</td>\n",
       "      <td>서울특별시 중구 청계천로</td>\n",
       "      <td>220678.75</td>\n",
       "      <td>2451986.11</td>\n",
       "      <td>29423833.33</td>\n",
       "    </tr>\n",
       "    <tr>\n",
       "      <th>83705</th>\n",
       "      <td>효신로직스</td>\n",
       "      <td>16</td>\n",
       "      <td>1</td>\n",
       "      <td>0</td>\n",
       "      <td>3829120</td>\n",
       "      <td>343000</td>\n",
       "      <td>그 외 자동차용 신품 부품 제조업</td>\n",
       "      <td>47</td>\n",
       "      <td>130</td>\n",
       "      <td>259</td>\n",
       "      <td>경상북도 경주시 외동읍 모화산단길</td>\n",
       "      <td>239320.00</td>\n",
       "      <td>2659111.11</td>\n",
       "      <td>31909333.33</td>\n",
       "    </tr>\n",
       "    <tr>\n",
       "      <th>83703</th>\n",
       "      <td>지에이치유통</td>\n",
       "      <td>16</td>\n",
       "      <td>0</td>\n",
       "      <td>0</td>\n",
       "      <td>4093760</td>\n",
       "      <td>521100</td>\n",
       "      <td>슈퍼마켓</td>\n",
       "      <td>11</td>\n",
       "      <td>380</td>\n",
       "      <td>104</td>\n",
       "      <td>서울특별시 은평구 통일로</td>\n",
       "      <td>255860.00</td>\n",
       "      <td>2842888.89</td>\n",
       "      <td>34114666.67</td>\n",
       "    </tr>\n",
       "  </tbody>\n",
       "</table>\n",
       "</div>"
      ],
      "text/plain": [
       "         사업장명  가입자수  신규  ...    인당고지금액       평균월급        평균연봉\n",
       "67828  지로드코리아    20   0  ... 268106.00 2978955.56 35747466.67\n",
       "83717    바른푸드    16   0  ... 151268.75 1680763.89 20169166.67\n",
       "83715  협성부품상사    16   0  ... 335431.25 3727013.89 44724166.67\n",
       "83713    우리기술    16   1  ... 300401.25 3337791.67 40053500.00\n",
       "83711   선광모터스    16   0  ... 346783.75 3853152.78 46237833.33\n",
       "83710  서룡초등학교    16   0  ... 212515.00 2361277.78 28335333.33\n",
       "83707     지오뷰    16   0  ... 295448.75 3282763.89 39393166.67\n",
       "83706   티오로직스    16   0  ... 220678.75 2451986.11 29423833.33\n",
       "83705   효신로직스    16   1  ... 239320.00 2659111.11 31909333.33\n",
       "83703  지에이치유통    16   0  ... 255860.00 2842888.89 34114666.67\n",
       "\n",
       "[10 rows x 14 columns]"
      ]
     },
     "execution_count": 23,
     "metadata": {
      "tags": []
     },
     "output_type": "execute_result"
    }
   ],
   "source": []
  },
  {
   "cell_type": "markdown",
   "metadata": {
    "id": "nt5iD9mCKSV_"
   },
   "source": [
    "## 순 유입 (신규 - 상실)\n",
    "\n",
    "- 상위 10개, 하위 10개 기업을 출력하세요"
   ]
  },
  {
   "cell_type": "markdown",
   "metadata": {
    "id": "_iaqEGrGS6nd"
   },
   "source": [
    "**[코드]**"
   ]
  },
  {
   "cell_type": "code",
   "execution_count": null,
   "metadata": {
    "id": "jIuPYzbaKSV_"
   },
   "outputs": [],
   "source": [
    "df['순유입'] = "
   ]
  },
  {
   "cell_type": "markdown",
   "metadata": {
    "id": "UpPdJ0vzS73F"
   },
   "source": [
    "**[코드]**"
   ]
  },
  {
   "cell_type": "code",
   "execution_count": null,
   "metadata": {
    "colab": {
     "base_uri": "https://localhost:8080/",
     "height": 348
    },
    "id": "w17cuJHBKSWB",
    "outputId": "4719d9b4-6b2f-4777-a438-42ccdad52247"
   },
   "outputs": [
    {
     "data": {
      "text/html": [
       "<div>\n",
       "<style scoped>\n",
       "    .dataframe tbody tr th:only-of-type {\n",
       "        vertical-align: middle;\n",
       "    }\n",
       "\n",
       "    .dataframe tbody tr th {\n",
       "        vertical-align: top;\n",
       "    }\n",
       "\n",
       "    .dataframe thead th {\n",
       "        text-align: right;\n",
       "    }\n",
       "</style>\n",
       "<table border=\"1\" class=\"dataframe\">\n",
       "  <thead>\n",
       "    <tr style=\"text-align: right;\">\n",
       "      <th></th>\n",
       "      <th>사업장명</th>\n",
       "      <th>가입자수</th>\n",
       "      <th>신규</th>\n",
       "      <th>상실</th>\n",
       "      <th>고지금액</th>\n",
       "      <th>업종코드</th>\n",
       "      <th>업종코드명</th>\n",
       "      <th>광역시코드</th>\n",
       "      <th>시군구코드</th>\n",
       "      <th>읍면동코드</th>\n",
       "      <th>도로명주소</th>\n",
       "      <th>인당고지금액</th>\n",
       "      <th>평균월급</th>\n",
       "      <th>평균연봉</th>\n",
       "      <th>순유입</th>\n",
       "    </tr>\n",
       "  </thead>\n",
       "  <tbody>\n",
       "    <tr>\n",
       "      <th>181</th>\n",
       "      <td>고양시청</td>\n",
       "      <td>2896</td>\n",
       "      <td>1556</td>\n",
       "      <td>200</td>\n",
       "      <td>347474120</td>\n",
       "      <td>701201</td>\n",
       "      <td>비주거용 건물 임대업(점포  자기땅)</td>\n",
       "      <td>41</td>\n",
       "      <td>281</td>\n",
       "      <td>101</td>\n",
       "      <td>경기도 고양시 덕양구 고양시청로</td>\n",
       "      <td>119984.16</td>\n",
       "      <td>1333157.31</td>\n",
       "      <td>15997887.66</td>\n",
       "      <td>1356</td>\n",
       "    </tr>\n",
       "    <tr>\n",
       "      <th>53</th>\n",
       "      <td>케이텍맨파워</td>\n",
       "      <td>7437</td>\n",
       "      <td>1677</td>\n",
       "      <td>470</td>\n",
       "      <td>1614012020</td>\n",
       "      <td>749100</td>\n",
       "      <td>고용 알선업</td>\n",
       "      <td>11</td>\n",
       "      <td>650</td>\n",
       "      <td>108</td>\n",
       "      <td>서울특별시 서초구 남부순환로</td>\n",
       "      <td>217024.61</td>\n",
       "      <td>2411384.55</td>\n",
       "      <td>28936614.58</td>\n",
       "      <td>1207</td>\n",
       "    </tr>\n",
       "    <tr>\n",
       "      <th>20</th>\n",
       "      <td>쿠팡</td>\n",
       "      <td>14956</td>\n",
       "      <td>2036</td>\n",
       "      <td>893</td>\n",
       "      <td>4176975500</td>\n",
       "      <td>525102</td>\n",
       "      <td>기타 통신 판매업</td>\n",
       "      <td>11</td>\n",
       "      <td>710</td>\n",
       "      <td>102</td>\n",
       "      <td>서울특별시 송파구 송파대로</td>\n",
       "      <td>279284.27</td>\n",
       "      <td>3103158.52</td>\n",
       "      <td>37237902.29</td>\n",
       "      <td>1143</td>\n",
       "    </tr>\n",
       "    <tr>\n",
       "      <th>17</th>\n",
       "      <td>국민건강보험공단</td>\n",
       "      <td>16497</td>\n",
       "      <td>1289</td>\n",
       "      <td>181</td>\n",
       "      <td>5998155800</td>\n",
       "      <td>672000</td>\n",
       "      <td>보험 대리 및 중개업</td>\n",
       "      <td>42</td>\n",
       "      <td>130</td>\n",
       "      <td>117</td>\n",
       "      <td>강원도 원주시 삼보로</td>\n",
       "      <td>363590.70</td>\n",
       "      <td>4039896.68</td>\n",
       "      <td>48478760.18</td>\n",
       "      <td>1108</td>\n",
       "    </tr>\n",
       "    <tr>\n",
       "      <th>541</th>\n",
       "      <td>진주시청</td>\n",
       "      <td>1115</td>\n",
       "      <td>1115</td>\n",
       "      <td>156</td>\n",
       "      <td>121491000</td>\n",
       "      <td>701201</td>\n",
       "      <td>비주거용 건물 임대업(점포  자기땅)</td>\n",
       "      <td>48</td>\n",
       "      <td>170</td>\n",
       "      <td>119</td>\n",
       "      <td>경상남도 진주시 동진로</td>\n",
       "      <td>108960.54</td>\n",
       "      <td>1210672.65</td>\n",
       "      <td>14528071.75</td>\n",
       "      <td>959</td>\n",
       "    </tr>\n",
       "    <tr>\n",
       "      <th>34</th>\n",
       "      <td>쿠팡풀필먼트서비스유한회사</td>\n",
       "      <td>10442</td>\n",
       "      <td>4541</td>\n",
       "      <td>3709</td>\n",
       "      <td>516854740</td>\n",
       "      <td>630903</td>\n",
       "      <td>화물 포장  검수 및 계량 서비스업</td>\n",
       "      <td>11</td>\n",
       "      <td>710</td>\n",
       "      <td>102</td>\n",
       "      <td>서울특별시 송파구 송파대로</td>\n",
       "      <td>49497.68</td>\n",
       "      <td>549974.19</td>\n",
       "      <td>6599690.23</td>\n",
       "      <td>832</td>\n",
       "    </tr>\n",
       "    <tr>\n",
       "      <th>40</th>\n",
       "      <td>엘지이노텍</td>\n",
       "      <td>9040</td>\n",
       "      <td>936</td>\n",
       "      <td>209</td>\n",
       "      <td>3487081680</td>\n",
       "      <td>321000</td>\n",
       "      <td>기타 반도체 소자 제조업</td>\n",
       "      <td>11</td>\n",
       "      <td>500</td>\n",
       "      <td>105</td>\n",
       "      <td>서울특별시 강서구 마곡중앙10로</td>\n",
       "      <td>385739.12</td>\n",
       "      <td>4285990.27</td>\n",
       "      <td>51431883.19</td>\n",
       "      <td>727</td>\n",
       "    </tr>\n",
       "    <tr>\n",
       "      <th>12</th>\n",
       "      <td>한국철도공사</td>\n",
       "      <td>17911</td>\n",
       "      <td>748</td>\n",
       "      <td>120</td>\n",
       "      <td>6423294220</td>\n",
       "      <td>601000</td>\n",
       "      <td>도시철도 운송업</td>\n",
       "      <td>30</td>\n",
       "      <td>110</td>\n",
       "      <td>113</td>\n",
       "      <td>대전광역시 동구 중앙로</td>\n",
       "      <td>358622.87</td>\n",
       "      <td>3984698.55</td>\n",
       "      <td>47816382.63</td>\n",
       "      <td>628</td>\n",
       "    </tr>\n",
       "    <tr>\n",
       "      <th>1090</th>\n",
       "      <td>중랑구청일자리창출과</td>\n",
       "      <td>649</td>\n",
       "      <td>649</td>\n",
       "      <td>34</td>\n",
       "      <td>53113320</td>\n",
       "      <td>701201</td>\n",
       "      <td>비주거용 건물 임대업(점포  자기땅)</td>\n",
       "      <td>11</td>\n",
       "      <td>260</td>\n",
       "      <td>106</td>\n",
       "      <td>서울특별시 중랑구 봉화산로</td>\n",
       "      <td>81838.71</td>\n",
       "      <td>909318.95</td>\n",
       "      <td>10911827.43</td>\n",
       "      <td>615</td>\n",
       "    </tr>\n",
       "    <tr>\n",
       "      <th>636</th>\n",
       "      <td>제니엘시스템</td>\n",
       "      <td>986</td>\n",
       "      <td>633</td>\n",
       "      <td>73</td>\n",
       "      <td>40412880</td>\n",
       "      <td>999999</td>\n",
       "      <td>BIZ_NO미존재사업장</td>\n",
       "      <td>11</td>\n",
       "      <td>170</td>\n",
       "      <td>108</td>\n",
       "      <td>서울특별시 용산구 만리재로</td>\n",
       "      <td>40986.69</td>\n",
       "      <td>455407.71</td>\n",
       "      <td>5464892.49</td>\n",
       "      <td>560</td>\n",
       "    </tr>\n",
       "  </tbody>\n",
       "</table>\n",
       "</div>"
      ],
      "text/plain": [
       "               사업장명   가입자수    신규    상실  ...    인당고지금액       평균월급        평균연봉   순유입\n",
       "181            고양시청   2896  1556   200  ... 119984.16 1333157.31 15997887.66  1356\n",
       "53           케이텍맨파워   7437  1677   470  ... 217024.61 2411384.55 28936614.58  1207\n",
       "20               쿠팡  14956  2036   893  ... 279284.27 3103158.52 37237902.29  1143\n",
       "17         국민건강보험공단  16497  1289   181  ... 363590.70 4039896.68 48478760.18  1108\n",
       "541            진주시청   1115  1115   156  ... 108960.54 1210672.65 14528071.75   959\n",
       "34    쿠팡풀필먼트서비스유한회사  10442  4541  3709  ...  49497.68  549974.19  6599690.23   832\n",
       "40            엘지이노텍   9040   936   209  ... 385739.12 4285990.27 51431883.19   727\n",
       "12           한국철도공사  17911   748   120  ... 358622.87 3984698.55 47816382.63   628\n",
       "1090     중랑구청일자리창출과    649   649    34  ...  81838.71  909318.95 10911827.43   615\n",
       "636          제니엘시스템    986   633    73  ...  40986.69  455407.71  5464892.49   560\n",
       "\n",
       "[10 rows x 15 columns]"
      ]
     },
     "execution_count": 25,
     "metadata": {
      "tags": []
     },
     "output_type": "execute_result"
    }
   ],
   "source": []
  },
  {
   "cell_type": "markdown",
   "metadata": {
    "id": "zPZqiABjS9Mi"
   },
   "source": [
    "**[코드]**"
   ]
  },
  {
   "cell_type": "code",
   "execution_count": null,
   "metadata": {
    "colab": {
     "base_uri": "https://localhost:8080/",
     "height": 348
    },
    "id": "8ncUjfJpPet6",
    "outputId": "53d90a3e-e9d2-4086-a61c-1e395f428017"
   },
   "outputs": [
    {
     "data": {
      "text/html": [
       "<div>\n",
       "<style scoped>\n",
       "    .dataframe tbody tr th:only-of-type {\n",
       "        vertical-align: middle;\n",
       "    }\n",
       "\n",
       "    .dataframe tbody tr th {\n",
       "        vertical-align: top;\n",
       "    }\n",
       "\n",
       "    .dataframe thead th {\n",
       "        text-align: right;\n",
       "    }\n",
       "</style>\n",
       "<table border=\"1\" class=\"dataframe\">\n",
       "  <thead>\n",
       "    <tr style=\"text-align: right;\">\n",
       "      <th></th>\n",
       "      <th>사업장명</th>\n",
       "      <th>가입자수</th>\n",
       "      <th>신규</th>\n",
       "      <th>상실</th>\n",
       "      <th>고지금액</th>\n",
       "      <th>업종코드</th>\n",
       "      <th>업종코드명</th>\n",
       "      <th>광역시코드</th>\n",
       "      <th>시군구코드</th>\n",
       "      <th>읍면동코드</th>\n",
       "      <th>도로명주소</th>\n",
       "      <th>인당고지금액</th>\n",
       "      <th>평균월급</th>\n",
       "      <th>평균연봉</th>\n",
       "      <th>순유입</th>\n",
       "    </tr>\n",
       "  </thead>\n",
       "  <tbody>\n",
       "    <tr>\n",
       "      <th>244</th>\n",
       "      <td>매그나칩반도체유한회사</td>\n",
       "      <td>2328</td>\n",
       "      <td>8</td>\n",
       "      <td>1454</td>\n",
       "      <td>973043720</td>\n",
       "      <td>321000</td>\n",
       "      <td>기타 반도체 소자 제조업</td>\n",
       "      <td>43</td>\n",
       "      <td>113</td>\n",
       "      <td>137</td>\n",
       "      <td>충청북도 청주시 흥덕구 직지대로307번길</td>\n",
       "      <td>417974.11</td>\n",
       "      <td>4644156.74</td>\n",
       "      <td>55729880.87</td>\n",
       "      <td>-1446</td>\n",
       "    </tr>\n",
       "    <tr>\n",
       "      <th>377</th>\n",
       "      <td>교원</td>\n",
       "      <td>1540</td>\n",
       "      <td>17</td>\n",
       "      <td>703</td>\n",
       "      <td>471365540</td>\n",
       "      <td>523511</td>\n",
       "      <td>서적  신문 및 잡지류 소매업</td>\n",
       "      <td>11</td>\n",
       "      <td>140</td>\n",
       "      <td>105</td>\n",
       "      <td>서울특별시 중구 을지로</td>\n",
       "      <td>306081.52</td>\n",
       "      <td>3400905.77</td>\n",
       "      <td>40810869.26</td>\n",
       "      <td>-686</td>\n",
       "    </tr>\n",
       "    <tr>\n",
       "      <th>634</th>\n",
       "      <td>연세대학교</td>\n",
       "      <td>987</td>\n",
       "      <td>25</td>\n",
       "      <td>557</td>\n",
       "      <td>143161740</td>\n",
       "      <td>851101</td>\n",
       "      <td>요양병원</td>\n",
       "      <td>11</td>\n",
       "      <td>410</td>\n",
       "      <td>114</td>\n",
       "      <td>서울특별시 서대문구 연세로</td>\n",
       "      <td>145047.36</td>\n",
       "      <td>1611637.28</td>\n",
       "      <td>19339647.42</td>\n",
       "      <td>-532</td>\n",
       "    </tr>\n",
       "    <tr>\n",
       "      <th>788</th>\n",
       "      <td>전남대학교</td>\n",
       "      <td>835</td>\n",
       "      <td>12</td>\n",
       "      <td>450</td>\n",
       "      <td>183356360</td>\n",
       "      <td>701201</td>\n",
       "      <td>비주거용 건물 임대업(점포  자기땅)</td>\n",
       "      <td>29</td>\n",
       "      <td>170</td>\n",
       "      <td>107</td>\n",
       "      <td>광주광역시 북구 용봉로</td>\n",
       "      <td>219588.46</td>\n",
       "      <td>2439871.72</td>\n",
       "      <td>29278460.68</td>\n",
       "      <td>-438</td>\n",
       "    </tr>\n",
       "    <tr>\n",
       "      <th>369</th>\n",
       "      <td>삼성전자서비스씨에스</td>\n",
       "      <td>1568</td>\n",
       "      <td>3</td>\n",
       "      <td>433</td>\n",
       "      <td>395941540</td>\n",
       "      <td>749921</td>\n",
       "      <td>그 외 기타 분류 안된 사업 지원 서비스업</td>\n",
       "      <td>41</td>\n",
       "      <td>117</td>\n",
       "      <td>101</td>\n",
       "      <td>경기도 수원시 영통구 중부대로</td>\n",
       "      <td>252513.74</td>\n",
       "      <td>2805708.19</td>\n",
       "      <td>33668498.30</td>\n",
       "      <td>-430</td>\n",
       "    </tr>\n",
       "    <tr>\n",
       "      <th>1482</th>\n",
       "      <td>티맥스에이앤씨</td>\n",
       "      <td>499</td>\n",
       "      <td>6</td>\n",
       "      <td>385</td>\n",
       "      <td>192374440</td>\n",
       "      <td>722000</td>\n",
       "      <td>응용 소프트웨어 개발 및 공급업</td>\n",
       "      <td>41</td>\n",
       "      <td>135</td>\n",
       "      <td>102</td>\n",
       "      <td>경기도 성남시 분당구 황새울로258번길</td>\n",
       "      <td>385519.92</td>\n",
       "      <td>4283554.66</td>\n",
       "      <td>51402655.98</td>\n",
       "      <td>-379</td>\n",
       "    </tr>\n",
       "    <tr>\n",
       "      <th>1608</th>\n",
       "      <td>노랑풍선</td>\n",
       "      <td>466</td>\n",
       "      <td>1</td>\n",
       "      <td>379</td>\n",
       "      <td>119269620</td>\n",
       "      <td>630600</td>\n",
       "      <td>여행사업</td>\n",
       "      <td>11</td>\n",
       "      <td>140</td>\n",
       "      <td>161</td>\n",
       "      <td>서울특별시 중구 수표로</td>\n",
       "      <td>255943.39</td>\n",
       "      <td>2843815.45</td>\n",
       "      <td>34125785.41</td>\n",
       "      <td>-378</td>\n",
       "    </tr>\n",
       "    <tr>\n",
       "      <th>2154</th>\n",
       "      <td>야마토코리아홀딩스</td>\n",
       "      <td>363</td>\n",
       "      <td>0</td>\n",
       "      <td>361</td>\n",
       "      <td>154730160</td>\n",
       "      <td>271102</td>\n",
       "      <td>제강업</td>\n",
       "      <td>26</td>\n",
       "      <td>440</td>\n",
       "      <td>104</td>\n",
       "      <td>부산광역시 강서구 명지국제2로28번길</td>\n",
       "      <td>426253.88</td>\n",
       "      <td>4736154.27</td>\n",
       "      <td>56833851.24</td>\n",
       "      <td>-361</td>\n",
       "    </tr>\n",
       "    <tr>\n",
       "      <th>1957</th>\n",
       "      <td>충남대학교시간강사</td>\n",
       "      <td>394</td>\n",
       "      <td>0</td>\n",
       "      <td>336</td>\n",
       "      <td>58507560</td>\n",
       "      <td>701201</td>\n",
       "      <td>비주거용 건물 임대업(점포  자기땅)</td>\n",
       "      <td>30</td>\n",
       "      <td>200</td>\n",
       "      <td>122</td>\n",
       "      <td>대전광역시 유성구 대학로</td>\n",
       "      <td>148496.35</td>\n",
       "      <td>1649959.39</td>\n",
       "      <td>19799512.69</td>\n",
       "      <td>-336</td>\n",
       "    </tr>\n",
       "    <tr>\n",
       "      <th>178</th>\n",
       "      <td>에프알엘코리아</td>\n",
       "      <td>2948</td>\n",
       "      <td>90</td>\n",
       "      <td>419</td>\n",
       "      <td>613417940</td>\n",
       "      <td>513121</td>\n",
       "      <td>남녀용 겉옷 및 셔츠 도매업</td>\n",
       "      <td>11</td>\n",
       "      <td>710</td>\n",
       "      <td>102</td>\n",
       "      <td>서울특별시 송파구 올림픽로</td>\n",
       "      <td>208079.36</td>\n",
       "      <td>2311992.84</td>\n",
       "      <td>27743914.07</td>\n",
       "      <td>-329</td>\n",
       "    </tr>\n",
       "  </tbody>\n",
       "</table>\n",
       "</div>"
      ],
      "text/plain": [
       "             사업장명  가입자수  신규    상실  ...    인당고지금액       평균월급        평균연봉   순유입\n",
       "244   매그나칩반도체유한회사  2328   8  1454  ... 417974.11 4644156.74 55729880.87 -1446\n",
       "377            교원  1540  17   703  ... 306081.52 3400905.77 40810869.26  -686\n",
       "634         연세대학교   987  25   557  ... 145047.36 1611637.28 19339647.42  -532\n",
       "788         전남대학교   835  12   450  ... 219588.46 2439871.72 29278460.68  -438\n",
       "369    삼성전자서비스씨에스  1568   3   433  ... 252513.74 2805708.19 33668498.30  -430\n",
       "1482      티맥스에이앤씨   499   6   385  ... 385519.92 4283554.66 51402655.98  -379\n",
       "1608         노랑풍선   466   1   379  ... 255943.39 2843815.45 34125785.41  -378\n",
       "2154    야마토코리아홀딩스   363   0   361  ... 426253.88 4736154.27 56833851.24  -361\n",
       "1957    충남대학교시간강사   394   0   336  ... 148496.35 1649959.39 19799512.69  -336\n",
       "178       에프알엘코리아  2948  90   419  ... 208079.36 2311992.84 27743914.07  -329\n",
       "\n",
       "[10 rows x 15 columns]"
      ]
     },
     "execution_count": 26,
     "metadata": {
      "tags": []
     },
     "output_type": "execute_result"
    }
   ],
   "source": []
  },
  {
   "cell_type": "markdown",
   "metadata": {
    "id": "QcxhI_h2QiUc"
   },
   "source": [
    "## 조건 필터링"
   ]
  },
  {
   "cell_type": "markdown",
   "metadata": {
    "id": "bJVh5QBGR3EB"
   },
   "source": [
    "```\n",
    "다음의 조건에 맞는 기업 10개를 출력하세요\n",
    "- 시군구코드 == 140\n",
    "- 평균월급 300만원 이상\n",
    "- 가입자수 내림차순 정렬\n",
    "```"
   ]
  },
  {
   "cell_type": "markdown",
   "metadata": {
    "id": "-ue2cuFlS-qq"
   },
   "source": [
    "**[코드]**"
   ]
  },
  {
   "cell_type": "code",
   "execution_count": null,
   "metadata": {
    "colab": {
     "base_uri": "https://localhost:8080/",
     "height": 348
    },
    "id": "7QXPrpBVQkDr",
    "outputId": "9da0d3fd-8dab-44f5-c759-1f9c872a1ea0"
   },
   "outputs": [
    {
     "data": {
      "text/html": [
       "<div>\n",
       "<style scoped>\n",
       "    .dataframe tbody tr th:only-of-type {\n",
       "        vertical-align: middle;\n",
       "    }\n",
       "\n",
       "    .dataframe tbody tr th {\n",
       "        vertical-align: top;\n",
       "    }\n",
       "\n",
       "    .dataframe thead th {\n",
       "        text-align: right;\n",
       "    }\n",
       "</style>\n",
       "<table border=\"1\" class=\"dataframe\">\n",
       "  <thead>\n",
       "    <tr style=\"text-align: right;\">\n",
       "      <th></th>\n",
       "      <th>사업장명</th>\n",
       "      <th>가입자수</th>\n",
       "      <th>신규</th>\n",
       "      <th>상실</th>\n",
       "      <th>고지금액</th>\n",
       "      <th>업종코드</th>\n",
       "      <th>업종코드명</th>\n",
       "      <th>광역시코드</th>\n",
       "      <th>시군구코드</th>\n",
       "      <th>읍면동코드</th>\n",
       "      <th>도로명주소</th>\n",
       "      <th>인당고지금액</th>\n",
       "      <th>평균월급</th>\n",
       "      <th>평균연봉</th>\n",
       "      <th>순유입</th>\n",
       "    </tr>\n",
       "  </thead>\n",
       "  <tbody>\n",
       "    <tr>\n",
       "      <th>16</th>\n",
       "      <td>농협은행</td>\n",
       "      <td>16878</td>\n",
       "      <td>121</td>\n",
       "      <td>88</td>\n",
       "      <td>6834230400</td>\n",
       "      <td>659201</td>\n",
       "      <td>국내은행</td>\n",
       "      <td>11</td>\n",
       "      <td>140</td>\n",
       "      <td>170</td>\n",
       "      <td>서울특별시 중구 통일로</td>\n",
       "      <td>404919.45</td>\n",
       "      <td>4499104.95</td>\n",
       "      <td>53989259.39</td>\n",
       "      <td>33</td>\n",
       "    </tr>\n",
       "    <tr>\n",
       "      <th>21</th>\n",
       "      <td>우리은행</td>\n",
       "      <td>14156</td>\n",
       "      <td>118</td>\n",
       "      <td>96</td>\n",
       "      <td>5959599100</td>\n",
       "      <td>659201</td>\n",
       "      <td>국내은행</td>\n",
       "      <td>11</td>\n",
       "      <td>140</td>\n",
       "      <td>121</td>\n",
       "      <td>서울특별시 중구 소공로</td>\n",
       "      <td>420994.57</td>\n",
       "      <td>4677717.42</td>\n",
       "      <td>56132609.02</td>\n",
       "      <td>22</td>\n",
       "    </tr>\n",
       "    <tr>\n",
       "      <th>22</th>\n",
       "      <td>신한은행</td>\n",
       "      <td>13558</td>\n",
       "      <td>174</td>\n",
       "      <td>48</td>\n",
       "      <td>5690248340</td>\n",
       "      <td>659201</td>\n",
       "      <td>국내은행</td>\n",
       "      <td>11</td>\n",
       "      <td>140</td>\n",
       "      <td>114</td>\n",
       "      <td>서울특별시 중구 세종대로9길</td>\n",
       "      <td>419696.74</td>\n",
       "      <td>4663297.06</td>\n",
       "      <td>55959564.73</td>\n",
       "      <td>126</td>\n",
       "    </tr>\n",
       "    <tr>\n",
       "      <th>24</th>\n",
       "      <td>중소기업은행</td>\n",
       "      <td>12774</td>\n",
       "      <td>331</td>\n",
       "      <td>302</td>\n",
       "      <td>5299048540</td>\n",
       "      <td>659201</td>\n",
       "      <td>국내은행</td>\n",
       "      <td>11</td>\n",
       "      <td>140</td>\n",
       "      <td>105</td>\n",
       "      <td>서울특별시 중구 을지로</td>\n",
       "      <td>414830.79</td>\n",
       "      <td>4609231.02</td>\n",
       "      <td>55310772.30</td>\n",
       "      <td>29</td>\n",
       "    </tr>\n",
       "    <tr>\n",
       "      <th>29</th>\n",
       "      <td>하나은행</td>\n",
       "      <td>12234</td>\n",
       "      <td>97</td>\n",
       "      <td>151</td>\n",
       "      <td>5299358260</td>\n",
       "      <td>659201</td>\n",
       "      <td>국내은행</td>\n",
       "      <td>11</td>\n",
       "      <td>140</td>\n",
       "      <td>104</td>\n",
       "      <td>서울특별시 중구 을지로</td>\n",
       "      <td>433166.44</td>\n",
       "      <td>4812960.47</td>\n",
       "      <td>57755525.69</td>\n",
       "      <td>-54</td>\n",
       "    </tr>\n",
       "    <tr>\n",
       "      <th>49</th>\n",
       "      <td>씨제이제일제당</td>\n",
       "      <td>7792</td>\n",
       "      <td>229</td>\n",
       "      <td>311</td>\n",
       "      <td>2730600020</td>\n",
       "      <td>154200</td>\n",
       "      <td>설탕 제조업</td>\n",
       "      <td>11</td>\n",
       "      <td>140</td>\n",
       "      <td>147</td>\n",
       "      <td>서울특별시 중구 동호로</td>\n",
       "      <td>350436.35</td>\n",
       "      <td>3893737.19</td>\n",
       "      <td>46724846.34</td>\n",
       "      <td>-82</td>\n",
       "    </tr>\n",
       "    <tr>\n",
       "      <th>56</th>\n",
       "      <td>기아자동차광주공장</td>\n",
       "      <td>7079</td>\n",
       "      <td>47</td>\n",
       "      <td>15</td>\n",
       "      <td>3189988560</td>\n",
       "      <td>341001</td>\n",
       "      <td>화물 자동차 및 특수 목적용 자동차 제조업</td>\n",
       "      <td>29</td>\n",
       "      <td>140</td>\n",
       "      <td>121</td>\n",
       "      <td>광주광역시 서구 화운로</td>\n",
       "      <td>450627.00</td>\n",
       "      <td>5006966.71</td>\n",
       "      <td>60083600.51</td>\n",
       "      <td>32</td>\n",
       "    </tr>\n",
       "    <tr>\n",
       "      <th>59</th>\n",
       "      <td>에스원</td>\n",
       "      <td>6675</td>\n",
       "      <td>18</td>\n",
       "      <td>37</td>\n",
       "      <td>2717108920</td>\n",
       "      <td>319001</td>\n",
       "      <td>운송장비용 조명장치 제조업</td>\n",
       "      <td>11</td>\n",
       "      <td>140</td>\n",
       "      <td>168</td>\n",
       "      <td></td>\n",
       "      <td>407057.52</td>\n",
       "      <td>4522861.29</td>\n",
       "      <td>54274335.48</td>\n",
       "      <td>-19</td>\n",
       "    </tr>\n",
       "    <tr>\n",
       "      <th>82</th>\n",
       "      <td>에스케이텔레콤</td>\n",
       "      <td>5435</td>\n",
       "      <td>25</td>\n",
       "      <td>31</td>\n",
       "      <td>2395914420</td>\n",
       "      <td>642001</td>\n",
       "      <td>무선 및 위성 통신업</td>\n",
       "      <td>11</td>\n",
       "      <td>140</td>\n",
       "      <td>105</td>\n",
       "      <td>서울특별시 중구 을지로</td>\n",
       "      <td>440830.62</td>\n",
       "      <td>4898118.00</td>\n",
       "      <td>58777416.01</td>\n",
       "      <td>-6</td>\n",
       "    </tr>\n",
       "    <tr>\n",
       "      <th>84</th>\n",
       "      <td>롯데쇼핑</td>\n",
       "      <td>5419</td>\n",
       "      <td>136</td>\n",
       "      <td>154</td>\n",
       "      <td>1882609780</td>\n",
       "      <td>521910</td>\n",
       "      <td>백화점</td>\n",
       "      <td>11</td>\n",
       "      <td>140</td>\n",
       "      <td>111</td>\n",
       "      <td>서울특별시 중구 남대문로</td>\n",
       "      <td>347409.08</td>\n",
       "      <td>3860100.84</td>\n",
       "      <td>46321210.06</td>\n",
       "      <td>-18</td>\n",
       "    </tr>\n",
       "  </tbody>\n",
       "</table>\n",
       "</div>"
      ],
      "text/plain": [
       "         사업장명   가입자수   신규   상실  ...    인당고지금액       평균월급        평균연봉  순유입\n",
       "16       농협은행  16878  121   88  ... 404919.45 4499104.95 53989259.39   33\n",
       "21       우리은행  14156  118   96  ... 420994.57 4677717.42 56132609.02   22\n",
       "22       신한은행  13558  174   48  ... 419696.74 4663297.06 55959564.73  126\n",
       "24     중소기업은행  12774  331  302  ... 414830.79 4609231.02 55310772.30   29\n",
       "29       하나은행  12234   97  151  ... 433166.44 4812960.47 57755525.69  -54\n",
       "49    씨제이제일제당   7792  229  311  ... 350436.35 3893737.19 46724846.34  -82\n",
       "56  기아자동차광주공장   7079   47   15  ... 450627.00 5006966.71 60083600.51   32\n",
       "59        에스원   6675   18   37  ... 407057.52 4522861.29 54274335.48  -19\n",
       "82    에스케이텔레콤   5435   25   31  ... 440830.62 4898118.00 58777416.01   -6\n",
       "84       롯데쇼핑   5419  136  154  ... 347409.08 3860100.84 46321210.06  -18\n",
       "\n",
       "[10 rows x 15 columns]"
      ]
     },
     "execution_count": 27,
     "metadata": {
      "tags": []
     },
     "output_type": "execute_result"
    }
   ],
   "source": []
  },
  {
   "cell_type": "markdown",
   "metadata": {
    "id": "F98KeEVbKSWC"
   },
   "source": [
    "## 중견기업\n",
    "\n",
    "- **사원수(가입자수) 1000명 이상**인 기업 필터링\n",
    "- 가입자수 0명 혹은 NaN 제외\n",
    "- big 변수에 담아주세요"
   ]
  },
  {
   "cell_type": "markdown",
   "metadata": {
    "id": "AD0yguFLTAlu"
   },
   "source": [
    "**[코드]**"
   ]
  },
  {
   "cell_type": "code",
   "execution_count": null,
   "metadata": {
    "id": "OuEBZZKHKSWD"
   },
   "outputs": [],
   "source": [
    "people_limit = 1000"
   ]
  },
  {
   "cell_type": "code",
   "execution_count": null,
   "metadata": {
    "id": "2UwKTwttKSWF"
   },
   "outputs": [],
   "source": [
    "big = "
   ]
  },
  {
   "cell_type": "markdown",
   "metadata": {
    "id": "IwUaG31NPuVX"
   },
   "source": [
    "``` \n",
    "가입자 순으로 상위 10개 기업을 출력하세요\n",
    "```"
   ]
  },
  {
   "cell_type": "markdown",
   "metadata": {
    "id": "JE3GFDDqTGkH"
   },
   "source": [
    "**[코드]**"
   ]
  },
  {
   "cell_type": "code",
   "execution_count": null,
   "metadata": {
    "colab": {
     "base_uri": "https://localhost:8080/",
     "height": 348
    },
    "id": "pdTEJQ7gKSWL",
    "outputId": "e0e21743-a602-4b8e-898e-8394fab1c08c"
   },
   "outputs": [
    {
     "data": {
      "text/html": [
       "<div>\n",
       "<style scoped>\n",
       "    .dataframe tbody tr th:only-of-type {\n",
       "        vertical-align: middle;\n",
       "    }\n",
       "\n",
       "    .dataframe tbody tr th {\n",
       "        vertical-align: top;\n",
       "    }\n",
       "\n",
       "    .dataframe thead th {\n",
       "        text-align: right;\n",
       "    }\n",
       "</style>\n",
       "<table border=\"1\" class=\"dataframe\">\n",
       "  <thead>\n",
       "    <tr style=\"text-align: right;\">\n",
       "      <th></th>\n",
       "      <th>사업장명</th>\n",
       "      <th>가입자수</th>\n",
       "      <th>신규</th>\n",
       "      <th>상실</th>\n",
       "      <th>고지금액</th>\n",
       "      <th>업종코드</th>\n",
       "      <th>업종코드명</th>\n",
       "      <th>광역시코드</th>\n",
       "      <th>시군구코드</th>\n",
       "      <th>읍면동코드</th>\n",
       "      <th>도로명주소</th>\n",
       "      <th>인당고지금액</th>\n",
       "      <th>평균월급</th>\n",
       "      <th>평균연봉</th>\n",
       "      <th>순유입</th>\n",
       "    </tr>\n",
       "  </thead>\n",
       "  <tbody>\n",
       "    <tr>\n",
       "      <th>0</th>\n",
       "      <td>삼성전자</td>\n",
       "      <td>102981</td>\n",
       "      <td>380</td>\n",
       "      <td>423</td>\n",
       "      <td>45766021520</td>\n",
       "      <td>323001</td>\n",
       "      <td>비디오 및 기타 영상 기기 제조업</td>\n",
       "      <td>41</td>\n",
       "      <td>117</td>\n",
       "      <td>101</td>\n",
       "      <td>경기도 수원시 영통구 삼성로</td>\n",
       "      <td>444412.28</td>\n",
       "      <td>4937914.28</td>\n",
       "      <td>59254971.33</td>\n",
       "      <td>-43</td>\n",
       "    </tr>\n",
       "    <tr>\n",
       "      <th>1</th>\n",
       "      <td>현대자동차</td>\n",
       "      <td>68645</td>\n",
       "      <td>936</td>\n",
       "      <td>740</td>\n",
       "      <td>30189521740</td>\n",
       "      <td>341001</td>\n",
       "      <td>화물 자동차 및 특수 목적용 자동차 제조업</td>\n",
       "      <td>11</td>\n",
       "      <td>650</td>\n",
       "      <td>102</td>\n",
       "      <td>서울특별시 서초구 헌릉로</td>\n",
       "      <td>439792.00</td>\n",
       "      <td>4886577.76</td>\n",
       "      <td>58638933.14</td>\n",
       "      <td>196</td>\n",
       "    </tr>\n",
       "    <tr>\n",
       "      <th>2</th>\n",
       "      <td>엘지전자</td>\n",
       "      <td>40385</td>\n",
       "      <td>565</td>\n",
       "      <td>404</td>\n",
       "      <td>17482513180</td>\n",
       "      <td>293001</td>\n",
       "      <td>주방용 전기 기기 제조업</td>\n",
       "      <td>11</td>\n",
       "      <td>560</td>\n",
       "      <td>110</td>\n",
       "      <td>서울특별시 영등포구 여의대로</td>\n",
       "      <td>432896.20</td>\n",
       "      <td>4809957.82</td>\n",
       "      <td>57719493.81</td>\n",
       "      <td>161</td>\n",
       "    </tr>\n",
       "    <tr>\n",
       "      <th>3</th>\n",
       "      <td>에스케이하이닉스</td>\n",
       "      <td>28314</td>\n",
       "      <td>626</td>\n",
       "      <td>342</td>\n",
       "      <td>12453248240</td>\n",
       "      <td>300100</td>\n",
       "      <td>컴퓨터 제조업</td>\n",
       "      <td>41</td>\n",
       "      <td>500</td>\n",
       "      <td>253</td>\n",
       "      <td>경기도 이천시 부발읍 경충대로</td>\n",
       "      <td>439826.53</td>\n",
       "      <td>4886961.39</td>\n",
       "      <td>58643536.72</td>\n",
       "      <td>284</td>\n",
       "    </tr>\n",
       "    <tr>\n",
       "      <th>4</th>\n",
       "      <td>이마트</td>\n",
       "      <td>27413</td>\n",
       "      <td>390</td>\n",
       "      <td>649</td>\n",
       "      <td>6770816160</td>\n",
       "      <td>521911</td>\n",
       "      <td>기타 대형 종합 소매업</td>\n",
       "      <td>11</td>\n",
       "      <td>200</td>\n",
       "      <td>115</td>\n",
       "      <td>서울특별시 성동구 뚝섬로</td>\n",
       "      <td>246992.89</td>\n",
       "      <td>2744365.47</td>\n",
       "      <td>32932385.66</td>\n",
       "      <td>-259</td>\n",
       "    </tr>\n",
       "    <tr>\n",
       "      <th>5</th>\n",
       "      <td>엘지디스플레이</td>\n",
       "      <td>26668</td>\n",
       "      <td>82</td>\n",
       "      <td>141</td>\n",
       "      <td>11137790660</td>\n",
       "      <td>321000</td>\n",
       "      <td>기타 반도체 소자 제조업</td>\n",
       "      <td>11</td>\n",
       "      <td>560</td>\n",
       "      <td>110</td>\n",
       "      <td>서울특별시 영등포구 여의대로</td>\n",
       "      <td>417646.27</td>\n",
       "      <td>4640514.08</td>\n",
       "      <td>55686168.99</td>\n",
       "      <td>-59</td>\n",
       "    </tr>\n",
       "    <tr>\n",
       "      <th>6</th>\n",
       "      <td>삼성디스플레이</td>\n",
       "      <td>23143</td>\n",
       "      <td>79</td>\n",
       "      <td>357</td>\n",
       "      <td>10172123300</td>\n",
       "      <td>323001</td>\n",
       "      <td>비디오 및 기타 영상 기기 제조업</td>\n",
       "      <td>41</td>\n",
       "      <td>463</td>\n",
       "      <td>109</td>\n",
       "      <td>경기도 용인시 기흥구 삼성로</td>\n",
       "      <td>439533.48</td>\n",
       "      <td>4883705.32</td>\n",
       "      <td>58604463.84</td>\n",
       "      <td>-278</td>\n",
       "    </tr>\n",
       "    <tr>\n",
       "      <th>7</th>\n",
       "      <td>케이티</td>\n",
       "      <td>22495</td>\n",
       "      <td>44</td>\n",
       "      <td>115</td>\n",
       "      <td>9944891340</td>\n",
       "      <td>642001</td>\n",
       "      <td>무선 및 위성 통신업</td>\n",
       "      <td>41</td>\n",
       "      <td>135</td>\n",
       "      <td>103</td>\n",
       "      <td>경기도 성남시 분당구 불정로</td>\n",
       "      <td>442093.41</td>\n",
       "      <td>4912149.04</td>\n",
       "      <td>58945788.49</td>\n",
       "      <td>-71</td>\n",
       "    </tr>\n",
       "    <tr>\n",
       "      <th>8</th>\n",
       "      <td>한국전력공사</td>\n",
       "      <td>22426</td>\n",
       "      <td>19</td>\n",
       "      <td>63</td>\n",
       "      <td>9351932300</td>\n",
       "      <td>401000</td>\n",
       "      <td>태양력 발전업</td>\n",
       "      <td>46</td>\n",
       "      <td>170</td>\n",
       "      <td>134</td>\n",
       "      <td>전라남도 나주시 전력로</td>\n",
       "      <td>417012.94</td>\n",
       "      <td>4633477.16</td>\n",
       "      <td>55601725.97</td>\n",
       "      <td>-44</td>\n",
       "    </tr>\n",
       "    <tr>\n",
       "      <th>9</th>\n",
       "      <td>홈플러스</td>\n",
       "      <td>21199</td>\n",
       "      <td>98</td>\n",
       "      <td>183</td>\n",
       "      <td>4839358280</td>\n",
       "      <td>522071</td>\n",
       "      <td>기타 음ㆍ식료품 위주 종합 소매업</td>\n",
       "      <td>11</td>\n",
       "      <td>500</td>\n",
       "      <td>102</td>\n",
       "      <td>서울특별시 강서구 화곡로</td>\n",
       "      <td>228282.39</td>\n",
       "      <td>2536470.94</td>\n",
       "      <td>30437651.34</td>\n",
       "      <td>-85</td>\n",
       "    </tr>\n",
       "  </tbody>\n",
       "</table>\n",
       "</div>"
      ],
      "text/plain": [
       "       사업장명    가입자수   신규   상실  ...    인당고지금액       평균월급        평균연봉  순유입\n",
       "0      삼성전자  102981  380  423  ... 444412.28 4937914.28 59254971.33  -43\n",
       "1     현대자동차   68645  936  740  ... 439792.00 4886577.76 58638933.14  196\n",
       "2      엘지전자   40385  565  404  ... 432896.20 4809957.82 57719493.81  161\n",
       "3  에스케이하이닉스   28314  626  342  ... 439826.53 4886961.39 58643536.72  284\n",
       "4       이마트   27413  390  649  ... 246992.89 2744365.47 32932385.66 -259\n",
       "5   엘지디스플레이   26668   82  141  ... 417646.27 4640514.08 55686168.99  -59\n",
       "6   삼성디스플레이   23143   79  357  ... 439533.48 4883705.32 58604463.84 -278\n",
       "7       케이티   22495   44  115  ... 442093.41 4912149.04 58945788.49  -71\n",
       "8    한국전력공사   22426   19   63  ... 417012.94 4633477.16 55601725.97  -44\n",
       "9      홈플러스   21199   98  183  ... 228282.39 2536470.94 30437651.34  -85\n",
       "\n",
       "[10 rows x 15 columns]"
      ]
     },
     "execution_count": 30,
     "metadata": {
      "tags": []
     },
     "output_type": "execute_result"
    }
   ],
   "source": []
  },
  {
   "cell_type": "markdown",
   "metadata": {
    "id": "_WyzuCZqP4kx"
   },
   "source": [
    "```\n",
    "- 광역시코드가 11인 기업\n",
    "- ['사업장명','도로명주소','신규'] 컬럼 필터링\n",
    "- 신규 인력 순서로 내림차순 정렬\n",
    "- 10개 기업 출력\n",
    "```"
   ]
  },
  {
   "cell_type": "markdown",
   "metadata": {
    "id": "g50RRg4OTHQr"
   },
   "source": [
    "**[코드]**"
   ]
  },
  {
   "cell_type": "code",
   "execution_count": null,
   "metadata": {
    "colab": {
     "base_uri": "https://localhost:8080/",
     "height": 348
    },
    "id": "L30zWgCtKSWN",
    "outputId": "fcbd367b-9f22-4802-bc4f-91c438a82916"
   },
   "outputs": [
    {
     "data": {
      "text/html": [
       "<div>\n",
       "<style scoped>\n",
       "    .dataframe tbody tr th:only-of-type {\n",
       "        vertical-align: middle;\n",
       "    }\n",
       "\n",
       "    .dataframe tbody tr th {\n",
       "        vertical-align: top;\n",
       "    }\n",
       "\n",
       "    .dataframe thead th {\n",
       "        text-align: right;\n",
       "    }\n",
       "</style>\n",
       "<table border=\"1\" class=\"dataframe\">\n",
       "  <thead>\n",
       "    <tr style=\"text-align: right;\">\n",
       "      <th></th>\n",
       "      <th>사업장명</th>\n",
       "      <th>도로명주소</th>\n",
       "      <th>신규</th>\n",
       "    </tr>\n",
       "  </thead>\n",
       "  <tbody>\n",
       "    <tr>\n",
       "      <th>34</th>\n",
       "      <td>쿠팡풀필먼트서비스유한회사</td>\n",
       "      <td>서울특별시 송파구 송파대로</td>\n",
       "      <td>4541</td>\n",
       "    </tr>\n",
       "    <tr>\n",
       "      <th>20</th>\n",
       "      <td>쿠팡</td>\n",
       "      <td>서울특별시 송파구 송파대로</td>\n",
       "      <td>2036</td>\n",
       "    </tr>\n",
       "    <tr>\n",
       "      <th>19</th>\n",
       "      <td>쿠팡풀필먼트서비스유한회사</td>\n",
       "      <td>서울특별시 송파구 송파대로</td>\n",
       "      <td>1851</td>\n",
       "    </tr>\n",
       "    <tr>\n",
       "      <th>53</th>\n",
       "      <td>케이텍맨파워</td>\n",
       "      <td>서울특별시 서초구 남부순환로</td>\n",
       "      <td>1677</td>\n",
       "    </tr>\n",
       "    <tr>\n",
       "      <th>1</th>\n",
       "      <td>현대자동차</td>\n",
       "      <td>서울특별시 서초구 헌릉로</td>\n",
       "      <td>936</td>\n",
       "    </tr>\n",
       "    <tr>\n",
       "      <th>40</th>\n",
       "      <td>엘지이노텍</td>\n",
       "      <td>서울특별시 강서구 마곡중앙10로</td>\n",
       "      <td>936</td>\n",
       "    </tr>\n",
       "    <tr>\n",
       "      <th>36</th>\n",
       "      <td>유베이스</td>\n",
       "      <td>서울특별시 용산구 한강대로38길</td>\n",
       "      <td>788</td>\n",
       "    </tr>\n",
       "    <tr>\n",
       "      <th>99</th>\n",
       "      <td>프로에스콤</td>\n",
       "      <td>서울특별시 강남구 테헤란로</td>\n",
       "      <td>713</td>\n",
       "    </tr>\n",
       "    <tr>\n",
       "      <th>125</th>\n",
       "      <td>비케이알</td>\n",
       "      <td>서울특별시 종로구 삼봉로</td>\n",
       "      <td>709</td>\n",
       "    </tr>\n",
       "    <tr>\n",
       "      <th>14</th>\n",
       "      <td>스타벅스커피코리아</td>\n",
       "      <td>서울특별시 중구 소공로</td>\n",
       "      <td>684</td>\n",
       "    </tr>\n",
       "  </tbody>\n",
       "</table>\n",
       "</div>"
      ],
      "text/plain": [
       "              사업장명              도로명주소    신규\n",
       "34   쿠팡풀필먼트서비스유한회사     서울특별시 송파구 송파대로  4541\n",
       "20              쿠팡     서울특별시 송파구 송파대로  2036\n",
       "19   쿠팡풀필먼트서비스유한회사     서울특별시 송파구 송파대로  1851\n",
       "53          케이텍맨파워    서울특별시 서초구 남부순환로  1677\n",
       "1            현대자동차      서울특별시 서초구 헌릉로   936\n",
       "40           엘지이노텍  서울특별시 강서구 마곡중앙10로   936\n",
       "36            유베이스  서울특별시 용산구 한강대로38길   788\n",
       "99           프로에스콤     서울특별시 강남구 테헤란로   713\n",
       "125           비케이알      서울특별시 종로구 삼봉로   709\n",
       "14       스타벅스커피코리아       서울특별시 중구 소공로   684"
      ]
     },
     "execution_count": 31,
     "metadata": {
      "tags": []
     },
     "output_type": "execute_result"
    }
   ],
   "source": []
  },
  {
   "cell_type": "markdown",
   "metadata": {
    "id": "azkNTGEuKSWP"
   },
   "source": [
    "## 업종별 신규 유입 현황"
   ]
  },
  {
   "cell_type": "markdown",
   "metadata": {
    "id": "AOz67CmfQI9X"
   },
   "source": [
    "```\n",
    "업종별 신규 유입 인력의 평균을 구한 뒤 \n",
    "상위 10개 업종을 출력하세요\n",
    "```"
   ]
  },
  {
   "cell_type": "markdown",
   "metadata": {
    "id": "zfJQvsYOTI7F"
   },
   "source": [
    "**[코드]**"
   ]
  },
  {
   "cell_type": "code",
   "execution_count": null,
   "metadata": {
    "colab": {
     "base_uri": "https://localhost:8080/",
     "height": 378
    },
    "id": "I8O4fUXGKSWP",
    "outputId": "500769da-7637-4655-c8e4-4f27f24d01af"
   },
   "outputs": [
    {
     "data": {
      "text/html": [
       "<div>\n",
       "<style scoped>\n",
       "    .dataframe tbody tr th:only-of-type {\n",
       "        vertical-align: middle;\n",
       "    }\n",
       "\n",
       "    .dataframe tbody tr th {\n",
       "        vertical-align: top;\n",
       "    }\n",
       "\n",
       "    .dataframe thead th {\n",
       "        text-align: right;\n",
       "    }\n",
       "</style>\n",
       "<table border=\"1\" class=\"dataframe\">\n",
       "  <thead>\n",
       "    <tr style=\"text-align: right;\">\n",
       "      <th></th>\n",
       "      <th>신규</th>\n",
       "    </tr>\n",
       "    <tr>\n",
       "      <th>업종코드명</th>\n",
       "      <th></th>\n",
       "    </tr>\n",
       "  </thead>\n",
       "  <tbody>\n",
       "    <tr>\n",
       "      <th>음료품배달원</th>\n",
       "      <td>538.00</td>\n",
       "    </tr>\n",
       "    <tr>\n",
       "      <th>자동차용 엔진 제조업</th>\n",
       "      <td>117.00</td>\n",
       "    </tr>\n",
       "    <tr>\n",
       "      <th>화물 포장  검수 및 계량 서비스업</th>\n",
       "      <td>89.26</td>\n",
       "    </tr>\n",
       "    <tr>\n",
       "      <th>도시철도 운송업</th>\n",
       "      <td>66.50</td>\n",
       "    </tr>\n",
       "    <tr>\n",
       "      <th>빵류 제조업</th>\n",
       "      <td>62.25</td>\n",
       "    </tr>\n",
       "    <tr>\n",
       "      <th>설탕 제조업</th>\n",
       "      <td>42.29</td>\n",
       "    </tr>\n",
       "    <tr>\n",
       "      <th>기타 통신 판매업</th>\n",
       "      <td>42.20</td>\n",
       "    </tr>\n",
       "    <tr>\n",
       "      <th>담배제품 제조업</th>\n",
       "      <td>37.00</td>\n",
       "    </tr>\n",
       "    <tr>\n",
       "      <th>콜센터 및 텔레마케팅 서비스업</th>\n",
       "      <td>34.00</td>\n",
       "    </tr>\n",
       "    <tr>\n",
       "      <th>전자 저항기 제조업</th>\n",
       "      <td>27.00</td>\n",
       "    </tr>\n",
       "  </tbody>\n",
       "</table>\n",
       "</div>"
      ],
      "text/plain": [
       "                        신규\n",
       "업종코드명                     \n",
       "음료품배달원              538.00\n",
       "자동차용 엔진 제조업         117.00\n",
       "화물 포장  검수 및 계량 서비스업  89.26\n",
       "도시철도 운송업             66.50\n",
       "빵류 제조업               62.25\n",
       "설탕 제조업               42.29\n",
       "기타 통신 판매업            42.20\n",
       "담배제품 제조업             37.00\n",
       "콜센터 및 텔레마케팅 서비스업     34.00\n",
       "전자 저항기 제조업           27.00"
      ]
     },
     "execution_count": 32,
     "metadata": {
      "tags": []
     },
     "output_type": "execute_result"
    }
   ],
   "source": []
  },
  {
   "cell_type": "code",
   "execution_count": null,
   "metadata": {
    "id": "sSDw95r8KSWR"
   },
   "outputs": [],
   "source": []
  }
 ],
 "metadata": {
  "colab": {
   "collapsed_sections": [],
   "name": "국민연금 데이터분석 (실습)",
   "provenance": []
  },
  "kernelspec": {
   "display_name": "Python 3",
   "language": "python",
   "name": "python3"
  },
  "language_info": {
   "codemirror_mode": {
    "name": "ipython",
    "version": 3
   },
   "file_extension": ".py",
   "mimetype": "text/x-python",
   "name": "python",
   "nbconvert_exporter": "python",
   "pygments_lexer": "ipython3",
   "version": "3.8.5"
  }
 },
 "nbformat": 4,
 "nbformat_minor": 1
}
