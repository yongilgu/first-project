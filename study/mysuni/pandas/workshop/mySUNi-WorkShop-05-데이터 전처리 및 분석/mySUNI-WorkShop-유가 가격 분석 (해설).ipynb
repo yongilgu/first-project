{
 "cells": [
  {
   "cell_type": "markdown",
   "metadata": {},
   "source": [
    "# mySUNI 모듈 설치"
   ]
  },
  {
   "cell_type": "code",
   "execution_count": null,
   "metadata": {
    "id": "km4hSyZztuAR"
   },
   "outputs": [],
   "source": [
    "!pip install mySUNI"
   ]
  },
  {
   "cell_type": "markdown",
   "metadata": {},
   "source": [
    "# 데이터 다운로드"
   ]
  },
  {
   "cell_type": "code",
   "execution_count": 1,
   "metadata": {},
   "outputs": [
    {
     "data": {
      "text/html": [
       "<div>\n",
       "<style scoped>\n",
       "    .dataframe tbody tr th:only-of-type {\n",
       "        vertical-align: middle;\n",
       "    }\n",
       "\n",
       "    .dataframe tbody tr th {\n",
       "        vertical-align: top;\n",
       "    }\n",
       "\n",
       "    .dataframe thead th {\n",
       "        text-align: right;\n",
       "    }\n",
       "</style>\n",
       "<table border=\"1\" class=\"dataframe\">\n",
       "  <thead>\n",
       "    <tr style=\"text-align: right;\">\n",
       "      <th></th>\n",
       "      <th>name</th>\n",
       "      <th>info</th>\n",
       "      <th>filename</th>\n",
       "    </tr>\n",
       "  </thead>\n",
       "  <tbody>\n",
       "    <tr>\n",
       "      <th>0</th>\n",
       "      <td>서울시자전거</td>\n",
       "      <td>서울시 따릉이 자전거 대여량 정보</td>\n",
       "      <td>[seoul_bicycle.csv]</td>\n",
       "    </tr>\n",
       "    <tr>\n",
       "      <th>1</th>\n",
       "      <td>서울시대중교통</td>\n",
       "      <td>서울시 대중교통(지하철, 버스) 이용객 정보</td>\n",
       "      <td>[seoul_transportation.xlsx]</td>\n",
       "    </tr>\n",
       "    <tr>\n",
       "      <th>2</th>\n",
       "      <td>서울시주민등록인구</td>\n",
       "      <td>서울시 주민등록인구 정보</td>\n",
       "      <td>[seoul_population.csv]</td>\n",
       "    </tr>\n",
       "    <tr>\n",
       "      <th>3</th>\n",
       "      <td>유가정보</td>\n",
       "      <td>2019년 서울시 유가 정보</td>\n",
       "      <td>[gas_first_2019.csv, gas_second_2019.csv]</td>\n",
       "    </tr>\n",
       "    <tr>\n",
       "      <th>4</th>\n",
       "      <td>PandasFileIO</td>\n",
       "      <td>Pandas File I/O 연습 문제용 데이터셋</td>\n",
       "      <td>[mySUNI.xlsx, mySUNI_1.csv, mySUNI_2.csv, mySU...</td>\n",
       "    </tr>\n",
       "    <tr>\n",
       "      <th>5</th>\n",
       "      <td>CCTV데이터분석</td>\n",
       "      <td>mySUNI WorkShop - CCTV 데이터 분석</td>\n",
       "      <td>[01. CCTV_in_Seoul.csv, 01. population_in_Seou...</td>\n",
       "    </tr>\n",
       "    <tr>\n",
       "      <th>6</th>\n",
       "      <td>국민연금데이터분석</td>\n",
       "      <td>mySUNI WorkShop - 국민연금 데이터 분석</td>\n",
       "      <td>[national_pension.csv]</td>\n",
       "    </tr>\n",
       "    <tr>\n",
       "      <th>7</th>\n",
       "      <td>민간아파트가격동향분석</td>\n",
       "      <td>mySUNI WorkShop - 민간 아파트 가격 동향 분석</td>\n",
       "      <td>[seoul_house_price.csv]</td>\n",
       "    </tr>\n",
       "    <tr>\n",
       "      <th>8</th>\n",
       "      <td>실거래가분석</td>\n",
       "      <td>mySUNI WorkShop - 2020년 아파트 실거래가 분석</td>\n",
       "      <td>[2020-seoul-apt-price.csv, loc_code.xlsx]</td>\n",
       "    </tr>\n",
       "    <tr>\n",
       "      <th>9</th>\n",
       "      <td>유가가격분석</td>\n",
       "      <td>mySUNI WorkShop - 2020년 유가 가격 분석</td>\n",
       "      <td>[gas_first_2019.csv, gas_second_2019.csv]</td>\n",
       "    </tr>\n",
       "    <tr>\n",
       "      <th>10</th>\n",
       "      <td>중고차판매정보분석</td>\n",
       "      <td>mySUNI WorkShop - 중고차 판매 정보 분석</td>\n",
       "      <td>[gas_first_2019.csv, gas_second_2019.csv]</td>\n",
       "    </tr>\n",
       "  </tbody>\n",
       "</table>\n",
       "</div>"
      ],
      "text/plain": [
       "            name                                 info  \\\n",
       "0         서울시자전거                   서울시 따릉이 자전거 대여량 정보   \n",
       "1        서울시대중교통             서울시 대중교통(지하철, 버스) 이용객 정보   \n",
       "2      서울시주민등록인구                        서울시 주민등록인구 정보   \n",
       "3           유가정보                      2019년 서울시 유가 정보   \n",
       "4   PandasFileIO          Pandas File I/O 연습 문제용 데이터셋   \n",
       "5      CCTV데이터분석        mySUNI WorkShop - CCTV 데이터 분석   \n",
       "6      국민연금데이터분석        mySUNI WorkShop - 국민연금 데이터 분석   \n",
       "7    민간아파트가격동향분석    mySUNI WorkShop - 민간 아파트 가격 동향 분석   \n",
       "8         실거래가분석  mySUNI WorkShop - 2020년 아파트 실거래가 분석   \n",
       "9         유가가격분석     mySUNI WorkShop - 2020년 유가 가격 분석   \n",
       "10     중고차판매정보분석       mySUNI WorkShop - 중고차 판매 정보 분석   \n",
       "\n",
       "                                             filename  \n",
       "0                                 [seoul_bicycle.csv]  \n",
       "1                         [seoul_transportation.xlsx]  \n",
       "2                              [seoul_population.csv]  \n",
       "3           [gas_first_2019.csv, gas_second_2019.csv]  \n",
       "4   [mySUNI.xlsx, mySUNI_1.csv, mySUNI_2.csv, mySU...  \n",
       "5   [01. CCTV_in_Seoul.csv, 01. population_in_Seou...  \n",
       "6                              [national_pension.csv]  \n",
       "7                             [seoul_house_price.csv]  \n",
       "8           [2020-seoul-apt-price.csv, loc_code.xlsx]  \n",
       "9           [gas_first_2019.csv, gas_second_2019.csv]  \n",
       "10          [gas_first_2019.csv, gas_second_2019.csv]  "
      ]
     },
     "metadata": {},
     "output_type": "display_data"
    }
   ],
   "source": [
    "from mySUNI import cds\n",
    "cds.list_data() # 데이터 목록 조회"
   ]
  },
  {
   "cell_type": "code",
   "execution_count": 2,
   "metadata": {},
   "outputs": [
    {
     "name": "stdout",
     "output_type": "stream",
     "text": [
      "파일 다운로드 완료\n",
      "====================\n",
      "\n",
      "데이터셋: 유가가격분석\n",
      "파일경로: data\\gas_first_2019.csv\n",
      "\n",
      "====================\n",
      "파일 다운로드 완료\n",
      "====================\n",
      "\n",
      "데이터셋: 유가가격분석\n",
      "파일경로: data\\gas_second_2019.csv\n",
      "\n",
      "====================\n"
     ]
    }
   ],
   "source": [
    "cds.download_data('유가가격분석') # 데이터 다운로드"
   ]
  },
  {
   "cell_type": "code",
   "execution_count": null,
   "metadata": {
    "colab": {
     "base_uri": "https://localhost:8080/",
     "height": 51
    },
    "id": "jEW6atEKWZnw",
    "outputId": "f321e32d-2d1b-435a-b9b5-fc7db48925f9"
   },
   "outputs": [
    {
     "name": "stderr",
     "output_type": "stream",
     "text": [
      "/usr/local/lib/python3.6/dist-packages/statsmodels/tools/_testing.py:19: FutureWarning: pandas.util.testing is deprecated. Use the functions in the public API at pandas.testing instead.\n",
      "  import pandas.util.testing as tm\n"
     ]
    }
   ],
   "source": [
    "import pandas as pd\n",
    "import numpy as np\n",
    "import seaborn as sns\n",
    "import matplotlib.pyplot as plt\n",
    "\n",
    "%matplotlib inline\n",
    "\n",
    "plt.rc('font', family='NanumBarunGothic') "
   ]
  },
  {
   "cell_type": "markdown",
   "metadata": {
    "id": "sHFdOmH0RwEz"
   },
   "source": [
    "# 1. 데이터 불러오기"
   ]
  },
  {
   "cell_type": "code",
   "execution_count": null,
   "metadata": {
    "id": "_r6GQwUKShId"
   },
   "outputs": [],
   "source": [
    "first = pd.read_csv('gas_first_2019.csv', encoding='euc-kr')\n",
    "second = pd.read_csv('gas_second_2019.csv', encoding='euc-kr')"
   ]
  },
  {
   "cell_type": "code",
   "execution_count": null,
   "metadata": {
    "colab": {
     "base_uri": "https://localhost:8080/",
     "height": 419
    },
    "id": "va5_fvTNRwEz",
    "outputId": "4c6f5c85-7904-4b55-c823-1c0827eb794c"
   },
   "outputs": [
    {
     "data": {
      "text/html": [
       "<div>\n",
       "<style scoped>\n",
       "    .dataframe tbody tr th:only-of-type {\n",
       "        vertical-align: middle;\n",
       "    }\n",
       "\n",
       "    .dataframe tbody tr th {\n",
       "        vertical-align: top;\n",
       "    }\n",
       "\n",
       "    .dataframe thead th {\n",
       "        text-align: right;\n",
       "    }\n",
       "</style>\n",
       "<table border=\"1\" class=\"dataframe\">\n",
       "  <thead>\n",
       "    <tr style=\"text-align: right;\">\n",
       "      <th></th>\n",
       "      <th>번호</th>\n",
       "      <th>지역</th>\n",
       "      <th>상호</th>\n",
       "      <th>주소</th>\n",
       "      <th>기간</th>\n",
       "      <th>상표</th>\n",
       "      <th>셀프여부</th>\n",
       "      <th>고급휘발유</th>\n",
       "      <th>휘발유</th>\n",
       "      <th>경유</th>\n",
       "      <th>실내등유</th>\n",
       "    </tr>\n",
       "  </thead>\n",
       "  <tbody>\n",
       "    <tr>\n",
       "      <th>0</th>\n",
       "      <td>A0006039</td>\n",
       "      <td>서울 강남구</td>\n",
       "      <td>(주)동하힐탑셀프주유소</td>\n",
       "      <td>서울 강남구 논현로 640</td>\n",
       "      <td>20190101</td>\n",
       "      <td>SK에너지</td>\n",
       "      <td>셀프</td>\n",
       "      <td>1673</td>\n",
       "      <td>1465</td>\n",
       "      <td>1365</td>\n",
       "      <td>0</td>\n",
       "    </tr>\n",
       "    <tr>\n",
       "      <th>1</th>\n",
       "      <td>A0006039</td>\n",
       "      <td>서울 강남구</td>\n",
       "      <td>(주)동하힐탑셀프주유소</td>\n",
       "      <td>서울 강남구 논현로 640</td>\n",
       "      <td>20190102</td>\n",
       "      <td>SK에너지</td>\n",
       "      <td>셀프</td>\n",
       "      <td>1673</td>\n",
       "      <td>1465</td>\n",
       "      <td>1365</td>\n",
       "      <td>0</td>\n",
       "    </tr>\n",
       "    <tr>\n",
       "      <th>2</th>\n",
       "      <td>A0006039</td>\n",
       "      <td>서울 강남구</td>\n",
       "      <td>(주)동하힐탑셀프주유소</td>\n",
       "      <td>서울 강남구 논현로 640</td>\n",
       "      <td>20190103</td>\n",
       "      <td>SK에너지</td>\n",
       "      <td>셀프</td>\n",
       "      <td>1673</td>\n",
       "      <td>1465</td>\n",
       "      <td>1365</td>\n",
       "      <td>0</td>\n",
       "    </tr>\n",
       "    <tr>\n",
       "      <th>3</th>\n",
       "      <td>A0006039</td>\n",
       "      <td>서울 강남구</td>\n",
       "      <td>(주)동하힐탑셀프주유소</td>\n",
       "      <td>서울 강남구 논현로 640</td>\n",
       "      <td>20190104</td>\n",
       "      <td>SK에너지</td>\n",
       "      <td>셀프</td>\n",
       "      <td>1673</td>\n",
       "      <td>1465</td>\n",
       "      <td>1365</td>\n",
       "      <td>0</td>\n",
       "    </tr>\n",
       "    <tr>\n",
       "      <th>4</th>\n",
       "      <td>A0006039</td>\n",
       "      <td>서울 강남구</td>\n",
       "      <td>(주)동하힐탑셀프주유소</td>\n",
       "      <td>서울 강남구 논현로 640</td>\n",
       "      <td>20190105</td>\n",
       "      <td>SK에너지</td>\n",
       "      <td>셀프</td>\n",
       "      <td>1673</td>\n",
       "      <td>1465</td>\n",
       "      <td>1365</td>\n",
       "      <td>0</td>\n",
       "    </tr>\n",
       "    <tr>\n",
       "      <th>...</th>\n",
       "      <td>...</td>\n",
       "      <td>...</td>\n",
       "      <td>...</td>\n",
       "      <td>...</td>\n",
       "      <td>...</td>\n",
       "      <td>...</td>\n",
       "      <td>...</td>\n",
       "      <td>...</td>\n",
       "      <td>...</td>\n",
       "      <td>...</td>\n",
       "      <td>...</td>\n",
       "    </tr>\n",
       "    <tr>\n",
       "      <th>90585</th>\n",
       "      <td>A0032659</td>\n",
       "      <td>서울 중랑구</td>\n",
       "      <td>지에스칼텍스㈜ 소망주유소</td>\n",
       "      <td>서울 중랑구 망우로 475</td>\n",
       "      <td>20190626</td>\n",
       "      <td>GS칼텍스</td>\n",
       "      <td>셀프</td>\n",
       "      <td>0</td>\n",
       "      <td>1529</td>\n",
       "      <td>1389</td>\n",
       "      <td>0</td>\n",
       "    </tr>\n",
       "    <tr>\n",
       "      <th>90586</th>\n",
       "      <td>A0032659</td>\n",
       "      <td>서울 중랑구</td>\n",
       "      <td>지에스칼텍스㈜ 소망주유소</td>\n",
       "      <td>서울 중랑구 망우로 475</td>\n",
       "      <td>20190627</td>\n",
       "      <td>GS칼텍스</td>\n",
       "      <td>셀프</td>\n",
       "      <td>0</td>\n",
       "      <td>1529</td>\n",
       "      <td>1389</td>\n",
       "      <td>0</td>\n",
       "    </tr>\n",
       "    <tr>\n",
       "      <th>90587</th>\n",
       "      <td>A0032659</td>\n",
       "      <td>서울 중랑구</td>\n",
       "      <td>지에스칼텍스㈜ 소망주유소</td>\n",
       "      <td>서울 중랑구 망우로 475</td>\n",
       "      <td>20190628</td>\n",
       "      <td>GS칼텍스</td>\n",
       "      <td>셀프</td>\n",
       "      <td>0</td>\n",
       "      <td>1529</td>\n",
       "      <td>1389</td>\n",
       "      <td>0</td>\n",
       "    </tr>\n",
       "    <tr>\n",
       "      <th>90588</th>\n",
       "      <td>A0032659</td>\n",
       "      <td>서울 중랑구</td>\n",
       "      <td>지에스칼텍스㈜ 소망주유소</td>\n",
       "      <td>서울 중랑구 망우로 475</td>\n",
       "      <td>20190629</td>\n",
       "      <td>GS칼텍스</td>\n",
       "      <td>셀프</td>\n",
       "      <td>0</td>\n",
       "      <td>1529</td>\n",
       "      <td>1389</td>\n",
       "      <td>0</td>\n",
       "    </tr>\n",
       "    <tr>\n",
       "      <th>90589</th>\n",
       "      <td>A0032659</td>\n",
       "      <td>서울 중랑구</td>\n",
       "      <td>지에스칼텍스㈜ 소망주유소</td>\n",
       "      <td>서울 중랑구 망우로 475</td>\n",
       "      <td>20190630</td>\n",
       "      <td>GS칼텍스</td>\n",
       "      <td>셀프</td>\n",
       "      <td>0</td>\n",
       "      <td>1529</td>\n",
       "      <td>1389</td>\n",
       "      <td>0</td>\n",
       "    </tr>\n",
       "  </tbody>\n",
       "</table>\n",
       "<p>90590 rows × 11 columns</p>\n",
       "</div>"
      ],
      "text/plain": [
       "             번호      지역             상호              주소  ...  고급휘발유   휘발유    경유  실내등유\n",
       "0      A0006039  서울 강남구   (주)동하힐탑셀프주유소  서울 강남구 논현로 640  ...   1673  1465  1365     0\n",
       "1      A0006039  서울 강남구   (주)동하힐탑셀프주유소  서울 강남구 논현로 640  ...   1673  1465  1365     0\n",
       "2      A0006039  서울 강남구   (주)동하힐탑셀프주유소  서울 강남구 논현로 640  ...   1673  1465  1365     0\n",
       "3      A0006039  서울 강남구   (주)동하힐탑셀프주유소  서울 강남구 논현로 640  ...   1673  1465  1365     0\n",
       "4      A0006039  서울 강남구   (주)동하힐탑셀프주유소  서울 강남구 논현로 640  ...   1673  1465  1365     0\n",
       "...         ...     ...            ...             ...  ...    ...   ...   ...   ...\n",
       "90585  A0032659  서울 중랑구  지에스칼텍스㈜ 소망주유소  서울 중랑구 망우로 475  ...      0  1529  1389     0\n",
       "90586  A0032659  서울 중랑구  지에스칼텍스㈜ 소망주유소  서울 중랑구 망우로 475  ...      0  1529  1389     0\n",
       "90587  A0032659  서울 중랑구  지에스칼텍스㈜ 소망주유소  서울 중랑구 망우로 475  ...      0  1529  1389     0\n",
       "90588  A0032659  서울 중랑구  지에스칼텍스㈜ 소망주유소  서울 중랑구 망우로 475  ...      0  1529  1389     0\n",
       "90589  A0032659  서울 중랑구  지에스칼텍스㈜ 소망주유소  서울 중랑구 망우로 475  ...      0  1529  1389     0\n",
       "\n",
       "[90590 rows x 11 columns]"
      ]
     },
     "execution_count": 4,
     "metadata": {
      "tags": []
     },
     "output_type": "execute_result"
    }
   ],
   "source": [
    "# 상반기 주유소 판매 데이터 불러오기\n",
    "first"
   ]
  },
  {
   "cell_type": "code",
   "execution_count": null,
   "metadata": {
    "colab": {
     "base_uri": "https://localhost:8080/",
     "height": 419
    },
    "id": "CmhdeoWjRwE2",
    "outputId": "84a60ec4-2495-49da-b770-0e75a3c26aa3"
   },
   "outputs": [
    {
     "data": {
      "text/html": [
       "<div>\n",
       "<style scoped>\n",
       "    .dataframe tbody tr th:only-of-type {\n",
       "        vertical-align: middle;\n",
       "    }\n",
       "\n",
       "    .dataframe tbody tr th {\n",
       "        vertical-align: top;\n",
       "    }\n",
       "\n",
       "    .dataframe thead th {\n",
       "        text-align: right;\n",
       "    }\n",
       "</style>\n",
       "<table border=\"1\" class=\"dataframe\">\n",
       "  <thead>\n",
       "    <tr style=\"text-align: right;\">\n",
       "      <th></th>\n",
       "      <th>번호</th>\n",
       "      <th>지역</th>\n",
       "      <th>상호</th>\n",
       "      <th>주소</th>\n",
       "      <th>기간</th>\n",
       "      <th>상표</th>\n",
       "      <th>셀프여부</th>\n",
       "      <th>고급휘발유</th>\n",
       "      <th>휘발유</th>\n",
       "      <th>경유</th>\n",
       "      <th>실내등유</th>\n",
       "    </tr>\n",
       "  </thead>\n",
       "  <tbody>\n",
       "    <tr>\n",
       "      <th>0</th>\n",
       "      <td>A0006039</td>\n",
       "      <td>서울 강남구</td>\n",
       "      <td>(주)동하힐탑셀프주유소</td>\n",
       "      <td>서울 강남구 논현로 640</td>\n",
       "      <td>20190701</td>\n",
       "      <td>SK에너지</td>\n",
       "      <td>셀프</td>\n",
       "      <td>1777</td>\n",
       "      <td>1577</td>\n",
       "      <td>1477</td>\n",
       "      <td>0</td>\n",
       "    </tr>\n",
       "    <tr>\n",
       "      <th>1</th>\n",
       "      <td>A0006039</td>\n",
       "      <td>서울 강남구</td>\n",
       "      <td>(주)동하힐탑셀프주유소</td>\n",
       "      <td>서울 강남구 논현로 640</td>\n",
       "      <td>20190702</td>\n",
       "      <td>SK에너지</td>\n",
       "      <td>셀프</td>\n",
       "      <td>1777</td>\n",
       "      <td>1577</td>\n",
       "      <td>1477</td>\n",
       "      <td>0</td>\n",
       "    </tr>\n",
       "    <tr>\n",
       "      <th>2</th>\n",
       "      <td>A0006039</td>\n",
       "      <td>서울 강남구</td>\n",
       "      <td>(주)동하힐탑셀프주유소</td>\n",
       "      <td>서울 강남구 논현로 640</td>\n",
       "      <td>20190703</td>\n",
       "      <td>SK에너지</td>\n",
       "      <td>셀프</td>\n",
       "      <td>1777</td>\n",
       "      <td>1577</td>\n",
       "      <td>1477</td>\n",
       "      <td>0</td>\n",
       "    </tr>\n",
       "    <tr>\n",
       "      <th>3</th>\n",
       "      <td>A0006039</td>\n",
       "      <td>서울 강남구</td>\n",
       "      <td>(주)동하힐탑셀프주유소</td>\n",
       "      <td>서울 강남구 논현로 640</td>\n",
       "      <td>20190704</td>\n",
       "      <td>SK에너지</td>\n",
       "      <td>셀프</td>\n",
       "      <td>1777</td>\n",
       "      <td>1577</td>\n",
       "      <td>1477</td>\n",
       "      <td>0</td>\n",
       "    </tr>\n",
       "    <tr>\n",
       "      <th>4</th>\n",
       "      <td>A0006039</td>\n",
       "      <td>서울 강남구</td>\n",
       "      <td>(주)동하힐탑셀프주유소</td>\n",
       "      <td>서울 강남구 논현로 640</td>\n",
       "      <td>20190705</td>\n",
       "      <td>SK에너지</td>\n",
       "      <td>셀프</td>\n",
       "      <td>1777</td>\n",
       "      <td>1577</td>\n",
       "      <td>1477</td>\n",
       "      <td>0</td>\n",
       "    </tr>\n",
       "    <tr>\n",
       "      <th>...</th>\n",
       "      <td>...</td>\n",
       "      <td>...</td>\n",
       "      <td>...</td>\n",
       "      <td>...</td>\n",
       "      <td>...</td>\n",
       "      <td>...</td>\n",
       "      <td>...</td>\n",
       "      <td>...</td>\n",
       "      <td>...</td>\n",
       "      <td>...</td>\n",
       "      <td>...</td>\n",
       "    </tr>\n",
       "    <tr>\n",
       "      <th>91119</th>\n",
       "      <td>A0032659</td>\n",
       "      <td>서울 중랑구</td>\n",
       "      <td>지에스칼텍스㈜ 소망주유소</td>\n",
       "      <td>서울 중랑구 망우로 475</td>\n",
       "      <td>20191227</td>\n",
       "      <td>GS칼텍스</td>\n",
       "      <td>셀프</td>\n",
       "      <td>0</td>\n",
       "      <td>1540</td>\n",
       "      <td>1389</td>\n",
       "      <td>1100</td>\n",
       "    </tr>\n",
       "    <tr>\n",
       "      <th>91120</th>\n",
       "      <td>A0032659</td>\n",
       "      <td>서울 중랑구</td>\n",
       "      <td>지에스칼텍스㈜ 소망주유소</td>\n",
       "      <td>서울 중랑구 망우로 475</td>\n",
       "      <td>20191228</td>\n",
       "      <td>GS칼텍스</td>\n",
       "      <td>셀프</td>\n",
       "      <td>0</td>\n",
       "      <td>1540</td>\n",
       "      <td>1389</td>\n",
       "      <td>1100</td>\n",
       "    </tr>\n",
       "    <tr>\n",
       "      <th>91121</th>\n",
       "      <td>A0032659</td>\n",
       "      <td>서울 중랑구</td>\n",
       "      <td>지에스칼텍스㈜ 소망주유소</td>\n",
       "      <td>서울 중랑구 망우로 475</td>\n",
       "      <td>20191229</td>\n",
       "      <td>GS칼텍스</td>\n",
       "      <td>셀프</td>\n",
       "      <td>0</td>\n",
       "      <td>1540</td>\n",
       "      <td>1389</td>\n",
       "      <td>1100</td>\n",
       "    </tr>\n",
       "    <tr>\n",
       "      <th>91122</th>\n",
       "      <td>A0032659</td>\n",
       "      <td>서울 중랑구</td>\n",
       "      <td>지에스칼텍스㈜ 소망주유소</td>\n",
       "      <td>서울 중랑구 망우로 475</td>\n",
       "      <td>20191230</td>\n",
       "      <td>GS칼텍스</td>\n",
       "      <td>셀프</td>\n",
       "      <td>0</td>\n",
       "      <td>1540</td>\n",
       "      <td>1389</td>\n",
       "      <td>1100</td>\n",
       "    </tr>\n",
       "    <tr>\n",
       "      <th>91123</th>\n",
       "      <td>A0032659</td>\n",
       "      <td>서울 중랑구</td>\n",
       "      <td>지에스칼텍스㈜ 소망주유소</td>\n",
       "      <td>서울 중랑구 망우로 475</td>\n",
       "      <td>20191231</td>\n",
       "      <td>GS칼텍스</td>\n",
       "      <td>셀프</td>\n",
       "      <td>0</td>\n",
       "      <td>1540</td>\n",
       "      <td>1389</td>\n",
       "      <td>1100</td>\n",
       "    </tr>\n",
       "  </tbody>\n",
       "</table>\n",
       "<p>91124 rows × 11 columns</p>\n",
       "</div>"
      ],
      "text/plain": [
       "             번호      지역             상호              주소  ...  고급휘발유   휘발유    경유  실내등유\n",
       "0      A0006039  서울 강남구   (주)동하힐탑셀프주유소  서울 강남구 논현로 640  ...   1777  1577  1477     0\n",
       "1      A0006039  서울 강남구   (주)동하힐탑셀프주유소  서울 강남구 논현로 640  ...   1777  1577  1477     0\n",
       "2      A0006039  서울 강남구   (주)동하힐탑셀프주유소  서울 강남구 논현로 640  ...   1777  1577  1477     0\n",
       "3      A0006039  서울 강남구   (주)동하힐탑셀프주유소  서울 강남구 논현로 640  ...   1777  1577  1477     0\n",
       "4      A0006039  서울 강남구   (주)동하힐탑셀프주유소  서울 강남구 논현로 640  ...   1777  1577  1477     0\n",
       "...         ...     ...            ...             ...  ...    ...   ...   ...   ...\n",
       "91119  A0032659  서울 중랑구  지에스칼텍스㈜ 소망주유소  서울 중랑구 망우로 475  ...      0  1540  1389  1100\n",
       "91120  A0032659  서울 중랑구  지에스칼텍스㈜ 소망주유소  서울 중랑구 망우로 475  ...      0  1540  1389  1100\n",
       "91121  A0032659  서울 중랑구  지에스칼텍스㈜ 소망주유소  서울 중랑구 망우로 475  ...      0  1540  1389  1100\n",
       "91122  A0032659  서울 중랑구  지에스칼텍스㈜ 소망주유소  서울 중랑구 망우로 475  ...      0  1540  1389  1100\n",
       "91123  A0032659  서울 중랑구  지에스칼텍스㈜ 소망주유소  서울 중랑구 망우로 475  ...      0  1540  1389  1100\n",
       "\n",
       "[91124 rows x 11 columns]"
      ]
     },
     "execution_count": 5,
     "metadata": {
      "tags": []
     },
     "output_type": "execute_result"
    }
   ],
   "source": [
    "second"
   ]
  },
  {
   "cell_type": "code",
   "execution_count": null,
   "metadata": {
    "colab": {
     "base_uri": "https://localhost:8080/",
     "height": 221
    },
    "id": "_kaWIX8-RwE4",
    "outputId": "1d38bce3-ecb4-4633-c626-dd5f4fb8ac77"
   },
   "outputs": [
    {
     "data": {
      "text/plain": [
       "번호       0\n",
       "지역       0\n",
       "상호       0\n",
       "주소       0\n",
       "기간       0\n",
       "상표       0\n",
       "셀프여부     0\n",
       "고급휘발유    0\n",
       "휘발유      0\n",
       "경유       0\n",
       "실내등유     0\n",
       "dtype: int64"
      ]
     },
     "execution_count": 6,
     "metadata": {
      "tags": []
     },
     "output_type": "execute_result"
    }
   ],
   "source": [
    "# 상반기 판매가격 데이터 프레임 결측치 조회\n",
    "first.isnull().sum()"
   ]
  },
  {
   "cell_type": "code",
   "execution_count": null,
   "metadata": {
    "colab": {
     "base_uri": "https://localhost:8080/",
     "height": 221
    },
    "id": "mIeBWRH0RwE6",
    "outputId": "2723846f-8148-43a1-e9bb-58d3836419d7"
   },
   "outputs": [
    {
     "data": {
      "text/plain": [
       "번호       0\n",
       "지역       0\n",
       "상호       0\n",
       "주소       0\n",
       "기간       0\n",
       "상표       0\n",
       "셀프여부     0\n",
       "고급휘발유    0\n",
       "휘발유      0\n",
       "경유       0\n",
       "실내등유     0\n",
       "dtype: int64"
      ]
     },
     "execution_count": 7,
     "metadata": {
      "tags": []
     },
     "output_type": "execute_result"
    }
   ],
   "source": [
    "# 하반기 판매가격 데이터 프레임 결측치 조회\n",
    "second.isnull().sum()"
   ]
  },
  {
   "cell_type": "markdown",
   "metadata": {
    "id": "rMPGF_u5RwE8"
   },
   "source": [
    "# 2. 데이터 결합"
   ]
  },
  {
   "cell_type": "code",
   "execution_count": null,
   "metadata": {
    "colab": {
     "base_uri": "https://localhost:8080/",
     "height": 419
    },
    "id": "idWfJ6wHRwE8",
    "outputId": "32deccf2-5d12-4bbc-f121-197b9e9ecc0d"
   },
   "outputs": [
    {
     "data": {
      "text/html": [
       "<div>\n",
       "<style scoped>\n",
       "    .dataframe tbody tr th:only-of-type {\n",
       "        vertical-align: middle;\n",
       "    }\n",
       "\n",
       "    .dataframe tbody tr th {\n",
       "        vertical-align: top;\n",
       "    }\n",
       "\n",
       "    .dataframe thead th {\n",
       "        text-align: right;\n",
       "    }\n",
       "</style>\n",
       "<table border=\"1\" class=\"dataframe\">\n",
       "  <thead>\n",
       "    <tr style=\"text-align: right;\">\n",
       "      <th></th>\n",
       "      <th>번호</th>\n",
       "      <th>지역</th>\n",
       "      <th>상호</th>\n",
       "      <th>주소</th>\n",
       "      <th>기간</th>\n",
       "      <th>상표</th>\n",
       "      <th>셀프여부</th>\n",
       "      <th>고급휘발유</th>\n",
       "      <th>휘발유</th>\n",
       "      <th>경유</th>\n",
       "      <th>실내등유</th>\n",
       "    </tr>\n",
       "  </thead>\n",
       "  <tbody>\n",
       "    <tr>\n",
       "      <th>0</th>\n",
       "      <td>A0006039</td>\n",
       "      <td>서울 강남구</td>\n",
       "      <td>(주)동하힐탑셀프주유소</td>\n",
       "      <td>서울 강남구 논현로 640</td>\n",
       "      <td>20190101</td>\n",
       "      <td>SK에너지</td>\n",
       "      <td>셀프</td>\n",
       "      <td>1673</td>\n",
       "      <td>1465</td>\n",
       "      <td>1365</td>\n",
       "      <td>0</td>\n",
       "    </tr>\n",
       "    <tr>\n",
       "      <th>1</th>\n",
       "      <td>A0006039</td>\n",
       "      <td>서울 강남구</td>\n",
       "      <td>(주)동하힐탑셀프주유소</td>\n",
       "      <td>서울 강남구 논현로 640</td>\n",
       "      <td>20190102</td>\n",
       "      <td>SK에너지</td>\n",
       "      <td>셀프</td>\n",
       "      <td>1673</td>\n",
       "      <td>1465</td>\n",
       "      <td>1365</td>\n",
       "      <td>0</td>\n",
       "    </tr>\n",
       "    <tr>\n",
       "      <th>2</th>\n",
       "      <td>A0006039</td>\n",
       "      <td>서울 강남구</td>\n",
       "      <td>(주)동하힐탑셀프주유소</td>\n",
       "      <td>서울 강남구 논현로 640</td>\n",
       "      <td>20190103</td>\n",
       "      <td>SK에너지</td>\n",
       "      <td>셀프</td>\n",
       "      <td>1673</td>\n",
       "      <td>1465</td>\n",
       "      <td>1365</td>\n",
       "      <td>0</td>\n",
       "    </tr>\n",
       "    <tr>\n",
       "      <th>3</th>\n",
       "      <td>A0006039</td>\n",
       "      <td>서울 강남구</td>\n",
       "      <td>(주)동하힐탑셀프주유소</td>\n",
       "      <td>서울 강남구 논현로 640</td>\n",
       "      <td>20190104</td>\n",
       "      <td>SK에너지</td>\n",
       "      <td>셀프</td>\n",
       "      <td>1673</td>\n",
       "      <td>1465</td>\n",
       "      <td>1365</td>\n",
       "      <td>0</td>\n",
       "    </tr>\n",
       "    <tr>\n",
       "      <th>4</th>\n",
       "      <td>A0006039</td>\n",
       "      <td>서울 강남구</td>\n",
       "      <td>(주)동하힐탑셀프주유소</td>\n",
       "      <td>서울 강남구 논현로 640</td>\n",
       "      <td>20190105</td>\n",
       "      <td>SK에너지</td>\n",
       "      <td>셀프</td>\n",
       "      <td>1673</td>\n",
       "      <td>1465</td>\n",
       "      <td>1365</td>\n",
       "      <td>0</td>\n",
       "    </tr>\n",
       "    <tr>\n",
       "      <th>...</th>\n",
       "      <td>...</td>\n",
       "      <td>...</td>\n",
       "      <td>...</td>\n",
       "      <td>...</td>\n",
       "      <td>...</td>\n",
       "      <td>...</td>\n",
       "      <td>...</td>\n",
       "      <td>...</td>\n",
       "      <td>...</td>\n",
       "      <td>...</td>\n",
       "      <td>...</td>\n",
       "    </tr>\n",
       "    <tr>\n",
       "      <th>181709</th>\n",
       "      <td>A0032659</td>\n",
       "      <td>서울 중랑구</td>\n",
       "      <td>지에스칼텍스㈜ 소망주유소</td>\n",
       "      <td>서울 중랑구 망우로 475</td>\n",
       "      <td>20191227</td>\n",
       "      <td>GS칼텍스</td>\n",
       "      <td>셀프</td>\n",
       "      <td>0</td>\n",
       "      <td>1540</td>\n",
       "      <td>1389</td>\n",
       "      <td>1100</td>\n",
       "    </tr>\n",
       "    <tr>\n",
       "      <th>181710</th>\n",
       "      <td>A0032659</td>\n",
       "      <td>서울 중랑구</td>\n",
       "      <td>지에스칼텍스㈜ 소망주유소</td>\n",
       "      <td>서울 중랑구 망우로 475</td>\n",
       "      <td>20191228</td>\n",
       "      <td>GS칼텍스</td>\n",
       "      <td>셀프</td>\n",
       "      <td>0</td>\n",
       "      <td>1540</td>\n",
       "      <td>1389</td>\n",
       "      <td>1100</td>\n",
       "    </tr>\n",
       "    <tr>\n",
       "      <th>181711</th>\n",
       "      <td>A0032659</td>\n",
       "      <td>서울 중랑구</td>\n",
       "      <td>지에스칼텍스㈜ 소망주유소</td>\n",
       "      <td>서울 중랑구 망우로 475</td>\n",
       "      <td>20191229</td>\n",
       "      <td>GS칼텍스</td>\n",
       "      <td>셀프</td>\n",
       "      <td>0</td>\n",
       "      <td>1540</td>\n",
       "      <td>1389</td>\n",
       "      <td>1100</td>\n",
       "    </tr>\n",
       "    <tr>\n",
       "      <th>181712</th>\n",
       "      <td>A0032659</td>\n",
       "      <td>서울 중랑구</td>\n",
       "      <td>지에스칼텍스㈜ 소망주유소</td>\n",
       "      <td>서울 중랑구 망우로 475</td>\n",
       "      <td>20191230</td>\n",
       "      <td>GS칼텍스</td>\n",
       "      <td>셀프</td>\n",
       "      <td>0</td>\n",
       "      <td>1540</td>\n",
       "      <td>1389</td>\n",
       "      <td>1100</td>\n",
       "    </tr>\n",
       "    <tr>\n",
       "      <th>181713</th>\n",
       "      <td>A0032659</td>\n",
       "      <td>서울 중랑구</td>\n",
       "      <td>지에스칼텍스㈜ 소망주유소</td>\n",
       "      <td>서울 중랑구 망우로 475</td>\n",
       "      <td>20191231</td>\n",
       "      <td>GS칼텍스</td>\n",
       "      <td>셀프</td>\n",
       "      <td>0</td>\n",
       "      <td>1540</td>\n",
       "      <td>1389</td>\n",
       "      <td>1100</td>\n",
       "    </tr>\n",
       "  </tbody>\n",
       "</table>\n",
       "<p>181714 rows × 11 columns</p>\n",
       "</div>"
      ],
      "text/plain": [
       "              번호      지역             상호  ...   휘발유    경유  실내등유\n",
       "0       A0006039  서울 강남구   (주)동하힐탑셀프주유소  ...  1465  1365     0\n",
       "1       A0006039  서울 강남구   (주)동하힐탑셀프주유소  ...  1465  1365     0\n",
       "2       A0006039  서울 강남구   (주)동하힐탑셀프주유소  ...  1465  1365     0\n",
       "3       A0006039  서울 강남구   (주)동하힐탑셀프주유소  ...  1465  1365     0\n",
       "4       A0006039  서울 강남구   (주)동하힐탑셀프주유소  ...  1465  1365     0\n",
       "...          ...     ...            ...  ...   ...   ...   ...\n",
       "181709  A0032659  서울 중랑구  지에스칼텍스㈜ 소망주유소  ...  1540  1389  1100\n",
       "181710  A0032659  서울 중랑구  지에스칼텍스㈜ 소망주유소  ...  1540  1389  1100\n",
       "181711  A0032659  서울 중랑구  지에스칼텍스㈜ 소망주유소  ...  1540  1389  1100\n",
       "181712  A0032659  서울 중랑구  지에스칼텍스㈜ 소망주유소  ...  1540  1389  1100\n",
       "181713  A0032659  서울 중랑구  지에스칼텍스㈜ 소망주유소  ...  1540  1389  1100\n",
       "\n",
       "[181714 rows x 11 columns]"
      ]
     },
     "execution_count": 8,
     "metadata": {
      "tags": []
     },
     "output_type": "execute_result"
    }
   ],
   "source": [
    "# 상반기와 하반기 데이터를 상하로 결합\n",
    "df = pd.concat([first, second])\n",
    "df = df.reset_index(drop=True)\n",
    "df"
   ]
  },
  {
   "cell_type": "markdown",
   "metadata": {
    "id": "aqwROV3hRwE_"
   },
   "source": [
    "# 3. 데이터 가공 및 분석"
   ]
  },
  {
   "cell_type": "code",
   "execution_count": null,
   "metadata": {
    "colab": {
     "base_uri": "https://localhost:8080/",
     "height": 323
    },
    "id": "HrA8zn9vRwE_",
    "outputId": "972e3f95-56b1-4394-9661-b3cff8cfbbd1"
   },
   "outputs": [
    {
     "name": "stdout",
     "output_type": "stream",
     "text": [
      "<class 'pandas.core.frame.DataFrame'>\n",
      "RangeIndex: 181714 entries, 0 to 181713\n",
      "Data columns (total 11 columns):\n",
      " #   Column  Non-Null Count   Dtype \n",
      "---  ------  --------------   ----- \n",
      " 0   번호      181714 non-null  object\n",
      " 1   지역      181714 non-null  object\n",
      " 2   상호      181714 non-null  object\n",
      " 3   주소      181714 non-null  object\n",
      " 4   기간      181714 non-null  int64 \n",
      " 5   상표      181714 non-null  object\n",
      " 6   셀프여부    181714 non-null  object\n",
      " 7   고급휘발유   181714 non-null  int64 \n",
      " 8   휘발유     181714 non-null  int64 \n",
      " 9   경유      181714 non-null  int64 \n",
      " 10  실내등유    181714 non-null  int64 \n",
      "dtypes: int64(5), object(6)\n",
      "memory usage: 15.3+ MB\n"
     ]
    }
   ],
   "source": [
    "# 데이터 프레임 정보 조회\n",
    "df.info()"
   ]
  },
  {
   "cell_type": "code",
   "execution_count": null,
   "metadata": {
    "colab": {
     "base_uri": "https://localhost:8080/",
     "height": 170
    },
    "id": "xwP0Qjn1RwFB",
    "outputId": "dfd80648-cf2c-49ce-d1a6-5e9cdbe7f765"
   },
   "outputs": [
    {
     "data": {
      "text/plain": [
       "SK에너지     71062\n",
       "GS칼텍스     49494\n",
       "현대오일뱅크    28583\n",
       "S-OIL     27027\n",
       "알뜰주유소      4021\n",
       "자가상표        982\n",
       "알뜰(ex)      365\n",
       "NH-OIL      180\n",
       "Name: 상표, dtype: int64"
      ]
     },
     "execution_count": 10,
     "metadata": {
      "tags": []
     },
     "output_type": "execute_result"
    }
   ],
   "source": [
    "# 상표 컬럼의 값(value) 분포 조회 \n",
    "df['상표'].value_counts()"
   ]
  },
  {
   "cell_type": "code",
   "execution_count": null,
   "metadata": {
    "colab": {
     "base_uri": "https://localhost:8080/",
     "height": 459
    },
    "id": "ACiw_Qa0RwFD",
    "outputId": "e1740b57-1f39-432a-fc8c-346dd82877fe"
   },
   "outputs": [
    {
     "data": {
      "text/plain": [
       "서울 강남구     14597\n",
       "서울 서초구     13762\n",
       "서울 강서구     12572\n",
       "서울 영등포구    11667\n",
       "서울 송파구     11630\n",
       "서울 양천구      9149\n",
       "서울 성북구      8080\n",
       "서울 동대문구     7996\n",
       "서울 구로구      7917\n",
       "서울 도봉구      6711\n",
       "서울 광진구      6450\n",
       "서울 은평구      6199\n",
       "서울 성동구      6192\n",
       "서울 관악구      5997\n",
       "서울 강동구      5897\n",
       "서울 중랑구      5719\n",
       "서울 서대문구     5594\n",
       "서울 노원구      5466\n",
       "서울 용산구      5439\n",
       "서울 금천구      4738\n",
       "서울 강북구      4736\n",
       "서울 중구       4235\n",
       "서울 마포구      4051\n",
       "서울 동작구      3644\n",
       "서울 종로구      3276\n",
       "Name: 지역, dtype: int64"
      ]
     },
     "execution_count": 11,
     "metadata": {
      "tags": []
     },
     "output_type": "execute_result"
    }
   ],
   "source": [
    "# 지역 컬럼의 값(value) 분포 조회 \n",
    "df['지역'].value_counts()"
   ]
  },
  {
   "cell_type": "markdown",
   "metadata": {
    "id": "uYX2vUpQUGUY"
   },
   "source": [
    "tip.\n",
    "1. apply를 활용합니다.\n",
    "2. split을 활용합니다.\n",
    "\n",
    "예시)\n",
    "<br>df['지역'].apply(split_place).str[0] ==> 앞단어\n",
    "<br>df['지역'].apply(split_place).str[0] ==> 뒷단어"
   ]
  },
  {
   "cell_type": "code",
   "execution_count": null,
   "metadata": {
    "colab": {
     "base_uri": "https://localhost:8080/",
     "height": 204
    },
    "id": "PpPttzrSRwFF",
    "outputId": "d5c085c9-facd-4243-8122-8d9de3543a1f"
   },
   "outputs": [
    {
     "data": {
      "text/html": [
       "<div>\n",
       "<style scoped>\n",
       "    .dataframe tbody tr th:only-of-type {\n",
       "        vertical-align: middle;\n",
       "    }\n",
       "\n",
       "    .dataframe tbody tr th {\n",
       "        vertical-align: top;\n",
       "    }\n",
       "\n",
       "    .dataframe thead th {\n",
       "        text-align: right;\n",
       "    }\n",
       "</style>\n",
       "<table border=\"1\" class=\"dataframe\">\n",
       "  <thead>\n",
       "    <tr style=\"text-align: right;\">\n",
       "      <th></th>\n",
       "      <th>번호</th>\n",
       "      <th>지역</th>\n",
       "      <th>상호</th>\n",
       "      <th>주소</th>\n",
       "      <th>기간</th>\n",
       "      <th>상표</th>\n",
       "      <th>셀프여부</th>\n",
       "      <th>고급휘발유</th>\n",
       "      <th>휘발유</th>\n",
       "      <th>경유</th>\n",
       "      <th>실내등유</th>\n",
       "      <th>시</th>\n",
       "      <th>구</th>\n",
       "    </tr>\n",
       "  </thead>\n",
       "  <tbody>\n",
       "    <tr>\n",
       "      <th>0</th>\n",
       "      <td>A0006039</td>\n",
       "      <td>서울 강남구</td>\n",
       "      <td>(주)동하힐탑셀프주유소</td>\n",
       "      <td>서울 강남구 논현로 640</td>\n",
       "      <td>20190101</td>\n",
       "      <td>SK에너지</td>\n",
       "      <td>셀프</td>\n",
       "      <td>1673</td>\n",
       "      <td>1465</td>\n",
       "      <td>1365</td>\n",
       "      <td>0</td>\n",
       "      <td>서울</td>\n",
       "      <td>강남구</td>\n",
       "    </tr>\n",
       "    <tr>\n",
       "      <th>1</th>\n",
       "      <td>A0006039</td>\n",
       "      <td>서울 강남구</td>\n",
       "      <td>(주)동하힐탑셀프주유소</td>\n",
       "      <td>서울 강남구 논현로 640</td>\n",
       "      <td>20190102</td>\n",
       "      <td>SK에너지</td>\n",
       "      <td>셀프</td>\n",
       "      <td>1673</td>\n",
       "      <td>1465</td>\n",
       "      <td>1365</td>\n",
       "      <td>0</td>\n",
       "      <td>서울</td>\n",
       "      <td>강남구</td>\n",
       "    </tr>\n",
       "    <tr>\n",
       "      <th>2</th>\n",
       "      <td>A0006039</td>\n",
       "      <td>서울 강남구</td>\n",
       "      <td>(주)동하힐탑셀프주유소</td>\n",
       "      <td>서울 강남구 논현로 640</td>\n",
       "      <td>20190103</td>\n",
       "      <td>SK에너지</td>\n",
       "      <td>셀프</td>\n",
       "      <td>1673</td>\n",
       "      <td>1465</td>\n",
       "      <td>1365</td>\n",
       "      <td>0</td>\n",
       "      <td>서울</td>\n",
       "      <td>강남구</td>\n",
       "    </tr>\n",
       "    <tr>\n",
       "      <th>3</th>\n",
       "      <td>A0006039</td>\n",
       "      <td>서울 강남구</td>\n",
       "      <td>(주)동하힐탑셀프주유소</td>\n",
       "      <td>서울 강남구 논현로 640</td>\n",
       "      <td>20190104</td>\n",
       "      <td>SK에너지</td>\n",
       "      <td>셀프</td>\n",
       "      <td>1673</td>\n",
       "      <td>1465</td>\n",
       "      <td>1365</td>\n",
       "      <td>0</td>\n",
       "      <td>서울</td>\n",
       "      <td>강남구</td>\n",
       "    </tr>\n",
       "    <tr>\n",
       "      <th>4</th>\n",
       "      <td>A0006039</td>\n",
       "      <td>서울 강남구</td>\n",
       "      <td>(주)동하힐탑셀프주유소</td>\n",
       "      <td>서울 강남구 논현로 640</td>\n",
       "      <td>20190105</td>\n",
       "      <td>SK에너지</td>\n",
       "      <td>셀프</td>\n",
       "      <td>1673</td>\n",
       "      <td>1465</td>\n",
       "      <td>1365</td>\n",
       "      <td>0</td>\n",
       "      <td>서울</td>\n",
       "      <td>강남구</td>\n",
       "    </tr>\n",
       "  </tbody>\n",
       "</table>\n",
       "</div>"
      ],
      "text/plain": [
       "         번호      지역            상호              주소  ...    경유 실내등유   시    구\n",
       "0  A0006039  서울 강남구  (주)동하힐탑셀프주유소  서울 강남구 논현로 640  ...  1365    0  서울  강남구\n",
       "1  A0006039  서울 강남구  (주)동하힐탑셀프주유소  서울 강남구 논현로 640  ...  1365    0  서울  강남구\n",
       "2  A0006039  서울 강남구  (주)동하힐탑셀프주유소  서울 강남구 논현로 640  ...  1365    0  서울  강남구\n",
       "3  A0006039  서울 강남구  (주)동하힐탑셀프주유소  서울 강남구 논현로 640  ...  1365    0  서울  강남구\n",
       "4  A0006039  서울 강남구  (주)동하힐탑셀프주유소  서울 강남구 논현로 640  ...  1365    0  서울  강남구\n",
       "\n",
       "[5 rows x 13 columns]"
      ]
     },
     "execution_count": 12,
     "metadata": {
      "tags": []
     },
     "output_type": "execute_result"
    }
   ],
   "source": [
    "# 지역 컬럼의 값을 이용하여 시와 구를 분리\n",
    "def split_place(place):\n",
    "    return place.split()\n",
    "\n",
    "df['시'] = df['지역'].apply(split_place).str[0]\n",
    "df['구'] =df['지역'].apply(split_place).str[1]\n",
    "df.head()"
   ]
  },
  {
   "cell_type": "code",
   "execution_count": null,
   "metadata": {
    "colab": {
     "base_uri": "https://localhost:8080/",
     "height": 204
    },
    "id": "CGC-zkAJRwFH",
    "outputId": "c4ba9bb8-305d-4955-d915-daf328596f7a"
   },
   "outputs": [
    {
     "data": {
      "text/html": [
       "<div>\n",
       "<style scoped>\n",
       "    .dataframe tbody tr th:only-of-type {\n",
       "        vertical-align: middle;\n",
       "    }\n",
       "\n",
       "    .dataframe tbody tr th {\n",
       "        vertical-align: top;\n",
       "    }\n",
       "\n",
       "    .dataframe thead th {\n",
       "        text-align: right;\n",
       "    }\n",
       "</style>\n",
       "<table border=\"1\" class=\"dataframe\">\n",
       "  <thead>\n",
       "    <tr style=\"text-align: right;\">\n",
       "      <th></th>\n",
       "      <th>번호</th>\n",
       "      <th>지역</th>\n",
       "      <th>상호</th>\n",
       "      <th>주소</th>\n",
       "      <th>기간</th>\n",
       "      <th>상표</th>\n",
       "      <th>셀프여부</th>\n",
       "      <th>고급휘발유</th>\n",
       "      <th>휘발유</th>\n",
       "      <th>경유</th>\n",
       "      <th>실내등유</th>\n",
       "      <th>시</th>\n",
       "      <th>구</th>\n",
       "    </tr>\n",
       "  </thead>\n",
       "  <tbody>\n",
       "    <tr>\n",
       "      <th>0</th>\n",
       "      <td>A0006039</td>\n",
       "      <td>서울 강남구</td>\n",
       "      <td>(주)동하힐탑셀프주유소</td>\n",
       "      <td>서울 강남구 논현로 640</td>\n",
       "      <td>20190101</td>\n",
       "      <td>SK에너지</td>\n",
       "      <td>셀프</td>\n",
       "      <td>1673</td>\n",
       "      <td>1465</td>\n",
       "      <td>1365</td>\n",
       "      <td>0</td>\n",
       "      <td>서울특별시</td>\n",
       "      <td>강남구</td>\n",
       "    </tr>\n",
       "    <tr>\n",
       "      <th>1</th>\n",
       "      <td>A0006039</td>\n",
       "      <td>서울 강남구</td>\n",
       "      <td>(주)동하힐탑셀프주유소</td>\n",
       "      <td>서울 강남구 논현로 640</td>\n",
       "      <td>20190102</td>\n",
       "      <td>SK에너지</td>\n",
       "      <td>셀프</td>\n",
       "      <td>1673</td>\n",
       "      <td>1465</td>\n",
       "      <td>1365</td>\n",
       "      <td>0</td>\n",
       "      <td>서울특별시</td>\n",
       "      <td>강남구</td>\n",
       "    </tr>\n",
       "    <tr>\n",
       "      <th>2</th>\n",
       "      <td>A0006039</td>\n",
       "      <td>서울 강남구</td>\n",
       "      <td>(주)동하힐탑셀프주유소</td>\n",
       "      <td>서울 강남구 논현로 640</td>\n",
       "      <td>20190103</td>\n",
       "      <td>SK에너지</td>\n",
       "      <td>셀프</td>\n",
       "      <td>1673</td>\n",
       "      <td>1465</td>\n",
       "      <td>1365</td>\n",
       "      <td>0</td>\n",
       "      <td>서울특별시</td>\n",
       "      <td>강남구</td>\n",
       "    </tr>\n",
       "    <tr>\n",
       "      <th>3</th>\n",
       "      <td>A0006039</td>\n",
       "      <td>서울 강남구</td>\n",
       "      <td>(주)동하힐탑셀프주유소</td>\n",
       "      <td>서울 강남구 논현로 640</td>\n",
       "      <td>20190104</td>\n",
       "      <td>SK에너지</td>\n",
       "      <td>셀프</td>\n",
       "      <td>1673</td>\n",
       "      <td>1465</td>\n",
       "      <td>1365</td>\n",
       "      <td>0</td>\n",
       "      <td>서울특별시</td>\n",
       "      <td>강남구</td>\n",
       "    </tr>\n",
       "    <tr>\n",
       "      <th>4</th>\n",
       "      <td>A0006039</td>\n",
       "      <td>서울 강남구</td>\n",
       "      <td>(주)동하힐탑셀프주유소</td>\n",
       "      <td>서울 강남구 논현로 640</td>\n",
       "      <td>20190105</td>\n",
       "      <td>SK에너지</td>\n",
       "      <td>셀프</td>\n",
       "      <td>1673</td>\n",
       "      <td>1465</td>\n",
       "      <td>1365</td>\n",
       "      <td>0</td>\n",
       "      <td>서울특별시</td>\n",
       "      <td>강남구</td>\n",
       "    </tr>\n",
       "  </tbody>\n",
       "</table>\n",
       "</div>"
      ],
      "text/plain": [
       "         번호      지역            상호              주소  ...    경유 실내등유      시    구\n",
       "0  A0006039  서울 강남구  (주)동하힐탑셀프주유소  서울 강남구 논현로 640  ...  1365    0  서울특별시  강남구\n",
       "1  A0006039  서울 강남구  (주)동하힐탑셀프주유소  서울 강남구 논현로 640  ...  1365    0  서울특별시  강남구\n",
       "2  A0006039  서울 강남구  (주)동하힐탑셀프주유소  서울 강남구 논현로 640  ...  1365    0  서울특별시  강남구\n",
       "3  A0006039  서울 강남구  (주)동하힐탑셀프주유소  서울 강남구 논현로 640  ...  1365    0  서울특별시  강남구\n",
       "4  A0006039  서울 강남구  (주)동하힐탑셀프주유소  서울 강남구 논현로 640  ...  1365    0  서울특별시  강남구\n",
       "\n",
       "[5 rows x 13 columns]"
      ]
     },
     "execution_count": 13,
     "metadata": {
      "tags": []
     },
     "output_type": "execute_result"
    }
   ],
   "source": [
    "# 시 컬럼의 서울을 서울특별시로 변환\n",
    "df['시'] = '서울특별시'\n",
    "df.head()"
   ]
  },
  {
   "cell_type": "code",
   "execution_count": null,
   "metadata": {
    "colab": {
     "base_uri": "https://localhost:8080/",
     "height": 204
    },
    "id": "wnSXHKPKRwFN",
    "outputId": "ef61d170-5ebc-4dcb-82c5-ac0a7de1e9a1"
   },
   "outputs": [
    {
     "data": {
      "text/html": [
       "<div>\n",
       "<style scoped>\n",
       "    .dataframe tbody tr th:only-of-type {\n",
       "        vertical-align: middle;\n",
       "    }\n",
       "\n",
       "    .dataframe tbody tr th {\n",
       "        vertical-align: top;\n",
       "    }\n",
       "\n",
       "    .dataframe thead th {\n",
       "        text-align: right;\n",
       "    }\n",
       "</style>\n",
       "<table border=\"1\" class=\"dataframe\">\n",
       "  <thead>\n",
       "    <tr style=\"text-align: right;\">\n",
       "      <th></th>\n",
       "      <th>번호</th>\n",
       "      <th>지역</th>\n",
       "      <th>상호</th>\n",
       "      <th>주소</th>\n",
       "      <th>기간</th>\n",
       "      <th>상표</th>\n",
       "      <th>셀프여부</th>\n",
       "      <th>고급휘발유</th>\n",
       "      <th>휘발유</th>\n",
       "      <th>경유</th>\n",
       "      <th>실내등유</th>\n",
       "      <th>시</th>\n",
       "      <th>구</th>\n",
       "    </tr>\n",
       "  </thead>\n",
       "  <tbody>\n",
       "    <tr>\n",
       "      <th>177210</th>\n",
       "      <td>A0000767</td>\n",
       "      <td>서울 중구</td>\n",
       "      <td>서남주유소</td>\n",
       "      <td>서울 중구 통일로 30</td>\n",
       "      <td>20190924</td>\n",
       "      <td>SK에너지</td>\n",
       "      <td>일반</td>\n",
       "      <td>2649</td>\n",
       "      <td>2356</td>\n",
       "      <td>2196</td>\n",
       "      <td>0</td>\n",
       "      <td>서울특별시</td>\n",
       "      <td>중구</td>\n",
       "    </tr>\n",
       "    <tr>\n",
       "      <th>177216</th>\n",
       "      <td>A0000767</td>\n",
       "      <td>서울 중구</td>\n",
       "      <td>서남주유소</td>\n",
       "      <td>서울 중구 통일로 30</td>\n",
       "      <td>20190930</td>\n",
       "      <td>SK에너지</td>\n",
       "      <td>일반</td>\n",
       "      <td>2699</td>\n",
       "      <td>2356</td>\n",
       "      <td>2196</td>\n",
       "      <td>0</td>\n",
       "      <td>서울특별시</td>\n",
       "      <td>중구</td>\n",
       "    </tr>\n",
       "    <tr>\n",
       "      <th>177217</th>\n",
       "      <td>A0000767</td>\n",
       "      <td>서울 중구</td>\n",
       "      <td>서남주유소</td>\n",
       "      <td>서울 중구 통일로 30</td>\n",
       "      <td>20191001</td>\n",
       "      <td>SK에너지</td>\n",
       "      <td>일반</td>\n",
       "      <td>2699</td>\n",
       "      <td>2356</td>\n",
       "      <td>2196</td>\n",
       "      <td>0</td>\n",
       "      <td>서울특별시</td>\n",
       "      <td>중구</td>\n",
       "    </tr>\n",
       "    <tr>\n",
       "      <th>177211</th>\n",
       "      <td>A0000767</td>\n",
       "      <td>서울 중구</td>\n",
       "      <td>서남주유소</td>\n",
       "      <td>서울 중구 통일로 30</td>\n",
       "      <td>20190925</td>\n",
       "      <td>SK에너지</td>\n",
       "      <td>일반</td>\n",
       "      <td>2649</td>\n",
       "      <td>2356</td>\n",
       "      <td>2196</td>\n",
       "      <td>0</td>\n",
       "      <td>서울특별시</td>\n",
       "      <td>중구</td>\n",
       "    </tr>\n",
       "    <tr>\n",
       "      <th>177212</th>\n",
       "      <td>A0000767</td>\n",
       "      <td>서울 중구</td>\n",
       "      <td>서남주유소</td>\n",
       "      <td>서울 중구 통일로 30</td>\n",
       "      <td>20190926</td>\n",
       "      <td>SK에너지</td>\n",
       "      <td>일반</td>\n",
       "      <td>2699</td>\n",
       "      <td>2356</td>\n",
       "      <td>2196</td>\n",
       "      <td>0</td>\n",
       "      <td>서울특별시</td>\n",
       "      <td>중구</td>\n",
       "    </tr>\n",
       "  </tbody>\n",
       "</table>\n",
       "</div>"
      ],
      "text/plain": [
       "              번호     지역     상호            주소  ...    경유 실내등유      시   구\n",
       "177210  A0000767  서울 중구  서남주유소  서울 중구 통일로 30  ...  2196    0  서울특별시  중구\n",
       "177216  A0000767  서울 중구  서남주유소  서울 중구 통일로 30  ...  2196    0  서울특별시  중구\n",
       "177217  A0000767  서울 중구  서남주유소  서울 중구 통일로 30  ...  2196    0  서울특별시  중구\n",
       "177211  A0000767  서울 중구  서남주유소  서울 중구 통일로 30  ...  2196    0  서울특별시  중구\n",
       "177212  A0000767  서울 중구  서남주유소  서울 중구 통일로 30  ...  2196    0  서울특별시  중구\n",
       "\n",
       "[5 rows x 13 columns]"
      ]
     },
     "execution_count": 14,
     "metadata": {
      "tags": []
     },
     "output_type": "execute_result"
    }
   ],
   "source": [
    "# 휘발유 가격이 비싼 5개 판매가격을 출력하세요.\n",
    "df.sort_values(by='휘발유', ascending=False).head()"
   ]
  },
  {
   "cell_type": "code",
   "execution_count": null,
   "metadata": {
    "colab": {
     "base_uri": "https://localhost:8080/",
     "height": 204
    },
    "id": "dVMTNtSVRwFP",
    "outputId": "498a2712-d9ef-473e-bddd-4a43eb549b58"
   },
   "outputs": [
    {
     "data": {
      "text/html": [
       "<div>\n",
       "<style scoped>\n",
       "    .dataframe tbody tr th:only-of-type {\n",
       "        vertical-align: middle;\n",
       "    }\n",
       "\n",
       "    .dataframe tbody tr th {\n",
       "        vertical-align: top;\n",
       "    }\n",
       "\n",
       "    .dataframe thead th {\n",
       "        text-align: right;\n",
       "    }\n",
       "</style>\n",
       "<table border=\"1\" class=\"dataframe\">\n",
       "  <thead>\n",
       "    <tr style=\"text-align: right;\">\n",
       "      <th></th>\n",
       "      <th>번호</th>\n",
       "      <th>지역</th>\n",
       "      <th>상호</th>\n",
       "      <th>주소</th>\n",
       "      <th>기간</th>\n",
       "      <th>상표</th>\n",
       "      <th>셀프여부</th>\n",
       "      <th>고급휘발유</th>\n",
       "      <th>휘발유</th>\n",
       "      <th>경유</th>\n",
       "      <th>실내등유</th>\n",
       "      <th>시</th>\n",
       "      <th>구</th>\n",
       "    </tr>\n",
       "  </thead>\n",
       "  <tbody>\n",
       "    <tr>\n",
       "      <th>13148</th>\n",
       "      <td>A0033328</td>\n",
       "      <td>서울 강서구</td>\n",
       "      <td>KH에너지(주)직영 KH외발산주유소</td>\n",
       "      <td>서울 강서구 방화대로 30</td>\n",
       "      <td>20190207</td>\n",
       "      <td>SK에너지</td>\n",
       "      <td>셀프</td>\n",
       "      <td>1788</td>\n",
       "      <td>1255</td>\n",
       "      <td>1155</td>\n",
       "      <td>0</td>\n",
       "      <td>서울특별시</td>\n",
       "      <td>강서구</td>\n",
       "    </tr>\n",
       "    <tr>\n",
       "      <th>82475</th>\n",
       "      <td>A0000605</td>\n",
       "      <td>서울 은평구</td>\n",
       "      <td>삼융주유소</td>\n",
       "      <td>서울 은평구 수색로 299 (수색동)</td>\n",
       "      <td>20190131</td>\n",
       "      <td>SK에너지</td>\n",
       "      <td>일반</td>\n",
       "      <td>0</td>\n",
       "      <td>1260</td>\n",
       "      <td>1160</td>\n",
       "      <td>0</td>\n",
       "      <td>서울특별시</td>\n",
       "      <td>은평구</td>\n",
       "    </tr>\n",
       "    <tr>\n",
       "      <th>82474</th>\n",
       "      <td>A0000605</td>\n",
       "      <td>서울 은평구</td>\n",
       "      <td>삼융주유소</td>\n",
       "      <td>서울 은평구 수색로 299 (수색동)</td>\n",
       "      <td>20190130</td>\n",
       "      <td>SK에너지</td>\n",
       "      <td>일반</td>\n",
       "      <td>0</td>\n",
       "      <td>1260</td>\n",
       "      <td>1160</td>\n",
       "      <td>0</td>\n",
       "      <td>서울특별시</td>\n",
       "      <td>은평구</td>\n",
       "    </tr>\n",
       "    <tr>\n",
       "      <th>82476</th>\n",
       "      <td>A0000605</td>\n",
       "      <td>서울 은평구</td>\n",
       "      <td>삼융주유소</td>\n",
       "      <td>서울 은평구 수색로 299 (수색동)</td>\n",
       "      <td>20190201</td>\n",
       "      <td>SK에너지</td>\n",
       "      <td>일반</td>\n",
       "      <td>0</td>\n",
       "      <td>1260</td>\n",
       "      <td>1160</td>\n",
       "      <td>0</td>\n",
       "      <td>서울특별시</td>\n",
       "      <td>은평구</td>\n",
       "    </tr>\n",
       "    <tr>\n",
       "      <th>82998</th>\n",
       "      <td>A0000690</td>\n",
       "      <td>서울 은평구</td>\n",
       "      <td>지에스칼텍스(주)수색뉴타운주유소</td>\n",
       "      <td>서울 은평구 수색로 350 (수색동)</td>\n",
       "      <td>20190126</td>\n",
       "      <td>GS칼텍스</td>\n",
       "      <td>셀프</td>\n",
       "      <td>0</td>\n",
       "      <td>1265</td>\n",
       "      <td>1165</td>\n",
       "      <td>0</td>\n",
       "      <td>서울특별시</td>\n",
       "      <td>은평구</td>\n",
       "    </tr>\n",
       "  </tbody>\n",
       "</table>\n",
       "</div>"
      ],
      "text/plain": [
       "             번호      지역                   상호  ... 실내등유      시    구\n",
       "13148  A0033328  서울 강서구  KH에너지(주)직영 KH외발산주유소  ...    0  서울특별시  강서구\n",
       "82475  A0000605  서울 은평구                삼융주유소  ...    0  서울특별시  은평구\n",
       "82474  A0000605  서울 은평구                삼융주유소  ...    0  서울특별시  은평구\n",
       "82476  A0000605  서울 은평구                삼융주유소  ...    0  서울특별시  은평구\n",
       "82998  A0000690  서울 은평구    지에스칼텍스(주)수색뉴타운주유소  ...    0  서울특별시  은평구\n",
       "\n",
       "[5 rows x 13 columns]"
      ]
     },
     "execution_count": 15,
     "metadata": {
      "tags": []
     },
     "output_type": "execute_result"
    }
   ],
   "source": [
    "# 휘발유 가격이 저렴한 5개 판매가격을 출력하세요. (단 휘발유가 0원인 데이터는 제외)\n",
    "df.loc[df['휘발유']>0].sort_values(by='휘발유').head()"
   ]
  },
  {
   "cell_type": "code",
   "execution_count": null,
   "metadata": {
    "colab": {
     "base_uri": "https://localhost:8080/",
     "height": 297
    },
    "id": "QeYhpC5fRwFR",
    "outputId": "d72e2c18-3651-41d5-d6d9-ed297b3724d1"
   },
   "outputs": [
    {
     "data": {
      "text/html": [
       "<div>\n",
       "<style scoped>\n",
       "    .dataframe tbody tr th:only-of-type {\n",
       "        vertical-align: middle;\n",
       "    }\n",
       "\n",
       "    .dataframe tbody tr th {\n",
       "        vertical-align: top;\n",
       "    }\n",
       "\n",
       "    .dataframe thead th {\n",
       "        text-align: right;\n",
       "    }\n",
       "</style>\n",
       "<table border=\"1\" class=\"dataframe\">\n",
       "  <thead>\n",
       "    <tr style=\"text-align: right;\">\n",
       "      <th></th>\n",
       "      <th>상표</th>\n",
       "      <th>휘발유</th>\n",
       "    </tr>\n",
       "  </thead>\n",
       "  <tbody>\n",
       "    <tr>\n",
       "      <th>0</th>\n",
       "      <td>GS칼텍스</td>\n",
       "      <td>1564.029014</td>\n",
       "    </tr>\n",
       "    <tr>\n",
       "      <th>1</th>\n",
       "      <td>NH-OIL</td>\n",
       "      <td>1449.088889</td>\n",
       "    </tr>\n",
       "    <tr>\n",
       "      <th>2</th>\n",
       "      <td>S-OIL</td>\n",
       "      <td>1532.302882</td>\n",
       "    </tr>\n",
       "    <tr>\n",
       "      <th>3</th>\n",
       "      <td>SK에너지</td>\n",
       "      <td>1612.147153</td>\n",
       "    </tr>\n",
       "    <tr>\n",
       "      <th>4</th>\n",
       "      <td>알뜰(ex)</td>\n",
       "      <td>1431.347945</td>\n",
       "    </tr>\n",
       "    <tr>\n",
       "      <th>5</th>\n",
       "      <td>알뜰주유소</td>\n",
       "      <td>1447.875902</td>\n",
       "    </tr>\n",
       "    <tr>\n",
       "      <th>6</th>\n",
       "      <td>자가상표</td>\n",
       "      <td>1492.085540</td>\n",
       "    </tr>\n",
       "    <tr>\n",
       "      <th>7</th>\n",
       "      <td>현대오일뱅크</td>\n",
       "      <td>1515.458244</td>\n",
       "    </tr>\n",
       "  </tbody>\n",
       "</table>\n",
       "</div>"
      ],
      "text/plain": [
       "       상표          휘발유\n",
       "0   GS칼텍스  1564.029014\n",
       "1  NH-OIL  1449.088889\n",
       "2   S-OIL  1532.302882\n",
       "3   SK에너지  1612.147153\n",
       "4  알뜰(ex)  1431.347945\n",
       "5   알뜰주유소  1447.875902\n",
       "6    자가상표  1492.085540\n",
       "7  현대오일뱅크  1515.458244"
      ]
     },
     "execution_count": 16,
     "metadata": {
      "tags": []
     },
     "output_type": "execute_result"
    }
   ],
   "source": [
    "# 상표별 평균 휘발유 가격을 계산하세요.\n",
    "df.groupby('상표')['휘발유'].mean().reset_index()"
   ]
  },
  {
   "cell_type": "code",
   "execution_count": null,
   "metadata": {
    "colab": {
     "base_uri": "https://localhost:8080/",
     "height": 459
    },
    "id": "Tq92Z_YQRwFU",
    "outputId": "5ca3f3dd-6109-4bdc-f1f8-a66113d03ca5"
   },
   "outputs": [
    {
     "data": {
      "text/plain": [
       "<matplotlib.axes._subplots.AxesSubplot at 0x7f912b53b5c0>"
      ]
     },
     "execution_count": 19,
     "metadata": {
      "tags": []
     },
     "output_type": "execute_result"
    },
    {
     "data": {
      "image/png": "[encoded data removed]",
      "text/plain": [
       "<Figure size 720x504 with 1 Axes>"
      ]
     },
     "metadata": {
      "needs_background": "light",
      "tags": []
     },
     "output_type": "display_data"
    }
   ],
   "source": [
    "# 상표별 평균 휘발유 가격을 시각화하세요.\n",
    "plt.figure(figsize=(10, 7))\n",
    "sns.barplot(x='상표', y='휘발유', data=df.groupby('상표')['휘발유'].mean().reset_index())"
   ]
  },
  {
   "cell_type": "code",
   "execution_count": null,
   "metadata": {
    "colab": {
     "base_uri": "https://localhost:8080/",
     "height": 514
    },
    "id": "-CMVi3GrRwFW",
    "outputId": "1f2a9c66-a619-4d03-eb07-eecc592aa9a1"
   },
   "outputs": [
    {
     "data": {
      "text/html": [
       "<div>\n",
       "<style scoped>\n",
       "    .dataframe tbody tr th:only-of-type {\n",
       "        vertical-align: middle;\n",
       "    }\n",
       "\n",
       "    .dataframe tbody tr th {\n",
       "        vertical-align: top;\n",
       "    }\n",
       "\n",
       "    .dataframe thead th {\n",
       "        text-align: right;\n",
       "    }\n",
       "</style>\n",
       "<table border=\"1\" class=\"dataframe\">\n",
       "  <thead>\n",
       "    <tr style=\"text-align: right;\">\n",
       "      <th></th>\n",
       "      <th></th>\n",
       "      <th>휘발유</th>\n",
       "    </tr>\n",
       "    <tr>\n",
       "      <th>상표</th>\n",
       "      <th>셀프여부</th>\n",
       "      <th></th>\n",
       "    </tr>\n",
       "  </thead>\n",
       "  <tbody>\n",
       "    <tr>\n",
       "      <th rowspan=\"2\" valign=\"top\">GS칼텍스</th>\n",
       "      <th>셀프</th>\n",
       "      <td>1481.410074</td>\n",
       "    </tr>\n",
       "    <tr>\n",
       "      <th>일반</th>\n",
       "      <td>1610.060123</td>\n",
       "    </tr>\n",
       "    <tr>\n",
       "      <th>NH-OIL</th>\n",
       "      <th>일반</th>\n",
       "      <td>1449.088889</td>\n",
       "    </tr>\n",
       "    <tr>\n",
       "      <th rowspan=\"2\" valign=\"top\">S-OIL</th>\n",
       "      <th>셀프</th>\n",
       "      <td>1481.437428</td>\n",
       "    </tr>\n",
       "    <tr>\n",
       "      <th>일반</th>\n",
       "      <td>1579.451162</td>\n",
       "    </tr>\n",
       "    <tr>\n",
       "      <th rowspan=\"2\" valign=\"top\">SK에너지</th>\n",
       "      <th>셀프</th>\n",
       "      <td>1504.853863</td>\n",
       "    </tr>\n",
       "    <tr>\n",
       "      <th>일반</th>\n",
       "      <td>1690.377765</td>\n",
       "    </tr>\n",
       "    <tr>\n",
       "      <th>알뜰(ex)</th>\n",
       "      <th>셀프</th>\n",
       "      <td>1431.347945</td>\n",
       "    </tr>\n",
       "    <tr>\n",
       "      <th rowspan=\"2\" valign=\"top\">알뜰주유소</th>\n",
       "      <th>셀프</th>\n",
       "      <td>1434.726027</td>\n",
       "    </tr>\n",
       "    <tr>\n",
       "      <th>일반</th>\n",
       "      <td>1455.372511</td>\n",
       "    </tr>\n",
       "    <tr>\n",
       "      <th rowspan=\"2\" valign=\"top\">자가상표</th>\n",
       "      <th>셀프</th>\n",
       "      <td>1494.409449</td>\n",
       "    </tr>\n",
       "    <tr>\n",
       "      <th>일반</th>\n",
       "      <td>1491.740351</td>\n",
       "    </tr>\n",
       "    <tr>\n",
       "      <th rowspan=\"2\" valign=\"top\">현대오일뱅크</th>\n",
       "      <th>셀프</th>\n",
       "      <td>1483.546767</td>\n",
       "    </tr>\n",
       "    <tr>\n",
       "      <th>일반</th>\n",
       "      <td>1534.254225</td>\n",
       "    </tr>\n",
       "  </tbody>\n",
       "</table>\n",
       "</div>"
      ],
      "text/plain": [
       "                     휘발유\n",
       "상표     셀프여부             \n",
       "GS칼텍스  셀프    1481.410074\n",
       "       일반    1610.060123\n",
       "NH-OIL 일반    1449.088889\n",
       "S-OIL  셀프    1481.437428\n",
       "       일반    1579.451162\n",
       "SK에너지  셀프    1504.853863\n",
       "       일반    1690.377765\n",
       "알뜰(ex) 셀프    1431.347945\n",
       "알뜰주유소  셀프    1434.726027\n",
       "       일반    1455.372511\n",
       "자가상표   셀프    1494.409449\n",
       "       일반    1491.740351\n",
       "현대오일뱅크 셀프    1483.546767\n",
       "       일반    1534.254225"
      ]
     },
     "execution_count": 35,
     "metadata": {
      "tags": []
     },
     "output_type": "execute_result"
    }
   ],
   "source": [
    "# 상표와 셀프여부별 평균 휘발유 가격을 계산하세요.\n",
    "df.pivot_table(index=['상표', '셀프여부'], values=['휘발유'])"
   ]
  },
  {
   "cell_type": "markdown",
   "metadata": {
    "id": "7tFwSt7wwdJJ"
   },
   "source": []
  },
  {
   "cell_type": "code",
   "execution_count": null,
   "metadata": {
    "colab": {
     "base_uri": "https://localhost:8080/",
     "height": 388
    },
    "id": "abVwmu-xRwFX",
    "outputId": "94a3167e-441d-4a5d-b35d-5902a949a9c1"
   },
   "outputs": [
    {
     "data": {
      "text/plain": [
       "<matplotlib.axes._subplots.AxesSubplot at 0x7f9129c07908>"
      ]
     },
     "execution_count": 42,
     "metadata": {
      "tags": []
     },
     "output_type": "execute_result"
    },
    {
     "data": {
      "text/plain": [
       "<Figure size 720x504 with 0 Axes>"
      ]
     },
     "metadata": {
      "tags": []
     },
     "output_type": "display_data"
    },
    {
     "data": {
      "image/png": "[encoded data removed]",
      "text/plain": [
       "<Figure size 432x288 with 1 Axes>"
      ]
     },
     "metadata": {
      "needs_background": "light",
      "tags": []
     },
     "output_type": "display_data"
    }
   ],
   "source": [
    "# 상표와 셀프여부별 평균 휘발유 가격을 시각화하세요.\n",
    "df.pivot_table(index=['상표', '셀프여부'], values=['휘발유']).plot(kind='bar')"
   ]
  },
  {
   "cell_type": "code",
   "execution_count": null,
   "metadata": {
    "colab": {
     "base_uri": "https://localhost:8080/",
     "height": 459
    },
    "id": "4a207wBmRwFZ",
    "outputId": "8f240f4c-71f1-4fd7-b51f-409e6650bf61"
   },
   "outputs": [
    {
     "data": {
      "text/plain": [
       "<matplotlib.axes._subplots.AxesSubplot at 0x7f9129c07278>"
      ]
     },
     "execution_count": 44,
     "metadata": {
      "tags": []
     },
     "output_type": "execute_result"
    },
    {
     "data": {
      "image/png": "[encoded data removed]",
      "text/plain": [
       "<Figure size 720x504 with 1 Axes>"
      ]
     },
     "metadata": {
      "needs_background": "light",
      "tags": []
     },
     "output_type": "display_data"
    }
   ],
   "source": [
    "# 셀프여부에 따라 휘발유 가격을 boxplot으로 시각화해보세요.\n",
    "# 휘발유가 0인 데이터는 제외하고 시각화합니다.\n",
    "plt.figure(figsize=(10, 7))\n",
    "sns.boxplot(x='셀프여부', y='휘발유', data=df.loc[df['휘발유'] > 0])"
   ]
  },
  {
   "cell_type": "code",
   "execution_count": null,
   "metadata": {
    "colab": {
     "base_uri": "https://localhost:8080/",
     "height": 459
    },
    "id": "j0kqFvt-RwFb",
    "outputId": "790b22b6-f05a-4e2d-923b-71a6000e741c"
   },
   "outputs": [
    {
     "data": {
      "text/plain": [
       "<matplotlib.axes._subplots.AxesSubplot at 0x7f9128605e48>"
      ]
     },
     "execution_count": 49,
     "metadata": {
      "tags": []
     },
     "output_type": "execute_result"
    },
    {
     "data": {
      "image/png": "[encoded data removed]",
      "text/plain": [
       "<Figure size 720x504 with 1 Axes>"
      ]
     },
     "metadata": {
      "needs_background": "light",
      "tags": []
     },
     "output_type": "display_data"
    }
   ],
   "source": [
    "# 휘발유 가격과 일반 주유소의 가격을 boxplot을 이용하여 시각화해보세요.\n",
    "# 휘발유가 0인 데이터는 제외하고 시각화합니다.\n",
    "plt.figure(figsize=(10, 7))\n",
    "sns.boxplot(x='상표', y='휘발유', hue='셀프여부', data=df.loc[df['휘발유'] > 0])"
   ]
  },
  {
   "cell_type": "code",
   "execution_count": null,
   "metadata": {
    "colab": {
     "base_uri": "https://localhost:8080/",
     "height": 476
    },
    "id": "_cDf0HZcRwFc",
    "outputId": "444bd95e-76a3-4250-ddde-d7c4b5b2ccb9"
   },
   "outputs": [
    {
     "data": {
      "text/plain": [
       "구\n",
       "강남구     1713.093581\n",
       "강동구     1576.685264\n",
       "강북구     1453.517525\n",
       "강서구     1488.818088\n",
       "관악구     1518.128564\n",
       "광진구     1490.597054\n",
       "구로구     1525.410383\n",
       "금천구     1477.121992\n",
       "노원구     1531.221551\n",
       "도봉구     1494.171062\n",
       "동대문구    1506.833542\n",
       "동작구     1512.470911\n",
       "마포구     1689.755616\n",
       "서대문구    1528.943332\n",
       "서초구     1577.131304\n",
       "성동구     1583.659561\n",
       "성북구     1507.948267\n",
       "송파구     1518.957954\n",
       "양천구     1512.890261\n",
       "영등포구    1568.279506\n",
       "용산구     1882.049825\n",
       "은평구     1481.964026\n",
       "종로구     1838.554945\n",
       "중구      1976.948052\n",
       "중랑구     1469.009092\n",
       "Name: 휘발유, dtype: float64"
      ]
     },
     "execution_count": 55,
     "metadata": {
      "tags": []
     },
     "output_type": "execute_result"
    }
   ],
   "source": [
    "# 지역별 평균 휘발유 가격을 계산하세요\n",
    "df.groupby('구')['휘발유'].mean()"
   ]
  },
  {
   "cell_type": "code",
   "execution_count": null,
   "metadata": {
    "colab": {
     "base_uri": "https://localhost:8080/",
     "height": 322
    },
    "id": "g8ALH_eiRwFe",
    "outputId": "d1babd39-c275-4e93-da8e-03d4df228502"
   },
   "outputs": [
    {
     "data": {
      "text/plain": [
       "<matplotlib.axes._subplots.AxesSubplot at 0x7f9128fda780>"
      ]
     },
     "execution_count": 56,
     "metadata": {
      "tags": []
     },
     "output_type": "execute_result"
    },
    {
     "data": {
      "image/png": "[encoded data removed]",
      "text/plain": [
       "<Figure size 432x288 with 1 Axes>"
      ]
     },
     "metadata": {
      "needs_background": "light",
      "tags": []
     },
     "output_type": "display_data"
    }
   ],
   "source": [
    "# 지역별 평균 휘발유 가격을 시각화하세요.\n",
    "df.groupby('구')['휘발유'].mean().plot(kind='bar')"
   ]
  },
  {
   "cell_type": "code",
   "execution_count": null,
   "metadata": {
    "colab": {
     "base_uri": "https://localhost:8080/",
     "height": 855
    },
    "id": "8r9hSTY8RwFj",
    "outputId": "31ad8496-b2b9-4ed8-dcab-f0af71d09552"
   },
   "outputs": [
    {
     "data": {
      "text/html": [
       "<div>\n",
       "<style scoped>\n",
       "    .dataframe tbody tr th:only-of-type {\n",
       "        vertical-align: middle;\n",
       "    }\n",
       "\n",
       "    .dataframe tbody tr th {\n",
       "        vertical-align: top;\n",
       "    }\n",
       "\n",
       "    .dataframe thead th {\n",
       "        text-align: right;\n",
       "    }\n",
       "</style>\n",
       "<table border=\"1\" class=\"dataframe\">\n",
       "  <thead>\n",
       "    <tr style=\"text-align: right;\">\n",
       "      <th>상표</th>\n",
       "      <th>GS칼텍스</th>\n",
       "      <th>NH-OIL</th>\n",
       "      <th>S-OIL</th>\n",
       "      <th>SK에너지</th>\n",
       "      <th>알뜰(ex)</th>\n",
       "      <th>알뜰주유소</th>\n",
       "      <th>자가상표</th>\n",
       "      <th>현대오일뱅크</th>\n",
       "    </tr>\n",
       "    <tr>\n",
       "      <th>구</th>\n",
       "      <th></th>\n",
       "      <th></th>\n",
       "      <th></th>\n",
       "      <th></th>\n",
       "      <th></th>\n",
       "      <th></th>\n",
       "      <th></th>\n",
       "      <th></th>\n",
       "    </tr>\n",
       "  </thead>\n",
       "  <tbody>\n",
       "    <tr>\n",
       "      <th>강남구</th>\n",
       "      <td>1687.445077</td>\n",
       "      <td>NaN</td>\n",
       "      <td>1684.525114</td>\n",
       "      <td>1746.478287</td>\n",
       "      <td>NaN</td>\n",
       "      <td>NaN</td>\n",
       "      <td>NaN</td>\n",
       "      <td>1684.545753</td>\n",
       "    </tr>\n",
       "    <tr>\n",
       "      <th>강동구</th>\n",
       "      <td>1549.105811</td>\n",
       "      <td>NaN</td>\n",
       "      <td>1555.941096</td>\n",
       "      <td>1607.403213</td>\n",
       "      <td>NaN</td>\n",
       "      <td>NaN</td>\n",
       "      <td>NaN</td>\n",
       "      <td>1560.321113</td>\n",
       "    </tr>\n",
       "    <tr>\n",
       "      <th>강북구</th>\n",
       "      <td>1446.585701</td>\n",
       "      <td>NaN</td>\n",
       "      <td>1435.538732</td>\n",
       "      <td>1467.980274</td>\n",
       "      <td>NaN</td>\n",
       "      <td>NaN</td>\n",
       "      <td>NaN</td>\n",
       "      <td>1449.887397</td>\n",
       "    </tr>\n",
       "    <tr>\n",
       "      <th>강서구</th>\n",
       "      <td>1477.505288</td>\n",
       "      <td>NaN</td>\n",
       "      <td>1506.668194</td>\n",
       "      <td>1510.680700</td>\n",
       "      <td>NaN</td>\n",
       "      <td>1428.951598</td>\n",
       "      <td>NaN</td>\n",
       "      <td>1460.318356</td>\n",
       "    </tr>\n",
       "    <tr>\n",
       "      <th>관악구</th>\n",
       "      <td>1531.758242</td>\n",
       "      <td>NaN</td>\n",
       "      <td>1507.889041</td>\n",
       "      <td>1528.688822</td>\n",
       "      <td>NaN</td>\n",
       "      <td>1461.147945</td>\n",
       "      <td>NaN</td>\n",
       "      <td>1509.536301</td>\n",
       "    </tr>\n",
       "    <tr>\n",
       "      <th>광진구</th>\n",
       "      <td>1500.185205</td>\n",
       "      <td>NaN</td>\n",
       "      <td>1461.713615</td>\n",
       "      <td>1520.164208</td>\n",
       "      <td>NaN</td>\n",
       "      <td>1445.307692</td>\n",
       "      <td>NaN</td>\n",
       "      <td>1461.032877</td>\n",
       "    </tr>\n",
       "    <tr>\n",
       "      <th>구로구</th>\n",
       "      <td>1616.378082</td>\n",
       "      <td>NaN</td>\n",
       "      <td>1499.692848</td>\n",
       "      <td>1530.409716</td>\n",
       "      <td>NaN</td>\n",
       "      <td>1454.550685</td>\n",
       "      <td>NaN</td>\n",
       "      <td>1489.084611</td>\n",
       "    </tr>\n",
       "    <tr>\n",
       "      <th>금천구</th>\n",
       "      <td>1450.796161</td>\n",
       "      <td>NaN</td>\n",
       "      <td>1452.515982</td>\n",
       "      <td>1532.235213</td>\n",
       "      <td>NaN</td>\n",
       "      <td>1450.621918</td>\n",
       "      <td>NaN</td>\n",
       "      <td>1456.960274</td>\n",
       "    </tr>\n",
       "    <tr>\n",
       "      <th>노원구</th>\n",
       "      <td>1515.491059</td>\n",
       "      <td>NaN</td>\n",
       "      <td>1496.448402</td>\n",
       "      <td>1555.002740</td>\n",
       "      <td>NaN</td>\n",
       "      <td>NaN</td>\n",
       "      <td>NaN</td>\n",
       "      <td>1610.630137</td>\n",
       "    </tr>\n",
       "    <tr>\n",
       "      <th>도봉구</th>\n",
       "      <td>1479.968391</td>\n",
       "      <td>NaN</td>\n",
       "      <td>1482.898821</td>\n",
       "      <td>1470.731360</td>\n",
       "      <td>NaN</td>\n",
       "      <td>NaN</td>\n",
       "      <td>NaN</td>\n",
       "      <td>1552.755312</td>\n",
       "    </tr>\n",
       "    <tr>\n",
       "      <th>동대문구</th>\n",
       "      <td>1482.921005</td>\n",
       "      <td>NaN</td>\n",
       "      <td>1513.856164</td>\n",
       "      <td>1501.047978</td>\n",
       "      <td>NaN</td>\n",
       "      <td>NaN</td>\n",
       "      <td>NaN</td>\n",
       "      <td>1536.548193</td>\n",
       "    </tr>\n",
       "    <tr>\n",
       "      <th>동작구</th>\n",
       "      <td>1491.727854</td>\n",
       "      <td>NaN</td>\n",
       "      <td>1498.509589</td>\n",
       "      <td>1550.445463</td>\n",
       "      <td>NaN</td>\n",
       "      <td>NaN</td>\n",
       "      <td>NaN</td>\n",
       "      <td>1500.009149</td>\n",
       "    </tr>\n",
       "    <tr>\n",
       "      <th>마포구</th>\n",
       "      <td>1542.232877</td>\n",
       "      <td>NaN</td>\n",
       "      <td>1703.961644</td>\n",
       "      <td>1722.209230</td>\n",
       "      <td>NaN</td>\n",
       "      <td>NaN</td>\n",
       "      <td>NaN</td>\n",
       "      <td>1590.736842</td>\n",
       "    </tr>\n",
       "    <tr>\n",
       "      <th>서대문구</th>\n",
       "      <td>1488.536986</td>\n",
       "      <td>NaN</td>\n",
       "      <td>1525.858447</td>\n",
       "      <td>1573.783000</td>\n",
       "      <td>NaN</td>\n",
       "      <td>NaN</td>\n",
       "      <td>NaN</td>\n",
       "      <td>1450.385429</td>\n",
       "    </tr>\n",
       "    <tr>\n",
       "      <th>서초구</th>\n",
       "      <td>1531.846440</td>\n",
       "      <td>1449.088889</td>\n",
       "      <td>1607.371539</td>\n",
       "      <td>1650.836803</td>\n",
       "      <td>1431.347945</td>\n",
       "      <td>NaN</td>\n",
       "      <td>NaN</td>\n",
       "      <td>1497.570853</td>\n",
       "    </tr>\n",
       "    <tr>\n",
       "      <th>성동구</th>\n",
       "      <td>1698.649315</td>\n",
       "      <td>NaN</td>\n",
       "      <td>1476.755158</td>\n",
       "      <td>1592.397250</td>\n",
       "      <td>NaN</td>\n",
       "      <td>NaN</td>\n",
       "      <td>1468.419178</td>\n",
       "      <td>1564.228767</td>\n",
       "    </tr>\n",
       "    <tr>\n",
       "      <th>성북구</th>\n",
       "      <td>1483.956593</td>\n",
       "      <td>NaN</td>\n",
       "      <td>1628.650892</td>\n",
       "      <td>1498.780043</td>\n",
       "      <td>NaN</td>\n",
       "      <td>1426.104110</td>\n",
       "      <td>NaN</td>\n",
       "      <td>1463.980795</td>\n",
       "    </tr>\n",
       "    <tr>\n",
       "      <th>송파구</th>\n",
       "      <td>1494.918242</td>\n",
       "      <td>NaN</td>\n",
       "      <td>1494.022928</td>\n",
       "      <td>1555.258816</td>\n",
       "      <td>NaN</td>\n",
       "      <td>NaN</td>\n",
       "      <td>NaN</td>\n",
       "      <td>1483.088251</td>\n",
       "    </tr>\n",
       "    <tr>\n",
       "      <th>양천구</th>\n",
       "      <td>1460.275064</td>\n",
       "      <td>NaN</td>\n",
       "      <td>1469.628319</td>\n",
       "      <td>1555.019054</td>\n",
       "      <td>NaN</td>\n",
       "      <td>1436.164384</td>\n",
       "      <td>NaN</td>\n",
       "      <td>1483.711637</td>\n",
       "    </tr>\n",
       "    <tr>\n",
       "      <th>영등포구</th>\n",
       "      <td>1600.767985</td>\n",
       "      <td>NaN</td>\n",
       "      <td>1479.931507</td>\n",
       "      <td>1605.011353</td>\n",
       "      <td>NaN</td>\n",
       "      <td>1442.375342</td>\n",
       "      <td>NaN</td>\n",
       "      <td>1456.129808</td>\n",
       "    </tr>\n",
       "    <tr>\n",
       "      <th>용산구</th>\n",
       "      <td>1782.320485</td>\n",
       "      <td>NaN</td>\n",
       "      <td>NaN</td>\n",
       "      <td>1930.314932</td>\n",
       "      <td>NaN</td>\n",
       "      <td>NaN</td>\n",
       "      <td>NaN</td>\n",
       "      <td>1950.587662</td>\n",
       "    </tr>\n",
       "    <tr>\n",
       "      <th>은평구</th>\n",
       "      <td>1475.485403</td>\n",
       "      <td>NaN</td>\n",
       "      <td>1466.973973</td>\n",
       "      <td>1501.603004</td>\n",
       "      <td>NaN</td>\n",
       "      <td>NaN</td>\n",
       "      <td>1528.918200</td>\n",
       "      <td>1449.515068</td>\n",
       "    </tr>\n",
       "    <tr>\n",
       "      <th>종로구</th>\n",
       "      <td>2075.332877</td>\n",
       "      <td>NaN</td>\n",
       "      <td>1605.651452</td>\n",
       "      <td>1898.578875</td>\n",
       "      <td>NaN</td>\n",
       "      <td>NaN</td>\n",
       "      <td>NaN</td>\n",
       "      <td>1586.572603</td>\n",
       "    </tr>\n",
       "    <tr>\n",
       "      <th>중구</th>\n",
       "      <td>2091.866438</td>\n",
       "      <td>NaN</td>\n",
       "      <td>1783.369863</td>\n",
       "      <td>2060.617512</td>\n",
       "      <td>NaN</td>\n",
       "      <td>1601.552743</td>\n",
       "      <td>1418.859375</td>\n",
       "      <td>1711.669903</td>\n",
       "    </tr>\n",
       "    <tr>\n",
       "      <th>중랑구</th>\n",
       "      <td>1467.271554</td>\n",
       "      <td>NaN</td>\n",
       "      <td>1473.182410</td>\n",
       "      <td>1480.476675</td>\n",
       "      <td>NaN</td>\n",
       "      <td>1382.555556</td>\n",
       "      <td>NaN</td>\n",
       "      <td>1435.509589</td>\n",
       "    </tr>\n",
       "  </tbody>\n",
       "</table>\n",
       "</div>"
      ],
      "text/plain": [
       "상표          GS칼텍스       NH-OIL  ...         자가상표       현대오일뱅크\n",
       "구                               ...                          \n",
       "강남구   1687.445077          NaN  ...          NaN  1684.545753\n",
       "강동구   1549.105811          NaN  ...          NaN  1560.321113\n",
       "강북구   1446.585701          NaN  ...          NaN  1449.887397\n",
       "강서구   1477.505288          NaN  ...          NaN  1460.318356\n",
       "관악구   1531.758242          NaN  ...          NaN  1509.536301\n",
       "광진구   1500.185205          NaN  ...          NaN  1461.032877\n",
       "구로구   1616.378082          NaN  ...          NaN  1489.084611\n",
       "금천구   1450.796161          NaN  ...          NaN  1456.960274\n",
       "노원구   1515.491059          NaN  ...          NaN  1610.630137\n",
       "도봉구   1479.968391          NaN  ...          NaN  1552.755312\n",
       "동대문구  1482.921005          NaN  ...          NaN  1536.548193\n",
       "동작구   1491.727854          NaN  ...          NaN  1500.009149\n",
       "마포구   1542.232877          NaN  ...          NaN  1590.736842\n",
       "서대문구  1488.536986          NaN  ...          NaN  1450.385429\n",
       "서초구   1531.846440  1449.088889  ...          NaN  1497.570853\n",
       "성동구   1698.649315          NaN  ...  1468.419178  1564.228767\n",
       "성북구   1483.956593          NaN  ...          NaN  1463.980795\n",
       "송파구   1494.918242          NaN  ...          NaN  1483.088251\n",
       "양천구   1460.275064          NaN  ...          NaN  1483.711637\n",
       "영등포구  1600.767985          NaN  ...          NaN  1456.129808\n",
       "용산구   1782.320485          NaN  ...          NaN  1950.587662\n",
       "은평구   1475.485403          NaN  ...  1528.918200  1449.515068\n",
       "종로구   2075.332877          NaN  ...          NaN  1586.572603\n",
       "중구    2091.866438          NaN  ...  1418.859375  1711.669903\n",
       "중랑구   1467.271554          NaN  ...          NaN  1435.509589\n",
       "\n",
       "[25 rows x 8 columns]"
      ]
     },
     "execution_count": 59,
     "metadata": {
      "tags": []
     },
     "output_type": "execute_result"
    }
   ],
   "source": [
    "# pivot_table 함수를 이용하여 구와 상표 컬럼을 이용하여 평균 휘발유 가격을 계산하세요\n",
    "df.pivot_table(index='구', columns='상표', values='휘발유')"
   ]
  },
  {
   "cell_type": "code",
   "execution_count": null,
   "metadata": {
    "colab": {
     "base_uri": "https://localhost:8080/",
     "height": 459
    },
    "id": "T5BEnNqDRwFl",
    "outputId": "0364c010-26a0-47e1-94ff-c678faf7a0b1"
   },
   "outputs": [
    {
     "data": {
      "text/plain": [
       "<matplotlib.axes._subplots.AxesSubplot at 0x7f9128f2acf8>"
      ]
     },
     "execution_count": 61,
     "metadata": {
      "tags": []
     },
     "output_type": "execute_result"
    },
    {
     "data": {
      "image/png": "[encoded data removed]",
      "text/plain": [
       "<Figure size 720x504 with 2 Axes>"
      ]
     },
     "metadata": {
      "needs_background": "light",
      "tags": []
     },
     "output_type": "display_data"
    }
   ],
   "source": [
    "# pivot_table 함수를 이용하여 구와 월 컬럼을 이용하여 평균 휘발유 가격을 시각화 하세요 (heatmap 이용)\n",
    "plt.figure(figsize=(10, 10))\n",
    "sns.heatmap(round(df.pivot_table(index='구', columns='상표', values='휘발유'), 0), fmt='g', annot=True)"
   ]
  }
 ],
 "metadata": {
  "colab": {
   "collapsed_sections": [],
   "name": "주유가격 (해설)",
   "provenance": []
  },
  "kernelspec": {
   "display_name": "Python 3",
   "language": "python",
   "name": "python3"
  },
  "language_info": {
   "codemirror_mode": {
    "name": "ipython",
    "version": 3
   },
   "file_extension": ".py",
   "mimetype": "text/x-python",
   "name": "python",
   "nbconvert_exporter": "python",
   "pygments_lexer": "ipython3",
   "version": "3.8.5"
  }
 },
 "nbformat": 4,
 "nbformat_minor": 1
}
