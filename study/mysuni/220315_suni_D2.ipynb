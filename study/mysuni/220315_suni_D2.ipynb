{
 "cells": [
  {
   "cell_type": "markdown",
   "id": "1be25a0e",
   "metadata": {},
   "source": [
    "# Day2\n",
    "\n",
    "## 1.제어문(프로그램의 구조를 쌓는다)\n",
    "1. if\n",
    "- 조건식 결과에 따라서 서로 다른 코드를 실행 \n",
    "    - True인 경우 if 구역 실행\n",
    "    - False인 경우 else 구역 실행\n",
    "- if : 조건식의 결과가 참이면 본인의 구역을 실행\n",
    "- elif (else + if) : 앞선 조건식의 결과가 거짓이면서 본인 조건식의 결과가 참이면 본인의 구역을 실행\n",
    "- else : 앞선 조건식의 결과가 거짓이면 본인의 구역 실행\n",
    "- 구역은 들여쓰기를 이용해서 지정\n",
    "2. while\n",
    "  - 특정조건을 만족하는 동안 실행하는 반복문\n",
    "3. for\n",
    "  - 특정 코드를 여러번 실행시키고 싶을때 사용한다.\n",
    "  - range을 이용한 for 문은 데이터를 만들수 있다.\n",
    "  \n",
    "\n",
    "  - <기본 형태>\n",
    "  - for 변수 in 리스트(또는 튜플, 문자열):\n",
    "    수행할 문장1\n",
    "    수행할 문장2\n",
    "    ...\n",
    "    \n",
    "  - 리스트의 요소를 변수의 순서대로 대입하면서 실행한다.\n",
    "\n",
    "## 2.함수\n",
    "- 위치인수, 위치를 기반으로 값을 전환한다.\n",
    "- 기본인수 \n",
    "- 키워드인수, 이름을 기준으로 값을 전달한다. 순서상관없음\n",
    "- 가변 매개변수 (*는 튜플로 저장, ** 딕셔너리 형태로 저장)\n",
    "\n",
    "## 3.모듈\n",
    "\n",
    "- 모듈은 확장자를 뺸 나머지 이름이다.\n",
    "- import __a___ as ____(별칭)= \n",
    "- from __a___ import _____ = \n",
    "- from ___a___ import * = a모듈내에 전체 모듈 다 가져온다.\n",
    "\n",
    "-------------------여기까지가 퀴즈시험범위이고 6문제가 나온다-----------\n",
    "\n",
    "### 3-1 numpy\n",
    "1. reshape: 형태를 자유자제로 변경한다. 단 부피가 같아야 한다. -1은 알아서 계산해 준다.\n",
    " - np.reshape = array를 지정해 줘야한다.\n",
    " - array.reshape = 그냥 사용가능하다.\n",
    " \n",
    "2. indexing\n",
    " - 대괄호를 한번만 사용한다 [1,0]\n",
    " - 조건 인덱싱 =필터 \n",
    " - 팬시인덱싱 = 포인트로 지정한다. (판다스는 선형형태이다)\n",
    "\n",
    "3. where : 특정조건을 만족하는 위치 반환\n",
    " - np.where ~~\n",
    "\n",
    "4. 랜덤으로 만드는 방법\n",
    " - np.rando.seed(숫자)\n",
    "   draws = np.random.randint(a,b,c) a=시작, b=끝(생략),c= 개수\n",
    "   \n",
    "5. 변수를 저장하는 방법\n",
    " - 이름 = 함수\n",
    "   이름(실행) -> 어떤 함수에 대한 값을 출력하기 위해서는 필수이다.\n",
    "   \n",
    "6. 기타\n",
    " - steps.cumsum() : steps 배열에 누적합\n",
    " - np.min(데이터) : 데이터의 최소값\n",
    " - np.max(데이터) : 데이터의 최대값\n",
    " - np.abs(데이터) : 음수를 양수로 변경\n",
    " - 데이터 = 데이터 >= 숫자 : 숫자이상인 경우 참,거짓으로 반환\n",
    " - 데이터.argmax() : 최대값을 조회\n",
    "-------------------인증시험에서는 2문제 나온다. ----------------"
   ]
  },
  {
   "cell_type": "code",
   "execution_count": 2,
   "id": "cc1d4804",
   "metadata": {
    "collapsed": true
   },
   "outputs": [
    {
     "name": "stdout",
     "output_type": "stream",
     "text": [
      "1\n",
      "2\n",
      "3\n",
      "4\n",
      "5\n",
      "6\n"
     ]
    }
   ],
   "source": [
    "test_score = [1,2,3,4,5,6]\n",
    "\n",
    "for i in test_score:\n",
    "    print(i)"
   ]
  },
  {
   "cell_type": "code",
   "execution_count": 4,
   "id": "1e540da8",
   "metadata": {
    "collapsed": true
   },
   "outputs": [
    {
     "name": "stdout",
     "output_type": "stream",
     "text": [
      "1\n",
      "2\n",
      "3\n",
      "4\n",
      "5\n",
      "6\n"
     ]
    }
   ],
   "source": [
    "test_score = [1,2,3,4,5,6]\n",
    "\n",
    "for n in test_score: #알파벳은 아무거나 넣어도 무관하다.\n",
    "    print(n) "
   ]
  },
  {
   "cell_type": "code",
   "execution_count": 6,
   "id": "2dc72422",
   "metadata": {
    "collapsed": true
   },
   "outputs": [
    {
     "name": "stdout",
     "output_type": "stream",
     "text": [
      "h\n",
      "e\n",
      "l\n",
      "l\n",
      "o\n"
     ]
    }
   ],
   "source": [
    "for n in \"hello\":\n",
    "    print(n)"
   ]
  },
  {
   "cell_type": "code",
   "execution_count": 7,
   "id": "c090566a",
   "metadata": {
    "collapsed": true
   },
   "outputs": [
    {
     "name": "stdout",
     "output_type": "stream",
     "text": [
      "불합격\n",
      "불합격\n",
      "불합격\n",
      "불합격\n",
      "합격\n",
      "합격\n"
     ]
    }
   ],
   "source": [
    "시험결과 = [11,45,23,12,67,89]\n",
    "\n",
    "for score in 시험결과:\n",
    "    if score >= 60:\n",
    "        print(\"합격\")\n",
    "    else:\n",
    "        print(\"불합격\")"
   ]
  },
  {
   "cell_type": "code",
   "execution_count": 10,
   "id": "ad3251d1",
   "metadata": {
    "collapsed": true
   },
   "outputs": [
    {
     "name": "stdout",
     "output_type": "stream",
     "text": [
      "정상체중\n",
      "정상체중\n",
      "정상체중\n",
      "과체중\n",
      "과체중\n"
     ]
    }
   ],
   "source": [
    "용소율몸무게 = [5,7,9,11,15]\n",
    "\n",
    "for 몸무게 in 용소율몸무게:\n",
    "    if 몸무게 >= 10:\n",
    "        print(\"과체중\")\n",
    "    else:\n",
    "        print(\"정상체중\")"
   ]
  },
  {
   "cell_type": "markdown",
   "id": "fad18cf0",
   "metadata": {},
   "source": [
    "## range 를 이용한 for문\n",
    "- 사용방법: range (start,stop, step)\n",
    "- range (x) (start =0,stop=x, step=1)\n",
    "- range (x,y) (start =x,stop=y, step=1) \n"
   ]
  },
  {
   "cell_type": "code",
   "execution_count": 11,
   "id": "5bcf0499",
   "metadata": {
    "collapsed": true
   },
   "outputs": [
    {
     "data": {
      "text/plain": [
       "range(1, 101)"
      ]
     },
     "execution_count": 11,
     "metadata": {},
     "output_type": "execute_result"
    }
   ],
   "source": [
    "range(1,101) # 컴퓨터는 아래와 같이 인식 한다. 마지막숫자는 빠진다 즉 100으로 끝"
   ]
  },
  {
   "cell_type": "code",
   "execution_count": 12,
   "id": "3bfd99ec",
   "metadata": {
    "collapsed": true
   },
   "outputs": [
    {
     "data": {
      "text/plain": [
       "[1,\n",
       " 2,\n",
       " 3,\n",
       " 4,\n",
       " 5,\n",
       " 6,\n",
       " 7,\n",
       " 8,\n",
       " 9,\n",
       " 10,\n",
       " 11,\n",
       " 12,\n",
       " 13,\n",
       " 14,\n",
       " 15,\n",
       " 16,\n",
       " 17,\n",
       " 18,\n",
       " 19,\n",
       " 20,\n",
       " 21,\n",
       " 22,\n",
       " 23,\n",
       " 24,\n",
       " 25,\n",
       " 26,\n",
       " 27,\n",
       " 28,\n",
       " 29,\n",
       " 30,\n",
       " 31,\n",
       " 32,\n",
       " 33,\n",
       " 34,\n",
       " 35,\n",
       " 36,\n",
       " 37,\n",
       " 38,\n",
       " 39,\n",
       " 40,\n",
       " 41,\n",
       " 42,\n",
       " 43,\n",
       " 44,\n",
       " 45,\n",
       " 46,\n",
       " 47,\n",
       " 48,\n",
       " 49,\n",
       " 50,\n",
       " 51,\n",
       " 52,\n",
       " 53,\n",
       " 54,\n",
       " 55,\n",
       " 56,\n",
       " 57,\n",
       " 58,\n",
       " 59,\n",
       " 60,\n",
       " 61,\n",
       " 62,\n",
       " 63,\n",
       " 64,\n",
       " 65,\n",
       " 66,\n",
       " 67,\n",
       " 68,\n",
       " 69,\n",
       " 70,\n",
       " 71,\n",
       " 72,\n",
       " 73,\n",
       " 74,\n",
       " 75,\n",
       " 76,\n",
       " 77,\n",
       " 78,\n",
       " 79,\n",
       " 80,\n",
       " 81,\n",
       " 82,\n",
       " 83,\n",
       " 84,\n",
       " 85,\n",
       " 86,\n",
       " 87,\n",
       " 88,\n",
       " 89,\n",
       " 90,\n",
       " 91,\n",
       " 92,\n",
       " 93,\n",
       " 94,\n",
       " 95,\n",
       " 96,\n",
       " 97,\n",
       " 98,\n",
       " 99,\n",
       " 100]"
      ]
     },
     "execution_count": 12,
     "metadata": {},
     "output_type": "execute_result"
    }
   ],
   "source": [
    "list(range(1,101)) #리스트 타입으로 변환해서 확인"
   ]
  },
  {
   "cell_type": "code",
   "execution_count": 14,
   "id": "c053a43b",
   "metadata": {},
   "outputs": [
    {
     "data": {
      "text/plain": [
       "5050"
      ]
     },
     "execution_count": 14,
     "metadata": {},
     "output_type": "execute_result"
    }
   ],
   "source": [
    "total = 0 #num 변수를 값을 더해서 저장할 공간\n",
    "for num in range(1,101):\n",
    "    total = total + num\n",
    "total"
   ]
  },
  {
   "cell_type": "code",
   "execution_count": 15,
   "id": "1c9e7404",
   "metadata": {},
   "outputs": [
    {
     "data": {
      "text/plain": [
       "5050"
      ]
     },
     "execution_count": 15,
     "metadata": {},
     "output_type": "execute_result"
    }
   ],
   "source": [
    "sum(range(1,101))"
   ]
  },
  {
   "cell_type": "code",
   "execution_count": 24,
   "id": "5866c66d",
   "metadata": {
    "collapsed": true
   },
   "outputs": [
    {
     "name": "stdout",
     "output_type": "stream",
     "text": [
      "2\n",
      "4\n",
      "6\n",
      "8\n",
      "10\n",
      "12\n",
      "14\n",
      "16\n",
      "18\n"
     ]
    }
   ],
   "source": [
    "gugu = 2\n",
    "\n",
    "for n in range(1,10):\n",
    "    print(gugu * n)"
   ]
  },
  {
   "cell_type": "code",
   "execution_count": 26,
   "id": "d0b3fa61",
   "metadata": {
    "collapsed": true
   },
   "outputs": [
    {
     "name": "stdout",
     "output_type": "stream",
     "text": [
      "2 x 1 = 2\n",
      "2 x 2 = 4\n",
      "2 x 3 = 6\n",
      "2 x 4 = 8\n",
      "2 x 5 = 10\n",
      "2 x 6 = 12\n",
      "2 x 7 = 14\n",
      "2 x 8 = 16\n",
      "2 x 9 = 18\n"
     ]
    }
   ],
   "source": [
    "for n in range(1,10):\n",
    "    print(2,\"x\",n,\"=\",2*n)"
   ]
  },
  {
   "cell_type": "code",
   "execution_count": 28,
   "id": "bdba5098",
   "metadata": {
    "collapsed": true
   },
   "outputs": [
    {
     "name": "stdout",
     "output_type": "stream",
     "text": [
      "3 x 1 = 3\n",
      "3 x 2 = 6\n",
      "3 x 3 = 9\n",
      "3 x 4 = 12\n",
      "3 x 5 = 15\n",
      "3 x 6 = 18\n",
      "3 x 7 = 21\n",
      "3 x 8 = 24\n",
      "3 x 9 = 27\n"
     ]
    }
   ],
   "source": [
    "gugu = 3\n",
    "\n",
    "for n in range(1,10):\n",
    "    print(gugu,\"x\",n,\"=\",gugu * n)"
   ]
  },
  {
   "cell_type": "code",
   "execution_count": 29,
   "id": "82dc7a2a",
   "metadata": {
    "collapsed": true
   },
   "outputs": [
    {
     "name": "stdout",
     "output_type": "stream",
     "text": [
      "2 x 1 = 2\n",
      "2 x 2 = 4\n",
      "2 x 3 = 6\n",
      "2 x 4 = 8\n",
      "2 x 5 = 10\n",
      "2 x 6 = 12\n",
      "2 x 7 = 14\n",
      "2 x 8 = 16\n",
      "2 x 9 = 18\n",
      "3 x 1 = 3\n",
      "3 x 2 = 6\n",
      "3 x 3 = 9\n",
      "3 x 4 = 12\n",
      "3 x 5 = 15\n",
      "3 x 6 = 18\n",
      "3 x 7 = 21\n",
      "3 x 8 = 24\n",
      "3 x 9 = 27\n",
      "4 x 1 = 4\n",
      "4 x 2 = 8\n",
      "4 x 3 = 12\n",
      "4 x 4 = 16\n",
      "4 x 5 = 20\n",
      "4 x 6 = 24\n",
      "4 x 7 = 28\n",
      "4 x 8 = 32\n",
      "4 x 9 = 36\n",
      "5 x 1 = 5\n",
      "5 x 2 = 10\n",
      "5 x 3 = 15\n",
      "5 x 4 = 20\n",
      "5 x 5 = 25\n",
      "5 x 6 = 30\n",
      "5 x 7 = 35\n",
      "5 x 8 = 40\n",
      "5 x 9 = 45\n",
      "6 x 1 = 6\n",
      "6 x 2 = 12\n",
      "6 x 3 = 18\n",
      "6 x 4 = 24\n",
      "6 x 5 = 30\n",
      "6 x 6 = 36\n",
      "6 x 7 = 42\n",
      "6 x 8 = 48\n",
      "6 x 9 = 54\n",
      "7 x 1 = 7\n",
      "7 x 2 = 14\n",
      "7 x 3 = 21\n",
      "7 x 4 = 28\n",
      "7 x 5 = 35\n",
      "7 x 6 = 42\n",
      "7 x 7 = 49\n",
      "7 x 8 = 56\n",
      "7 x 9 = 63\n",
      "8 x 1 = 8\n",
      "8 x 2 = 16\n",
      "8 x 3 = 24\n",
      "8 x 4 = 32\n",
      "8 x 5 = 40\n",
      "8 x 6 = 48\n",
      "8 x 7 = 56\n",
      "8 x 8 = 64\n",
      "8 x 9 = 72\n",
      "9 x 1 = 9\n",
      "9 x 2 = 18\n",
      "9 x 3 = 27\n",
      "9 x 4 = 36\n",
      "9 x 5 = 45\n",
      "9 x 6 = 54\n",
      "9 x 7 = 63\n",
      "9 x 8 = 72\n",
      "9 x 9 = 81\n"
     ]
    }
   ],
   "source": [
    "#중첩 반복문으로 위에를 정리할수 있다.\n",
    "for gugu in range(2,10):\n",
    "    for n in range(1,10):\n",
    "        print(gugu,\"x\",n,\"=\",gugu * n)\n",
    "        \n",
    "#이렇게 이중으로 반복이 가능하다."
   ]
  },
  {
   "cell_type": "code",
   "execution_count": 30,
   "id": "ac70bc0c",
   "metadata": {},
   "outputs": [
    {
     "name": "stdout",
     "output_type": "stream",
     "text": [
      "a 1\n",
      "a 2\n",
      "a 3\n",
      "b 1\n",
      "b 2\n",
      "b 3\n"
     ]
    }
   ],
   "source": [
    "for i in ['a','b']:\n",
    "    for j in [1,2,3]:\n",
    "        print(i,j)"
   ]
  },
  {
   "cell_type": "code",
   "execution_count": 45,
   "id": "721e3a21",
   "metadata": {},
   "outputs": [
    {
     "name": "stdout",
     "output_type": "stream",
     "text": [
      "101 102 \n",
      "201 202 \n",
      "301 302 \n"
     ]
    }
   ],
   "source": [
    "room = [[101,102],[201,202],[301,302]] #이중리스트\n",
    "\n",
    "for i in room:\n",
    "    for r in i:\n",
    "        print(r, end=\" \")\n",
    "    print() #프린트를 앞으로 한칸 밀어줘야 한다."
   ]
  },
  {
   "cell_type": "code",
   "execution_count": 47,
   "id": "f2eb045f",
   "metadata": {},
   "outputs": [
    {
     "name": "stdout",
     "output_type": "stream",
     "text": [
      "101 102\n",
      "201 202\n",
      "301 302\n"
     ]
    }
   ],
   "source": [
    "for d1,d2 in room:\n",
    "    print(d1,d2)"
   ]
  },
  {
   "cell_type": "code",
   "execution_count": 49,
   "id": "b90c3e92",
   "metadata": {},
   "outputs": [
    {
     "name": "stdout",
     "output_type": "stream",
     "text": [
      "a 10\n",
      "b 20\n",
      "c 30\n"
     ]
    }
   ],
   "source": [
    "data = ['a',10],['b',20],['c',30]\n",
    "for a,n in data:\n",
    "    print(a,n)"
   ]
  },
  {
   "cell_type": "code",
   "execution_count": 53,
   "id": "0dd56a5c",
   "metadata": {},
   "outputs": [
    {
     "name": "stdout",
     "output_type": "stream",
     "text": [
      "1\n",
      "3\n"
     ]
    }
   ],
   "source": [
    "for n in range(1,11):\n",
    "    \n",
    "    if n%2 ==0: #짝수\n",
    "        continue #계속 진행된다\n",
    "    if n ==5:\n",
    "        break #진행을 끝낸다.\n",
    "    print(n)"
   ]
  },
  {
   "cell_type": "code",
   "execution_count": 55,
   "id": "5992821f",
   "metadata": {},
   "outputs": [],
   "source": [
    "for i in range(1,101):\n",
    "    pass # 계념만 잡아놨을때 오류를 방지하는 방법\n",
    "    "
   ]
  },
  {
   "cell_type": "code",
   "execution_count": 56,
   "id": "6aac8524",
   "metadata": {},
   "outputs": [
    {
     "name": "stdout",
     "output_type": "stream",
     "text": [
      "1번 학생은 합격입니다.\n",
      "2번 학생은 불합격입니다.\n",
      "3번 학생은 합격입니다.\n",
      "4번 학생은 불합격입니다.\n",
      "5번 학생은 합격입니다.\n"
     ]
    }
   ],
   "source": [
    "marks = [90, 25, 67, 45, 80]\n",
    "\n",
    "number = 0 \n",
    "for mark in marks: \n",
    "    number = number +1 \n",
    "    if mark >= 60: \n",
    "        print(\"%d번 학생은 합격입니다.\" % number)\n",
    "    else: \n",
    "        print(\"%d번 학생은 불합격입니다.\" % number)"
   ]
  },
  {
   "cell_type": "code",
   "execution_count": 61,
   "id": "19ba47dc",
   "metadata": {},
   "outputs": [
    {
     "name": "stdout",
     "output_type": "stream",
     "text": [
      "1번 학생은 합격입니다.\n",
      "2번 학생은 불합격입니다.\n",
      "3번 학생은 불합격입니다.\n",
      "4번 학생은 합격입니다.\n",
      "5번 학생은 불합격입니다.\n"
     ]
    }
   ],
   "source": [
    "tests = [90,88,77,92,83]\n",
    "\n",
    "num = 0\n",
    "for test in tests:\n",
    "    num = num +1\n",
    "    if test >=90:\n",
    "        print(\"%d번 학생은 합격입니다.\" %num)\n",
    "    else:\n",
    "        print(\"%d번 학생은 불합격입니다.\" %num)"
   ]
  },
  {
   "cell_type": "markdown",
   "id": "9dba5b55",
   "metadata": {},
   "source": [
    "## 2.함수\n",
    "- 함수의 정의 : 생성\n",
    "- 함수의 호출 : 실행\n",
    " - return : 1. 함수를 종료한다.(함수를 호출한 곳으로 돌아간다)\n",
    " - 만약 return이 없으면 none 으로 리턴 한다."
   ]
  },
  {
   "cell_type": "code",
   "execution_count": 1,
   "id": "6ddd306f",
   "metadata": {},
   "outputs": [],
   "source": [
    "def add(a,b):\n",
    "    return a + b"
   ]
  },
  {
   "cell_type": "code",
   "execution_count": 3,
   "id": "e8512a3a",
   "metadata": {},
   "outputs": [
    {
     "name": "stdout",
     "output_type": "stream",
     "text": [
      "30\n"
     ]
    }
   ],
   "source": [
    "res = add(10,20) #함수는 한번 만들면 계속 실행 할수 있는 툴이다.\n",
    "print(res)"
   ]
  },
  {
   "cell_type": "code",
   "execution_count": 5,
   "id": "5560f906",
   "metadata": {},
   "outputs": [
    {
     "name": "stdout",
     "output_type": "stream",
     "text": [
      "30\n",
      "None\n"
     ]
    }
   ],
   "source": [
    "def add(a,b):\n",
    "    print(a+b)\n",
    "res = add(10,20) \n",
    "print(res)"
   ]
  },
  {
   "cell_type": "code",
   "execution_count": 8,
   "id": "c981b683",
   "metadata": {},
   "outputs": [
    {
     "name": "stdout",
     "output_type": "stream",
     "text": [
      "30\n"
     ]
    }
   ],
   "source": [
    "def func(a,b):\n",
    "    res = a+b\n",
    "    return res #리턴에 값이 있으면 값이 함수를 부른곳으로 이동\n",
    "print(func(10,20))"
   ]
  },
  {
   "cell_type": "code",
   "execution_count": 9,
   "id": "258f37e4",
   "metadata": {},
   "outputs": [
    {
     "name": "stdout",
     "output_type": "stream",
     "text": [
      "None\n"
     ]
    }
   ],
   "source": [
    "def func(a,b):\n",
    "    res = a+b #리턴이 없거나 값이 없으면 none으로 끝난다.\n",
    "   \n",
    "print(func(10,20))"
   ]
  },
  {
   "cell_type": "markdown",
   "id": "f0eed05d",
   "metadata": {},
   "source": [
    "# 2-1.함수호출(값전달)\n",
    "- 위치인수 (개수가 일치해야한다!)\n",
    "- 기본인수 \n",
    "- ***키워드 매개변수 (순서에 상관없이 이름을 통해 명시 전달)"
   ]
  },
  {
   "cell_type": "code",
   "execution_count": 2,
   "id": "e0ebb248",
   "metadata": {},
   "outputs": [
    {
     "name": "stdout",
     "output_type": "stream",
     "text": [
      "7\n",
      "12\n"
     ]
    }
   ],
   "source": [
    "#위치인수\n",
    "def ilgu(a,b):\n",
    "    return(a+b)\n",
    "def ilgu2(a,b):\n",
    "    return(a*b)\n",
    "print(ilgu(3,4)) #각각 출력하려면 프린트 해야한다.\n",
    "print(ilgu2(3,4))"
   ]
  },
  {
   "cell_type": "code",
   "execution_count": null,
   "id": "703b1501",
   "metadata": {},
   "outputs": [],
   "source": [
    "#기본인수 (default)"
   ]
  },
  {
   "cell_type": "code",
   "execution_count": 23,
   "id": "151c8ec4",
   "metadata": {},
   "outputs": [
    {
     "name": "stdout",
     "output_type": "stream",
     "text": [
      "a:1,b:2\n"
     ]
    },
    {
     "data": {
      "text/plain": [
       "3"
      ]
     },
     "execution_count": 23,
     "metadata": {},
     "output_type": "execute_result"
    }
   ],
   "source": [
    "def add(a,b):\n",
    "    result = a+b\n",
    "    print(f'a:{a},b:{b}')\n",
    "    return result\n",
    "\n",
    "add(1,2)\n",
    "\n",
    "#각각 돌려준다.즉 리턴은 값을 돌려주는 매개이다.\n"
   ]
  },
  {
   "cell_type": "code",
   "execution_count": 3,
   "id": "64b76b35",
   "metadata": {},
   "outputs": [],
   "source": [
    "#가변매개 변수 \n",
    "#= *args (별표가 붙어있으면 가변 -> tuple로 데이터가 들어온다.)"
   ]
  },
  {
   "cell_type": "code",
   "execution_count": 10,
   "id": "fa81220f",
   "metadata": {},
   "outputs": [
    {
     "name": "stdout",
     "output_type": "stream",
     "text": [
      "6\n",
      "6\n"
     ]
    }
   ],
   "source": [
    "def add(*args): #* 넣으면 튜블을 모두 연산 가능하다.\n",
    "    sum = 0\n",
    "    for i in args:\n",
    "        sum +=i\n",
    "    return sum\n",
    "\n",
    "print(add(1,2,3))\n",
    "v=[1,2,3]\n",
    "print(add(*v))"
   ]
  },
  {
   "cell_type": "code",
   "execution_count": 23,
   "id": "a50a5004",
   "metadata": {},
   "outputs": [],
   "source": [
    "def func(a,b=0):\n",
    "    print(f'a:{a} b:{b}')"
   ]
  },
  {
   "cell_type": "code",
   "execution_count": 30,
   "id": "f3556e9f",
   "metadata": {},
   "outputs": [
    {
     "name": "stdout",
     "output_type": "stream",
     "text": [
      "a:10 b:0 c:()\n",
      "a:19 b:0 c:()\n"
     ]
    }
   ],
   "source": [
    "func(10)\n",
    "func(a=19) # 변수가 있는 b는 없어도 가능. 그러나 a는 있어야 한다.\n",
    "\n",
    "#중요!!  a와 같이 아무런 변수가 없으면 값을 꼭 넣어줘야 한다."
   ]
  },
  {
   "cell_type": "code",
   "execution_count": null,
   "id": "26204d95",
   "metadata": {},
   "outputs": [],
   "source": [
    "def func(a, b=0):\n",
    "    print(f'a : {a} b: {b}')\n",
    "func(10) # 위치\n",
    "func(a=2) # 키워드\n",
    "func(10, 20)\n",
    "func(a=2, b=3)\n",
    "func(10, b=2) # 순서는 위치부터 사용 키워드\n"
   ]
  },
  {
   "cell_type": "code",
   "execution_count": null,
   "id": "e520c938",
   "metadata": {},
   "outputs": [],
   "source": [
    "def func2(a, b=0, *c): # c : 가변매개변수 (생략가능)\n",
    "    print(f'a : {a} b : {b} c : {c}')\n",
    "func2(10)\n",
    "func2(10, 20)\n",
    "func2(10, 20, 30)\n",
    "func2(10, 20, 30, 40)\n",
    "func2(10, 20, 30, 40, 50, 60, 70, 80, 90, 100)\n",
    "#func2(10, b=20, 20, 30, 40) # 오류 (키워드는 위치 뒤에 와야함)"
   ]
  },
  {
   "cell_type": "code",
   "execution_count": null,
   "id": "f5894f62",
   "metadata": {},
   "outputs": [],
   "source": [
    "def func3(a, b=0, *c, **d):\n",
    "        print(f'a : {a} b : {b} c : {c} d : {d}')\n",
    "func3(1, 2, 3, 4, 5, 6, a1=10, a2=20, a3=30)\n"
   ]
  },
  {
   "cell_type": "code",
   "execution_count": 42,
   "id": "16cf5540",
   "metadata": {},
   "outputs": [
    {
     "name": "stdout",
     "output_type": "stream",
     "text": [
      "choice:sum args:(1, 2, 3, 4, 5)\n",
      "15\n",
      "choice:mul args:(1, 2, 3, 4, 5)\n",
      "16\n"
     ]
    }
   ],
   "source": [
    "def calc_many(choice, *args):\n",
    "    print(f'choice:{choice} args:{args}')\n",
    "    if choice == 'sum':\n",
    "        total = 0\n",
    "        for data in args:\n",
    "            total = total +data\n",
    "        return total\n",
    "    elif choice =='mul':\n",
    "        total = 1\n",
    "        for data in args:\n",
    "            total = total +data\n",
    "        return total\n",
    "    else:\n",
    "        print(\"알수없음\")\n",
    "\n",
    "print(calc_many('sum',1,2,3,4,5,))\n",
    "print(calc_many('mul',1,2,3,4,5,))"
   ]
  },
  {
   "cell_type": "code",
   "execution_count": 41,
   "id": "368ac92b",
   "metadata": {},
   "outputs": [
    {
     "name": "stdout",
     "output_type": "stream",
     "text": [
      "15\n",
      "120\n"
     ]
    }
   ],
   "source": [
    "# def calc_many(choice, *args) 함수에서 choice 가 sum 이면 합을 구해서 리턴하고\n",
    "# choice 가 mul 이면 곱한 결과를 리턴하는 함수를 구현하세요\n",
    "def calc_many(choice, *args):\n",
    "    # choice 가 sum 이면 합을 구해서 리턴\n",
    "    if choice == 'sum':\n",
    "        total = 0 \n",
    "        for data in args:\n",
    "            total = total + data\n",
    "        return total\n",
    "    # choice 가 mul 이면 곱한 결과를 리턴\n",
    "    elif choice == 'mul':\n",
    "        total = 1 \n",
    "        for data in args:\n",
    "            total = total * data\n",
    "        return total\n",
    "    else:\n",
    "        print('알 수 없는 명령어')\n",
    "print(calc_many('sum', 1,2,3,4,5)) # 15\n",
    "print(calc_many('mul', 1,2,3,4,5)) # 120"
   ]
  },
  {
   "cell_type": "code",
   "execution_count": 44,
   "id": "55e55622",
   "metadata": {},
   "outputs": [
    {
     "name": "stdout",
     "output_type": "stream",
     "text": [
      "choicesum args(1, 2, 3, 4, 5)\n",
      "15\n"
     ]
    }
   ],
   "source": [
    "# def calc_many(choice, *args) 함수에서 choice 가 sum 이면 합을 구해서 리턴하고\n",
    "# choice 가 mul 이면 곱한 결과를 리턴하는 함수를 구현하세요\n",
    "def calc_many(choice, *args):\n",
    "    print(f'choice{choice} args{args}')\n",
    "    \n",
    "    if choice == 'sum':\n",
    "        base = 0\n",
    "        for data in args:\n",
    "            base = base + data\n",
    "        return base\n",
    "    elif choice =='mul':\n",
    "        base = 1\n",
    "        for data in args:\n",
    "            base = base + data\n",
    "        return base\n",
    "    else:\n",
    "        print(\"값이 잘못됨\")\n",
    "print(calc_many('sum', 1,2,3,4,5,))"
   ]
  },
  {
   "cell_type": "code",
   "execution_count": 64,
   "id": "cfb83f17",
   "metadata": {},
   "outputs": [
    {
     "name": "stdout",
     "output_type": "stream",
     "text": [
      "15\n",
      "15\n",
      "?\n",
      "None\n",
      "15\n"
     ]
    }
   ],
   "source": [
    "# def calc_many(choice, *args) 함수에서 choice 가 sum 이면 합을 구해서 리턴하고\n",
    "# choice 가 mul 이면 곱한 결과를 리턴하는 함수를 구현하세요\n",
    "\n",
    "#자 하나하나 해보자\n",
    "\n",
    "def clc_many(choice, *args):\n",
    "    if choice == 'sum':\n",
    "        total = 0\n",
    "        for data in args:\n",
    "            total = total +data\n",
    "        return total\n",
    "    \n",
    "    elif choice == 'mul':\n",
    "        total = 0\n",
    "        for data in args:\n",
    "            total = total +data\n",
    "        return total\n",
    "    \n",
    "    else:\n",
    "        print(\"?\")\n",
    "        \n",
    "print(clc_many('sum', 1,2,3,4,5))\n",
    "print(clc_many('mul', 1,2,3,4,5))\n",
    "print(clc_many('1', 1,2,3,4,5))\n",
    "print(clc_many('mul', 1,2,3,4,5))\n",
    "\n",
    "#none 은 왜 생기는 거지?? 분명 리턴을 다 채웠는데?\n",
    "     "
   ]
  },
  {
   "cell_type": "markdown",
   "id": "1aff203c",
   "metadata": {},
   "source": [
    "모듈 사용하기\n",
    "\n",
    "파일명이 mysuni.py 이면 모듈명은 mysuni 임\n",
    "이미 파이선3이세 300개가 넘는 모듈이 있다.\n",
    "pip install 모듈명 (다운로드 가능)\n",
    "\n",
    "# ****모듈 로딩하는 방법\n",
    "\n",
    "\n",
    "1. 전체를 가져오는 것 \n",
    " - import 모듈명\n",
    "  import numpy as np\n",
    "  np.array\n",
    "2. 일부 가져오는 것 \n",
    " - from 모듈명 import 함수 (as 약칭 가능)\n",
    " - 모듈 > 함수 (모듈.함수 로 명령해서 특정 함수를 쓴다)\n",
    " from numpy import array\n",
    " \n",
    "3. *는 전체를 불러오는 것이다.\n"
   ]
  },
  {
   "cell_type": "markdown",
   "id": "4c48fe7e",
   "metadata": {},
   "source": [
    "내일 퀴즈는 \n",
    "for 반복문 , 함수, 모듈\n",
    "\n",
    "인증시험은 변수, 모듈까지 6문제 나올거임"
   ]
  },
  {
   "cell_type": "code",
   "execution_count": 66,
   "id": "aa6969d8",
   "metadata": {},
   "outputs": [
    {
     "name": "stdout",
     "output_type": "stream",
     "text": [
      "Requirement already satisfied: numpy in /Library/Frameworks/Python.framework/Versions/3.10/lib/python3.10/site-packages (1.22.3)\r\n"
     ]
    }
   ],
   "source": [
    "!pip install numpy"
   ]
  },
  {
   "cell_type": "code",
   "execution_count": 67,
   "id": "bba9761b",
   "metadata": {},
   "outputs": [],
   "source": [
    "#numpy 가져오기 (넘파이는 비정형 데이터를 지원한다.)\n",
    "\n",
    "import numpy as np\n"
   ]
  },
  {
   "cell_type": "code",
   "execution_count": 70,
   "id": "30f21591",
   "metadata": {},
   "outputs": [
    {
     "data": {
      "text/plain": [
       "(array([1, 2, 3, 4, 5]), numpy.ndarray)"
      ]
     },
     "execution_count": 70,
     "metadata": {},
     "output_type": "execute_result"
    }
   ],
   "source": [
    "#1차원 배열\n",
    "array = np.array([1,2,3,4,5])\n",
    "array, type(array)"
   ]
  },
  {
   "cell_type": "code",
   "execution_count": 80,
   "id": "8bc2a6a3",
   "metadata": {},
   "outputs": [
    {
     "data": {
      "text/plain": [
       "array([[1, 2, 3],\n",
       "       [2, 3, 4],\n",
       "       [3, 5, 8]])"
      ]
     },
     "execution_count": 80,
     "metadata": {},
     "output_type": "execute_result"
    }
   ],
   "source": [
    "#2차원 배열\n",
    "array = np.array([[1,2,3],[2,3,4],[3,5,8]])\n",
    "array"
   ]
  },
  {
   "cell_type": "markdown",
   "id": "1d76c649",
   "metadata": {},
   "source": [
    "numpy 에서 중요한 것이 3가지인데 (넘파이는 비정형 데이터를 지원한다.)\n",
    "1. shape\n",
    "2. indexing \n",
    " - 팬시 -> 목록\n",
    " - \n",
    "3. slicing\n",
    "\n"
   ]
  },
  {
   "cell_type": "code",
   "execution_count": 81,
   "id": "dace6161",
   "metadata": {},
   "outputs": [
    {
     "data": {
      "text/plain": [
       "array([[1, 2, 3],\n",
       "       [2, 3, 4],\n",
       "       [3, 5, 8]])"
      ]
     },
     "execution_count": 81,
     "metadata": {},
     "output_type": "execute_result"
    }
   ],
   "source": [
    "array"
   ]
  },
  {
   "cell_type": "code",
   "execution_count": 82,
   "id": "93d819b3",
   "metadata": {},
   "outputs": [
    {
     "data": {
      "text/plain": [
       "array([1, 2, 3, 2, 3, 4, 3, 5, 8])"
      ]
     },
     "execution_count": 82,
     "metadata": {},
     "output_type": "execute_result"
    }
   ],
   "source": [
    "array.reshape(9,)"
   ]
  },
  {
   "cell_type": "code",
   "execution_count": 83,
   "id": "032faed1",
   "metadata": {},
   "outputs": [
    {
     "data": {
      "text/plain": [
       "array([[[1, 2, 3],\n",
       "        [2, 3, 4],\n",
       "        [3, 5, 8]]])"
      ]
     },
     "execution_count": 83,
     "metadata": {},
     "output_type": "execute_result"
    }
   ],
   "source": [
    "array.reshape(1,3,3) #개수,행,열"
   ]
  },
  {
   "cell_type": "code",
   "execution_count": 84,
   "id": "8e8be40b",
   "metadata": {
    "collapsed": true
   },
   "outputs": [
    {
     "data": {
      "text/plain": [
       "array([[[1],\n",
       "        [2],\n",
       "        [3]],\n",
       "\n",
       "       [[2],\n",
       "        [3],\n",
       "        [4]],\n",
       "\n",
       "       [[3],\n",
       "        [5],\n",
       "        [8]]])"
      ]
     },
     "execution_count": 84,
     "metadata": {},
     "output_type": "execute_result"
    }
   ],
   "source": [
    "array.reshape(3,3,1)"
   ]
  },
  {
   "cell_type": "code",
   "execution_count": 87,
   "id": "491230b7",
   "metadata": {},
   "outputs": [
    {
     "data": {
      "text/plain": [
       "array([ 0,  1,  2,  3,  4,  5,  6,  7,  8,  9, 10, 11, 12, 13, 14, 15, 16,\n",
       "       17, 18, 19, 20, 21, 22, 23, 24, 25, 26, 27, 28, 29, 30, 31])"
      ]
     },
     "execution_count": 87,
     "metadata": {},
     "output_type": "execute_result"
    }
   ],
   "source": [
    "array = np.arange(32)\n",
    "array"
   ]
  },
  {
   "cell_type": "code",
   "execution_count": 92,
   "id": "050fc251",
   "metadata": {},
   "outputs": [
    {
     "data": {
      "text/plain": [
       "array([[ 0,  1,  2,  3,  4,  5,  6,  7],\n",
       "       [ 8,  9, 10, 11, 12, 13, 14, 15],\n",
       "       [16, 17, 18, 19, 20, 21, 22, 23],\n",
       "       [24, 25, 26, 27, 28, 29, 30, 31]])"
      ]
     },
     "execution_count": 92,
     "metadata": {},
     "output_type": "execute_result"
    }
   ],
   "source": [
    "arr.reshape(-1,8)"
   ]
  },
  {
   "cell_type": "code",
   "execution_count": 93,
   "id": "1d6bd1b0",
   "metadata": {},
   "outputs": [
    {
     "data": {
      "text/plain": [
       "array([[0, 1, 2],\n",
       "       [3, 4, 5],\n",
       "       [6, 7, 8]])"
      ]
     },
     "execution_count": 93,
     "metadata": {},
     "output_type": "execute_result"
    }
   ],
   "source": [
    "array = np.arange(9).reshape(3,3)\n",
    "array\n"
   ]
  },
  {
   "cell_type": "code",
   "execution_count": null,
   "id": "19d69226",
   "metadata": {},
   "outputs": [],
   "source": []
  },
  {
   "cell_type": "markdown",
   "id": "fc0005d5",
   "metadata": {},
   "source": [
    "# 조건인덱싱\n",
    "\n",
    "- [1,2,3] -> (int array)\n",
    "- [1.0,2.0,3.0] -> (float array)\n",
    "- [1시,2시,3시] -> (object array)\n",
    "- True, False 값을 가지는  (boolean array) 마스킹이랑 비슷함 형태가 같아야함"
   ]
  },
  {
   "cell_type": "code",
   "execution_count": 97,
   "id": "ee30db95",
   "metadata": {},
   "outputs": [
    {
     "data": {
      "text/plain": [
       "array([[ True, False,  True],\n",
       "       [False,  True, False],\n",
       "       [ True, False,  True]])"
      ]
     },
     "execution_count": 97,
     "metadata": {},
     "output_type": "execute_result"
    }
   ],
   "source": [
    "array %2\n",
    "\n",
    "bidx = array %2 == 0\n",
    "bidx"
   ]
  },
  {
   "cell_type": "code",
   "execution_count": 98,
   "id": "047a9fe1",
   "metadata": {},
   "outputs": [
    {
     "data": {
      "text/plain": [
       "array([0, 2, 4, 6, 8])"
      ]
     },
     "execution_count": 98,
     "metadata": {},
     "output_type": "execute_result"
    }
   ],
   "source": [
    "array[bidx]"
   ]
  },
  {
   "cell_type": "code",
   "execution_count": 100,
   "id": "a53d2a2c",
   "metadata": {},
   "outputs": [
    {
     "data": {
      "text/plain": [
       "array([6, 7, 8])"
      ]
     },
     "execution_count": 100,
     "metadata": {},
     "output_type": "execute_result"
    }
   ],
   "source": [
    "array[array >5]"
   ]
  },
  {
   "cell_type": "markdown",
   "id": "e853467b",
   "metadata": {},
   "source": [
    "numpy = 포인트 좌표로 추출\n",
    "pandas = 선형 좌표로 추출"
   ]
  },
  {
   "cell_type": "code",
   "execution_count": 101,
   "id": "8790dd7e",
   "metadata": {},
   "outputs": [
    {
     "data": {
      "text/plain": [
       "array([ 1.76405235,  0.40015721,  0.97873798,  2.2408932 ,  1.86755799,\n",
       "       -0.97727788,  0.95008842, -0.15135721, -0.10321885,  0.4105985 ])"
      ]
     },
     "execution_count": 101,
     "metadata": {},
     "output_type": "execute_result"
    }
   ],
   "source": [
    "np.random.seed(0)\n",
    "arr = np.random.randn(10)\n",
    "arr"
   ]
  },
  {
   "cell_type": "code",
   "execution_count": 102,
   "id": "099a80c4",
   "metadata": {},
   "outputs": [
    {
     "data": {
      "text/plain": [
       "(array([5, 7, 8]),)"
      ]
     },
     "execution_count": 102,
     "metadata": {},
     "output_type": "execute_result"
    }
   ],
   "source": [
    "#음수값의 위치 파악 \n",
    "\n",
    "np.where(arr<0)"
   ]
  },
  {
   "cell_type": "code",
   "execution_count": null,
   "id": "34734674",
   "metadata": {},
   "outputs": [],
   "source": [
    "#조건에 따라변경\n",
    "\n",
    "np.where(arr < 0, 0, arr) # 음수인 경우 0으로 아닌 경우 원래 값 사용\n",
    "\n",
    "#결측치 제거가 가능한 방법!`!!! 드디어 찾아냄"
   ]
  },
  {
   "cell_type": "code",
   "execution_count": 103,
   "id": "aba445fa",
   "metadata": {},
   "outputs": [
    {
     "name": "stdout",
     "output_type": "stream",
     "text": [
      "Collecting mysuni\n",
      "  Downloading mySUNI-1.2.7-py3-none-any.whl (22 kB)\n",
      "Collecting requests\n",
      "  Downloading requests-2.27.1-py2.py3-none-any.whl (63 kB)\n",
      "\u001b[2K     \u001b[38;2;114;156;31m━━━━━━━━━━━━━━━━━━━━━━━━━━━━━━━━━━━━━━━━\u001b[0m \u001b[32m63.1/63.1 KB\u001b[0m \u001b[31m1.4 MB/s\u001b[0m eta \u001b[36m0:00:00\u001b[0m\n",
      "\u001b[?25hCollecting scikit-learn\n",
      "  Downloading scikit_learn-1.0.2-cp310-cp310-macosx_12_0_arm64.whl (6.9 MB)\n",
      "\u001b[2K     \u001b[38;2;114;156;31m━━━━━━━━━━━━━━━━━━━━━━━━━━━━━━━━━━━━━━━━\u001b[0m \u001b[32m6.9/6.9 MB\u001b[0m \u001b[31m5.4 MB/s\u001b[0m eta \u001b[36m0:00:00\u001b[0mm eta \u001b[36m0:00:01\u001b[0m[36m0:00:01\u001b[0m\n",
      "\u001b[?25hCollecting tqdm\n",
      "  Downloading tqdm-4.63.0-py2.py3-none-any.whl (76 kB)\n",
      "\u001b[2K     \u001b[38;2;114;156;31m━━━━━━━━━━━━━━━━━━━━━━━━━━━━━━━━━━━━━━━\u001b[0m \u001b[32m76.6/76.6 KB\u001b[0m \u001b[31m745.4 kB/s\u001b[0m eta \u001b[36m0:00:00\u001b[0m1m896.3 kB/s\u001b[0m eta \u001b[36m0:00:01\u001b[0m\n",
      "\u001b[?25hCollecting seaborn\n",
      "  Downloading seaborn-0.11.2-py3-none-any.whl (292 kB)\n",
      "\u001b[2K     \u001b[38;2;114;156;31m━━━━━━━━━━━━━━━━━━━━━━━━━━━━━━━━━━━━━━━\u001b[0m \u001b[32m292.8/292.8 KB\u001b[0m \u001b[31m2.6 MB/s\u001b[0m eta \u001b[36m0:00:00\u001b[0m MB/s\u001b[0m eta \u001b[36m0:00:01\u001b[0m\n",
      "\u001b[?25hRequirement already satisfied: jupyter in /Library/Frameworks/Python.framework/Versions/3.10/lib/python3.10/site-packages (from mysuni) (1.0.0)\n",
      "Requirement already satisfied: pandas in /Library/Frameworks/Python.framework/Versions/3.10/lib/python3.10/site-packages (from mysuni) (1.4.1)\n",
      "Requirement already satisfied: ipywidgets in /Library/Frameworks/Python.framework/Versions/3.10/lib/python3.10/site-packages (from mysuni) (7.6.5)\n",
      "Collecting matplotlib\n",
      "  Downloading matplotlib-3.5.1-cp310-cp310-macosx_11_0_arm64.whl (7.2 MB)\n",
      "\u001b[2K     \u001b[38;2;114;156;31m━━━━━━━━━━━━━━━━━━━━━━━━━━━━━━━━━━━━━━━━\u001b[0m \u001b[32m7.2/7.2 MB\u001b[0m \u001b[31m4.8 MB/s\u001b[0m eta \u001b[36m0:00:00\u001b[0mm eta \u001b[36m0:00:01\u001b[0m[36m0:00:01\u001b[0m\n",
      "\u001b[?25hRequirement already satisfied: widgetsnbextension~=3.5.0 in /Library/Frameworks/Python.framework/Versions/3.10/lib/python3.10/site-packages (from ipywidgets->mysuni) (3.5.2)\n",
      "Requirement already satisfied: nbformat>=4.2.0 in /Library/Frameworks/Python.framework/Versions/3.10/lib/python3.10/site-packages (from ipywidgets->mysuni) (5.2.0)\n",
      "Requirement already satisfied: ipykernel>=4.5.1 in /Library/Frameworks/Python.framework/Versions/3.10/lib/python3.10/site-packages (from ipywidgets->mysuni) (6.9.1)\n",
      "Requirement already satisfied: ipython>=4.0.0 in /Library/Frameworks/Python.framework/Versions/3.10/lib/python3.10/site-packages (from ipywidgets->mysuni) (8.1.1)\n",
      "Requirement already satisfied: ipython-genutils~=0.2.0 in /Library/Frameworks/Python.framework/Versions/3.10/lib/python3.10/site-packages (from ipywidgets->mysuni) (0.2.0)\n",
      "Requirement already satisfied: traitlets>=4.3.1 in /Library/Frameworks/Python.framework/Versions/3.10/lib/python3.10/site-packages (from ipywidgets->mysuni) (5.1.1)\n",
      "Requirement already satisfied: jupyterlab-widgets>=1.0.0 in /Library/Frameworks/Python.framework/Versions/3.10/lib/python3.10/site-packages (from ipywidgets->mysuni) (1.0.2)\n",
      "Requirement already satisfied: qtconsole in /Library/Frameworks/Python.framework/Versions/3.10/lib/python3.10/site-packages (from jupyter->mysuni) (5.2.2)\n",
      "Requirement already satisfied: nbconvert in /Library/Frameworks/Python.framework/Versions/3.10/lib/python3.10/site-packages (from jupyter->mysuni) (6.4.4)\n",
      "Requirement already satisfied: jupyter-console in /Library/Frameworks/Python.framework/Versions/3.10/lib/python3.10/site-packages (from jupyter->mysuni) (6.4.3)\n",
      "Requirement already satisfied: notebook in /Library/Frameworks/Python.framework/Versions/3.10/lib/python3.10/site-packages (from jupyter->mysuni) (6.4.8)\n",
      "Collecting cycler>=0.10\n",
      "  Downloading cycler-0.11.0-py3-none-any.whl (6.4 kB)\n",
      "Requirement already satisfied: pyparsing>=2.2.1 in /Library/Frameworks/Python.framework/Versions/3.10/lib/python3.10/site-packages (from matplotlib->mysuni) (3.0.7)\n",
      "Collecting pillow>=6.2.0\n",
      "  Downloading Pillow-9.0.1-1-cp310-cp310-macosx_11_0_arm64.whl (2.7 MB)\n",
      "\u001b[2K     \u001b[38;2;114;156;31m━━━━━━━━━━━━━━━━━━━━━━━━━━━━━━━━━━━━━━━━\u001b[0m \u001b[32m2.7/2.7 MB\u001b[0m \u001b[31m6.1 MB/s\u001b[0m eta \u001b[36m0:00:00\u001b[0mm eta \u001b[36m0:00:01\u001b[0m[36m0:00:01\u001b[0mm\n",
      "\u001b[?25hCollecting fonttools>=4.22.0\n",
      "  Downloading fonttools-4.30.0-py3-none-any.whl (898 kB)\n",
      "\u001b[2K     \u001b[38;2;114;156;31m━━━━━━━━━━━━━━━━━━━━━━━━━━━━━━━━━━━━━━━\u001b[0m \u001b[32m898.1/898.1 KB\u001b[0m \u001b[31m4.1 MB/s\u001b[0m eta \u001b[36m0:00:00\u001b[0mm eta \u001b[36m0:00:01\u001b[0m[36m0:00:01\u001b[0m\n",
      "\u001b[?25hRequirement already satisfied: packaging>=20.0 in /Library/Frameworks/Python.framework/Versions/3.10/lib/python3.10/site-packages (from matplotlib->mysuni) (21.3)\n",
      "Requirement already satisfied: python-dateutil>=2.7 in /Library/Frameworks/Python.framework/Versions/3.10/lib/python3.10/site-packages (from matplotlib->mysuni) (2.8.2)\n",
      "Collecting kiwisolver>=1.0.1\n",
      "  Downloading kiwisolver-1.4.0-cp310-cp310-macosx_11_0_arm64.whl (59 kB)\n",
      "\u001b[2K     \u001b[38;2;114;156;31m━━━━━━━━━━━━━━━━━━━━━━━━━━━━━━━━━━━━━━━━\u001b[0m \u001b[32m59.3/59.3 KB\u001b[0m \u001b[31m1.7 MB/s\u001b[0m eta \u001b[36m0:00:00\u001b[0m\n",
      "\u001b[?25hRequirement already satisfied: numpy>=1.17 in /Library/Frameworks/Python.framework/Versions/3.10/lib/python3.10/site-packages (from matplotlib->mysuni) (1.22.3)\n",
      "Requirement already satisfied: pytz>=2020.1 in /Library/Frameworks/Python.framework/Versions/3.10/lib/python3.10/site-packages (from pandas->mysuni) (2021.3)\n",
      "Collecting charset-normalizer~=2.0.0\n",
      "  Downloading charset_normalizer-2.0.12-py3-none-any.whl (39 kB)\n",
      "Collecting certifi>=2017.4.17\n",
      "  Downloading certifi-2021.10.8-py2.py3-none-any.whl (149 kB)\n",
      "\u001b[2K     \u001b[38;2;114;156;31m━━━━━━━━━━━━━━━━━━━━━━━━━━━━━━━━━━━━━━━\u001b[0m \u001b[32m149.2/149.2 KB\u001b[0m \u001b[31m3.2 MB/s\u001b[0m eta \u001b[36m0:00:00\u001b[0m MB/s\u001b[0m eta \u001b[36m0:00:01\u001b[0m\n",
      "\u001b[?25hCollecting idna<4,>=2.5\n",
      "  Downloading idna-3.3-py3-none-any.whl (61 kB)\n",
      "\u001b[2K     \u001b[38;2;114;156;31m━━━━━━━━━━━━━━━━━━━━━━━━━━━━━━━━━━━━━━━━\u001b[0m \u001b[32m61.2/61.2 KB\u001b[0m \u001b[31m2.2 MB/s\u001b[0m eta \u001b[36m0:00:00\u001b[0m\n",
      "\u001b[?25hCollecting urllib3<1.27,>=1.21.1\n",
      "  Downloading urllib3-1.26.8-py2.py3-none-any.whl (138 kB)\n",
      "\u001b[2K     \u001b[38;2;114;156;31m━━━━━━━━━━━━━━━━━━━━━━━━━━━━━━━━━━━━━━━\u001b[0m \u001b[32m138.7/138.7 KB\u001b[0m \u001b[31m3.7 MB/s\u001b[0m eta \u001b[36m0:00:00\u001b[0m\n",
      "\u001b[?25hCollecting joblib>=0.11\n",
      "  Downloading joblib-1.1.0-py2.py3-none-any.whl (306 kB)\n",
      "\u001b[2K     \u001b[38;2;114;156;31m━━━━━━━━━━━━━━━━━━━━━━━━━━━━━━━━━━━━━━━\u001b[0m \u001b[32m307.0/307.0 KB\u001b[0m \u001b[31m4.1 MB/s\u001b[0m eta \u001b[36m0:00:00\u001b[0m MB/s\u001b[0m eta \u001b[36m0:00:01\u001b[0m\n",
      "\u001b[?25hCollecting scipy>=1.1.0\n",
      "  Downloading scipy-1.8.0-cp310-cp310-macosx_12_0_arm64.whl (28.7 MB)\n",
      "\u001b[2K     \u001b[38;2;114;156;31m━━━━━━━━━━━━━━━━━━━━━━━━━━━━━━━━━━━━━━━━\u001b[0m \u001b[32m28.7/28.7 MB\u001b[0m \u001b[31m6.2 MB/s\u001b[0m eta \u001b[36m0:00:00\u001b[0mm eta \u001b[36m0:00:01\u001b[0m[36m0:00:01\u001b[0m\n",
      "\u001b[?25hCollecting threadpoolctl>=2.0.0\n",
      "  Downloading threadpoolctl-3.1.0-py3-none-any.whl (14 kB)\n",
      "Requirement already satisfied: matplotlib-inline<0.2.0,>=0.1.0 in /Library/Frameworks/Python.framework/Versions/3.10/lib/python3.10/site-packages (from ipykernel>=4.5.1->ipywidgets->mysuni) (0.1.3)\n",
      "Requirement already satisfied: tornado<7.0,>=4.2 in /Library/Frameworks/Python.framework/Versions/3.10/lib/python3.10/site-packages (from ipykernel>=4.5.1->ipywidgets->mysuni) (6.1)\n",
      "Requirement already satisfied: debugpy<2.0,>=1.0.0 in /Library/Frameworks/Python.framework/Versions/3.10/lib/python3.10/site-packages (from ipykernel>=4.5.1->ipywidgets->mysuni) (1.5.1)\n",
      "Requirement already satisfied: nest-asyncio in /Library/Frameworks/Python.framework/Versions/3.10/lib/python3.10/site-packages (from ipykernel>=4.5.1->ipywidgets->mysuni) (1.5.4)\n",
      "Requirement already satisfied: appnope in /Library/Frameworks/Python.framework/Versions/3.10/lib/python3.10/site-packages (from ipykernel>=4.5.1->ipywidgets->mysuni) (0.1.2)\n",
      "Requirement already satisfied: jupyter-client<8.0 in /Library/Frameworks/Python.framework/Versions/3.10/lib/python3.10/site-packages (from ipykernel>=4.5.1->ipywidgets->mysuni) (7.1.2)\n",
      "Requirement already satisfied: stack-data in /Library/Frameworks/Python.framework/Versions/3.10/lib/python3.10/site-packages (from ipython>=4.0.0->ipywidgets->mysuni) (0.2.0)\n",
      "Requirement already satisfied: backcall in /Library/Frameworks/Python.framework/Versions/3.10/lib/python3.10/site-packages (from ipython>=4.0.0->ipywidgets->mysuni) (0.2.0)\n",
      "Requirement already satisfied: pickleshare in /Library/Frameworks/Python.framework/Versions/3.10/lib/python3.10/site-packages (from ipython>=4.0.0->ipywidgets->mysuni) (0.7.5)\n",
      "Requirement already satisfied: prompt-toolkit!=3.0.0,!=3.0.1,<3.1.0,>=2.0.0 in /Library/Frameworks/Python.framework/Versions/3.10/lib/python3.10/site-packages (from ipython>=4.0.0->ipywidgets->mysuni) (3.0.28)\n",
      "Requirement already satisfied: pexpect>4.3 in /Library/Frameworks/Python.framework/Versions/3.10/lib/python3.10/site-packages (from ipython>=4.0.0->ipywidgets->mysuni) (4.8.0)\n",
      "Requirement already satisfied: setuptools>=18.5 in /Library/Frameworks/Python.framework/Versions/3.10/lib/python3.10/site-packages (from ipython>=4.0.0->ipywidgets->mysuni) (58.1.0)\n",
      "Requirement already satisfied: jedi>=0.16 in /Library/Frameworks/Python.framework/Versions/3.10/lib/python3.10/site-packages (from ipython>=4.0.0->ipywidgets->mysuni) (0.18.1)\n",
      "Requirement already satisfied: pygments>=2.4.0 in /Library/Frameworks/Python.framework/Versions/3.10/lib/python3.10/site-packages (from ipython>=4.0.0->ipywidgets->mysuni) (2.11.2)\n",
      "Requirement already satisfied: decorator in /Library/Frameworks/Python.framework/Versions/3.10/lib/python3.10/site-packages (from ipython>=4.0.0->ipywidgets->mysuni) (5.1.1)\n",
      "Requirement already satisfied: jsonschema!=2.5.0,>=2.4 in /Library/Frameworks/Python.framework/Versions/3.10/lib/python3.10/site-packages (from nbformat>=4.2.0->ipywidgets->mysuni) (4.4.0)\n",
      "Requirement already satisfied: jupyter-core in /Library/Frameworks/Python.framework/Versions/3.10/lib/python3.10/site-packages (from nbformat>=4.2.0->ipywidgets->mysuni) (4.9.2)\n"
     ]
    },
    {
     "name": "stdout",
     "output_type": "stream",
     "text": [
      "Requirement already satisfied: six>=1.5 in /Library/Frameworks/Python.framework/Versions/3.10/lib/python3.10/site-packages (from python-dateutil>=2.7->matplotlib->mysuni) (1.16.0)\n",
      "Requirement already satisfied: pyzmq>=17 in /Library/Frameworks/Python.framework/Versions/3.10/lib/python3.10/site-packages (from notebook->jupyter->mysuni) (22.3.0)\n",
      "Requirement already satisfied: argon2-cffi in /Library/Frameworks/Python.framework/Versions/3.10/lib/python3.10/site-packages (from notebook->jupyter->mysuni) (21.3.0)\n",
      "Requirement already satisfied: prometheus-client in /Library/Frameworks/Python.framework/Versions/3.10/lib/python3.10/site-packages (from notebook->jupyter->mysuni) (0.13.1)\n",
      "Requirement already satisfied: terminado>=0.8.3 in /Library/Frameworks/Python.framework/Versions/3.10/lib/python3.10/site-packages (from notebook->jupyter->mysuni) (0.13.3)\n",
      "Requirement already satisfied: jinja2 in /Library/Frameworks/Python.framework/Versions/3.10/lib/python3.10/site-packages (from notebook->jupyter->mysuni) (3.0.3)\n",
      "Requirement already satisfied: Send2Trash>=1.8.0 in /Library/Frameworks/Python.framework/Versions/3.10/lib/python3.10/site-packages (from notebook->jupyter->mysuni) (1.8.0)\n",
      "Requirement already satisfied: beautifulsoup4 in /Library/Frameworks/Python.framework/Versions/3.10/lib/python3.10/site-packages (from nbconvert->jupyter->mysuni) (4.10.0)\n",
      "Requirement already satisfied: jupyterlab-pygments in /Library/Frameworks/Python.framework/Versions/3.10/lib/python3.10/site-packages (from nbconvert->jupyter->mysuni) (0.1.2)\n",
      "Requirement already satisfied: nbclient<0.6.0,>=0.5.0 in /Library/Frameworks/Python.framework/Versions/3.10/lib/python3.10/site-packages (from nbconvert->jupyter->mysuni) (0.5.13)\n",
      "Requirement already satisfied: defusedxml in /Library/Frameworks/Python.framework/Versions/3.10/lib/python3.10/site-packages (from nbconvert->jupyter->mysuni) (0.7.1)\n",
      "Requirement already satisfied: bleach in /Library/Frameworks/Python.framework/Versions/3.10/lib/python3.10/site-packages (from nbconvert->jupyter->mysuni) (4.1.0)\n",
      "Requirement already satisfied: pandocfilters>=1.4.1 in /Library/Frameworks/Python.framework/Versions/3.10/lib/python3.10/site-packages (from nbconvert->jupyter->mysuni) (1.5.0)\n",
      "Requirement already satisfied: entrypoints>=0.2.2 in /Library/Frameworks/Python.framework/Versions/3.10/lib/python3.10/site-packages (from nbconvert->jupyter->mysuni) (0.4)\n",
      "Requirement already satisfied: mistune<2,>=0.8.1 in /Library/Frameworks/Python.framework/Versions/3.10/lib/python3.10/site-packages (from nbconvert->jupyter->mysuni) (0.8.4)\n",
      "Requirement already satisfied: testpath in /Library/Frameworks/Python.framework/Versions/3.10/lib/python3.10/site-packages (from nbconvert->jupyter->mysuni) (0.6.0)\n",
      "Requirement already satisfied: qtpy in /Library/Frameworks/Python.framework/Versions/3.10/lib/python3.10/site-packages (from qtconsole->jupyter->mysuni) (2.0.1)\n",
      "Requirement already satisfied: parso<0.9.0,>=0.8.0 in /Library/Frameworks/Python.framework/Versions/3.10/lib/python3.10/site-packages (from jedi>=0.16->ipython>=4.0.0->ipywidgets->mysuni) (0.8.3)\n",
      "Requirement already satisfied: MarkupSafe>=2.0 in /Library/Frameworks/Python.framework/Versions/3.10/lib/python3.10/site-packages (from jinja2->notebook->jupyter->mysuni) (2.1.0)\n",
      "Requirement already satisfied: attrs>=17.4.0 in /Library/Frameworks/Python.framework/Versions/3.10/lib/python3.10/site-packages (from jsonschema!=2.5.0,>=2.4->nbformat>=4.2.0->ipywidgets->mysuni) (21.4.0)\n",
      "Requirement already satisfied: pyrsistent!=0.17.0,!=0.17.1,!=0.17.2,>=0.14.0 in /Library/Frameworks/Python.framework/Versions/3.10/lib/python3.10/site-packages (from jsonschema!=2.5.0,>=2.4->nbformat>=4.2.0->ipywidgets->mysuni) (0.18.1)\n",
      "Requirement already satisfied: ptyprocess>=0.5 in /Library/Frameworks/Python.framework/Versions/3.10/lib/python3.10/site-packages (from pexpect>4.3->ipython>=4.0.0->ipywidgets->mysuni) (0.7.0)\n",
      "Requirement already satisfied: wcwidth in /Library/Frameworks/Python.framework/Versions/3.10/lib/python3.10/site-packages (from prompt-toolkit!=3.0.0,!=3.0.1,<3.1.0,>=2.0.0->ipython>=4.0.0->ipywidgets->mysuni) (0.2.5)\n",
      "Requirement already satisfied: argon2-cffi-bindings in /Library/Frameworks/Python.framework/Versions/3.10/lib/python3.10/site-packages (from argon2-cffi->notebook->jupyter->mysuni) (21.2.0)\n",
      "Requirement already satisfied: soupsieve>1.2 in /Library/Frameworks/Python.framework/Versions/3.10/lib/python3.10/site-packages (from beautifulsoup4->nbconvert->jupyter->mysuni) (2.3.1)\n",
      "Requirement already satisfied: webencodings in /Library/Frameworks/Python.framework/Versions/3.10/lib/python3.10/site-packages (from bleach->nbconvert->jupyter->mysuni) (0.5.1)\n",
      "Requirement already satisfied: asttokens in /Library/Frameworks/Python.framework/Versions/3.10/lib/python3.10/site-packages (from stack-data->ipython>=4.0.0->ipywidgets->mysuni) (2.0.5)\n",
      "Requirement already satisfied: executing in /Library/Frameworks/Python.framework/Versions/3.10/lib/python3.10/site-packages (from stack-data->ipython>=4.0.0->ipywidgets->mysuni) (0.8.3)\n",
      "Requirement already satisfied: pure-eval in /Library/Frameworks/Python.framework/Versions/3.10/lib/python3.10/site-packages (from stack-data->ipython>=4.0.0->ipywidgets->mysuni) (0.2.2)\n",
      "Requirement already satisfied: cffi>=1.0.1 in /Library/Frameworks/Python.framework/Versions/3.10/lib/python3.10/site-packages (from argon2-cffi-bindings->argon2-cffi->notebook->jupyter->mysuni) (1.15.0)\n",
      "Requirement already satisfied: pycparser in /Library/Frameworks/Python.framework/Versions/3.10/lib/python3.10/site-packages (from cffi>=1.0.1->argon2-cffi-bindings->argon2-cffi->notebook->jupyter->mysuni) (2.21)\n",
      "Installing collected packages: certifi, urllib3, tqdm, threadpoolctl, scipy, pillow, kiwisolver, joblib, idna, fonttools, cycler, charset-normalizer, scikit-learn, requests, matplotlib, seaborn, mysuni\n",
      "Successfully installed certifi-2021.10.8 charset-normalizer-2.0.12 cycler-0.11.0 fonttools-4.30.0 idna-3.3 joblib-1.1.0 kiwisolver-1.4.0 matplotlib-3.5.1 mysuni-1.2.7 pillow-9.0.1 requests-2.27.1 scikit-learn-1.0.2 scipy-1.8.0 seaborn-0.11.2 threadpoolctl-3.1.0 tqdm-4.63.0 urllib3-1.26.8\n"
     ]
    }
   ],
   "source": [
    "!pip install mysuni"
   ]
  },
  {
   "cell_type": "code",
   "execution_count": 104,
   "id": "8e0d4c48",
   "metadata": {},
   "outputs": [
    {
     "data": {
      "text/html": [
       "<div>\n",
       "<style scoped>\n",
       "    .dataframe tbody tr th:only-of-type {\n",
       "        vertical-align: middle;\n",
       "    }\n",
       "\n",
       "    .dataframe tbody tr th {\n",
       "        vertical-align: top;\n",
       "    }\n",
       "\n",
       "    .dataframe thead th {\n",
       "        text-align: right;\n",
       "    }\n",
       "</style>\n",
       "<table border=\"1\" class=\"dataframe\">\n",
       "  <thead>\n",
       "    <tr style=\"text-align: right;\">\n",
       "      <th></th>\n",
       "      <th>워크샵</th>\n",
       "    </tr>\n",
       "  </thead>\n",
       "  <tbody>\n",
       "    <tr>\n",
       "      <th>0</th>\n",
       "      <td>mySUNI-WorkShop-00-Python</td>\n",
       "    </tr>\n",
       "    <tr>\n",
       "      <th>1</th>\n",
       "      <td>mySUNI-WorkShop-01-StepWalk</td>\n",
       "    </tr>\n",
       "    <tr>\n",
       "      <th>2</th>\n",
       "      <td>mySUNI-WorkShop-02-Pandas</td>\n",
       "    </tr>\n",
       "    <tr>\n",
       "      <th>3</th>\n",
       "      <td>mySUNI-WorkShop-03-타이타닉 생존자 분석</td>\n",
       "    </tr>\n",
       "    <tr>\n",
       "      <th>4</th>\n",
       "      <td>mySUNI-WorkShop-04-타이타닉 생존자 예측</td>\n",
       "    </tr>\n",
       "    <tr>\n",
       "      <th>5</th>\n",
       "      <td>mySUNi-WorkShop-05-데이터 전처리 및 분석</td>\n",
       "    </tr>\n",
       "    <tr>\n",
       "      <th>6</th>\n",
       "      <td>mySUNI-WorkShop-06-웨이퍼 불량 유형 분류</td>\n",
       "    </tr>\n",
       "    <tr>\n",
       "      <th>7</th>\n",
       "      <td>mySUNI-WorkShop-07-따릉이 대여량 예측</td>\n",
       "    </tr>\n",
       "    <tr>\n",
       "      <th>8</th>\n",
       "      <td>mySUNI-WorkShop-08-집 값 예측</td>\n",
       "    </tr>\n",
       "    <tr>\n",
       "      <th>9</th>\n",
       "      <td>mySUNI-WorkShop-09-머신러닝 연습</td>\n",
       "    </tr>\n",
       "  </tbody>\n",
       "</table>\n",
       "</div>"
      ],
      "text/plain": [
       "                               워크샵\n",
       "0        mySUNI-WorkShop-00-Python\n",
       "1      mySUNI-WorkShop-01-StepWalk\n",
       "2        mySUNI-WorkShop-02-Pandas\n",
       "3   mySUNI-WorkShop-03-타이타닉 생존자 분석\n",
       "4   mySUNI-WorkShop-04-타이타닉 생존자 예측\n",
       "5  mySUNi-WorkShop-05-데이터 전처리 및 분석\n",
       "6  mySUNI-WorkShop-06-웨이퍼 불량 유형 분류\n",
       "7    mySUNI-WorkShop-07-따릉이 대여량 예측\n",
       "8        mySUNI-WorkShop-08-집 값 예측\n",
       "9       mySUNI-WorkShop-09-머신러닝 연습"
      ]
     },
     "metadata": {},
     "output_type": "display_data"
    }
   ],
   "source": [
    "from mySUNI import cds\n",
    "cds.list_workshop()"
   ]
  },
  {
   "cell_type": "code",
   "execution_count": 105,
   "id": "f1cf9286",
   "metadata": {},
   "outputs": [
    {
     "name": "stdout",
     "output_type": "stream",
     "text": [
      "워크샵: ['mySUNI-WorkShop-01-StepWalk-실습.ipynb']\n",
      "==============================\n",
      "파일 정보\n",
      "\n",
      "저장 위치:\t workshop/mySUNI-WorkShop-01-StepWalk/mySUNI-WorkShop-01-StepWalk-실습.ipynb\n",
      "\n",
      "==============================\n"
     ]
    }
   ],
   "source": [
    "cds.download_workshop('mySUNI-WorkShop-01-StepWalk', local=True)\n"
   ]
  },
  {
   "cell_type": "code",
   "execution_count": 106,
   "id": "7dbbd1bd",
   "metadata": {},
   "outputs": [
    {
     "name": "stdout",
     "output_type": "stream",
     "text": [
      "워크샵: ['mySUNI-WorkShop-01-StepWalk-해설.ipynb']\n",
      "==============================\n",
      "파일 정보\n",
      "\n",
      "저장 위치:\t workshop/mySUNI-WorkShop-01-StepWalk/mySUNI-WorkShop-01-StepWalk-해설.ipynb\n",
      "\n",
      "==============================\n"
     ]
    }
   ],
   "source": [
    "cds.download_workshop('mySUNI-WorkShop-01-StepWalk', sol=True,local=True)"
   ]
  },
  {
   "cell_type": "code",
   "execution_count": null,
   "id": "cefd9ba6",
   "metadata": {},
   "outputs": [],
   "source": [
    "(a)\n"
   ]
  },
  {
   "cell_type": "code",
   "execution_count": 1,
   "id": "063e4339",
   "metadata": {},
   "outputs": [
    {
     "name": "stdout",
     "output_type": "stream",
     "text": [
      "30\n"
     ]
    }
   ],
   "source": [
    "def func(a,b):\n",
    "    res = a+b\n",
    "    return res\n",
    "\n",
    "print(func(10,20))"
   ]
  },
  {
   "cell_type": "code",
   "execution_count": null,
   "id": "dd64f29c",
   "metadata": {},
   "outputs": [],
   "source": []
  }
 ],
 "metadata": {
  "kernelspec": {
   "display_name": "Python 3 (ipykernel)",
   "language": "python",
   "name": "python3"
  },
  "language_info": {
   "codemirror_mode": {
    "name": "ipython",
    "version": 3
   },
   "file_extension": ".py",
   "mimetype": "text/x-python",
   "name": "python",
   "nbconvert_exporter": "python",
   "pygments_lexer": "ipython3",
   "version": "3.10.2"
  }
 },
 "nbformat": 4,
 "nbformat_minor": 5
}
