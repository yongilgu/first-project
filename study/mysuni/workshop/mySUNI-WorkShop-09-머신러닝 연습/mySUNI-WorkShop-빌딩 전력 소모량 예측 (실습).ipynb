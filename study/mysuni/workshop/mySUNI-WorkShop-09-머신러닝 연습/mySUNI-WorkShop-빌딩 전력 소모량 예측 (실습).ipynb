{
 "cells": [
  {
   "cell_type": "markdown",
   "metadata": {},
   "source": [
    "# 빌딩 전력 소모량 예측\n",
    "\n",
    "여러분들의 분석 스킬과 머신러닝 스킬을 활용하여 빌딩의 전력 소모량을 예측하는 모델을 만들어 주세요!\n",
    "\n",
    "Q : 여름에 고층 빌딩을 식히는 데 비용이 얼마나 드나요?\n",
    "A : 많이 듭니다! 그리고 돈 뿐만 아니라 환경 영향도 있습니다.\n",
    "\n",
    "건물 효율성을 개선하여 비용과 배출량을 줄이기 위해 상당한 투자가 이루어지고 있습니다. 문제는 개선이 효과적이었을까요?\n",
    "\n",
    "건물 소유주는 전력을 사용한 만큼 청구서를 발행하는데,전력 계량기가 특정 건물 유형에서는 작동하지 않아 전력 사용량 측정에도 어려움을 겪고 있습니다.재의 추정 방법은 단편화되어 있으며 확장 성이 좋지 않습니다. 일부는 특정 미터 유형을 가정하거나 다른 건물 유형에서 작동하지 않습니다.\n",
    "\n",
    "이 대회에서는 냉수, 전기, 온수 및 증기 계량기 분야에서 건물 에너지 사용량의 정확한 모델을 개발하게됩니다. 데이터는 3 년 동안 1,000 개 이상의 건물에서 가져온 것입니다. 이러한 에너지 절약 투자에 대한 더 나은 추정을 통해 대규모 투자자와 금융 기관은 건물 효율성 향상을 위해 이 분야에 투자 할 가능성이 높아질 것입니다.\n",
    "\n",
    "\n",
    "## 데이터 설명\n",
    "**train.csv**\n",
    "\n",
    "- `building_id`-건물 ID 코드\n",
    "- `meter`-측정기 ID 코드\n",
    "    - {0 : 전기, 1 : 냉수, 2 : 증기, 3 : 온수}\n",
    "- `timestamp`-측정이 수행 된 시기\n",
    "- `meter_reading`-대상 변수입니다. \n",
    "    - kWh (또는 이에 상응하는) 단위의 에너지 소비량\n",
    "\n",
    "**test.csv**\n",
    "- `row_id`-제출 파일의 행 ID\n",
    "- `building_id`-건물 ID 코드\n",
    "- `meter`-측정기 ID 코드\n",
    "- `timestamp`-측정이 수행 된 시기\n",
    "\n",
    "**building_meta.csv**\n",
    "\n",
    "- `site_id`-위치 ID 코드 \n",
    "    - `weather` 파일과 병합 시 사용\n",
    "- `building_id`-건물 ID 코드\n",
    "    - `train.csv`, `test.csv` 파일과 병합 시 사용\n",
    "- `primary_use`-미국 EnergyStar 속성 유형 정의를 기반으로하는 건물의 기본 활동 범주 표시기\n",
    "- `square_feet`-건물의 전체 바닥 면적\n",
    "- `year_built`-개관 연도\n",
    "- `floor_count`-건물의 층 수\n",
    "\n",
    "**weather_[train/test].csv**\n",
    "\n",
    "건물에 가장 가까운 기상 관측소의 날씨 데이터\n",
    "- `site_id` - 위치 ID 코드 \n",
    "- `air_temperature.csv`- 섭씨 온도\n",
    "- `cloud_coverage`-구름으로 덮인 하늘 부분 ([Okta](https://en.wikipedia.org/wiki/Okta))\n",
    "- `dew_ temperature`-섭씨 온도\n",
    "- `precip_depth_1_hr`-밀리미터\n",
    "- `sea_level_pressure`-밀리바 / 헥토 파스칼\n",
    "- `wind_direction`-나침반 방향 (0-360)\n",
    "- `wind_speed`-초당 미터\n",
    "\n",
    "**submission.csv**\n",
    "\n",
    "- `row_id`-제출 파일의 행 ID\n",
    "- `meter_reading`-test.csv 파일을 예측한 결과\n",
    "\n",
    "## 프로젝트 구성\n",
    "* 데이터 로드 (load data, train.csv, test.csv)\n",
    "* 데이터 전처리 및 특성 공학 (train.csv, test.csv)\n",
    "* 모델 생성 및 검증 (train.csv)\n",
    "* 평가 데이터 예측 (test.csv)\n",
    "* 결과 제출 및 점수 확인\n",
    "\n",
    "## 제출 이력 및 순위 조회\n",
    "[평가시스템](http://manage.jaen.kr)에 접속하여 확인 가능\n",
    "\n",
    "> 로그인 -> 프로젝트 -> 프로젝트 선택 -> 리더보드\n",
    "\n",
    "- 접속 정보\n",
    "    - ID : `~~~@sk.com`\n",
    "    - PWD : `mysuni`\n",
    "\n",
    "\n"
   ]
  },
  {
   "cell_type": "markdown",
   "metadata": {},
   "source": [
    "## 환경 설정"
   ]
  },
  {
   "cell_type": "code",
   "execution_count": 54,
   "metadata": {},
   "outputs": [],
   "source": [
    "project_name = \"빌딩 전력 소모량 예측\" # 프로젝트 이름\n",
    "class_info = \"1차수 B반\" # 차수 정보\n",
    "email = \"yong19@sk.com\" # 회사 이메일을 넣어주세요. (~~~@sk.com)"
   ]
  },
  {
   "cell_type": "markdown",
   "metadata": {},
   "source": [
    "## 모듈 설치 및 데이터 다운로드"
   ]
  },
  {
   "cell_type": "code",
   "execution_count": 55,
   "metadata": {
    "scrolled": true
   },
   "outputs": [
    {
     "name": "stdout",
     "output_type": "stream",
     "text": [
      "Requirement already satisfied: mySUNI in /opt/anaconda3/lib/python3.9/site-packages (1.2.7)\n",
      "Requirement already satisfied: tqdm in /opt/anaconda3/lib/python3.9/site-packages (from mySUNI) (4.62.3)\n",
      "Requirement already satisfied: scikit-learn in /opt/anaconda3/lib/python3.9/site-packages (from mySUNI) (0.24.2)\n",
      "Requirement already satisfied: matplotlib in /opt/anaconda3/lib/python3.9/site-packages (from mySUNI) (3.4.3)\n",
      "Requirement already satisfied: jupyter in /opt/anaconda3/lib/python3.9/site-packages (from mySUNI) (1.0.0)\n",
      "Requirement already satisfied: pandas in /opt/anaconda3/lib/python3.9/site-packages (from mySUNI) (1.3.4)\n",
      "Requirement already satisfied: seaborn in /opt/anaconda3/lib/python3.9/site-packages (from mySUNI) (0.11.2)\n",
      "Requirement already satisfied: requests in /opt/anaconda3/lib/python3.9/site-packages (from mySUNI) (2.26.0)\n",
      "Requirement already satisfied: ipywidgets in /opt/anaconda3/lib/python3.9/site-packages (from mySUNI) (7.6.5)\n",
      "Requirement already satisfied: ipykernel>=4.5.1 in /opt/anaconda3/lib/python3.9/site-packages (from ipywidgets->mySUNI) (6.4.1)\n",
      "Requirement already satisfied: nbformat>=4.2.0 in /opt/anaconda3/lib/python3.9/site-packages (from ipywidgets->mySUNI) (5.1.3)\n",
      "Requirement already satisfied: widgetsnbextension~=3.5.0 in /opt/anaconda3/lib/python3.9/site-packages (from ipywidgets->mySUNI) (3.5.1)\n",
      "Requirement already satisfied: jupyterlab-widgets>=1.0.0 in /opt/anaconda3/lib/python3.9/site-packages (from ipywidgets->mySUNI) (1.0.0)\n",
      "Requirement already satisfied: traitlets>=4.3.1 in /opt/anaconda3/lib/python3.9/site-packages (from ipywidgets->mySUNI) (5.1.0)\n",
      "Requirement already satisfied: ipython>=4.0.0 in /opt/anaconda3/lib/python3.9/site-packages (from ipywidgets->mySUNI) (7.29.0)\n",
      "Requirement already satisfied: ipython-genutils~=0.2.0 in /opt/anaconda3/lib/python3.9/site-packages (from ipywidgets->mySUNI) (0.2.0)\n",
      "Requirement already satisfied: matplotlib-inline<0.2.0,>=0.1.0 in /opt/anaconda3/lib/python3.9/site-packages (from ipykernel>=4.5.1->ipywidgets->mySUNI) (0.1.2)\n",
      "Requirement already satisfied: debugpy<2.0,>=1.0.0 in /opt/anaconda3/lib/python3.9/site-packages (from ipykernel>=4.5.1->ipywidgets->mySUNI) (1.4.1)\n",
      "Requirement already satisfied: jupyter-client<8.0 in /opt/anaconda3/lib/python3.9/site-packages (from ipykernel>=4.5.1->ipywidgets->mySUNI) (6.1.12)\n",
      "Requirement already satisfied: tornado<7.0,>=4.2 in /opt/anaconda3/lib/python3.9/site-packages (from ipykernel>=4.5.1->ipywidgets->mySUNI) (6.1)\n",
      "Requirement already satisfied: appnope in /opt/anaconda3/lib/python3.9/site-packages (from ipykernel>=4.5.1->ipywidgets->mySUNI) (0.1.2)\n",
      "Requirement already satisfied: prompt-toolkit!=3.0.0,!=3.0.1,<3.1.0,>=2.0.0 in /opt/anaconda3/lib/python3.9/site-packages (from ipython>=4.0.0->ipywidgets->mySUNI) (3.0.20)\n",
      "Requirement already satisfied: setuptools>=18.5 in /opt/anaconda3/lib/python3.9/site-packages (from ipython>=4.0.0->ipywidgets->mySUNI) (58.0.4)\n",
      "Requirement already satisfied: pygments in /opt/anaconda3/lib/python3.9/site-packages (from ipython>=4.0.0->ipywidgets->mySUNI) (2.10.0)\n",
      "Requirement already satisfied: jedi>=0.16 in /opt/anaconda3/lib/python3.9/site-packages (from ipython>=4.0.0->ipywidgets->mySUNI) (0.18.0)\n",
      "Requirement already satisfied: pexpect>4.3 in /opt/anaconda3/lib/python3.9/site-packages (from ipython>=4.0.0->ipywidgets->mySUNI) (4.8.0)\n",
      "Requirement already satisfied: backcall in /opt/anaconda3/lib/python3.9/site-packages (from ipython>=4.0.0->ipywidgets->mySUNI) (0.2.0)\n",
      "Requirement already satisfied: pickleshare in /opt/anaconda3/lib/python3.9/site-packages (from ipython>=4.0.0->ipywidgets->mySUNI) (0.7.5)\n",
      "Requirement already satisfied: decorator in /opt/anaconda3/lib/python3.9/site-packages (from ipython>=4.0.0->ipywidgets->mySUNI) (5.1.0)\n",
      "Requirement already satisfied: parso<0.9.0,>=0.8.0 in /opt/anaconda3/lib/python3.9/site-packages (from jedi>=0.16->ipython>=4.0.0->ipywidgets->mySUNI) (0.8.2)\n",
      "Requirement already satisfied: jupyter-core>=4.6.0 in /opt/anaconda3/lib/python3.9/site-packages (from jupyter-client<8.0->ipykernel>=4.5.1->ipywidgets->mySUNI) (4.8.1)\n",
      "Requirement already satisfied: pyzmq>=13 in /opt/anaconda3/lib/python3.9/site-packages (from jupyter-client<8.0->ipykernel>=4.5.1->ipywidgets->mySUNI) (22.2.1)\n",
      "Requirement already satisfied: python-dateutil>=2.1 in /opt/anaconda3/lib/python3.9/site-packages (from jupyter-client<8.0->ipykernel>=4.5.1->ipywidgets->mySUNI) (2.8.2)\n",
      "Requirement already satisfied: jsonschema!=2.5.0,>=2.4 in /opt/anaconda3/lib/python3.9/site-packages (from nbformat>=4.2.0->ipywidgets->mySUNI) (3.2.0)\n",
      "Requirement already satisfied: attrs>=17.4.0 in /opt/anaconda3/lib/python3.9/site-packages (from jsonschema!=2.5.0,>=2.4->nbformat>=4.2.0->ipywidgets->mySUNI) (21.2.0)\n",
      "Requirement already satisfied: six>=1.11.0 in /opt/anaconda3/lib/python3.9/site-packages (from jsonschema!=2.5.0,>=2.4->nbformat>=4.2.0->ipywidgets->mySUNI) (1.16.0)\n",
      "Requirement already satisfied: pyrsistent>=0.14.0 in /opt/anaconda3/lib/python3.9/site-packages (from jsonschema!=2.5.0,>=2.4->nbformat>=4.2.0->ipywidgets->mySUNI) (0.18.0)\n",
      "Requirement already satisfied: ptyprocess>=0.5 in /opt/anaconda3/lib/python3.9/site-packages (from pexpect>4.3->ipython>=4.0.0->ipywidgets->mySUNI) (0.7.0)\n",
      "Requirement already satisfied: wcwidth in /opt/anaconda3/lib/python3.9/site-packages (from prompt-toolkit!=3.0.0,!=3.0.1,<3.1.0,>=2.0.0->ipython>=4.0.0->ipywidgets->mySUNI) (0.2.5)\n",
      "Requirement already satisfied: notebook>=4.4.1 in /opt/anaconda3/lib/python3.9/site-packages (from widgetsnbextension~=3.5.0->ipywidgets->mySUNI) (6.4.5)\n",
      "Requirement already satisfied: nbconvert in /opt/anaconda3/lib/python3.9/site-packages (from notebook>=4.4.1->widgetsnbextension~=3.5.0->ipywidgets->mySUNI) (6.1.0)\n",
      "Requirement already satisfied: prometheus-client in /opt/anaconda3/lib/python3.9/site-packages (from notebook>=4.4.1->widgetsnbextension~=3.5.0->ipywidgets->mySUNI) (0.11.0)\n",
      "Requirement already satisfied: Send2Trash>=1.5.0 in /opt/anaconda3/lib/python3.9/site-packages (from notebook>=4.4.1->widgetsnbextension~=3.5.0->ipywidgets->mySUNI) (1.8.0)\n",
      "Requirement already satisfied: argon2-cffi in /opt/anaconda3/lib/python3.9/site-packages (from notebook>=4.4.1->widgetsnbextension~=3.5.0->ipywidgets->mySUNI) (20.1.0)\n",
      "Requirement already satisfied: jinja2 in /opt/anaconda3/lib/python3.9/site-packages (from notebook>=4.4.1->widgetsnbextension~=3.5.0->ipywidgets->mySUNI) (2.11.3)\n",
      "Requirement already satisfied: terminado>=0.8.3 in /opt/anaconda3/lib/python3.9/site-packages (from notebook>=4.4.1->widgetsnbextension~=3.5.0->ipywidgets->mySUNI) (0.9.4)\n",
      "Requirement already satisfied: cffi>=1.0.0 in /opt/anaconda3/lib/python3.9/site-packages (from argon2-cffi->notebook>=4.4.1->widgetsnbextension~=3.5.0->ipywidgets->mySUNI) (1.14.6)\n",
      "Requirement already satisfied: pycparser in /opt/anaconda3/lib/python3.9/site-packages (from cffi>=1.0.0->argon2-cffi->notebook>=4.4.1->widgetsnbextension~=3.5.0->ipywidgets->mySUNI) (2.20)\n",
      "Requirement already satisfied: MarkupSafe>=0.23 in /opt/anaconda3/lib/python3.9/site-packages (from jinja2->notebook>=4.4.1->widgetsnbextension~=3.5.0->ipywidgets->mySUNI) (1.1.1)\n",
      "Requirement already satisfied: jupyter-console in /opt/anaconda3/lib/python3.9/site-packages (from jupyter->mySUNI) (6.4.0)\n",
      "Requirement already satisfied: qtconsole in /opt/anaconda3/lib/python3.9/site-packages (from jupyter->mySUNI) (5.1.1)\n",
      "Requirement already satisfied: numpy>=1.16 in /opt/anaconda3/lib/python3.9/site-packages (from matplotlib->mySUNI) (1.20.3)\n",
      "Requirement already satisfied: pillow>=6.2.0 in /opt/anaconda3/lib/python3.9/site-packages (from matplotlib->mySUNI) (8.4.0)\n",
      "Requirement already satisfied: kiwisolver>=1.0.1 in /opt/anaconda3/lib/python3.9/site-packages (from matplotlib->mySUNI) (1.3.1)\n",
      "Requirement already satisfied: cycler>=0.10 in /opt/anaconda3/lib/python3.9/site-packages (from matplotlib->mySUNI) (0.10.0)\n",
      "Requirement already satisfied: pyparsing>=2.2.1 in /opt/anaconda3/lib/python3.9/site-packages (from matplotlib->mySUNI) (3.0.4)\n",
      "Requirement already satisfied: mistune<2,>=0.8.1 in /opt/anaconda3/lib/python3.9/site-packages (from nbconvert->notebook>=4.4.1->widgetsnbextension~=3.5.0->ipywidgets->mySUNI) (0.8.4)\n",
      "Requirement already satisfied: jupyterlab-pygments in /opt/anaconda3/lib/python3.9/site-packages (from nbconvert->notebook>=4.4.1->widgetsnbextension~=3.5.0->ipywidgets->mySUNI) (0.1.2)\n",
      "Requirement already satisfied: defusedxml in /opt/anaconda3/lib/python3.9/site-packages (from nbconvert->notebook>=4.4.1->widgetsnbextension~=3.5.0->ipywidgets->mySUNI) (0.7.1)\n",
      "Requirement already satisfied: pandocfilters>=1.4.1 in /opt/anaconda3/lib/python3.9/site-packages (from nbconvert->notebook>=4.4.1->widgetsnbextension~=3.5.0->ipywidgets->mySUNI) (1.4.3)\n",
      "Requirement already satisfied: bleach in /opt/anaconda3/lib/python3.9/site-packages (from nbconvert->notebook>=4.4.1->widgetsnbextension~=3.5.0->ipywidgets->mySUNI) (4.0.0)\n",
      "Requirement already satisfied: testpath in /opt/anaconda3/lib/python3.9/site-packages (from nbconvert->notebook>=4.4.1->widgetsnbextension~=3.5.0->ipywidgets->mySUNI) (0.5.0)\n",
      "Requirement already satisfied: entrypoints>=0.2.2 in /opt/anaconda3/lib/python3.9/site-packages (from nbconvert->notebook>=4.4.1->widgetsnbextension~=3.5.0->ipywidgets->mySUNI) (0.3)\n",
      "Requirement already satisfied: nbclient<0.6.0,>=0.5.0 in /opt/anaconda3/lib/python3.9/site-packages (from nbconvert->notebook>=4.4.1->widgetsnbextension~=3.5.0->ipywidgets->mySUNI) (0.5.3)\n",
      "Requirement already satisfied: async-generator in /opt/anaconda3/lib/python3.9/site-packages (from nbclient<0.6.0,>=0.5.0->nbconvert->notebook>=4.4.1->widgetsnbextension~=3.5.0->ipywidgets->mySUNI) (1.10)\n",
      "Requirement already satisfied: nest-asyncio in /opt/anaconda3/lib/python3.9/site-packages (from nbclient<0.6.0,>=0.5.0->nbconvert->notebook>=4.4.1->widgetsnbextension~=3.5.0->ipywidgets->mySUNI) (1.5.1)\n",
      "Requirement already satisfied: packaging in /opt/anaconda3/lib/python3.9/site-packages (from bleach->nbconvert->notebook>=4.4.1->widgetsnbextension~=3.5.0->ipywidgets->mySUNI) (21.0)\n",
      "Requirement already satisfied: webencodings in /opt/anaconda3/lib/python3.9/site-packages (from bleach->nbconvert->notebook>=4.4.1->widgetsnbextension~=3.5.0->ipywidgets->mySUNI) (0.5.1)\n",
      "Requirement already satisfied: pytz>=2017.3 in /opt/anaconda3/lib/python3.9/site-packages (from pandas->mySUNI) (2021.3)\n",
      "Requirement already satisfied: qtpy in /opt/anaconda3/lib/python3.9/site-packages (from qtconsole->jupyter->mySUNI) (1.10.0)\n",
      "Requirement already satisfied: certifi>=2017.4.17 in /opt/anaconda3/lib/python3.9/site-packages (from requests->mySUNI) (2021.10.8)\n",
      "Requirement already satisfied: charset-normalizer~=2.0.0 in /opt/anaconda3/lib/python3.9/site-packages (from requests->mySUNI) (2.0.4)\n",
      "Requirement already satisfied: idna<4,>=2.5 in /opt/anaconda3/lib/python3.9/site-packages (from requests->mySUNI) (3.2)\n",
      "Requirement already satisfied: urllib3<1.27,>=1.21.1 in /opt/anaconda3/lib/python3.9/site-packages (from requests->mySUNI) (1.26.7)\n",
      "Requirement already satisfied: joblib>=0.11 in /opt/anaconda3/lib/python3.9/site-packages (from scikit-learn->mySUNI) (1.1.0)\n",
      "Requirement already satisfied: scipy>=0.19.1 in /opt/anaconda3/lib/python3.9/site-packages (from scikit-learn->mySUNI) (1.7.1)\n",
      "Requirement already satisfied: threadpoolctl>=2.0.0 in /opt/anaconda3/lib/python3.9/site-packages (from scikit-learn->mySUNI) (2.2.0)\n"
     ]
    }
   ],
   "source": [
    "!pip install --upgrade mySUNI"
   ]
  },
  {
   "cell_type": "code",
   "execution_count": 56,
   "metadata": {},
   "outputs": [],
   "source": [
    "from mySUNI import cds"
   ]
  },
  {
   "cell_type": "code",
   "execution_count": 57,
   "metadata": {},
   "outputs": [
    {
     "name": "stdout",
     "output_type": "stream",
     "text": [
      "\n",
      "==============================\n",
      "프로젝트: 빌딩 전력 소모량 예측\n",
      "==============================\n",
      "파일 목록\n",
      "\n",
      "test.csv\n",
      "- data/빌딩 전력 소모량 예측/test.csv\n",
      "\n",
      "submission.csv\n",
      "- data/빌딩 전력 소모량 예측/submission.csv\n",
      "\n",
      "train.csv\n",
      "- data/빌딩 전력 소모량 예측/train.csv\n",
      "\n",
      "==============================\n"
     ]
    }
   ],
   "source": [
    "cds.download_project(project_name, class_info, email)"
   ]
  },
  {
   "cell_type": "markdown",
   "metadata": {},
   "source": [
    "## 모듈 import \n",
    "필요한 모듈을 import 합니다. 필요에 따라 추가 패키지를 load 할 수 있습니다."
   ]
  },
  {
   "cell_type": "code",
   "execution_count": 58,
   "metadata": {},
   "outputs": [],
   "source": [
    "import os\n",
    "import datetime\n",
    "import numpy as np\n",
    "import pandas as pd\n",
    "import seaborn as sns\n",
    "import matplotlib.pyplot as plt\n",
    "\n",
    "%matplotlib inline\n",
    "\n",
    "# Data 경로 설정\n",
    "DATA_DIR = 'data'\n",
    "\n",
    "# train 데이터셋 로드 (train.csv)\n",
    "train = pd.read_csv(os.path.join(DATA_DIR, project_name, 'train.csv'))\n",
    "                                 \n",
    "# test 데이터셋 로드 (test.csv)\n",
    "test = pd.read_csv(os.path.join(DATA_DIR, project_name, 'test.csv'))\n",
    "\n",
    "# submission 파일 로드 (submission.csv)\n",
    "submission = pd.read_csv(os.path.join(DATA_DIR, project_name, 'submission.csv'))"
   ]
  },
  {
   "cell_type": "markdown",
   "metadata": {},
   "source": [
    "2개의 데이터 셋트를 나누어 제공합니다.\n",
    "1. train: 학습용 데이터 세트. 정답 값이라고 할 수 있는 `label` 값이 같이 제공됩니다.\n",
    "2. test: 예측용 데이터 세트. 정답 값이 빠진 `feature` 들만 제공됩니다. 우리는 이 `feature`를 활용하여 예측을 진행합니다.\n",
    "3. submission: 정답 제출용 데이터 세트. 주어진 형식에 맞춰 정답 값을 기입하고 제출합니다."
   ]
  },
  {
   "cell_type": "code",
   "execution_count": 59,
   "metadata": {},
   "outputs": [
    {
     "data": {
      "text/html": [
       "<div>\n",
       "<style scoped>\n",
       "    .dataframe tbody tr th:only-of-type {\n",
       "        vertical-align: middle;\n",
       "    }\n",
       "\n",
       "    .dataframe tbody tr th {\n",
       "        vertical-align: top;\n",
       "    }\n",
       "\n",
       "    .dataframe thead th {\n",
       "        text-align: right;\n",
       "    }\n",
       "</style>\n",
       "<table border=\"1\" class=\"dataframe\">\n",
       "  <thead>\n",
       "    <tr style=\"text-align: right;\">\n",
       "      <th></th>\n",
       "      <th>building_id</th>\n",
       "      <th>meter</th>\n",
       "      <th>timestamp</th>\n",
       "      <th>meter_reading</th>\n",
       "      <th>site_id</th>\n",
       "      <th>primary_use</th>\n",
       "      <th>square_feet</th>\n",
       "      <th>year_built</th>\n",
       "      <th>floor_count</th>\n",
       "      <th>air_temperature</th>\n",
       "      <th>cloud_coverage</th>\n",
       "      <th>dew_temperature</th>\n",
       "      <th>precip_depth_1_hr</th>\n",
       "      <th>sea_level_pressure</th>\n",
       "      <th>wind_direction</th>\n",
       "      <th>wind_speed</th>\n",
       "    </tr>\n",
       "  </thead>\n",
       "  <tbody>\n",
       "    <tr>\n",
       "      <th>0</th>\n",
       "      <td>597</td>\n",
       "      <td>0</td>\n",
       "      <td>2016-01-01 12:00:00</td>\n",
       "      <td>71.000</td>\n",
       "      <td>4</td>\n",
       "      <td>9</td>\n",
       "      <td>189425</td>\n",
       "      <td>1994.0</td>\n",
       "      <td>4.0</td>\n",
       "      <td>5.0</td>\n",
       "      <td>0.0</td>\n",
       "      <td>-9.4</td>\n",
       "      <td>0.0</td>\n",
       "      <td>1020.6</td>\n",
       "      <td>0.0</td>\n",
       "      <td>0.0</td>\n",
       "    </tr>\n",
       "    <tr>\n",
       "      <th>1</th>\n",
       "      <td>620</td>\n",
       "      <td>0</td>\n",
       "      <td>2016-01-01 12:00:00</td>\n",
       "      <td>1122.880</td>\n",
       "      <td>4</td>\n",
       "      <td>0</td>\n",
       "      <td>220703</td>\n",
       "      <td>2011.0</td>\n",
       "      <td>9.0</td>\n",
       "      <td>5.0</td>\n",
       "      <td>0.0</td>\n",
       "      <td>-9.4</td>\n",
       "      <td>0.0</td>\n",
       "      <td>1020.6</td>\n",
       "      <td>0.0</td>\n",
       "      <td>0.0</td>\n",
       "    </tr>\n",
       "    <tr>\n",
       "      <th>2</th>\n",
       "      <td>631</td>\n",
       "      <td>0</td>\n",
       "      <td>2016-01-01 12:00:00</td>\n",
       "      <td>8.685</td>\n",
       "      <td>4</td>\n",
       "      <td>0</td>\n",
       "      <td>23533</td>\n",
       "      <td>1906.0</td>\n",
       "      <td>3.0</td>\n",
       "      <td>5.0</td>\n",
       "      <td>0.0</td>\n",
       "      <td>-9.4</td>\n",
       "      <td>0.0</td>\n",
       "      <td>1020.6</td>\n",
       "      <td>0.0</td>\n",
       "      <td>0.0</td>\n",
       "    </tr>\n",
       "    <tr>\n",
       "      <th>3</th>\n",
       "      <td>641</td>\n",
       "      <td>0</td>\n",
       "      <td>2016-01-01 12:00:00</td>\n",
       "      <td>393.528</td>\n",
       "      <td>4</td>\n",
       "      <td>0</td>\n",
       "      <td>109588</td>\n",
       "      <td>1994.0</td>\n",
       "      <td>8.0</td>\n",
       "      <td>5.0</td>\n",
       "      <td>0.0</td>\n",
       "      <td>-9.4</td>\n",
       "      <td>0.0</td>\n",
       "      <td>1020.6</td>\n",
       "      <td>0.0</td>\n",
       "      <td>0.0</td>\n",
       "    </tr>\n",
       "    <tr>\n",
       "      <th>4</th>\n",
       "      <td>575</td>\n",
       "      <td>0</td>\n",
       "      <td>2016-01-01 18:00:00</td>\n",
       "      <td>25.625</td>\n",
       "      <td>4</td>\n",
       "      <td>13</td>\n",
       "      <td>33167</td>\n",
       "      <td>1963.0</td>\n",
       "      <td>4.0</td>\n",
       "      <td>7.2</td>\n",
       "      <td>2.0</td>\n",
       "      <td>-7.2</td>\n",
       "      <td>0.0</td>\n",
       "      <td>1022.5</td>\n",
       "      <td>120.0</td>\n",
       "      <td>2.6</td>\n",
       "    </tr>\n",
       "  </tbody>\n",
       "</table>\n",
       "</div>"
      ],
      "text/plain": [
       "   building_id  meter            timestamp  meter_reading  site_id  \\\n",
       "0          597      0  2016-01-01 12:00:00         71.000        4   \n",
       "1          620      0  2016-01-01 12:00:00       1122.880        4   \n",
       "2          631      0  2016-01-01 12:00:00          8.685        4   \n",
       "3          641      0  2016-01-01 12:00:00        393.528        4   \n",
       "4          575      0  2016-01-01 18:00:00         25.625        4   \n",
       "\n",
       "   primary_use  square_feet  year_built  floor_count  air_temperature  \\\n",
       "0            9       189425      1994.0          4.0              5.0   \n",
       "1            0       220703      2011.0          9.0              5.0   \n",
       "2            0        23533      1906.0          3.0              5.0   \n",
       "3            0       109588      1994.0          8.0              5.0   \n",
       "4           13        33167      1963.0          4.0              7.2   \n",
       "\n",
       "   cloud_coverage  dew_temperature  precip_depth_1_hr  sea_level_pressure  \\\n",
       "0             0.0             -9.4                0.0              1020.6   \n",
       "1             0.0             -9.4                0.0              1020.6   \n",
       "2             0.0             -9.4                0.0              1020.6   \n",
       "3             0.0             -9.4                0.0              1020.6   \n",
       "4             2.0             -7.2                0.0              1022.5   \n",
       "\n",
       "   wind_direction  wind_speed  \n",
       "0             0.0         0.0  \n",
       "1             0.0         0.0  \n",
       "2             0.0         0.0  \n",
       "3             0.0         0.0  \n",
       "4           120.0         2.6  "
      ]
     },
     "execution_count": 59,
     "metadata": {},
     "output_type": "execute_result"
    }
   ],
   "source": [
    "# 학습 데이터 조회\n",
    "train.head()"
   ]
  },
  {
   "cell_type": "code",
   "execution_count": 60,
   "metadata": {},
   "outputs": [
    {
     "data": {
      "text/html": [
       "<div>\n",
       "<style scoped>\n",
       "    .dataframe tbody tr th:only-of-type {\n",
       "        vertical-align: middle;\n",
       "    }\n",
       "\n",
       "    .dataframe tbody tr th {\n",
       "        vertical-align: top;\n",
       "    }\n",
       "\n",
       "    .dataframe thead th {\n",
       "        text-align: right;\n",
       "    }\n",
       "</style>\n",
       "<table border=\"1\" class=\"dataframe\">\n",
       "  <thead>\n",
       "    <tr style=\"text-align: right;\">\n",
       "      <th></th>\n",
       "      <th>building_id</th>\n",
       "      <th>meter</th>\n",
       "      <th>timestamp</th>\n",
       "      <th>site_id</th>\n",
       "      <th>primary_use</th>\n",
       "      <th>square_feet</th>\n",
       "      <th>year_built</th>\n",
       "      <th>floor_count</th>\n",
       "      <th>air_temperature</th>\n",
       "      <th>cloud_coverage</th>\n",
       "      <th>dew_temperature</th>\n",
       "      <th>precip_depth_1_hr</th>\n",
       "      <th>sea_level_pressure</th>\n",
       "      <th>wind_direction</th>\n",
       "      <th>wind_speed</th>\n",
       "    </tr>\n",
       "  </thead>\n",
       "  <tbody>\n",
       "    <tr>\n",
       "      <th>0</th>\n",
       "      <td>575</td>\n",
       "      <td>0</td>\n",
       "      <td>2016-01-01 12:00:00</td>\n",
       "      <td>4</td>\n",
       "      <td>5</td>\n",
       "      <td>33167</td>\n",
       "      <td>1963.0</td>\n",
       "      <td>4.0</td>\n",
       "      <td>5.0</td>\n",
       "      <td>0.0</td>\n",
       "      <td>-9.4</td>\n",
       "      <td>0.0</td>\n",
       "      <td>1020.6</td>\n",
       "      <td>0.0</td>\n",
       "      <td>0.0</td>\n",
       "    </tr>\n",
       "    <tr>\n",
       "      <th>1</th>\n",
       "      <td>585</td>\n",
       "      <td>0</td>\n",
       "      <td>2016-01-01 12:00:00</td>\n",
       "      <td>4</td>\n",
       "      <td>4</td>\n",
       "      <td>132394</td>\n",
       "      <td>1949.0</td>\n",
       "      <td>7.0</td>\n",
       "      <td>5.0</td>\n",
       "      <td>0.0</td>\n",
       "      <td>-9.4</td>\n",
       "      <td>0.0</td>\n",
       "      <td>1020.6</td>\n",
       "      <td>0.0</td>\n",
       "      <td>0.0</td>\n",
       "    </tr>\n",
       "    <tr>\n",
       "      <th>2</th>\n",
       "      <td>609</td>\n",
       "      <td>0</td>\n",
       "      <td>2016-01-01 12:00:00</td>\n",
       "      <td>4</td>\n",
       "      <td>0</td>\n",
       "      <td>141461</td>\n",
       "      <td>1907.0</td>\n",
       "      <td>6.0</td>\n",
       "      <td>5.0</td>\n",
       "      <td>0.0</td>\n",
       "      <td>-9.4</td>\n",
       "      <td>0.0</td>\n",
       "      <td>1020.6</td>\n",
       "      <td>0.0</td>\n",
       "      <td>0.0</td>\n",
       "    </tr>\n",
       "    <tr>\n",
       "      <th>3</th>\n",
       "      <td>652</td>\n",
       "      <td>0</td>\n",
       "      <td>2016-01-01 12:00:00</td>\n",
       "      <td>4</td>\n",
       "      <td>0</td>\n",
       "      <td>150887</td>\n",
       "      <td>1959.0</td>\n",
       "      <td>9.0</td>\n",
       "      <td>5.0</td>\n",
       "      <td>0.0</td>\n",
       "      <td>-9.4</td>\n",
       "      <td>0.0</td>\n",
       "      <td>1020.6</td>\n",
       "      <td>0.0</td>\n",
       "      <td>0.0</td>\n",
       "    </tr>\n",
       "    <tr>\n",
       "      <th>4</th>\n",
       "      <td>597</td>\n",
       "      <td>0</td>\n",
       "      <td>2016-01-01 18:00:00</td>\n",
       "      <td>4</td>\n",
       "      <td>4</td>\n",
       "      <td>189425</td>\n",
       "      <td>1994.0</td>\n",
       "      <td>4.0</td>\n",
       "      <td>7.2</td>\n",
       "      <td>2.0</td>\n",
       "      <td>-7.2</td>\n",
       "      <td>0.0</td>\n",
       "      <td>1022.5</td>\n",
       "      <td>120.0</td>\n",
       "      <td>2.6</td>\n",
       "    </tr>\n",
       "  </tbody>\n",
       "</table>\n",
       "</div>"
      ],
      "text/plain": [
       "   building_id  meter            timestamp  site_id  primary_use  square_feet  \\\n",
       "0          575      0  2016-01-01 12:00:00        4            5        33167   \n",
       "1          585      0  2016-01-01 12:00:00        4            4       132394   \n",
       "2          609      0  2016-01-01 12:00:00        4            0       141461   \n",
       "3          652      0  2016-01-01 12:00:00        4            0       150887   \n",
       "4          597      0  2016-01-01 18:00:00        4            4       189425   \n",
       "\n",
       "   year_built  floor_count  air_temperature  cloud_coverage  dew_temperature  \\\n",
       "0      1963.0          4.0              5.0             0.0             -9.4   \n",
       "1      1949.0          7.0              5.0             0.0             -9.4   \n",
       "2      1907.0          6.0              5.0             0.0             -9.4   \n",
       "3      1959.0          9.0              5.0             0.0             -9.4   \n",
       "4      1994.0          4.0              7.2             2.0             -7.2   \n",
       "\n",
       "   precip_depth_1_hr  sea_level_pressure  wind_direction  wind_speed  \n",
       "0                0.0              1020.6             0.0         0.0  \n",
       "1                0.0              1020.6             0.0         0.0  \n",
       "2                0.0              1020.6             0.0         0.0  \n",
       "3                0.0              1020.6             0.0         0.0  \n",
       "4                0.0              1022.5           120.0         2.6  "
      ]
     },
     "execution_count": 60,
     "metadata": {},
     "output_type": "execute_result"
    }
   ],
   "source": [
    "# 평가 데이터 조회\n",
    "test.head()"
   ]
  },
  {
   "cell_type": "code",
   "execution_count": 61,
   "metadata": {},
   "outputs": [
    {
     "name": "stdout",
     "output_type": "stream",
     "text": [
      "<class 'pandas.core.frame.DataFrame'>\n",
      "RangeIndex: 22514 entries, 0 to 22513\n",
      "Data columns (total 16 columns):\n",
      " #   Column              Non-Null Count  Dtype  \n",
      "---  ------              --------------  -----  \n",
      " 0   building_id         22514 non-null  int64  \n",
      " 1   meter               22514 non-null  int64  \n",
      " 2   timestamp           22514 non-null  object \n",
      " 3   meter_reading       22514 non-null  float64\n",
      " 4   site_id             22514 non-null  int64  \n",
      " 5   primary_use         22514 non-null  int64  \n",
      " 6   square_feet         22514 non-null  int64  \n",
      " 7   year_built          22514 non-null  float64\n",
      " 8   floor_count         22514 non-null  float64\n",
      " 9   air_temperature     22514 non-null  float64\n",
      " 10  cloud_coverage      22514 non-null  float64\n",
      " 11  dew_temperature     22514 non-null  float64\n",
      " 12  precip_depth_1_hr   22514 non-null  float64\n",
      " 13  sea_level_pressure  22514 non-null  float64\n",
      " 14  wind_direction      22514 non-null  float64\n",
      " 15  wind_speed          22514 non-null  float64\n",
      "dtypes: float64(10), int64(5), object(1)\n",
      "memory usage: 2.7+ MB\n"
     ]
    }
   ],
   "source": [
    "train.info()"
   ]
  },
  {
   "cell_type": "code",
   "execution_count": 62,
   "metadata": {},
   "outputs": [
    {
     "name": "stdout",
     "output_type": "stream",
     "text": [
      "<class 'pandas.core.frame.DataFrame'>\n",
      "RangeIndex: 9666 entries, 0 to 9665\n",
      "Data columns (total 15 columns):\n",
      " #   Column              Non-Null Count  Dtype  \n",
      "---  ------              --------------  -----  \n",
      " 0   building_id         9666 non-null   int64  \n",
      " 1   meter               9666 non-null   int64  \n",
      " 2   timestamp           9666 non-null   object \n",
      " 3   site_id             9666 non-null   int64  \n",
      " 4   primary_use         9666 non-null   int64  \n",
      " 5   square_feet         9666 non-null   int64  \n",
      " 6   year_built          9666 non-null   float64\n",
      " 7   floor_count         9666 non-null   float64\n",
      " 8   air_temperature     9666 non-null   float64\n",
      " 9   cloud_coverage      9666 non-null   float64\n",
      " 10  dew_temperature     9666 non-null   float64\n",
      " 11  precip_depth_1_hr   9666 non-null   float64\n",
      " 12  sea_level_pressure  9666 non-null   float64\n",
      " 13  wind_direction      9666 non-null   float64\n",
      " 14  wind_speed          9666 non-null   float64\n",
      "dtypes: float64(9), int64(5), object(1)\n",
      "memory usage: 1.1+ MB\n"
     ]
    }
   ],
   "source": [
    "test.info()"
   ]
  },
  {
   "cell_type": "code",
   "execution_count": 63,
   "metadata": {},
   "outputs": [],
   "source": [
    "features = [\n",
    "     'building_id',\n",
    "     'primary_use',\n",
    "     'square_feet',\n",
    "     'year_built',\n",
    "     'floor_count',\n",
    "     'air_temperature',\n",
    "     'cloud_coverage',\n",
    "     'dew_temperature',\n",
    "     'precip_depth_1_hr',\n",
    "     'sea_level_pressure',\n",
    "     'wind_direction',\n",
    "     'wind_speed'\n",
    "] # 숫자형 컬럼이름만 지정 (문자열 컬럼 제거, 분산 0 컬럼 제거)\n",
    "X = train[features]\n",
    "Y = train['meter_reading']"
   ]
  },
  {
   "cell_type": "code",
   "execution_count": 64,
   "metadata": {},
   "outputs": [],
   "source": [
    "from sklearn.model_selection import train_test_split\n",
    "x_train, x_test, y_train, y_test = train_test_split(X, Y, random_state=0)\n"
   ]
  },
  {
   "cell_type": "code",
   "execution_count": 65,
   "metadata": {},
   "outputs": [],
   "source": [
    "\n",
    "\n",
    "#두개의 값이 너무나 비슷하다. 과대적합으로 예상된다."
   ]
  },
  {
   "cell_type": "code",
   "execution_count": 66,
   "metadata": {},
   "outputs": [
    {
     "data": {
      "text/plain": [
       "(0.9966701134475764, 0.9970281660346396)"
      ]
     },
     "execution_count": 66,
     "metadata": {},
     "output_type": "execute_result"
    }
   ],
   "source": [
    "from sklearn.ensemble import RandomForestRegressor\n",
    "Model = RandomForestRegressor().fit(X,Y)\n",
    "\n",
    "model.score(x_train, y_train), model.score(x_test, y_test) # 학습 및 평가 데이터로 성능평가 진행 > R^2"
   ]
  },
  {
   "cell_type": "code",
   "execution_count": 68,
   "metadata": {},
   "outputs": [
    {
     "data": {
      "text/plain": [
       "array([  0.33765 ,  77.842376, 114.341917, ...,  34.148159,  60.5775  ,\n",
       "        31.68995 ])"
      ]
     },
     "execution_count": 68,
     "metadata": {},
     "output_type": "execute_result"
    }
   ],
   "source": [
    "y_pre = model.predict(x_test)\n",
    "y_pre"
   ]
  },
  {
   "cell_type": "code",
   "execution_count": 69,
   "metadata": {},
   "outputs": [
    {
     "data": {
      "text/plain": [
       "8.345614079054897"
      ]
     },
     "execution_count": 69,
     "metadata": {},
     "output_type": "execute_result"
    }
   ],
   "source": [
    "from sklearn.metrics import mean_absolute_error\n",
    "mae = mean_absolute_error(y_test, y_pre)\n",
    "mae"
   ]
  },
  {
   "cell_type": "code",
   "execution_count": 70,
   "metadata": {},
   "outputs": [
    {
     "data": {
      "text/plain": [
       "array([ 27.875   , 227.88045 , 498.31313 , ..., 214.26628 ,  63.479447,\n",
       "       313.26    ])"
      ]
     },
     "execution_count": 70,
     "metadata": {},
     "output_type": "execute_result"
    }
   ],
   "source": [
    "pred = model.predict(test[features])\n",
    "pred"
   ]
  },
  {
   "cell_type": "code",
   "execution_count": 73,
   "metadata": {},
   "outputs": [
    {
     "data": {
      "text/plain": [
       "array([ 27.875   , 227.88045 , 498.31313 , ..., 214.26628 ,  63.479447,\n",
       "       313.26    ])"
      ]
     },
     "execution_count": 73,
     "metadata": {},
     "output_type": "execute_result"
    }
   ],
   "source": [
    "pred"
   ]
  },
  {
   "cell_type": "code",
   "execution_count": 74,
   "metadata": {},
   "outputs": [
    {
     "data": {
      "text/html": [
       "<div>\n",
       "<style scoped>\n",
       "    .dataframe tbody tr th:only-of-type {\n",
       "        vertical-align: middle;\n",
       "    }\n",
       "\n",
       "    .dataframe tbody tr th {\n",
       "        vertical-align: top;\n",
       "    }\n",
       "\n",
       "    .dataframe thead th {\n",
       "        text-align: right;\n",
       "    }\n",
       "</style>\n",
       "<table border=\"1\" class=\"dataframe\">\n",
       "  <thead>\n",
       "    <tr style=\"text-align: right;\">\n",
       "      <th></th>\n",
       "      <th>building_id</th>\n",
       "      <th>meter_reading</th>\n",
       "    </tr>\n",
       "  </thead>\n",
       "  <tbody>\n",
       "    <tr>\n",
       "      <th>0</th>\n",
       "      <td>575</td>\n",
       "      <td>27.875000</td>\n",
       "    </tr>\n",
       "    <tr>\n",
       "      <th>1</th>\n",
       "      <td>585</td>\n",
       "      <td>227.880450</td>\n",
       "    </tr>\n",
       "    <tr>\n",
       "      <th>2</th>\n",
       "      <td>609</td>\n",
       "      <td>498.313130</td>\n",
       "    </tr>\n",
       "    <tr>\n",
       "      <th>3</th>\n",
       "      <td>652</td>\n",
       "      <td>106.841506</td>\n",
       "    </tr>\n",
       "    <tr>\n",
       "      <th>4</th>\n",
       "      <td>597</td>\n",
       "      <td>148.772950</td>\n",
       "    </tr>\n",
       "    <tr>\n",
       "      <th>...</th>\n",
       "      <td>...</td>\n",
       "      <td>...</td>\n",
       "    </tr>\n",
       "    <tr>\n",
       "      <th>9661</th>\n",
       "      <td>619</td>\n",
       "      <td>186.637630</td>\n",
       "    </tr>\n",
       "    <tr>\n",
       "      <th>9662</th>\n",
       "      <td>651</td>\n",
       "      <td>46.989700</td>\n",
       "    </tr>\n",
       "    <tr>\n",
       "      <th>9663</th>\n",
       "      <td>619</td>\n",
       "      <td>214.266280</td>\n",
       "    </tr>\n",
       "    <tr>\n",
       "      <th>9664</th>\n",
       "      <td>630</td>\n",
       "      <td>63.479447</td>\n",
       "    </tr>\n",
       "    <tr>\n",
       "      <th>9665</th>\n",
       "      <td>640</td>\n",
       "      <td>313.260000</td>\n",
       "    </tr>\n",
       "  </tbody>\n",
       "</table>\n",
       "<p>9666 rows × 2 columns</p>\n",
       "</div>"
      ],
      "text/plain": [
       "      building_id  meter_reading\n",
       "0             575      27.875000\n",
       "1             585     227.880450\n",
       "2             609     498.313130\n",
       "3             652     106.841506\n",
       "4             597     148.772950\n",
       "...           ...            ...\n",
       "9661          619     186.637630\n",
       "9662          651      46.989700\n",
       "9663          619     214.266280\n",
       "9664          630      63.479447\n",
       "9665          640     313.260000\n",
       "\n",
       "[9666 rows x 2 columns]"
      ]
     },
     "execution_count": 74,
     "metadata": {},
     "output_type": "execute_result"
    }
   ],
   "source": [
    "submission['meter_reading'] = pred # test.csv를 예측한 결과 대입\n",
    "submission"
   ]
  },
  {
   "cell_type": "markdown",
   "metadata": {},
   "source": [
    "# 순서대로 평가가 진행됩니다. 실행은 1회만 해주세요.\n",
    "\n",
    "- 느리다고 중지 후 다시 평가 코드를 실행하는 경우 제출 과정에서 패널티가 발생할 수 있습니다. (제출 횟수 이슈 발생 가능)"
   ]
  },
  {
   "cell_type": "code",
   "execution_count": 75,
   "metadata": {
    "scrolled": true
   },
   "outputs": [
    {
     "name": "stdout",
     "output_type": "stream",
     "text": [
      "파일을 저장하였습니다. 파일명: submission-21-32-41.csv\n",
      "제출 여부 :success\n",
      "오늘 제출 횟수 : 1\n",
      "제출 결과:0.31257048356098555\n"
     ]
    }
   ],
   "source": [
    "cds.submit(submission) # 제출 파일 생성 및 결과 제출"
   ]
  },
  {
   "cell_type": "markdown",
   "metadata": {},
   "source": [
    "# 축하드립니다. 모델의 성능을 개선하여 더 좋은 점수를 획득해보세요!"
   ]
  },
  {
   "cell_type": "code",
   "execution_count": null,
   "metadata": {},
   "outputs": [],
   "source": []
  }
 ],
 "metadata": {
  "kernelspec": {
   "display_name": "Python 3",
   "language": "python",
   "name": "python3"
  },
  "language_info": {
   "codemirror_mode": {
    "name": "ipython",
    "version": 3
   },
   "file_extension": ".py",
   "mimetype": "text/x-python",
   "name": "python",
   "nbconvert_exporter": "python",
   "pygments_lexer": "ipython3",
   "version": "3.9.7"
  }
 },
 "nbformat": 4,
 "nbformat_minor": 4
}
