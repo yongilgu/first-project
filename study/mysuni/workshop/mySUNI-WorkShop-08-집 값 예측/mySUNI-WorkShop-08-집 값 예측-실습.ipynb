{
 "cells": [
  {
   "cell_type": "markdown",
   "metadata": {},
   "source": [
    "# 주택 가격 예측\n",
    "\n",
    "주어진 집(house) 관련 데이터를 토대로 집 값을 예측하는 회귀(Regression) 분석 및 예측 대회입니다.\n",
    "\n",
    " 79개의 다양한 집을 묘사할 수 있는 데이터 요소들을 기반으로, 각각의 집들에 대하여 최종 집값을 예측해 주길 기대합니다.\n",
    " \n",
    "## 데이터 설명\n",
    "\n",
    "#### 파일 구조\n",
    "- train.csv\n",
    "    - 학습을 위하여 활용되는 데이터 셋입니다.\n",
    "- test.csv\n",
    "    - 테스트를 위하여 제공되는 데이터 셋입니다. 본 파일 데이터를 기반으로 예측하여 집값을 예측합니다.\n",
    "- submission.csv\n",
    "    - 예측한 집값 데이터를 submission 파일에 작성한 후 제출합니다.\n",
    "    \n",
    "#### 컬럼 구조\n",
    "* **SalePrice**: 부동산의 판매 가격 (달러). 이것은 예측하려는 **목표 변수**입니다.\n",
    "* MSSubClass : 건물 등급\n",
    "* MSZoning : 일반 구역 분류\n",
    "* LotFrontage : 부동산에 연결된 거리의 선형 피트\n",
    "* LotArea : 평방 피트 단위의 부지 크기\n",
    "* Street : 도로 유형\n",
    "* Alley : 골목 유형\n",
    "* LotShape : 부지유형\n",
    "* LandContour : 부동산의 평탄도\n",
    "* Utilities : 사용 가능한 유틸리티 유형\n",
    "* LotConfig : 부지부지 구성\n",
    "* LandSlope : 부동산의 경사\n",
    "* Neighborhood : 인근유형. 물리적 위치\n",
    "* Condition1 : 주요 도로 또는 철도와의 근접성\n",
    "* Condition2 : 주요 도로 또는 철도와의 근접성 (2번째 조건이 존재하는 경우)\n",
    "* BldgType : 주거 유형\n",
    "* HouseStyle : 주거 스타일\n",
    "* OverallQual : 전체 재료 및 마감 품질\n",
    "* OverallCond : 전체 상태 등급\n",
    "* YearBuilt : 준공일준공일\n",
    "* YearRemodAdd : 리모델링 날짜\n",
    "* RoofStyle : 지붕 유형\n",
    "* RoofMatl : 지붕 재료\n",
    "* Exterior1st : 주택주택 외장재\n",
    "* Exterior2nd : 주택 외장재 (하나 이상인 경우)\n",
    "* MasVnrType : 벽돌 베니어 유형\n",
    "* MasVnrArea : 벽돌 베니어 영역 (평방 피트)\n",
    "* ExterQual : 외장재 품질\n",
    "* ExterCond : 외장재의 현황\n",
    "* Foundation : 기초 유형\n",
    "* BsmtQual : 지하 높이\n",
    "* BsmtCond : 지하실 일반 상태\n",
    "* BsmtExposure : 워크 아웃 또는 정원 수준의 지하 벽\n",
    "* BsmtFinType1 : 지하실 마감면의 품질\n",
    "* BsmtFinSF1 : 유형 1 완성 된 평방 피트\n",
    "* BsmtFinType2 : 두 번째 완성 된 영역의 품질 (있는 경우)\n",
    "* BsmtFinSF2 : 유형 2 완성 된 평방 피트\n",
    "* BsmtUnfSF : 미완성 된 지하실 면적\n",
    "* TotalBsmtSF : 지하 총 평방 피트\n",
    "* Heating : 난방 유형\n",
    "* HeatingQC : 난방 품질 및 상태\n",
    "* CentralAir : 중앙 에어컨\n",
    "* Electrical : 전기 시스템\n",
    "* 1stFlrSF : 1 층 평방 피트\n",
    "* 2ndFlrSF : 2 층 평방 피트\n",
    "* LowQualFinSF : 저품질 마감 평방 피트 (모든 층)\n",
    "* GrLivArea : 지상 (지상) 거실 면적 평방 피트\n",
    "* BsmtFullBath : 지하 전체 욕실\n",
    "* BsmtHalfBath : 지하 반 욕실\n",
    "* FullBath : 등급 이상의 전체 욕실\n",
    "* HalfBath : 학년 이상의 Half Bath\n",
    "* Bedroom : 지하층 이상의 침실 수\n",
    "* Kitchen : 주방 수\n",
    "* KitchenQual : 주방 품질\n",
    "* TotRmsAbvGrd : 등급 이상의 총 방 (욕실은 포함되지 않음)\n",
    "* Functional : 홈 기능 등급\n",
    "* Fireplaces : 벽난로 수\n",
    "* FireplaceQu : 벽난로 품질\n",
    "* GarageType : 차고 위치\n",
    "* GarageYrBlt : 차고 건설 연도\n",
    "* GarageFinish : 차고 내부 마감\n",
    "* GarageCars : 차량 수용 가능 차고 크기\n",
    "* GarageArea : 차고 크기 (평방 피트)\n",
    "* GarageQual : 차고 품질\n",
    "* GarageCond : 차고 상태\n",
    "* PavedDrive : 포장 된 진입로\n",
    "* WoodDeckSF : 목재 데크 면적 (평방 피트)\n",
    "* OpenPorchSF : 평방 피트 단위의 오픈 현관 영역\n",
    "* EnclosedPorch : 밀폐 된 현관 영역 (평방 피트)\n",
    "* 3SsnPorch : 3 계절 현관 면적 (평방 피트)\n",
    "* ScreenPorch : 스크린 포치 면적 (평방 피트)\n",
    "* PoolArea : 수영장 면적 (평방 피트)\n",
    "* PoolQC : 수영장 품질\n",
    "* Fence : 울타리 품질\n",
    "* MiscFeature : 다른 카테고리에서 다루지 않는 기타 기능\n",
    "* MiscVal : 기타 기능의 가치 (달러)\n",
    "* MoSold : 판매 월\n",
    "* YrSold : 판매 연도\n",
    "* SaleType : 판매 유형\n",
    "* SaleCondition : 판매 조건\n",
    "\n",
    "## 프로젝트 구성\n",
    "* 데이터 로드 (load data, train.csv, test.csv)\n",
    "* 데이터 전처리 및 특성 공학 (train.csv, test.csv)\n",
    "* 모델 생성 및 검증 (train.csv)\n",
    "* 평가 데이터 예측 (test.csv)\n",
    "* 결과 제출 및 점수 확인\n",
    "\n",
    "## 제출 이력 및 순위 조회\n",
    "[평가시스템](http://manage.jaen.kr)에 접속하여 확인 가능\n",
    "> 로그인 -> 프로젝트 -> 주택 가격 예측 -> 리더보드\n",
    "\n",
    "### 접속 정보\n",
    "- ID : `~~~@sk.com`\n",
    "- PWD : `mysuni`"
   ]
  },
  {
   "cell_type": "markdown",
   "metadata": {},
   "source": [
    "## 환경 설정"
   ]
  },
  {
   "cell_type": "code",
   "execution_count": 1,
   "metadata": {},
   "outputs": [],
   "source": [
    "project_name = \"주택 가격 예측\" # 프로젝트 이름\n",
    "class_info = \"4차수 B반\" # 차수 정보\n",
    "email = \"mysuni_4b\" # 회사 이메일을 넣어주세요. (~~~@sk.com)"
   ]
  },
  {
   "cell_type": "markdown",
   "metadata": {},
   "source": [
    "## 모듈 설치 및 데이터 다운로드"
   ]
  },
  {
   "cell_type": "code",
   "execution_count": 2,
   "metadata": {},
   "outputs": [
    {
     "name": "stdout",
     "output_type": "stream",
     "text": [
      "Requirement already satisfied: mySUNI in c:\\users\\baem1n\\anaconda3\\lib\\site-packages (1.0.13)\n",
      "Requirement already satisfied: xgboost in c:\\users\\baem1n\\anaconda3\\lib\\site-packages (from mySUNI) (1.4.0)\n",
      "Requirement already satisfied: openpyxl in c:\\users\\baem1n\\anaconda3\\lib\\site-packages (from mySUNI) (3.0.5)\n",
      "Requirement already satisfied: requests in c:\\users\\baem1n\\anaconda3\\lib\\site-packages (from mySUNI) (2.24.0)\n",
      "Requirement already satisfied: xlrd in c:\\users\\baem1n\\anaconda3\\lib\\site-packages (from mySUNI) (1.2.0)\n",
      "Requirement already satisfied: scikit-learn in c:\\users\\baem1n\\anaconda3\\lib\\site-packages (from mySUNI) (0.24.1)\n",
      "Requirement already satisfied: matplotlib in c:\\users\\baem1n\\anaconda3\\lib\\site-packages (from mySUNI) (3.3.2)\n",
      "Requirement already satisfied: pandas in c:\\users\\baem1n\\anaconda3\\lib\\site-packages (from mySUNI) (1.1.3)\n",
      "Requirement already satisfied: lightgbm in c:\\users\\baem1n\\appdata\\roaming\\python\\python38\\site-packages (from mySUNI) (3.1.1)\n",
      "Requirement already satisfied: seaborn in c:\\users\\baem1n\\anaconda3\\lib\\site-packages (from mySUNI) (0.11.0)\n",
      "Requirement already satisfied: numpy in c:\\users\\baem1n\\anaconda3\\lib\\site-packages (from mySUNI) (1.19.5)\n",
      "Requirement already satisfied: scipy in c:\\users\\baem1n\\anaconda3\\lib\\site-packages (from lightgbm->mySUNI) (1.5.2)\n",
      "Requirement already satisfied: wheel in c:\\users\\baem1n\\anaconda3\\lib\\site-packages (from lightgbm->mySUNI) (0.35.1)\n",
      "Requirement already satisfied: joblib>=0.11 in c:\\users\\baem1n\\anaconda3\\lib\\site-packages (from scikit-learn->mySUNI) (0.17.0)\n",
      "Requirement already satisfied: threadpoolctl>=2.0.0 in c:\\users\\baem1n\\anaconda3\\lib\\site-packages (from scikit-learn->mySUNI) (2.1.0)\n",
      "Requirement already satisfied: pillow>=6.2.0 in c:\\users\\baem1n\\anaconda3\\lib\\site-packages (from matplotlib->mySUNI) (8.0.1)\n",
      "Requirement already satisfied: kiwisolver>=1.0.1 in c:\\users\\baem1n\\anaconda3\\lib\\site-packages (from matplotlib->mySUNI) (1.3.0)\n",
      "Requirement already satisfied: python-dateutil>=2.1 in c:\\users\\baem1n\\anaconda3\\lib\\site-packages (from matplotlib->mySUNI) (2.8.1)\n",
      "Requirement already satisfied: cycler>=0.10 in c:\\users\\baem1n\\anaconda3\\lib\\site-packages (from matplotlib->mySUNI) (0.10.0)\n",
      "Requirement already satisfied: certifi>=2020.06.20 in c:\\users\\baem1n\\anaconda3\\lib\\site-packages (from matplotlib->mySUNI) (2020.6.20)\n",
      "Requirement already satisfied: pyparsing!=2.0.4,!=2.1.2,!=2.1.6,>=2.0.3 in c:\\users\\baem1n\\anaconda3\\lib\\site-packages (from matplotlib->mySUNI) (2.4.7)\n",
      "Requirement already satisfied: six in c:\\users\\baem1n\\anaconda3\\lib\\site-packages (from cycler>=0.10->matplotlib->mySUNI) (1.15.0)\n",
      "Requirement already satisfied: jdcal in c:\\users\\baem1n\\anaconda3\\lib\\site-packages (from openpyxl->mySUNI) (1.4.1)\n",
      "Requirement already satisfied: et-xmlfile in c:\\users\\baem1n\\anaconda3\\lib\\site-packages (from openpyxl->mySUNI) (1.0.1)\n",
      "Requirement already satisfied: pytz>=2017.2 in c:\\users\\baem1n\\anaconda3\\lib\\site-packages (from pandas->mySUNI) (2020.1)\n",
      "Requirement already satisfied: urllib3!=1.25.0,!=1.25.1,<1.26,>=1.21.1 in c:\\users\\baem1n\\anaconda3\\lib\\site-packages (from requests->mySUNI) (1.25.11)\n",
      "Requirement already satisfied: chardet<4,>=3.0.2 in c:\\users\\baem1n\\anaconda3\\lib\\site-packages (from requests->mySUNI) (3.0.4)\n",
      "Requirement already satisfied: idna<3,>=2.5 in c:\\users\\baem1n\\anaconda3\\lib\\site-packages (from requests->mySUNI) (2.10)\n"
     ]
    },
    {
     "name": "stderr",
     "output_type": "stream",
     "text": [
      "WARNING: You are using pip version 21.0.1; however, version 21.1 is available.\n",
      "You should consider upgrading via the 'c:\\users\\baem1n\\anaconda3\\python.exe -m pip install --upgrade pip' command.\n"
     ]
    }
   ],
   "source": [
    "!pip install mySUNI"
   ]
  },
  {
   "cell_type": "code",
   "execution_count": 3,
   "metadata": {},
   "outputs": [],
   "source": [
    "from mySUNI import cds"
   ]
  },
  {
   "cell_type": "code",
   "execution_count": 4,
   "metadata": {},
   "outputs": [
    {
     "name": "stdout",
     "output_type": "stream",
     "text": [
      "프로젝트: 주택 가격 예측\n",
      "==============================\n",
      "파일 정보\n",
      "\n",
      "train.csv:\t data\\주택 가격 예측\\train.csv\n",
      "test.csv:\t data\\주택 가격 예측\\test.csv\n",
      "submission.csv:\t data\\주택 가격 예측\\submission.csv\n",
      "\n",
      "==============================\n"
     ]
    }
   ],
   "source": [
    "cds.download_project(project_name, class_info, email)"
   ]
  },
  {
   "cell_type": "markdown",
   "metadata": {},
   "source": [
    "## 모듈 import \n",
    "필요한 모듈을 import 합니다. 필요에 따라 추가 패키지를 load 할 수 있습니다."
   ]
  },
  {
   "cell_type": "code",
   "execution_count": 5,
   "metadata": {},
   "outputs": [],
   "source": [
    "import os\n",
    "import datetime\n",
    "import numpy as np\n",
    "import pandas as pd\n",
    "import seaborn as sns\n",
    "import matplotlib.pyplot as plt\n",
    "\n",
    "%matplotlib inline\n",
    "\n",
    "# Data 경로 설정\n",
    "DATA_DIR = 'data'\n",
    "\n",
    "# train 데이터셋 로드 (train.csv)\n",
    "train = pd.read_csv(os.path.join(DATA_DIR, project_name, 'train.csv'))\n",
    "                                 \n",
    "# test 데이터셋 로드 (test.csv)\n",
    "test = pd.read_csv(os.path.join(DATA_DIR, project_name, 'test.csv'))\n",
    "\n",
    "# submission 파일 로드 (submission.csv)\n",
    "submission = pd.read_csv(os.path.join(DATA_DIR, project_name, 'submission.csv'))"
   ]
  },
  {
   "cell_type": "code",
   "execution_count": null,
   "metadata": {},
   "outputs": [],
   "source": []
  },
  {
   "cell_type": "code",
   "execution_count": null,
   "metadata": {},
   "outputs": [],
   "source": []
  },
  {
   "cell_type": "code",
   "execution_count": null,
   "metadata": {},
   "outputs": [],
   "source": []
  },
  {
   "cell_type": "code",
   "execution_count": 15,
   "metadata": {},
   "outputs": [
    {
     "data": {
      "text/html": [
       "<div>\n",
       "<style scoped>\n",
       "    .dataframe tbody tr th:only-of-type {\n",
       "        vertical-align: middle;\n",
       "    }\n",
       "\n",
       "    .dataframe tbody tr th {\n",
       "        vertical-align: top;\n",
       "    }\n",
       "\n",
       "    .dataframe thead th {\n",
       "        text-align: right;\n",
       "    }\n",
       "</style>\n",
       "<table border=\"1\" class=\"dataframe\">\n",
       "  <thead>\n",
       "    <tr style=\"text-align: right;\">\n",
       "      <th></th>\n",
       "      <th>Id</th>\n",
       "      <th>SalePrice</th>\n",
       "    </tr>\n",
       "  </thead>\n",
       "  <tbody>\n",
       "    <tr>\n",
       "      <th>0</th>\n",
       "      <td>1461</td>\n",
       "      <td>127184.66</td>\n",
       "    </tr>\n",
       "    <tr>\n",
       "      <th>1</th>\n",
       "      <td>1462</td>\n",
       "      <td>155281.00</td>\n",
       "    </tr>\n",
       "    <tr>\n",
       "      <th>2</th>\n",
       "      <td>1463</td>\n",
       "      <td>178873.99</td>\n",
       "    </tr>\n",
       "    <tr>\n",
       "      <th>3</th>\n",
       "      <td>1464</td>\n",
       "      <td>181327.00</td>\n",
       "    </tr>\n",
       "    <tr>\n",
       "      <th>4</th>\n",
       "      <td>1465</td>\n",
       "      <td>199171.06</td>\n",
       "    </tr>\n",
       "    <tr>\n",
       "      <th>...</th>\n",
       "      <td>...</td>\n",
       "      <td>...</td>\n",
       "    </tr>\n",
       "    <tr>\n",
       "      <th>1454</th>\n",
       "      <td>2915</td>\n",
       "      <td>80098.00</td>\n",
       "    </tr>\n",
       "    <tr>\n",
       "      <th>1455</th>\n",
       "      <td>2916</td>\n",
       "      <td>83300.00</td>\n",
       "    </tr>\n",
       "    <tr>\n",
       "      <th>1456</th>\n",
       "      <td>2917</td>\n",
       "      <td>158481.37</td>\n",
       "    </tr>\n",
       "    <tr>\n",
       "      <th>1457</th>\n",
       "      <td>2918</td>\n",
       "      <td>110106.00</td>\n",
       "    </tr>\n",
       "    <tr>\n",
       "      <th>1458</th>\n",
       "      <td>2919</td>\n",
       "      <td>236282.00</td>\n",
       "    </tr>\n",
       "  </tbody>\n",
       "</table>\n",
       "<p>1459 rows × 2 columns</p>\n",
       "</div>"
      ],
      "text/plain": [
       "        Id  SalePrice\n",
       "0     1461  127184.66\n",
       "1     1462  155281.00\n",
       "2     1463  178873.99\n",
       "3     1464  181327.00\n",
       "4     1465  199171.06\n",
       "...    ...        ...\n",
       "1454  2915   80098.00\n",
       "1455  2916   83300.00\n",
       "1456  2917  158481.37\n",
       "1457  2918  110106.00\n",
       "1458  2919  236282.00\n",
       "\n",
       "[1459 rows x 2 columns]"
      ]
     },
     "execution_count": 15,
     "metadata": {},
     "output_type": "execute_result"
    }
   ],
   "source": [
    "# test.csv 예측 결과 대입\n",
    "submission['SalePrice'] = \n",
    "submission"
   ]
  },
  {
   "cell_type": "markdown",
   "metadata": {},
   "source": [
    "# 순서대로 평가가 진행됩니다. 실행은 1회만 해주세요.\n",
    "\n",
    "- 느리다고 중지 후 다시 평가 코드를 실행하는 경우 제출 과정에서 패널티가 발생할 수 있습니다. (제출 횟수 이슈 발생 가능)"
   ]
  },
  {
   "cell_type": "code",
   "execution_count": 16,
   "metadata": {},
   "outputs": [
    {
     "name": "stdout",
     "output_type": "stream",
     "text": [
      "파일을 저장하였습니다. 파일명: submission-00-12-47.csv\n",
      "제출 여부 :success\n",
      "오늘 제출 횟수 : 1\n",
      "제출 결과:0.14788141235616992\n"
     ]
    }
   ],
   "source": [
    "cds.submit(submission) # 제출 파일 생성 및 결과 제출"
   ]
  },
  {
   "cell_type": "markdown",
   "metadata": {},
   "source": [
    "# 축하드립니다. 모델의 성능을 개선하여 더 좋은 점수를 획득해보세요!"
   ]
  },
  {
   "cell_type": "code",
   "execution_count": null,
   "metadata": {},
   "outputs": [],
   "source": []
  }
 ],
 "metadata": {
  "kernelspec": {
   "display_name": "Python 3",
   "language": "python",
   "name": "python3"
  },
  "language_info": {
   "codemirror_mode": {
    "name": "ipython",
    "version": 3
   },
   "file_extension": ".py",
   "mimetype": "text/x-python",
   "name": "python",
   "nbconvert_exporter": "python",
   "pygments_lexer": "ipython3",
   "version": "3.8.5"
  }
 },
 "nbformat": 4,
 "nbformat_minor": 4
}
