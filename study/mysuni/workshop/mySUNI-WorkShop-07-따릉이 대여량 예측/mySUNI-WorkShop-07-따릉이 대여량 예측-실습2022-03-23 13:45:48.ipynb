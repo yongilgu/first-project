{
 "cells": [
  {
   "cell_type": "markdown",
   "metadata": {},
   "source": [
    "# 서울시 자전거(따릉이) 대여량 예측"
   ]
  },
  {
   "cell_type": "markdown",
   "metadata": {},
   "source": [
    "<img src=\"https://image.ajunews.com/content/image/2020/04/08/20200408134351509387.jpg\" align=\"left\" alt=\"drawing\" width=\"350\"/>"
   ]
  },
  {
   "cell_type": "markdown",
   "metadata": {},
   "source": [
    "## 데이터 설명\n",
    "#### 파일 구조\n",
    "- train.csv\n",
    "    - 학습을 위하여 활용되는 데이터 셋입니다.\n",
    "- test.csv\n",
    "    - 테스트를 위하여 제공되는 데이터 셋입니다.\n",
    "- submission.csv\n",
    "    - 예측한 대여량을 submission 파일에 작성한 후 제출합니다.\n",
    "\n",
    "#### 데이터 구조 설명\n",
    "- hour: 시간\n",
    "- temperature: 기온\n",
    "- precipitation: 비가 오지 않았으면 0, 비가 오면 1\n",
    "- windspeed: 평균 풍속\n",
    "- humidity: 습도\n",
    "- visibility: 기상 상태에 따른 가시성\n",
    "- ozone: 오존 지수\n",
    "- pm10: 미세먼지(머리카락 굵기의 1/5에서 1/7 크기의 미세먼지)\n",
    "- pm2.5: 미세먼지(머리카락 굵기의 1/20에서 1/30 크기의 미세먼지)\n",
    "- **count: 서울시 자전거(따릉이) 대여량**"
   ]
  },
  {
   "cell_type": "code",
   "execution_count": 2,
   "metadata": {},
   "outputs": [
    {
     "name": "stdout",
     "output_type": "stream",
     "text": [
      "mySUNI 패키지 버전: 1.0.13\n"
     ]
    },
    {
     "name": "stderr",
     "output_type": "stream",
     "text": [
      "WARNING: You are using pip version 21.0.1; however, version 21.1 is available.\n",
      "You should consider upgrading via the 'c:\\users\\baem1n\\anaconda3\\python.exe -m pip install --upgrade pip' command.\n"
     ]
    }
   ],
   "source": [
    "!pip install --upgrade mySUNI -q\n",
    "\n",
    "import mySUNI\n",
    "print(f'mySUNI 패키지 버전: {mySUNI.__version__}')"
   ]
  },
  {
   "cell_type": "markdown",
   "metadata": {},
   "source": [
    "## 필요한 모듈 import "
   ]
  },
  {
   "cell_type": "code",
   "execution_count": 3,
   "metadata": {},
   "outputs": [],
   "source": [
    "from mySUNI import cds\n",
    "import pandas as pd\n",
    "import numpy as np\n",
    "import matplotlib.pyplot as plt\n",
    "import seaborn as sns\n",
    "import warnings\n",
    "import os\n",
    "\n",
    "DATA_DIR = 'data/따릉이 대여량 예측'\n",
    "\n",
    "# 경고 무시\n",
    "warnings.filterwarnings('ignore')"
   ]
  },
  {
   "cell_type": "markdown",
   "metadata": {},
   "source": [
    "## 프로젝트 셋업"
   ]
  },
  {
   "cell_type": "code",
   "execution_count": 4,
   "metadata": {},
   "outputs": [
    {
     "name": "stdout",
     "output_type": "stream",
     "text": [
      "프로젝트: 따릉이 대여량 예측\n",
      "==============================\n",
      "파일 정보\n",
      "\n",
      "train.csv:\t data\\따릉이 대여량 예측\\train.csv\n",
      "test.csv:\t data\\따릉이 대여량 예측\\test.csv\n",
      "submission.csv:\t data\\따릉이 대여량 예측\\submission.csv\n",
      "\n",
      "==============================\n"
     ]
    }
   ],
   "source": [
    "cds.download_project('따릉이 대여량 예측', \n",
    "                     # 본인의 차수를 입력합니다.\n",
    "                     'X차수 X반',\n",
    "                     # 본인의 sk.com 이메일을 기입합니다.\n",
    "                     '~~~@sk.com'\n",
    "                    )"
   ]
  },
  {
   "cell_type": "markdown",
   "metadata": {},
   "source": [
    "## 데이터 로드\n",
    "\n",
    "- **train**: 분석에 필요한 데이터. 정답 label인 **count**가 포함된 데이터\n",
    "- **test**:  예측에 활요할 데이터. 정답 label인 **count**가 포함되어 있지 않다."
   ]
  },
  {
   "cell_type": "code",
   "execution_count": null,
   "metadata": {},
   "outputs": [],
   "source": []
  },
  {
   "cell_type": "code",
   "execution_count": null,
   "metadata": {},
   "outputs": [],
   "source": []
  },
  {
   "cell_type": "code",
   "execution_count": null,
   "metadata": {},
   "outputs": [],
   "source": []
  },
  {
   "cell_type": "code",
   "execution_count": null,
   "metadata": {},
   "outputs": [],
   "source": []
  },
  {
   "cell_type": "markdown",
   "metadata": {},
   "source": [
    "## 결과 제출\n",
    "\n",
    "### 순서대로 평가가 진행됩니다. 실행은 1회만 해주세요.\n",
    "\n",
    "- 느리다고 중지 후 다시 평가 코드를 실행하는 경우 제출 과정에서 패널티가 발생할 수 있습니다. (제출 횟수 이슈 발생 가능)\n",
    "\n",
    "- 전체 점수는 [평가시스템](http://manage.jaen.kr)에서 확인할 수 있습니다.\n",
    "    - 프로젝트 > 따릉이 대여량 예측 > 리더보드 > 같은 반 리더보드"
   ]
  },
  {
   "cell_type": "code",
   "execution_count": 23,
   "metadata": {},
   "outputs": [
    {
     "data": {
      "text/html": [
       "<div>\n",
       "<style scoped>\n",
       "    .dataframe tbody tr th:only-of-type {\n",
       "        vertical-align: middle;\n",
       "    }\n",
       "\n",
       "    .dataframe tbody tr th {\n",
       "        vertical-align: top;\n",
       "    }\n",
       "\n",
       "    .dataframe thead th {\n",
       "        text-align: right;\n",
       "    }\n",
       "</style>\n",
       "<table border=\"1\" class=\"dataframe\">\n",
       "  <thead>\n",
       "    <tr style=\"text-align: right;\">\n",
       "      <th></th>\n",
       "      <th>id</th>\n",
       "      <th>count</th>\n",
       "    </tr>\n",
       "  </thead>\n",
       "  <tbody>\n",
       "    <tr>\n",
       "      <th>0</th>\n",
       "      <td>1167</td>\n",
       "      <td>89.241966</td>\n",
       "    </tr>\n",
       "    <tr>\n",
       "      <th>1</th>\n",
       "      <td>1168</td>\n",
       "      <td>4.820286</td>\n",
       "    </tr>\n",
       "    <tr>\n",
       "      <th>2</th>\n",
       "      <td>1169</td>\n",
       "      <td>4.089279</td>\n",
       "    </tr>\n",
       "    <tr>\n",
       "      <th>3</th>\n",
       "      <td>1170</td>\n",
       "      <td>7.452010</td>\n",
       "    </tr>\n",
       "    <tr>\n",
       "      <th>4</th>\n",
       "      <td>1171</td>\n",
       "      <td>144.461156</td>\n",
       "    </tr>\n",
       "    <tr>\n",
       "      <th>...</th>\n",
       "      <td>...</td>\n",
       "      <td>...</td>\n",
       "    </tr>\n",
       "    <tr>\n",
       "      <th>287</th>\n",
       "      <td>1454</td>\n",
       "      <td>22.034464</td>\n",
       "    </tr>\n",
       "    <tr>\n",
       "      <th>288</th>\n",
       "      <td>1455</td>\n",
       "      <td>56.848519</td>\n",
       "    </tr>\n",
       "    <tr>\n",
       "      <th>289</th>\n",
       "      <td>1456</td>\n",
       "      <td>192.012489</td>\n",
       "    </tr>\n",
       "    <tr>\n",
       "      <th>290</th>\n",
       "      <td>1457</td>\n",
       "      <td>193.169289</td>\n",
       "    </tr>\n",
       "    <tr>\n",
       "      <th>291</th>\n",
       "      <td>1458</td>\n",
       "      <td>78.964872</td>\n",
       "    </tr>\n",
       "  </tbody>\n",
       "</table>\n",
       "<p>292 rows × 2 columns</p>\n",
       "</div>"
      ],
      "text/plain": [
       "       id       count\n",
       "0    1167   89.241966\n",
       "1    1168    4.820286\n",
       "2    1169    4.089279\n",
       "3    1170    7.452010\n",
       "4    1171  144.461156\n",
       "..    ...         ...\n",
       "287  1454   22.034464\n",
       "288  1455   56.848519\n",
       "289  1456  192.012489\n",
       "290  1457  193.169289\n",
       "291  1458   78.964872\n",
       "\n",
       "[292 rows x 2 columns]"
      ]
     },
     "execution_count": 23,
     "metadata": {},
     "output_type": "execute_result"
    }
   ],
   "source": [
    "submission = pd.read_csv(os.path.join(DATA_DIR, 'submission.csv'))\n",
    "submission['count'] = prediction\n",
    "submission"
   ]
  },
  {
   "cell_type": "code",
   "execution_count": 24,
   "metadata": {},
   "outputs": [
    {
     "name": "stdout",
     "output_type": "stream",
     "text": [
      "파일을 저장하였습니다. 파일명: submission-00-23-35.csv\n",
      "제출 여부 :success\n",
      "오늘 제출 횟수 : 1\n",
      "제출 결과:48.341683138152305\n"
     ]
    }
   ],
   "source": [
    "# 아래의 코드를 실행하여 결과를 생성하고 제출하세요.\n",
    "cds.submit(submission)"
   ]
  },
  {
   "cell_type": "markdown",
   "metadata": {},
   "source": [
    "# 축하드립니다. 모델의 성능을 개선하여 더 좋은 점수를 획득해보세요!"
   ]
  },
  {
   "cell_type": "code",
   "execution_count": null,
   "metadata": {},
   "outputs": [],
   "source": []
  }
 ],
 "metadata": {
  "kernelspec": {
   "display_name": "Python 3",
   "language": "python",
   "name": "python3"
  },
  "language_info": {
   "codemirror_mode": {
    "name": "ipython",
    "version": 3
   },
   "file_extension": ".py",
   "mimetype": "text/x-python",
   "name": "python",
   "nbconvert_exporter": "python",
   "pygments_lexer": "ipython3",
   "version": "3.8.5"
  }
 },
 "nbformat": 4,
 "nbformat_minor": 5
}
