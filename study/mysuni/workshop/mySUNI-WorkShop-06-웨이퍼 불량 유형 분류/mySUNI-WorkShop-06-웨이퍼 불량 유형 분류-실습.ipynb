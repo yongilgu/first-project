{
 "cells": [
  {
   "cell_type": "markdown",
   "metadata": {},
   "source": [
    "# Wafer Map Defect Classification\n",
    "\n",
    "## 프로젝트 개요\n",
    "반도체 공정에서 생성되는 웨이퍼 맵 데이터는 엔지니어가 불량의 원인을 식별하는 데 중요한 세부 정보를 제공합니다. 이러한 불량 패턴을 자동으로 식별하여 반도체 공정에서 웨이퍼 생산 공정을 개선할 수 있습니다.\n",
    "\n",
    "본 프로젝트에서는 1만6천장의 이미지 데이터를 기반으로 웨이퍼 맵의 불량을 자동으로 분류하는 검사기를 만들고자 합니다.\n",
    "\n",
    "아래의 이미지는 학습 데이터에서 시각화 한 예시로 이미지의 제목은 불량 유형을 의미합니다.\n",
    "\n",
    "이미지에서 노란색 Pixel은 정상 다이(Die, 1) 검은색 Pixel은 비정상 다이(Die, 2)를 의미합니다.\n",
    "\n",
    "![img](https://i.imgur.com/3nBXUU7_d.webp?maxwidth=760&fidelity=grand)\n",
    "\n",
    "\n",
    "## 데이터 설명\n",
    "#### 파일 구조\n",
    "- train.csv\n",
    "    - 학습을 위하여 활용되는 데이터 셋입니다.\n",
    "- test.csv\n",
    "    - 테스트를 위하여 제공되는 데이터 셋입니다.\n",
    "- submission.csv\n",
    "    - 예측한 불량 유형을 submission 파일에 작성한 후 제출합니다.\n",
    "\n",
    "#### 데이터 구조 설명\n",
    "- lotName : Lot 이름\n",
    "- waferId : 해당 Lot에서의 Wafer 순서\n",
    "- dieSize : 다이(Die)의 개수\n",
    "- pixel_1 ~ pixcel 676 : 다이(Die)에 대한 정보\n",
    "  - 0 : 26 x 26 이미지 형태를 유지를 위한 정보\n",
    "  - 1 : 정상 Die \n",
    "  - 2 : 비정상 Die\n",
    "- label : 불량 유형\n",
    "    - 0: 'Center'\n",
    "    - 1: 'Donut'\n",
    "    - 2: 'Edge-Loc'\n",
    "    - 3: 'Edge-Ring'\n",
    "    - 4: 'Loc'\n",
    "    - 5: 'Near-full'\n",
    "    - 6: 'Random'\n",
    "    - 7: 'Scratch'\n",
    "    - 8: 'none'\n",
    "\n",
    "\n",
    "## 프로젝트 구성\n",
    "* 데이터 로드 (load data, train.csv, test.csv)\n",
    "* 데이터 전처리 및 특성 공학 (train.csv, test.csv)\n",
    "* 모델 생성 및 검증 (train.csv)\n",
    "* 평가 데이터 예측 (test.csv)\n",
    "* 결과 제출 및 점수 확인\n",
    "\n",
    "## 제출 이력 및 순위 조회\n",
    "[평가시스템](http://manage.jaen.kr)에 접속하여 확인 가능\n",
    "> 로그인 -> 프로젝트 -> 웨이퍼 맵 불량 유형 분류 -> 리더보드\n",
    "\n",
    "### 접속 정보\n",
    "- ID : `~~~@sk.com`\n",
    "- PWD : `mysuni`"
   ]
  },
  {
   "cell_type": "markdown",
   "metadata": {},
   "source": [
    "## 환경 설정"
   ]
  },
  {
   "cell_type": "code",
   "execution_count": 1,
   "metadata": {},
   "outputs": [],
   "source": [
    "project_name = \"웨이퍼 맵 불량 유형 분류\" # 프로젝트 이름\n",
    "class_info = \"4차수 B반\" # 차수 정보\n",
    "email = \"mysuni_4b\" # 회사 이메일을 넣어주세요. (~~~@sk.com)"
   ]
  },
  {
   "cell_type": "markdown",
   "metadata": {},
   "source": [
    "## 모듈 설치 및 데이터 다운로드"
   ]
  },
  {
   "cell_type": "code",
   "execution_count": 2,
   "metadata": {
    "scrolled": true
   },
   "outputs": [
    {
     "name": "stdout",
     "output_type": "stream",
     "text": [
      "Requirement already satisfied: mySUNI in c:\\users\\baem1n\\anaconda3\\lib\\site-packages (1.0.13)\n",
      "Requirement already satisfied: pandas in c:\\users\\baem1n\\anaconda3\\lib\\site-packages (from mySUNI) (1.1.3)\n",
      "Requirement already satisfied: xlrd in c:\\users\\baem1n\\anaconda3\\lib\\site-packages (from mySUNI) (1.2.0)\n",
      "Requirement already satisfied: numpy in c:\\users\\baem1n\\anaconda3\\lib\\site-packages (from mySUNI) (1.19.5)\n",
      "Requirement already satisfied: lightgbm in c:\\users\\baem1n\\appdata\\roaming\\python\\python38\\site-packages (from mySUNI) (3.1.1)\n",
      "Requirement already satisfied: xgboost in c:\\users\\baem1n\\anaconda3\\lib\\site-packages (from mySUNI) (1.4.0)\n",
      "Requirement already satisfied: matplotlib in c:\\users\\baem1n\\anaconda3\\lib\\site-packages (from mySUNI) (3.3.2)\n",
      "Requirement already satisfied: seaborn in c:\\users\\baem1n\\anaconda3\\lib\\site-packages (from mySUNI) (0.11.0)\n",
      "Requirement already satisfied: scikit-learn in c:\\users\\baem1n\\anaconda3\\lib\\site-packages (from mySUNI) (0.24.1)\n",
      "Requirement already satisfied: openpyxl in c:\\users\\baem1n\\anaconda3\\lib\\site-packages (from mySUNI) (3.0.5)\n",
      "Requirement already satisfied: requests in c:\\users\\baem1n\\anaconda3\\lib\\site-packages (from mySUNI) (2.24.0)\n",
      "Requirement already satisfied: scipy in c:\\users\\baem1n\\anaconda3\\lib\\site-packages (from lightgbm->mySUNI) (1.5.2)\n",
      "Requirement already satisfied: wheel in c:\\users\\baem1n\\anaconda3\\lib\\site-packages (from lightgbm->mySUNI) (0.35.1)\n",
      "Requirement already satisfied: joblib>=0.11 in c:\\users\\baem1n\\anaconda3\\lib\\site-packages (from scikit-learn->mySUNI) (0.17.0)\n",
      "Requirement already satisfied: threadpoolctl>=2.0.0 in c:\\users\\baem1n\\anaconda3\\lib\\site-packages (from scikit-learn->mySUNI) (2.1.0)\n",
      "Requirement already satisfied: kiwisolver>=1.0.1 in c:\\users\\baem1n\\anaconda3\\lib\\site-packages (from matplotlib->mySUNI) (1.3.0)\n",
      "Requirement already satisfied: pillow>=6.2.0 in c:\\users\\baem1n\\anaconda3\\lib\\site-packages (from matplotlib->mySUNI) (8.0.1)\n",
      "Requirement already satisfied: cycler>=0.10 in c:\\users\\baem1n\\anaconda3\\lib\\site-packages (from matplotlib->mySUNI) (0.10.0)\n",
      "Requirement already satisfied: certifi>=2020.06.20 in c:\\users\\baem1n\\anaconda3\\lib\\site-packages (from matplotlib->mySUNI) (2020.6.20)\n",
      "Requirement already satisfied: pyparsing!=2.0.4,!=2.1.2,!=2.1.6,>=2.0.3 in c:\\users\\baem1n\\anaconda3\\lib\\site-packages (from matplotlib->mySUNI) (2.4.7)\n",
      "Requirement already satisfied: python-dateutil>=2.1 in c:\\users\\baem1n\\anaconda3\\lib\\site-packages (from matplotlib->mySUNI) (2.8.1)\n",
      "Requirement already satisfied: six in c:\\users\\baem1n\\anaconda3\\lib\\site-packages (from cycler>=0.10->matplotlib->mySUNI) (1.15.0)\n",
      "Requirement already satisfied: et-xmlfile in c:\\users\\baem1n\\anaconda3\\lib\\site-packages (from openpyxl->mySUNI) (1.0.1)\n",
      "Requirement already satisfied: jdcal in c:\\users\\baem1n\\anaconda3\\lib\\site-packages (from openpyxl->mySUNI) (1.4.1)\n",
      "Requirement already satisfied: pytz>=2017.2 in c:\\users\\baem1n\\anaconda3\\lib\\site-packages (from pandas->mySUNI) (2020.1)\n",
      "Requirement already satisfied: urllib3!=1.25.0,!=1.25.1,<1.26,>=1.21.1 in c:\\users\\baem1n\\anaconda3\\lib\\site-packages (from requests->mySUNI) (1.25.11)\n",
      "Requirement already satisfied: idna<3,>=2.5 in c:\\users\\baem1n\\anaconda3\\lib\\site-packages (from requests->mySUNI) (2.10)\n",
      "Requirement already satisfied: chardet<4,>=3.0.2 in c:\\users\\baem1n\\anaconda3\\lib\\site-packages (from requests->mySUNI) (3.0.4)\n"
     ]
    },
    {
     "name": "stderr",
     "output_type": "stream",
     "text": [
      "WARNING: You are using pip version 21.0.1; however, version 21.1 is available.\n",
      "You should consider upgrading via the 'c:\\users\\baem1n\\anaconda3\\python.exe -m pip install --upgrade pip' command.\n"
     ]
    }
   ],
   "source": [
    "!pip install --upgrade mySUNI"
   ]
  },
  {
   "cell_type": "code",
   "execution_count": 3,
   "metadata": {},
   "outputs": [],
   "source": [
    "from mySUNI import cds"
   ]
  },
  {
   "cell_type": "code",
   "execution_count": 4,
   "metadata": {},
   "outputs": [
    {
     "name": "stdout",
     "output_type": "stream",
     "text": [
      "프로젝트: 웨이퍼 맵 불량 유형 분류\n",
      "==============================\n",
      "파일 정보\n",
      "\n",
      "train.csv:\t data\\웨이퍼 맵 불량 유형 분류\\train.csv\n",
      "test.csv:\t data\\웨이퍼 맵 불량 유형 분류\\test.csv\n",
      "submission.csv:\t data\\웨이퍼 맵 불량 유형 분류\\submission.csv\n",
      "\n",
      "==============================\n"
     ]
    }
   ],
   "source": [
    "cds.download_project(project_name, class_info, email)"
   ]
  },
  {
   "cell_type": "markdown",
   "metadata": {},
   "source": [
    "## 모듈 import \n",
    "필요한 모듈을 import 합니다. 필요에 따라 추가 패키지를 load 할 수 있습니다."
   ]
  },
  {
   "cell_type": "code",
   "execution_count": 5,
   "metadata": {},
   "outputs": [],
   "source": [
    "import os\n",
    "import datetime\n",
    "import numpy as np\n",
    "import pandas as pd\n",
    "import seaborn as sns\n",
    "import matplotlib.pyplot as plt\n",
    "\n",
    "%matplotlib inline\n",
    "\n",
    "# Data 경로 설정\n",
    "DATA_DIR = 'data'\n",
    "\n",
    "# train 데이터셋 로드 (train.csv)\n",
    "train = pd.read_csv(os.path.join(DATA_DIR, project_name, 'train.csv'))\n",
    "                                 \n",
    "# test 데이터셋 로드 (test.csv)\n",
    "test = pd.read_csv(os.path.join(DATA_DIR, project_name, 'test.csv'))\n",
    "\n",
    "# submission 파일 로드 (submission.csv)\n",
    "submission = pd.read_csv(os.path.join(DATA_DIR, project_name, 'submission.csv'))"
   ]
  },
  {
   "cell_type": "markdown",
   "metadata": {},
   "source": [
    "2개의 데이터 셋트를 나누어 제공합니다.\n",
    "1. train: 학습용 데이터 세트. 정답 값이라고 할 수 있는 `label` 값이 같이 제공됩니다.\n",
    "2. test: 예측용 데이터 세트. 정답 값이 빠진 `feature` 들만 제공됩니다. 우리는 이 `feature`를 활용하여 예측을 진행합니다.\n",
    "3. submission: 정답 제출용 데이터 세트. 주어진 형식에 맞춰 정답 값을 기입하고 제출합니다."
   ]
  },
  {
   "cell_type": "code",
   "execution_count": null,
   "metadata": {},
   "outputs": [],
   "source": []
  },
  {
   "cell_type": "code",
   "execution_count": null,
   "metadata": {},
   "outputs": [],
   "source": []
  },
  {
   "cell_type": "code",
   "execution_count": null,
   "metadata": {},
   "outputs": [],
   "source": []
  },
  {
   "cell_type": "code",
   "execution_count": null,
   "metadata": {},
   "outputs": [],
   "source": []
  },
  {
   "cell_type": "code",
   "execution_count": 32,
   "metadata": {},
   "outputs": [
    {
     "data": {
      "text/html": [
       "<div>\n",
       "<style scoped>\n",
       "    .dataframe tbody tr th:only-of-type {\n",
       "        vertical-align: middle;\n",
       "    }\n",
       "\n",
       "    .dataframe tbody tr th {\n",
       "        vertical-align: top;\n",
       "    }\n",
       "\n",
       "    .dataframe thead th {\n",
       "        text-align: right;\n",
       "    }\n",
       "</style>\n",
       "<table border=\"1\" class=\"dataframe\">\n",
       "  <thead>\n",
       "    <tr style=\"text-align: right;\">\n",
       "      <th></th>\n",
       "      <th>lotName</th>\n",
       "      <th>label</th>\n",
       "    </tr>\n",
       "  </thead>\n",
       "  <tbody>\n",
       "    <tr>\n",
       "      <th>0</th>\n",
       "      <td>lot7</td>\n",
       "      <td>8</td>\n",
       "    </tr>\n",
       "    <tr>\n",
       "      <th>1</th>\n",
       "      <td>lot7</td>\n",
       "      <td>8</td>\n",
       "    </tr>\n",
       "    <tr>\n",
       "      <th>2</th>\n",
       "      <td>lot7</td>\n",
       "      <td>8</td>\n",
       "    </tr>\n",
       "    <tr>\n",
       "      <th>3</th>\n",
       "      <td>lot7</td>\n",
       "      <td>8</td>\n",
       "    </tr>\n",
       "    <tr>\n",
       "      <th>4</th>\n",
       "      <td>lot7</td>\n",
       "      <td>8</td>\n",
       "    </tr>\n",
       "    <tr>\n",
       "      <th>...</th>\n",
       "      <td>...</td>\n",
       "      <td>...</td>\n",
       "    </tr>\n",
       "    <tr>\n",
       "      <th>15707</th>\n",
       "      <td>lot42180</td>\n",
       "      <td>8</td>\n",
       "    </tr>\n",
       "    <tr>\n",
       "      <th>15708</th>\n",
       "      <td>lot42180</td>\n",
       "      <td>8</td>\n",
       "    </tr>\n",
       "    <tr>\n",
       "      <th>15709</th>\n",
       "      <td>lot42180</td>\n",
       "      <td>8</td>\n",
       "    </tr>\n",
       "    <tr>\n",
       "      <th>15710</th>\n",
       "      <td>lot42180</td>\n",
       "      <td>8</td>\n",
       "    </tr>\n",
       "    <tr>\n",
       "      <th>15711</th>\n",
       "      <td>lot42180</td>\n",
       "      <td>8</td>\n",
       "    </tr>\n",
       "  </tbody>\n",
       "</table>\n",
       "<p>15712 rows × 2 columns</p>\n",
       "</div>"
      ],
      "text/plain": [
       "        lotName  label\n",
       "0          lot7      8\n",
       "1          lot7      8\n",
       "2          lot7      8\n",
       "3          lot7      8\n",
       "4          lot7      8\n",
       "...         ...    ...\n",
       "15707  lot42180      8\n",
       "15708  lot42180      8\n",
       "15709  lot42180      8\n",
       "15710  lot42180      8\n",
       "15711  lot42180      8\n",
       "\n",
       "[15712 rows x 2 columns]"
      ]
     },
     "execution_count": 32,
     "metadata": {},
     "output_type": "execute_result"
    }
   ],
   "source": [
    "#test.csv를 예측한 결과 대입\n",
    "submission['label'] =\n",
    "submission"
   ]
  },
  {
   "cell_type": "markdown",
   "metadata": {},
   "source": [
    "# 순서대로 평가가 진행됩니다. 실행은 1회만 해주세요.\n",
    "\n",
    "- 느리다고 중지 후 다시 평가 코드를 실행하는 경우 제출 과정에서 패널티가 발생할 수 있습니다. (제출 횟수 이슈 발생 가능)"
   ]
  },
  {
   "cell_type": "code",
   "execution_count": 33,
   "metadata": {},
   "outputs": [
    {
     "name": "stdout",
     "output_type": "stream",
     "text": [
      "파일을 저장하였습니다. 파일명: submission-00-08-06.csv\n",
      "제출 여부 :success\n",
      "오늘 제출 횟수 : 2\n",
      "제출 결과:0.8898462428324244\n"
     ]
    }
   ],
   "source": [
    "cds.submit(submission) # 제출 파일 생성 및 결과 제출"
   ]
  },
  {
   "cell_type": "markdown",
   "metadata": {},
   "source": [
    "# 축하드립니다. 모델의 성능을 개선하여 더 좋은 점수를 획득해보세요!"
   ]
  },
  {
   "cell_type": "code",
   "execution_count": null,
   "metadata": {},
   "outputs": [],
   "source": []
  }
 ],
 "metadata": {
  "kernelspec": {
   "display_name": "Python 3",
   "language": "python",
   "name": "python3"
  },
  "language_info": {
   "codemirror_mode": {
    "name": "ipython",
    "version": 3
   },
   "file_extension": ".py",
   "mimetype": "text/x-python",
   "name": "python",
   "nbconvert_exporter": "python",
   "pygments_lexer": "ipython3",
   "version": "3.8.5"
  }
 },
 "nbformat": 4,
 "nbformat_minor": 4
}
