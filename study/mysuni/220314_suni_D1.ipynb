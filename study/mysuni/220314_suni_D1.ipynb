{
 "cells": [
  {
   "cell_type": "markdown",
   "metadata": {},
   "source": [
    "# Day1\n",
    "## 파이썬의 데이터 타입 유형\n",
    "\n",
    "## 1. 숫자\n",
    " - 1) 정수(int), 1,4,10\n",
    " - 2)실수(float), 3.156\n",
    " - 3)복소수(complex), 7+7j\n",
    " - 4)참,거짓 (bool), True\n",
    "## 2. 시퀀스\n",
    " - 1)문자열(str), \"hi ilgu\"\n",
    " - 2)리스트(list), [10,20,30,40] *수정이 가능\n",
    " - 3)튜플(tuple), (1,2,3,4) *수정 불가능, 콤마가 있어야지만 가능, 소가로는 없어도 무관\n",
    "## 3. 셋(set)\n",
    " - 1)셋(set), {3,5,9,10} *중복 안됨, 집합연산에 특화\n",
    "## 4. 매핑(mapping)\n",
    " - 1)사전(dict), {'a':1,'b':2} *키와 벨류가 한쌍임\n",
    " \n",
    " ## 5. 문자열 포맷팅 \n",
    " - f 를 구문앞에 붙여서 포맷팅 한다. f\"나의 이름은 {나의이름} 입니다.\n",
    "## 6. 문자열 사용방법\n",
    " - 객체.(변수,함수) *문자열만 사용가능\n",
    " - input은 입력하는 문자가 모두 문자('')로 인식된다.\n",
    "   이를 나중에 숫자로 쓰기 위해서는 숫자 (int,float 등)을 지정해야한다.\n",
    "   아니면 오류난다.\n",
    "## 7. 조건문\n",
    "- 조건식 결과에 따라서 서로 다른 코드를 실행 \n",
    "    - True인 경우 if 구역 실행\n",
    "    - False인 경우 else 구역 실행\n",
    "- if : 조건식의 결과가 참이면 본인의 구역을 실행\n",
    "- elif (else + if) : 앞선 조건식의 결과가 거짓이면서 본인 조건식의 결과가 참이면 본인의 구역을 실행\n",
    "- else : 앞선 조건식의 결과가 거짓이면 본인의 구역 실행\n",
    "- 구역은 들여쓰기를 이용해서 지정\n",
    " \n",
    " "
   ]
  },
  {
   "cell_type": "code",
   "execution_count": null,
   "metadata": {},
   "outputs": [],
   "source": [
    "# 코드 실행 방법\n",
    "# Ctrl + Enter : 현재 Cell을 실행 (이동 X)\n",
    "# Shift + Enter : 현재 Cell을 실행 (이동 O, 아래 Cell)\n",
    "# Alt + Enter : 현재 Cell을 실행 (이동 O, 아래 Cell 추가)"
   ]
  },
  {
   "cell_type": "markdown",
   "metadata": {},
   "source": [
    "## 인텍싱 &슬라이싱 = 데이터를 선택하겠다.(가장중요한 개념)\n",
    "\n",
    "인텍싱은 하나만 가져온다 vs 슬라이싱은 여러개 가져온다."
   ]
  },
  {
   "cell_type": "code",
   "execution_count": 7,
   "metadata": {},
   "outputs": [
    {
     "data": {
      "text/plain": [
       "'860515-1321711'"
      ]
     },
     "execution_count": 7,
     "metadata": {},
     "output_type": "execute_result"
    }
   ],
   "source": [
    "data = \"860515-1321711\"\n",
    "\n",
    "data[0]\n",
    "data[2]\n",
    "data[0:2] #뒤에 end는 생략된다.\n",
    "data[0:] #끝까지 다 가져온다."
   ]
  },
  {
   "cell_type": "code",
   "execution_count": 11,
   "metadata": {},
   "outputs": [
    {
     "data": {
      "text/plain": [
       "'1'"
      ]
     },
     "execution_count": 11,
     "metadata": {},
     "output_type": "execute_result"
    }
   ],
   "source": [
    "##연습문제1\n",
    "data = \"210101-1234567\"\n",
    "data[7]"
   ]
  },
  {
   "cell_type": "code",
   "execution_count": 15,
   "metadata": {},
   "outputs": [
    {
     "data": {
      "text/plain": [
       "'2021010'"
      ]
     },
     "execution_count": 15,
     "metadata": {},
     "output_type": "execute_result"
    }
   ],
   "source": [
    "#연습문제2\n",
    "data = \"20210101sunny\"\n",
    "data[0:7]"
   ]
  },
  {
   "cell_type": "code",
   "execution_count": 5,
   "metadata": {},
   "outputs": [
    {
     "name": "stdout",
     "output_type": "stream",
     "text": [
      "20210101 \n"
     ]
    }
   ],
   "source": [
    "#연습문제2\n",
    "data = '20210101sunny'\n",
    "\n",
    "data = data[0:8]\n",
    "weather = data[8:13]\n",
    "\n",
    "print(data, weather)"
   ]
  },
  {
   "cell_type": "code",
   "execution_count": 1,
   "metadata": {},
   "outputs": [
    {
     "name": "stdout",
     "output_type": "stream",
     "text": [
      "21311 sunny\n"
     ]
    }
   ],
   "source": [
    "data ='21311sunny' #위에 있는 값이랑 충돌을 일으켜서 두개가 출력이 되지 않은것이다.\n",
    "\n",
    "data1 = data[0:5]\n",
    "weather = data[5:]\n",
    "\n",
    "print(data1,weather)"
   ]
  },
  {
   "cell_type": "code",
   "execution_count": 4,
   "metadata": {},
   "outputs": [
    {
     "name": "stdout",
     "output_type": "stream",
     "text": [
      "a\n",
      "b\n",
      "c\n"
     ]
    }
   ],
   "source": [
    "print('a')\n",
    "print('b')\n",
    "print('c')"
   ]
  },
  {
   "cell_type": "code",
   "execution_count": 6,
   "metadata": {},
   "outputs": [
    {
     "name": "stdout",
     "output_type": "stream",
     "text": [
      "a\n",
      "b\n",
      "c\n"
     ]
    }
   ],
   "source": [
    "print('a', end='\\n')\n",
    "print('b', end='\\n')\n",
    "print('c', end='\\n')"
   ]
  },
  {
   "cell_type": "code",
   "execution_count": 8,
   "metadata": {},
   "outputs": [
    {
     "name": "stdout",
     "output_type": "stream",
     "text": [
      "a b\n",
      "c\n"
     ]
    }
   ],
   "source": [
    "print('a',end=' ')\n",
    "print('b')\n",
    "print('c')"
   ]
  },
  {
   "cell_type": "markdown",
   "metadata": {},
   "source": [
    "## 2-2)리스트 자료형"
   ]
  },
  {
   "cell_type": "code",
   "execution_count": 7,
   "metadata": {},
   "outputs": [
    {
     "data": {
      "text/plain": [
       "['일구', '윤애', '소율']"
      ]
     },
     "execution_count": 7,
     "metadata": {},
     "output_type": "execute_result"
    }
   ],
   "source": [
    "mylist = ['일구','윤애','소율']\n",
    "mylist"
   ]
  },
  {
   "cell_type": "code",
   "execution_count": 2,
   "metadata": {},
   "outputs": [
    {
     "data": {
      "text/plain": [
       "('m', 'y', 's', 'u', 'n', 'i')"
      ]
     },
     "execution_count": 2,
     "metadata": {},
     "output_type": "execute_result"
    }
   ],
   "source": [
    "data = list('mysuni')\n",
    "tuple(data)"
   ]
  },
  {
   "cell_type": "code",
   "execution_count": 3,
   "metadata": {},
   "outputs": [
    {
     "data": {
      "text/plain": [
       "\"['m', 'y', 's', 'u', 'n', 'i']\""
      ]
     },
     "execution_count": 3,
     "metadata": {},
     "output_type": "execute_result"
    }
   ],
   "source": [
    "str(data)"
   ]
  },
  {
   "cell_type": "code",
   "execution_count": 5,
   "metadata": {},
   "outputs": [
    {
     "data": {
      "text/plain": [
       "'mysuni'"
      ]
     },
     "execution_count": 5,
     "metadata": {},
     "output_type": "execute_result"
    }
   ],
   "source": [
    "#글자를 합칠때 사이에 넣을값\n",
    "seq =\"\"\n",
    "seq.join(data) #리스트에 있는 모든 요고사 문자열일때 사용가능"
   ]
  },
  {
   "cell_type": "markdown",
   "metadata": {},
   "source": [
    "## 4-1)사전 (dict)\n",
    " - key와 value를 한쌍으로 저장\n",
    " - key를 이용하여  value에 접근 가능\n"
   ]
  },
  {
   "cell_type": "code",
   "execution_count": null,
   "metadata": {},
   "outputs": [],
   "source": [
    "a = {1:'b',\"지역\":'서울'}"
   ]
  },
  {
   "cell_type": "markdown",
   "metadata": {},
   "source": [
    "## 제어문 \n",
    " - 실행의 흐름을 제어함 : 실행순서\n",
    " - top -> down 을 벗어난다.\n",
    " \n",
    " 1. if 조건문\n",
    " 2. while 반복문\n",
    " 3. for 반복문\n",
    " 4. break, continue, pass\n",
    " 5. comprehensions"
   ]
  },
  {
   "cell_type": "markdown",
   "metadata": {},
   "source": [
    "### if 조건문(분기문)\n",
    " - if : 조건이 참이면 실행\n",
    " - else: 조건이 거짓이면 실행\n",
    " - else: (if+else) 앞선 조건식의 결과가 거짓이면 본인걸 실행,3개이상일떄 사용함\n"
   ]
  },
  {
   "cell_type": "code",
   "execution_count": 11,
   "metadata": {
    "scrolled": true
   },
   "outputs": [
    {
     "name": "stdout",
     "output_type": "stream",
     "text": [
      "나이를 입력하세요31\n",
      "늙었어요\n"
     ]
    }
   ],
   "source": [
    "age = input(\"나이를 입력하세요\")\n",
    "\n",
    "if age <= '30':\n",
    "    print(\"어립니다\")\n",
    "else:\n",
    "    print(\"늙었어요\")"
   ]
  },
  {
   "cell_type": "code",
   "execution_count": null,
   "metadata": {},
   "outputs": [],
   "source": [
    "# 비교연산자 설명\n",
    "# x < y   \tx가 y보다 작다\n",
    "# x > y\t    x가 y보다 크다\n",
    "# x == y\tx와 y가 같다\n",
    "# x != y\tx와 y가 같지 않다\n",
    "# x >= y\tx가 y보다 크거나 같다\n",
    "# x <= y\tx가 y보다 작거나 같다"
   ]
  },
  {
   "cell_type": "code",
   "execution_count": null,
   "metadata": {},
   "outputs": [
    {
     "name": "stdout",
     "output_type": "stream",
     "text": [
      "탑승하세요\n"
     ]
    }
   ],
   "source": [
    "money = 2000\n",
    "card = True\n",
    "\n",
    "if money >= 3000 or card:\n",
    "    print('탑승하세요')\n",
    "else:\n",
    "    print('탑승이 불가능합니다.')\n"
   ]
  },
  {
   "cell_type": "code",
   "execution_count": 13,
   "metadata": {},
   "outputs": [],
   "source": [
    "# 연산자\t설명\n",
    "# x or y\tx와 y 둘중에 하나만 참이어도 참이다\n",
    "# x and y\tx와 y 모두 참이어야 참이다\n",
    "# not x\tx가 거짓이면 참이다"
   ]
  },
  {
   "cell_type": "code",
   "execution_count": 2,
   "metadata": {},
   "outputs": [
    {
     "name": "stdout",
     "output_type": "stream",
     "text": [
      "걸어가라\n"
     ]
    }
   ],
   "source": [
    "#리스트를 이용해서 한번 if 조건문을 해보자\n",
    "\n",
    "주머니 = ['사탕', '손수건']\n",
    "\n",
    "if '현금' in 주머니:\n",
    "    print(\"택시를 타자\")\n",
    "\n",
    "elif '핸드폰' in 주머니:\n",
    "    print(\"택시 못타\")\n",
    "else:\n",
    "    print('걸어가라')"
   ]
  },
  {
   "cell_type": "code",
   "execution_count": 4,
   "metadata": {},
   "outputs": [
    {
     "name": "stdout",
     "output_type": "stream",
     "text": [
      "비만지수는 0 입니다\n",
      "날씬해요\n"
     ]
    }
   ],
   "source": [
    "키 = input('키를 입력하세요')\n",
    "몸무게 = input('몸무게를 입력하세요')\n",
    "\n",
    "몸무게 = int(몸무게) #각 숫자를 정수 또는\n",
    "키 = int(키)\n",
    "\n",
    "비만수치 = 몸무게 + 100 - 키\n",
    "print(f\"비만지수는 {비만수치} 입니다\")\n",
    "\n",
    "if 비만수치 >0:\n",
    "    print('비만입니다')\n",
    "    \n",
    "else:\n",
    "    print('날씬해요')"
   ]
  },
  {
   "cell_type": "markdown",
   "metadata": {},
   "source": [
    "print(f\"비만지수는 {비만수치} 입니다\")\n",
    "여기서 f 랑 {}는 무슨 의미인가?\n",
    "\n",
    "문자열 포매팅\n",
    "변수에 값에 맞춰서 변수에 값을 넣는 것이다. 문자열 앞에 붙여서 포맷팅 한다.\n"
   ]
  }
 ],
 "metadata": {
  "interpreter": {
   "hash": "78bc78c67eb814d5e521118cbc2c080042237b97f5d785f3155d475a57ab6fed"
  },
  "kernelspec": {
   "display_name": "Python 3 (ipykernel)",
   "language": "python",
   "name": "python3"
  },
  "language_info": {
   "codemirror_mode": {
    "name": "ipython",
    "version": 3
   },
   "file_extension": ".py",
   "mimetype": "text/x-python",
   "name": "python",
   "nbconvert_exporter": "python",
   "pygments_lexer": "ipython3",
   "version": "3.9.7"
  }
 },
 "nbformat": 4,
 "nbformat_minor": 2
}
