{
 "cells": [
  {
   "cell_type": "code",
   "execution_count": 2,
   "metadata": {},
   "outputs": [
    {
     "data": {
      "text/html": [
       "<style>#notebook-container {width: 90% !important; }</style>"
      ],
      "text/plain": [
       "<IPython.core.display.HTML object>"
      ]
     },
     "metadata": {},
     "output_type": "display_data"
    },
    {
     "data": {
      "text/html": [
       "<style>.rendered_html{font-family: 'D2Coding'; font-size: 16pt; line-height: 140%;}</style>"
      ],
      "text/plain": [
       "<IPython.core.display.HTML object>"
      ]
     },
     "metadata": {},
     "output_type": "display_data"
    },
    {
     "data": {
      "text/html": [
       "<style>.rendered_html table{font-family: 'D2Coding'; font-size: 16pt; line-height: 140%;}</style>"
      ],
      "text/plain": [
       "<IPython.core.display.HTML object>"
      ]
     },
     "metadata": {},
     "output_type": "display_data"
    },
    {
     "data": {
      "text/html": [
       "<style>pre{font-family: 'D2Coding', font-size: 16pt;}.rendered_html>ul>li{margin: 10px}</style>"
      ],
      "text/plain": [
       "<IPython.core.display.HTML object>"
      ]
     },
     "metadata": {},
     "output_type": "display_data"
    },
    {
     "data": {
      "text/html": [
       "<style>div.output_area>pre, div.output_subarea>pre{font-size: 16pt !important; line-height: 140%;}</style>"
      ],
      "text/plain": [
       "<IPython.core.display.HTML object>"
      ]
     },
     "metadata": {},
     "output_type": "display_data"
    },
    {
     "data": {
      "text/html": [
       "<style> .CodeMirror pre {font-family: 'D2Coding'; font-size: 18pt !important; line-height: 140%;}</style>"
      ],
      "text/plain": [
       "<IPython.core.display.HTML object>"
      ]
     },
     "metadata": {},
     "output_type": "display_data"
    }
   ],
   "source": [
    "from IPython.core.display import display, HTML\n",
    "# 노트북 컨테이너 크기 조절\n",
    "display(HTML(\"<style>#notebook-container {width: 90% !important; }</style>\"))\n",
    "# 마크다운 폰트\n",
    "display(HTML(\"<style>.rendered_html{font-family: 'D2Coding'; font-size: 16pt; line-height: 140%;}</style>\"))\n",
    "# DataFrame 테이블 폰트\n",
    "display(HTML(\"<style>.rendered_html table{font-family: 'D2Coding'; font-size: 16pt; line-height: 140%;}</style>\"))\n",
    "# 출력창 폰트\n",
    "display(HTML(\"<style>pre{font-family: 'D2Coding', font-size: 16pt;}.rendered_html>ul>li{margin: 10px}</style>\"))\n",
    "display(HTML(\"<style>div.output_area>pre, div.output_subarea>pre{font-size: 16pt !important; line-height: 140%;}</style>\"))\n",
    "# 코드셀 폰트\n",
    "display(HTML(\"<style> .CodeMirror pre {font-family: 'D2Coding'; font-size: 18pt !important; line-height: 140%;}</style>\"))"
   ]
  },
  {
   "cell_type": "code",
   "execution_count": 16,
   "metadata": {},
   "outputs": [],
   "source": [
    "# 코드 실행 방법\n",
    "# Ctrl + Enter : 현재 Cell을 실행 (이동 X)\n",
    "# Shift + Enter : 현재 Cell을 실행 (이동 O, 아래 Cell)\n",
    "# Alt + Enter : 현재 Cell을 실행 (이동 O, 아래 Cell 추가)"
   ]
  },
  {
   "cell_type": "code",
   "execution_count": 17,
   "metadata": {},
   "outputs": [],
   "source": [
    "# 변수 생성(정의) \n",
    "# 이름 = 값\n",
    "a = 10"
   ]
  },
  {
   "cell_type": "code",
   "execution_count": 18,
   "metadata": {},
   "outputs": [],
   "source": [
    "# 3.14를 저장하는 변수 b를 만들어보세요.\n",
    "b = 3.14"
   ]
  },
  {
   "cell_type": "code",
   "execution_count": 19,
   "metadata": {},
   "outputs": [],
   "source": [
    "# 이름 = 식      C = 10 + 20\n",
    "# 이름 = 결과값  C = 30\n",
    "c = 10 + 20\n",
    "# 변수에는 값(결과값)이 저장됨. "
   ]
  },
  {
   "cell_type": "code",
   "execution_count": 23,
   "metadata": {},
   "outputs": [
    {
     "data": {
      "text/plain": [
       "10"
      ]
     },
     "execution_count": 23,
     "metadata": {},
     "output_type": "execute_result"
    }
   ],
   "source": [
    "# 변수 사용(호출)\n",
    "# 이름\n",
    "a\n",
    "# Jupyter에서는 마지막 코드가 변수(값)인 경우 해당 값을 보여주는 기능이 있음"
   ]
  },
  {
   "cell_type": "code",
   "execution_count": 26,
   "metadata": {},
   "outputs": [
    {
     "name": "stdout",
     "output_type": "stream",
     "text": [
      "10\n",
      "3.14\n",
      "30\n"
     ]
    }
   ],
   "source": [
    "# 함수 사용(호출) \n",
    "# 함수 : 기능 (역활) > 이름을 통해서 유추가능\n",
    "print(a) # 출력함수 : 입력된 값을 출력하는 기능\n",
    "print(b)\n",
    "print(c)"
   ]
  },
  {
   "cell_type": "markdown",
   "metadata": {},
   "source": [
    "# 숫자형\n",
    "- 정수 (int) : 소수점이 없는 숫자\n",
    "- 실수 (float) : 소수점이 있는 숫자\n",
    "- 부울 (Bool) : True(참, 1), False(거짓, 0) "
   ]
  },
  {
   "cell_type": "code",
   "execution_count": 29,
   "metadata": {},
   "outputs": [
    {
     "data": {
      "text/plain": [
       "13.14"
      ]
     },
     "execution_count": 29,
     "metadata": {},
     "output_type": "execute_result"
    }
   ],
   "source": [
    "a = 10\n",
    "b = 3.14\n",
    "a + b # 숫자형은 숫자형끼리 연산가능 **"
   ]
  },
  {
   "cell_type": "code",
   "execution_count": 30,
   "metadata": {},
   "outputs": [
    {
     "data": {
      "text/plain": [
       "False"
      ]
     },
     "execution_count": 30,
     "metadata": {},
     "output_type": "execute_result"
    }
   ],
   "source": [
    "a < b"
   ]
  },
  {
   "cell_type": "code",
   "execution_count": 31,
   "metadata": {},
   "outputs": [
    {
     "data": {
      "text/plain": [
       "False"
      ]
     },
     "execution_count": 31,
     "metadata": {},
     "output_type": "execute_result"
    }
   ],
   "source": [
    "True and False"
   ]
  },
  {
   "cell_type": "markdown",
   "metadata": {},
   "source": [
    "# 문자열 (string)\n",
    "- 작은 따옴표(\\'\\') 또는 큰 따옴표(\\\"\\\")에 감싸져있는 문자\n",
    "- 시퀀스(순서가 있는) 자료형\n",
    "    - \\+ (결합연산자), * (반복연산자)\n",
    "    - 인덱싱, 슬라이싱"
   ]
  },
  {
   "cell_type": "code",
   "execution_count": 32,
   "metadata": {},
   "outputs": [
    {
     "data": {
      "text/plain": [
       "('1', '1')"
      ]
     },
     "execution_count": 32,
     "metadata": {},
     "output_type": "execute_result"
    }
   ],
   "source": [
    "# 문자열 ‘210101–1234567’ 을 인덱싱하여 성별을 나타내는 숫자를 출력하세요\n",
    "# 주민등록번호 뒷자리의 맨 첫 번째 숫자는 성별을 나타냄\n",
    "data = '210101-1234567'\n",
    "data[7], data[-7]"
   ]
  },
  {
   "cell_type": "code",
   "execution_count": 36,
   "metadata": {},
   "outputs": [
    {
     "name": "stdout",
     "output_type": "stream",
     "text": [
      "20210101 Sunny\n"
     ]
    }
   ],
   "source": [
    "# 문자열 ‘20210101Sunny’ 을 슬라이싱하여 날짜는 date 변수에 날씨는 weather\n",
    "# 변수에 저장 후 출력하세요\n",
    "data = '20210101Sunny'\n",
    "\n",
    "date = data[0:8]  # '20210101'\n",
    "weather = data[8:13] # 'Sunny'\n",
    "\n",
    "print(date, weather)"
   ]
  },
  {
   "cell_type": "code",
   "execution_count": 40,
   "metadata": {},
   "outputs": [
    {
     "data": {
      "text/plain": [
       "['1', '2', '3', '4', '5']"
      ]
     },
     "execution_count": 40,
     "metadata": {},
     "output_type": "execute_result"
    }
   ],
   "source": [
    "# 문자열 > 객체 > 속성과 기능을 가지고 있음\n",
    "data = '1:2:3:4:5'\n",
    "data.split(':') # ':'을 기준으로 문자열을 분리 "
   ]
  },
  {
   "cell_type": "code",
   "execution_count": 41,
   "metadata": {},
   "outputs": [
    {
     "data": {
      "text/plain": [
       "'asdaldf'"
      ]
     },
     "execution_count": 41,
     "metadata": {},
     "output_type": "execute_result"
    }
   ],
   "source": [
    "data = '  asdaldf  '\n",
    "data.strip() # 문자열 양끝단의 공백문자( , \\t, \\n) 제거\n",
    "# lstrip() 왼쪽, rstrip() 오른쪽, strip() 둘다 공백 문자 삭제"
   ]
  },
  {
   "cell_type": "code",
   "execution_count": 44,
   "metadata": {},
   "outputs": [
    {
     "data": {
      "text/plain": [
       "'hello'"
      ]
     },
     "execution_count": 44,
     "metadata": {},
     "output_type": "execute_result"
    }
   ],
   "source": [
    "data = 'Hello'\n",
    "data.replace('H', 'h') # 문자열의 기존값을 새로운 값으로 치환"
   ]
  },
  {
   "cell_type": "code",
   "execution_count": 47,
   "metadata": {
    "collapsed": true
   },
   "outputs": [
    {
     "name": "stdout",
     "output_type": "stream",
     "text": [
      "1 a Hello\n"
     ]
    }
   ],
   "source": [
    "# 출력함수\n",
    "print(1, 'a', data) # 우리가 전달한 값을 출력"
   ]
  },
  {
   "cell_type": "code",
   "execution_count": 49,
   "metadata": {
    "collapsed": true
   },
   "outputs": [
    {
     "name": "stdout",
     "output_type": "stream",
     "text": [
      "a\n",
      "b\n",
      "c\n"
     ]
    }
   ],
   "source": [
    "# 기본적으로 출력함수는 새로운 행에서 출력\n",
    "print('a', end='\\n')\n",
    "print('b', end='\\n')\n",
    "print('c', end='\\n')"
   ]
  },
  {
   "cell_type": "code",
   "execution_count": 50,
   "metadata": {
    "collapsed": true
   },
   "outputs": [
    {
     "name": "stdout",
     "output_type": "stream",
     "text": [
      "a b\n",
      "c\n"
     ]
    }
   ],
   "source": [
    "print('a', end=' ')\n",
    "print('b')\n",
    "print('c')"
   ]
  },
  {
   "cell_type": "code",
   "execution_count": 54,
   "metadata": {},
   "outputs": [
    {
     "name": "stdout",
     "output_type": "stream",
     "text": [
      "키를 입력하세요.175\n"
     ]
    },
    {
     "data": {
      "text/plain": [
       "'175'"
      ]
     },
     "execution_count": 54,
     "metadata": {},
     "output_type": "execute_result"
    }
   ],
   "source": [
    "# 입력함수\n",
    "키 = input('키를 입력하세요.') # 사용자가 입력한 값을 가지고옴 > 문자열로 가지고옴\n",
    "키"
   ]
  },
  {
   "cell_type": "markdown",
   "metadata": {},
   "source": [
    "# 리스트\n",
    "- 여러 가지 형태의 값을 하나로 묶어서 저장"
   ]
  },
  {
   "cell_type": "code",
   "execution_count": 55,
   "metadata": {},
   "outputs": [
    {
     "data": {
      "text/plain": [
       "[1, 3, 5, 7]"
      ]
     },
     "execution_count": 55,
     "metadata": {},
     "output_type": "execute_result"
    }
   ],
   "source": [
    "l = [1, 3, 5, 7] # [] 사용, 쉼표(,)로 값 구분\n",
    "l"
   ]
  },
  {
   "cell_type": "code",
   "execution_count": 56,
   "metadata": {},
   "outputs": [
    {
     "data": {
      "text/plain": [
       "[1, 3.14, 'a', [3, 4]]"
      ]
     },
     "execution_count": 56,
     "metadata": {},
     "output_type": "execute_result"
    }
   ],
   "source": [
    "l = [1, 3.14, 'a', [3,4] ] # 여러 가지 형태 사용 가능\n",
    "l"
   ]
  },
  {
   "cell_type": "code",
   "execution_count": 61,
   "metadata": {},
   "outputs": [
    {
     "data": {
      "text/plain": [
       "(1, [3, 4, 5], [5, 4, 3, 2, 1])"
      ]
     },
     "execution_count": 61,
     "metadata": {},
     "output_type": "execute_result"
    }
   ],
   "source": [
    "data = [1, 2, 3, 4, 5]\n",
    "data[0], data[2:], data[::-1] # 시퀀스 자료형 > 인덱싱과 슬라이싱 사용"
   ]
  },
  {
   "cell_type": "code",
   "execution_count": 62,
   "metadata": {},
   "outputs": [
    {
     "data": {
      "text/plain": [
       "[1, 2, 3, 4]"
      ]
     },
     "execution_count": 62,
     "metadata": {},
     "output_type": "execute_result"
    }
   ],
   "source": [
    "[1, 2] + [3, 4] # 리스트 결합"
   ]
  },
  {
   "cell_type": "code",
   "execution_count": 63,
   "metadata": {},
   "outputs": [
    {
     "data": {
      "text/plain": [
       "[1, 1, 1, 1, 1, 1, 1, 1, 1, 1]"
      ]
     },
     "execution_count": 63,
     "metadata": {},
     "output_type": "execute_result"
    }
   ],
   "source": [
    "[1] * 10        # 리스트 반복"
   ]
  },
  {
   "cell_type": "code",
   "execution_count": 68,
   "metadata": {},
   "outputs": [
    {
     "data": {
      "text/plain": [
       "('m', 'y', 'S', 'U', 'N', 'I')"
      ]
     },
     "execution_count": 68,
     "metadata": {},
     "output_type": "execute_result"
    }
   ],
   "source": [
    "# 문자열 > 리스트 or 튜플 > 한글자씩 분리\n",
    "data = list('mySUNI') # 문자열을 리스트로 변환\n",
    "tuple(data) # 리스트를 튜플로 변환"
   ]
  },
  {
   "cell_type": "code",
   "execution_count": 70,
   "metadata": {},
   "outputs": [
    {
     "data": {
      "text/plain": [
       "\"['m', 'y', 'S', 'U', 'N', 'I']\""
      ]
     },
     "execution_count": 70,
     "metadata": {},
     "output_type": "execute_result"
    }
   ],
   "source": [
    "str(data) # 불필요한 글자들도 문자열로 변환 > str.join() 사용"
   ]
  },
  {
   "cell_type": "code",
   "execution_count": 75,
   "metadata": {},
   "outputs": [
    {
     "data": {
      "text/plain": [
       "'mySUNI'"
      ]
     },
     "execution_count": 75,
     "metadata": {},
     "output_type": "execute_result"
    }
   ],
   "source": [
    "# 글자를 합칠때 사이에 넣을 값\n",
    "seq = \"\"\n",
    "seq.join(data) # 리스트의 모든 요소가 문자열일때 사용가능"
   ]
  },
  {
   "cell_type": "markdown",
   "metadata": {},
   "source": [
    "# 사전 (dict)\n",
    "- Key와 Value를 한 쌍으로 저장\n",
    "- Key를 이용해서 Value에 접근 가능"
   ]
  },
  {
   "cell_type": "code",
   "execution_count": 76,
   "metadata": {},
   "outputs": [
    {
     "data": {
      "text/plain": [
       "{1: 'b', '지역': '서울'}"
      ]
     },
     "execution_count": 76,
     "metadata": {},
     "output_type": "execute_result"
    }
   ],
   "source": [
    "a = {1:'b', '지역':'서울'}\n",
    "a"
   ]
  },
  {
   "cell_type": "code",
   "execution_count": 79,
   "metadata": {
    "collapsed": true
   },
   "outputs": [
    {
     "ename": "KeyError",
     "evalue": "'이름'",
     "output_type": "error",
     "traceback": [
      "\u001b[0;31m---------------------------------------------------------------------------\u001b[0m",
      "\u001b[0;31mKeyError\u001b[0m                                  Traceback (most recent call last)",
      "\u001b[0;32m<ipython-input-79-79d5f63aaf48>\u001b[0m in \u001b[0;36m<module>\u001b[0;34m\u001b[0m\n\u001b[1;32m      2\u001b[0m \u001b[0ma\u001b[0m\u001b[0;34m[\u001b[0m\u001b[0;36m1\u001b[0m\u001b[0;34m]\u001b[0m \u001b[0;31m# a 사전 변수의 키가 1인 값을 가지고옴\u001b[0m\u001b[0;34m\u001b[0m\u001b[0m\n\u001b[1;32m      3\u001b[0m \u001b[0ma\u001b[0m\u001b[0;34m[\u001b[0m\u001b[0;34m'지역'\u001b[0m\u001b[0;34m]\u001b[0m\u001b[0;34m\u001b[0m\u001b[0m\n\u001b[0;32m----> 4\u001b[0;31m \u001b[0ma\u001b[0m\u001b[0;34m[\u001b[0m\u001b[0;34m'이름'\u001b[0m\u001b[0;34m]\u001b[0m \u001b[0;31m# 없는 키를 조회하면 Error\u001b[0m\u001b[0;34m\u001b[0m\u001b[0m\n\u001b[0m",
      "\u001b[0;31mKeyError\u001b[0m: '이름'"
     ]
    }
   ],
   "source": [
    "# 사전 표기법 > 변수[키]\n",
    "a[1] # a 사전 변수의 키가 1인 값을 가지고옴\n",
    "a['지역']\n",
    "a['이름'] # 없는 키를 조회하면 Error"
   ]
  },
  {
   "cell_type": "code",
   "execution_count": 82,
   "metadata": {},
   "outputs": [],
   "source": [
    "# get 함수 활용\n",
    "a.get('이름') # 없는 키를 조회하면 값이 없음"
   ]
  },
  {
   "cell_type": "markdown",
   "metadata": {},
   "source": [
    "# 조건문\n",
    "- 조건식 결과에 따라서 서로 다른 코드를 실행 \n",
    "    - True인 경우 if 구역 실행\n",
    "    - False인 경우 else 구역 실행\n",
    "- if : 조건식의 결과가 참이면 본인의 구역을 실행\n",
    "- elif (else + if) : 앞선 조건식의 결과가 거짓이면서 본인 조건식의 결과가 참이면 본인의 구역을 실행\n",
    "- else : 앞선 조건식의 결과가 거짓이면 본인의 구역 실행\n",
    "- 구역은 들여쓰기를 이용해서 지정"
   ]
  },
  {
   "cell_type": "code",
   "execution_count": 85,
   "metadata": {
    "collapsed": true
   },
   "outputs": [
    {
     "name": "stdout",
     "output_type": "stream",
     "text": [
      "성별을 입력하세요 (MALE or FEMALE) : asdk;asd;lzksxfvzxfcvz\n",
      "여성입니다.\n"
     ]
    }
   ],
   "source": [
    "gender = input(\"성별을 입력하세요 (MALE or FEMALE) : \")\n",
    "if gender == 'MALE': # gender 변수의 값이 MALE과 같다면 True 다르다면 False\n",
    "    print(\"남성입니다.\") # if 구역\n",
    "else:\n",
    "    print(\"여성입니다.\") # else 구역"
   ]
  },
  {
   "cell_type": "code",
   "execution_count": 87,
   "metadata": {
    "collapsed": true
   },
   "outputs": [
    {
     "name": "stdout",
     "output_type": "stream",
     "text": [
      "성별을 입력하세요 (MALE or FEMALE) : 3123123\n",
      "잘못된값\n"
     ]
    }
   ],
   "source": [
    "gender = input(\"성별을 입력하세요 (MALE or FEMALE) : \")\n",
    "if gender == 'MALE': # gender 변수의 값이 MALE과 같다면 True 다르다면 False\n",
    "    print(\"남성입니다.\") # if 구역\n",
    "    \n",
    "elif gender == 'FEMALE':\n",
    "    print(\"여성입니다.\") # elif 구역\n",
    "    \n",
    "else:\n",
    "    print(\"잘못된값\")"
   ]
  },
  {
   "cell_type": "code",
   "execution_count": 89,
   "metadata": {},
   "outputs": [
    {
     "name": "stdout",
     "output_type": "stream",
     "text": [
      "점수를 입력하세요 : 60\n",
      "합격\n"
     ]
    }
   ],
   "source": [
    "score = input('점수를 입력하세요 : ') # 문자열로 처리\n",
    "\n",
    "score = float(score) # 숫자형으로 변경\n",
    "\n",
    "if score >= 60: # 60점 이상이면 합격\n",
    "    print(\"합격\")\n",
    "else:\n",
    "    print(\"불합격\")"
   ]
  },
  {
   "cell_type": "code",
   "execution_count": 91,
   "metadata": {},
   "outputs": [
    {
     "name": "stdout",
     "output_type": "stream",
     "text": [
      "몸무게를 입력하세요:75\n",
      "키를 입력하세요:175\n",
      "비만지수는 0.0 입니다\n",
      "비만아님\n"
     ]
    }
   ],
   "source": [
    "# 1. 몸무게와 키 입력\n",
    "몸무게 = input('몸무게를 입력하세요:') \n",
    "키 = input('키를 입력하세요:')\n",
    "\n",
    "몸무게 = float(몸무게)\n",
    "키 = float(키)\n",
    "\n",
    "# 2. 비만지수 계산 및 출력\n",
    "비만지수 = 몸무게 + 100 - 키\n",
    "print(f\"비만지수는 {비만지수} 입니다\")\n",
    "\n",
    "# 3. 비만여부 판단\n",
    "if 0 < 비만지수:\n",
    "    print(\"비만\")\n",
    "else:\n",
    "    print(\"비만아님\")"
   ]
  },
  {
   "cell_type": "code",
   "execution_count": null,
   "metadata": {},
   "outputs": [],
   "source": []
  }
 ],
 "metadata": {
  "kernelspec": {
   "display_name": "Python 3 (ipykernel)",
   "language": "python",
   "name": "python3"
  },
  "language_info": {
   "codemirror_mode": {
    "name": "ipython",
    "version": 3
   },
   "file_extension": ".py",
   "mimetype": "text/x-python",
   "name": "python",
   "nbconvert_exporter": "python",
   "pygments_lexer": "ipython3",
   "version": "3.9.7"
  }
 },
 "nbformat": 4,
 "nbformat_minor": 2
}
