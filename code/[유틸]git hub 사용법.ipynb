{
 "cells": [
  {
   "cell_type": "markdown",
   "metadata": {},
   "source": [
    "## git hub 사용하기\n",
    "\n",
    "1. 깃허브는 내가 만든 코드를 저장하는 클라우드 공간이다.\n",
    "2. 터미널에 쳐야하는 필요한 명령어가 있다.\n",
    " - git add . (초기저장)\n",
    " - git commit -m \"메세지\" (가상공간 최종 저장())\n",
    " - git push origin master (원격저장소로 파일 업로드)\n",
    " - git remote (로컬과 원격저장소가 연결되어있는지 확인하는 명령어)\n",
    "  - git remote add origin https://github.com/yongilgu/first-project.git\n",
    "   (나의 로컬 저장소와 원격저장소를 연결하는 코드)\n",
    "  - git remote -v (연결소 주소를 확인하는 코드)\n"
   ]
  },
  {
   "cell_type": "markdown",
   "metadata": {},
   "source": [
    "## git 프로젝트 가져오기\n",
    " 1. 명령어는 3개이다.\n",
    "  - git pull (원격저장소에 있는 프로제트의 변경사항을 그대로 로컬로 옮겨서 병합)\n",
    "  - git fetch (원격저장소에 있는 프로젝트의 변경사항을 가져오기만 한후 병합은 따로, 다른사람의 수정한 부분을 알수 있다)\n",
    "  - git clone (전반적인 내용을 복사하여 새로 한벌을 만드는 것이다. 엉키지 않을 가능성이 높다.)\n",
    "    이 명령어는 해당 폴더의 경로로 접속하여 (cd _____/) git clone (git hub 주소) 이다.\n",
    "    테스트 결과 성공적으로 나타난다.\n",
    "  -git clone (https://github.com/yongilgu/first-project.git)\n"
   ]
  },
  {
   "cell_type": "markdown",
   "metadata": {},
   "source": []
  }
 ],
 "metadata": {
  "interpreter": {
   "hash": "31f2aee4e71d21fbe5cf8b01ff0e069b9275f58929596ceb00d14d90e3e16cd6"
  },
  "kernelspec": {
   "display_name": "Python 3.8.9 64-bit",
   "language": "python",
   "name": "python3"
  },
  "language_info": {
   "name": "python",
   "version": "3.8.9"
  },
  "orig_nbformat": 4
 },
 "nbformat": 4,
 "nbformat_minor": 2
}
